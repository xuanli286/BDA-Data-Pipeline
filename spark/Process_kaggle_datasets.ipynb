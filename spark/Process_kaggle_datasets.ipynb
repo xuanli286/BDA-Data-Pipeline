{
 "cells": [
  {
   "cell_type": "markdown",
   "metadata": {
    "id": "lOXWIQeN91EW"
   },
   "source": [
    "# Installing dependencies"
   ]
  },
  {
   "cell_type": "code",
   "execution_count": null,
   "metadata": {
    "colab": {
     "base_uri": "https://localhost:8080/"
    },
    "id": "_KzFykWSIaT4",
    "outputId": "1aeae51a-bb4f-4bea-ed6c-bd7eefb805f8"
   },
   "outputs": [],
   "source": [
    "!pip install kagglehub\n",
    "!pip install pyspark\n",
    "!wget https://repo1.maven.org/maven2/org/apache/hadoop/hadoop-aws/3.2.0/hadoop-aws-3.2.0.jar\n",
    "!wget https://repo1.maven.org/maven2/com/amazonaws/aws-java-sdk-bundle/1.11.375/aws-java-sdk-bundle-1.11.375.jar\n"
   ]
  },
  {
   "cell_type": "code",
   "execution_count": null,
   "metadata": {
    "id": "vI0UXR5Fkida"
   },
   "outputs": [],
   "source": [
    "# for deleting files from colab\n",
    "import shutil\n",
    "\n",
    "shutil.rmtree('./airline_parquet/')"
   ]
  },
  {
   "cell_type": "markdown",
   "metadata": {
    "id": "X-DQ172M94Av"
   },
   "source": [
    "# Login to Kaggle"
   ]
  },
  {
   "cell_type": "code",
   "execution_count": null,
   "metadata": {
    "colab": {
     "base_uri": "https://localhost:8080/",
     "height": 84,
     "referenced_widgets": [
      "b1c3267330724079824b9c13473b34d1",
      "b1e4f22fdd1b41068eb67f63afc883b4",
      "7b2c96612f3d4675843aec1145a95c05",
      "160c2bf06c954e959a1397c10874d2fc",
      "ebb24f6e9ec1424ebf9ad773eacc67eb",
      "476c638bc952413282409089be8b2e75",
      "466e803003b34e6486e25075d5300d47",
      "94970ccbb9534e6ab4a0d53b40f358e3",
      "65c35af0ce9b4cee9d495183714e0e40",
      "78398043f3b144f984536c77be080c5a",
      "4a2c1ccd6df442c4bd10087336a2b04c",
      "09da767216c04ed9ba8e62f1a5d1c6e1",
      "21e4c2da64d34c18bcde164676f36f1c",
      "119c8481ca8d4a5b94e028d741e9fb63",
      "45dd829a3a684444be674eb3e201e941",
      "52c7123b23a847ccbe0d4c340e2e57d0",
      "7904d9830c174fc8bc3a89941bf0348a",
      "4e34bb35cbc44d4bb056a91ab35fd43e",
      "9a743324ad984e9e9ebce42dc461cdf0",
      "766188718314448a97fba3a16d6e4e31",
      "ea1537695ec24c029d8852eeaa9b4782",
      "b29252b294d344a08e0a738a736110f8",
      "9587fc2962964581a68516b8d898540e"
     ]
    },
    "id": "_a-lEbkaIhF_",
    "outputId": "36df543b-d1c3-425d-91a3-b2612df89362"
   },
   "outputs": [],
   "source": [
    "import kagglehub\n",
    "\n",
    "kagglehub.login()"
   ]
  },
  {
   "cell_type": "markdown",
   "metadata": {
    "id": "L04BFsQG9944"
   },
   "source": [
    "## Downloading datasets from Kaggle"
   ]
  },
  {
   "cell_type": "code",
   "execution_count": null,
   "metadata": {
    "colab": {
     "base_uri": "https://localhost:8080/"
    },
    "id": "3-FlF_fsIibQ",
    "outputId": "b6735e42-59a7-49d4-b291-8c95bd2d8609"
   },
   "outputs": [],
   "source": [
    "path_2009 = kagglehub.dataset_download(\"yuanyuwendymu/airline-delay-and-cancellation-data-2009-2018\")\n",
    "\n",
    "print(\"Path to dataset files:\", path_2009)\n",
    "path_2019 = kagglehub.dataset_download(\"patrickzel/flight-delay-and-cancellation-dataset-2019-2023\")\n",
    "\n",
    "print(\"Path to dataset files:\", path_2019)"
   ]
  },
  {
   "cell_type": "markdown",
   "metadata": {
    "id": "uMI8u49--DnA"
   },
   "source": [
    "Listing the files that have been collected from kaggle."
   ]
  },
  {
   "cell_type": "code",
   "execution_count": null,
   "metadata": {
    "colab": {
     "base_uri": "https://localhost:8080/"
    },
    "id": "oEwQ0-MaI6J_",
    "outputId": "40df6f4e-454a-4491-d418-706cb66ca049"
   },
   "outputs": [],
   "source": [
    "import os\n",
    "\n",
    "files_2009 = os.listdir(path_2009)\n",
    "print(\"first files downloaded:\", files_2009)\n",
    "files_2019 = os.listdir(path_2019)\n",
    "print(\"second Files downloaded:\", files_2019)"
   ]
  },
  {
   "cell_type": "markdown",
   "metadata": {
    "id": "LvcYujCf-H7n"
   },
   "source": [
    "Creating a mapping to change the column names because they differ between the 3 kaggle datasets. Changing all to fit the original airline.csv"
   ]
  },
  {
   "cell_type": "code",
   "execution_count": null,
   "metadata": {
    "id": "2WNqCCiLJTDJ"
   },
   "outputs": [],
   "source": [
    "# Mapping for converting columns in the second and third indexes to the first index\n",
    "column_mapping = {\n",
    "    # Second Index to First Index\n",
    "    'FL_DATE': 'Date',\n",
    "    'OP_CARRIER': 'UniqueCarrier',\n",
    "    'OP_CARRIER_FL_NUM': 'FlightNum',\n",
    "    'ORIGIN': 'Origin',\n",
    "    'DEST': 'Dest',\n",
    "    'CRS_DEP_TIME': 'CRSDepTime',\n",
    "    'DEP_TIME': 'DepTime',\n",
    "    'DEP_DELAY': 'DepDelay',\n",
    "    'TAXI_OUT': 'TaxiOut',\n",
    "    'WHEELS_OFF': 'WheelsOff',\n",
    "    'WHEELS_ON': 'WheelsOn',\n",
    "    'TAXI_IN': 'TaxiIn',\n",
    "    'CRS_ARR_TIME': 'CRSArrTime',\n",
    "    'ARR_TIME': 'ArrTime',\n",
    "    'ARR_DELAY': 'ArrDelay',\n",
    "    'CANCELLED': 'Cancelled',\n",
    "    'CANCELLATION_CODE': 'CancellationCode',\n",
    "    'DIVERTED': 'Diverted',\n",
    "    'CRS_ELAPSED_TIME': 'CRSElapsedTime',\n",
    "    'ACTUAL_ELAPSED_TIME': 'ActualElapsedTime',\n",
    "    'AIR_TIME': 'AirTime',\n",
    "    'DISTANCE': 'Distance',\n",
    "    'CARRIER_DELAY': 'CarrierDelay',\n",
    "    'WEATHER_DELAY': 'WeatherDelay',\n",
    "    'NAS_DELAY': 'NASDelay',\n",
    "    'SECURITY_DELAY': 'SecurityDelay',\n",
    "    'LATE_AIRCRAFT_DELAY': 'LateAircraftDelay',\n",
    "\n",
    "    # Third Index to First Index\n",
    "    'AIRLINE_CODE': 'UniqueCarrier',  # assuming similar mapping if applicable\n",
    "    'FL_NUMBER': 'FlightNum',\n",
    "}"
   ]
  },
  {
   "cell_type": "markdown",
   "metadata": {
    "id": "v30SqGrl-RTS"
   },
   "source": [
    "## Using SPARK to process the data\n",
    "Here we are loading the csv files as spark dataframes to save some space and compute."
   ]
  },
  {
   "cell_type": "code",
   "execution_count": null,
   "metadata": {
    "id": "DyNqR4QyJd7_"
   },
   "outputs": [],
   "source": [
    "from pyspark.sql import SparkSession\n",
    "from pyspark.sql.functions import unix_timestamp\n",
    "from pyspark.sql.types import LongType, IntegerType, DoubleType, StringType\n",
    "from pyspark.sql.functions import col\n",
    "\n",
    "\n",
    "# create Spark session\n",
    "spark = SparkSession.builder.appName(\"airline_processing\").getOrCreate()\n",
    "\n",
    "# Define schema corrections\n",
    "schema_corrections = {\n",
    "  \"Date\": StringType(),\n",
    "  \"CRSArrTime\": LongType(),\n",
    "  \"CRSDepTime\": LongType(),\n",
    "  \"FlightNum\": IntegerType(),\n",
    "  \"Cancelled\": DoubleType()\n",
    "}\n",
    "\n",
    "# Code for processing post 2008 kaggle datasets\n",
    "def load_and_rename(file_path, column_mapping):\n",
    "  # Load CSV directly into Spark DataFrame\n",
    "  spark_df = spark.read.csv(file_path, header=True, inferSchema=True)\n",
    "\n",
    "  # Remove unnamed columns (any column name containing \"Unnamed\")\n",
    "  unnamed_columns = [col for col in spark_df.columns if \"Unnamed\" in col]\n",
    "  spark_df = spark_df.drop(*unnamed_columns)\n",
    "\n",
    "  # Rename columns based on mapping\n",
    "  for old_col, new_col in column_mapping.items():\n",
    "    if old_col in spark_df.columns:\n",
    "      spark_df = spark_df.withColumnRenamed(old_col, new_col)\n",
    "\n",
    "  for column_name, desired_type in schema_corrections.items():\n",
    "    if column_name in spark_df.columns:\n",
    "      if column_name == \"Diverted\":\n",
    "        spark_df = spark_df.withColumn(\n",
    "          \"Diverted\",\n",
    "          col(column_name).cast(\"double\").cast(LongType())\n",
    "        )\n",
    "      else:\n",
    "        spark_df = spark_df.withColumn(\n",
    "          column_name,\n",
    "          col(column_name).cast(desired_type)\n",
    "        )\n",
    "\n",
    "  return spark_df"
   ]
  },
  {
   "cell_type": "markdown",
   "metadata": {
    "id": "0_u0v0Oxw5Tk"
   },
   "source": [
    "This is the code for accessing and processing the original kaggle dataset  from 1987 to 2008."
   ]
  },
  {
   "cell_type": "code",
   "execution_count": null,
   "metadata": {
    "id": "CfZ96GPqJh61"
   },
   "outputs": [],
   "source": [
    "import pandas as pd\n",
    "from pyspark.sql import SparkSession\n",
    "\n",
    "# code for processing original, pre 2008 kaggle dataset\n",
    "# Initialize Spark session\n",
    "spark = SparkSession.builder \\\n",
    "    .appName(\"airline_processing\") \\\n",
    "    .getOrCreate()\n",
    "\n",
    "# Define your large CSV file path\n",
    "csv_file_path = \"airline.csv\"\n",
    "\n",
    "# Define the output directory for intermediate Parquet files\n",
    "intermediate_path = \"airline_parquet/\"\n",
    "\n",
    "# Parameters for chunk processing\n",
    "chunk_size = 100000  # Number of rows per chunk\n",
    "\n",
    "# Process CSV in chunks using Pandas\n",
    "chunk_number = 0\n",
    "import pandas as pd\n",
    "from pyspark.sql import SparkSession\n",
    "\n",
    "# Initialize Spark session\n",
    "spark = SparkSession.builder.appName(\"CSVtoParquet\").getOrCreate()\n",
    "\n",
    "# Define schema corrections\n",
    "schema_corrections = {\n",
    "    \"Date\": LongType(),\n",
    "    \"CRSArrTime\": LongType(),\n",
    "    \"CRSDepTime\": LongType(),\n",
    "    \"FlightNum\": IntegerType(),\n",
    "    \"Cancelled\": DoubleType()\n",
    "}\n",
    "\n",
    "for chunk in pd.read_csv(csv_file_path, chunksize=chunk_size):\n",
    "  # print(chunk)\n",
    "  # print(\"Pandas DataFrame columns:\", chunk.columns)\n",
    "\n",
    "  try:\n",
    "    # Replace NaNs or inf in date-related columns\n",
    "    chunk['Year'] = chunk['Year'].replace([float('inf'), -float('inf')], pd.NA).fillna(0).astype(int).astype(str)\n",
    "    chunk['Month'] = chunk['Month'].replace([float('inf'), -float('inf')], pd.NA).fillna(0).astype(int).astype(str).str.zfill(2)\n",
    "    chunk['DayofMonth'] = chunk['DayofMonth'].replace([float('inf'), -float('inf')], pd.NA).fillna(0).astype(int).astype(str).str.zfill(2)\n",
    "\n",
    "    # Create Date column\n",
    "    # chunk['Date'] = pd.to_datetime(\n",
    "    #   chunk[['Year', 'Month', 'DayofMonth']].agg('-'.join, axis=1),\n",
    "    #   format='%Y-%m-%d',\n",
    "    #   errors='coerce'\n",
    "    # )\n",
    "\n",
    "    # Convert Pandas DataFrame to Spark DataFrame\n",
    "    spark_df = spark.createDataFrame(chunk)\n",
    "\n",
    "    # Remove unnamed columns\n",
    "    unnamed_columns = [col for col in spark_df.columns if \"Unnamed\" in col]\n",
    "    spark_df = spark_df.drop(*unnamed_columns)\n",
    "\n",
    "    # Apply schema corrections\n",
    "    for column_name, desired_type in schema_corrections.items():\n",
    "      if column_name in spark_df.columns:\n",
    "        if column_name == \"Diverted\":\n",
    "          spark_df = spark_df.withColumn(\n",
    "            \"Date\",\n",
    "            col(column_name).cast(\"double\").cast(LongType())\n",
    "          )\n",
    "        else:\n",
    "          spark_df = spark_df.withColumn(\n",
    "            column_name,\n",
    "            col(column_name).cast(desired_type)\n",
    "          )\n",
    "\n",
    "    # Save each chunk as a separate Parquet file\n",
    "    spark_df.write.mode(\"overwrite\").parquet(f\"{intermediate_path}/airline_file_{chunk_number}.parquet\")\n",
    "\n",
    "    # Free up memory\n",
    "    del spark_df\n",
    "    del chunk\n",
    "\n",
    "    chunk_number += 1\n",
    "\n",
    "  except Exception as e:\n",
    "    print(f\"Error processing chunk {chunk_number}: {e}\")\n",
    "    continue"
   ]
  },
  {
   "cell_type": "code",
   "execution_count": null,
   "metadata": {
    "colab": {
     "base_uri": "https://localhost:8080/"
    },
    "id": "8Fjc0VhkYtb8",
    "outputId": "154c435a-190e-477d-af9d-12f4ab6caab6"
   },
   "outputs": [],
   "source": [
    "# sanity check\n",
    "chunk_number = 99\n",
    "chunk_number"
   ]
  },
  {
   "cell_type": "markdown",
   "metadata": {
    "id": "t-EADMmgxFxC"
   },
   "source": [
    "This is the code for accessing and processing the 2 newer kaggle datasets ranging from 2009 to 2023."
   ]
  },
  {
   "cell_type": "code",
   "execution_count": null,
   "metadata": {
    "id": "hm1Z6PlgJoFj"
   },
   "outputs": [],
   "source": [
    "# process files\n",
    "intermediate_path = \"airline_parquet/\"\n",
    "sparks_dfs = []\n",
    "# i = 0\n",
    "# spark_df = load_and_rename(\"airline.csv\", column_mapping)\n",
    "# spark_df.write.parquet(f\"{intermediate_path}/airline_file_{i}.parquet\")\n",
    "# i += 1\n",
    "\n",
    "for files in files_2009:\n",
    "    path = path_2009 + '/' + files\n",
    "    spark_df = load_and_rename(path, column_mapping)\n",
    "    spark_df.write.parquet(f\"{intermediate_path}/airline_file_{chunk_number}.parquet\")\n",
    "    chunk_number += 1\n",
    "\n",
    "spark_df = load_and_rename(path_2019 + r'/flights_sample_3m.csv', column_mapping)\n",
    "spark_df.write.parquet(f\"{intermediate_path}/airline_file_{chunk_number}.parquet\")"
   ]
  },
  {
   "cell_type": "code",
   "execution_count": null,
   "metadata": {
    "colab": {
     "base_uri": "https://localhost:8080/"
    },
    "id": "JW4qaHJfkuTW",
    "outputId": "eabb4160-03c8-4e0d-a5c5-2320e3fed3a5"
   },
   "outputs": [],
   "source": [
    "chunk_number"
   ]
  },
  {
   "cell_type": "markdown",
   "metadata": {
    "id": "w4o-3xag-kxg"
   },
   "source": [
    "We are correcting some datatype differences here due to having taken info from 3 different sources."
   ]
  },
  {
   "cell_type": "code",
   "execution_count": null,
   "metadata": {
    "colab": {
     "base_uri": "https://localhost:8080/"
    },
    "id": "uqjiyg1dx8X5",
    "outputId": "af977768-6e61-4fb6-8f00-078003abadec"
   },
   "outputs": [],
   "source": [
    "from pyspark.sql.types import IntegerType, LongType, DoubleType\n",
    "from pyspark.sql.functions import col\n",
    "\n",
    "combined_df = spark.read.parquet(\"./airline_parquet/*.parquet\")\n",
    "\n",
    "# # Define schema corrections\n",
    "# schema_corrections = {\n",
    "#     \"Date\": LongType(),\n",
    "#     \"CRSArrTime\": LongType(),\n",
    "#     \"CRSDepTime\": LongType(),\n",
    "#     \"FlightNum\": IntegerType(),\n",
    "#     \"Cancelled\": DoubleType()\n",
    "#     # Add more columns and their desired types if needed\n",
    "# }\n",
    "\n",
    "# # Apply schema corrections\n",
    "# for column_name, desired_type in schema_corrections.items():\n",
    "#     combined_df = combined_df.withColumn(column_name, col(column_name).cast(desired_type))\n",
    "\n",
    "combined_df.printSchema()"
   ]
  },
  {
   "cell_type": "markdown",
   "metadata": {
    "id": "wzEYX43J2INY"
   },
   "source": []
  },
  {
   "cell_type": "markdown",
   "metadata": {
    "id": "vy5qjVyD-qPh"
   },
   "source": [
    "## Processing Spark dataframe to get Airline Ranking by Number of Delays"
   ]
  },
  {
   "cell_type": "code",
   "execution_count": null,
   "metadata": {
    "colab": {
     "base_uri": "https://localhost:8080/"
    },
    "id": "UogpKsMWmbTn",
    "outputId": "1d802683-8809-4b0d-9191-41ada654b964"
   },
   "outputs": [],
   "source": [
    "# Get unique carriers\n",
    "unique_carriers = combined_df.select(\"UniqueCarrier\").distinct()\n",
    "\n",
    "# Count and show the unique carriers\n",
    "unique_carriers_count = unique_carriers.count()\n",
    "print(f\"Number of unique carriers: {unique_carriers_count}\")\n",
    "\n",
    "# Show the unique carriers\n",
    "unique_carriers_list = unique_carriers.collect()\n",
    "print(\"Unique carriers:\", [row[\"UniqueCarrier\"] for row in unique_carriers_list])\n"
   ]
  },
  {
   "cell_type": "code",
   "execution_count": null,
   "metadata": {
    "colab": {
     "base_uri": "https://localhost:8080/"
    },
    "id": "WLoX0d0uxaTg",
    "outputId": "98e77ae0-4d7d-45d1-ad51-e993f1a06a54"
   },
   "outputs": [],
   "source": [
    "from pyspark.sql import functions as F\n",
    "\n",
    "# Retrieve Delay rankings\n",
    "delayed_airlines = combined_df.withColumn(\n",
    "    \"total_delay\",\n",
    "    F.when(\n",
    "        (F.col(\"CarrierDelay\") > 0) |\n",
    "        (F.col(\"WeatherDelay\") > 0) |\n",
    "        (F.col(\"NASDelay\") > 0) |\n",
    "        (F.col(\"SecurityDelay\") > 0) |\n",
    "        (F.col(\"LateAircraftDelay\") > 0),\n",
    "        1\n",
    "    ).otherwise(0)\n",
    ")\n",
    "\n",
    "result = delayed_airlines.groupBy(\"UniqueCarrier\").agg(\n",
    "    F.sum(\"total_delay\").alias(\"total_delay\")  # Assuming \"Description\" column exists in carrier_df\n",
    ").orderBy(F.desc(\"total_delay\"))\n",
    "\n",
    "# Show the result\n",
    "row_count = result.count()\n",
    "result.show(row_count)\n",
    "# result.show()"
   ]
  },
  {
   "cell_type": "markdown",
   "metadata": {
    "id": "8k--AEBb-wAe"
   },
   "source": [
    "Saving the results into a zip file."
   ]
  },
  {
   "cell_type": "code",
   "execution_count": null,
   "metadata": {
    "id": "CEedZUN54koe"
   },
   "outputs": [],
   "source": [
    "result.coalesce(1).write.parquet(\"airline_delay_ranking.parquet\")"
   ]
  },
  {
   "cell_type": "code",
   "execution_count": null,
   "metadata": {
    "colab": {
     "base_uri": "https://localhost:8080/"
    },
    "id": "Tchj-R396teF",
    "outputId": "9f534924-e56d-4936-bdf7-d902370a44dc"
   },
   "outputs": [],
   "source": [
    "!zip -r airline_delay_ranking.zip airline_delay_ranking.parquet"
   ]
  },
  {
   "cell_type": "markdown",
   "metadata": {
    "id": "32idNasZ-yRx"
   },
   "source": [
    "## Saving all Spark data and parquet files to S3"
   ]
  },
  {
   "cell_type": "code",
   "execution_count": null,
   "metadata": {
    "colab": {
     "base_uri": "https://localhost:8080/"
    },
    "id": "D9Mw1h_XIM2x",
    "outputId": "7a700149-1aa0-4b8c-d179-09d99321be0f"
   },
   "outputs": [],
   "source": [
    "!pip install boto3"
   ]
  },
  {
   "cell_type": "code",
   "execution_count": null,
   "metadata": {
    "colab": {
     "base_uri": "https://localhost:8080/",
     "height": 383
    },
    "id": "VM1CtfdjzhD1",
    "outputId": "2f3f564d-7444-43da-8846-3af3cdd6c25d"
   },
   "outputs": [],
   "source": [
    "from dotenv import load_dotenv\n",
    "import os\n",
    "\n",
    "load_dotenv()\n",
    "AWS_ACCESS_KEY=os.environ.get(\"AWS_ACCESS_KEY\")\n",
    "AWS_SECRET_ACCESS_KEY=os.environ.get(\"AWS_SECRET_ACCESS_KEY\")\n",
    "\n",
    "import boto3\n",
    "from botocore.exceptions import NoCredentialsError\n",
    "\n",
    "# Define AWS credentials and initialize S3 client\n",
    "s3 = boto3.client(\n",
    "    's3',\n",
    "    aws_access_key_id=AWS_ACCESS_KEY,\n",
    "    aws_secret_access_key=AWS_SECRET_ACCESS_KEY,\n",
    "    region_name='us-east-1'  # Set your region\n",
    ")\n",
    "\n",
    "# Define the file to upload and target S3 bucket details\n",
    "# local_file_path = './airline_delay_ranking.zip'\n",
    "# bucket_name = 'is459-project-output-data'\n",
    "# s3_file_path = 'airline_delay_ranking.zip'\n",
    "\n",
    "# try:\n",
    "#     # Upload the file\n",
    "#     s3.upload_file(local_file_path, bucket_name, s3_file_path)\n",
    "#     print(f\"File uploaded successfully to s3://{bucket_name}/{s3_file_path}\")\n",
    "# except FileNotFoundError:\n",
    "#     print(\"The file was not found\")\n",
    "# except NoCredentialsError:\n",
    "#     print(\"Credentials not available\")\n"
   ]
  },
  {
   "cell_type": "code",
   "execution_count": null,
   "metadata": {
    "colab": {
     "base_uri": "https://localhost:8080/"
    },
    "id": "Aoy9gQ537QX8",
    "outputId": "bafc3006-155f-44fd-c286-30eeb73a8729"
   },
   "outputs": [],
   "source": [
    "# save combined spark dataframes\n",
    "import os\n",
    "\n",
    "# Define local directory and S3 bucket details\n",
    "local_directory = './airline_parquet'  # Replace with your directory path\n",
    "bucket_name = 'is459-project-data'  # Replace with your S3 bucket name\n",
    "s3_folder = 'kaggle/new'  # Replace with the desired folder path in S3\n",
    "\n",
    "# Function to upload files in a directory to S3\n",
    "def upload_files_to_s3(local_path, s3_path):\n",
    "    for root, dirs, files in os.walk(local_path):\n",
    "        for file in files:\n",
    "            # Only upload files with .parquet extension\n",
    "            if file.endswith(\".parquet\"):\n",
    "                local_file_path = os.path.join(root, file)\n",
    "                s3_file_path = os.path.join(s3_path, os.path.relpath(local_file_path, local_path))\n",
    "\n",
    "                try:\n",
    "                    # Upload the file to S3\n",
    "                    s3.upload_file(local_file_path, bucket_name, s3_file_path)\n",
    "                    print(f\"Uploaded {local_file_path} to s3://{bucket_name}/{s3_file_path}\")\n",
    "                except FileNotFoundError:\n",
    "                    print(f\"The file {file} was not found\")\n",
    "                except NoCredentialsError:\n",
    "                    print(\"Credentials not available\")\n",
    "\n",
    "# Upload all Parquet files from local directory to S3\n",
    "upload_files_to_s3(local_directory, s3_folder)"
   ]
  },
  {
   "cell_type": "markdown",
   "metadata": {
    "id": "2IjMCDkMgSC8"
   },
   "source": [
    "# Read from kaggle"
   ]
  },
  {
   "cell_type": "code",
   "execution_count": null,
   "metadata": {
    "id": "IOjrzsR7gTIa"
   },
   "outputs": [],
   "source": [
    "import boto3\n",
    "import pandas as pd\n",
    "from io import BytesIO\n",
    "\n",
    "# Define S3 bucket details\n",
    "bucket_name = 'is459-project-data'  # Replace with your S3 bucket name\n",
    "s3_folder = 'kaggle/new/'  # Replace with the specific folder path in your S3 bucket\n",
    "\n",
    "# Initialize S3 client\n",
    "s3 = boto3.client('s3')\n",
    "\n",
    "def read_parquet_files_from_s3(bucket_name, folder_path):\n",
    "    # List all objects in the specified S3 folder\n",
    "    response = s3.list_objects_v2(Bucket=bucket_name, Prefix=folder_path)\n",
    "    files_data = []\n",
    "\n",
    "    for obj in response.get('Contents', []):\n",
    "        file_key = obj['Key']\n",
    "        # Check if the file is a Parquet file\n",
    "        if file_key.endswith('.parquet'):\n",
    "            # Read the file from S3\n",
    "            s3_object = s3.get_object(Bucket=bucket_name, Key=file_key)\n",
    "            data = s3_object['Body'].read()\n",
    "            # Load the Parquet file into a DataFrame\n",
    "            df = pd.read_parquet(BytesIO(data))\n",
    "            files_data.append(df)\n",
    "\n",
    "            print(f\"Loaded {file_key} into DataFrame\")\n",
    "\n",
    "    # Combine all DataFrames if necessary\n",
    "    combined_df = pd.concat(files_data, ignore_index=True) if files_data else None\n",
    "    return combined_df\n",
    "\n",
    "# Use the function to read all Parquet files in the specified folder\n",
    "df = read_parquet_files_from_s3(bucket_name, s3_folder)\n",
    "\n",
    "# Display the combined DataFrame\n",
    "if df is not None:\n",
    "    print(df.head())\n",
    "else:\n",
    "    print(\"No Parquet files found in the specified folder.\")\n"
   ]
  }
 ],
 "metadata": {
  "colab": {
   "provenance": []
  },
  "kernelspec": {
   "display_name": "Python 3",
   "name": "python3"
  },
  "language_info": {
   "name": "python"
  },
  "widgets": {
   "application/vnd.jupyter.widget-state+json": {
    "09da767216c04ed9ba8e62f1a5d1c6e1": {
     "model_module": "@jupyter-widgets/base",
     "model_module_version": "1.2.0",
     "model_name": "LayoutModel",
     "state": {
      "_model_module": "@jupyter-widgets/base",
      "_model_module_version": "1.2.0",
      "_model_name": "LayoutModel",
      "_view_count": null,
      "_view_module": "@jupyter-widgets/base",
      "_view_module_version": "1.2.0",
      "_view_name": "LayoutView",
      "align_content": null,
      "align_items": null,
      "align_self": null,
      "border": null,
      "bottom": null,
      "display": null,
      "flex": null,
      "flex_flow": null,
      "grid_area": null,
      "grid_auto_columns": null,
      "grid_auto_flow": null,
      "grid_auto_rows": null,
      "grid_column": null,
      "grid_gap": null,
      "grid_row": null,
      "grid_template_areas": null,
      "grid_template_columns": null,
      "grid_template_rows": null,
      "height": null,
      "justify_content": null,
      "justify_items": null,
      "left": null,
      "margin": null,
      "max_height": null,
      "max_width": null,
      "min_height": null,
      "min_width": null,
      "object_fit": null,
      "object_position": null,
      "order": null,
      "overflow": null,
      "overflow_x": null,
      "overflow_y": null,
      "padding": null,
      "right": null,
      "top": null,
      "visibility": null,
      "width": null
     }
    },
    "119c8481ca8d4a5b94e028d741e9fb63": {
     "model_module": "@jupyter-widgets/base",
     "model_module_version": "1.2.0",
     "model_name": "LayoutModel",
     "state": {
      "_model_module": "@jupyter-widgets/base",
      "_model_module_version": "1.2.0",
      "_model_name": "LayoutModel",
      "_view_count": null,
      "_view_module": "@jupyter-widgets/base",
      "_view_module_version": "1.2.0",
      "_view_name": "LayoutView",
      "align_content": null,
      "align_items": null,
      "align_self": null,
      "border": null,
      "bottom": null,
      "display": null,
      "flex": null,
      "flex_flow": null,
      "grid_area": null,
      "grid_auto_columns": null,
      "grid_auto_flow": null,
      "grid_auto_rows": null,
      "grid_column": null,
      "grid_gap": null,
      "grid_row": null,
      "grid_template_areas": null,
      "grid_template_columns": null,
      "grid_template_rows": null,
      "height": null,
      "justify_content": null,
      "justify_items": null,
      "left": null,
      "margin": null,
      "max_height": null,
      "max_width": null,
      "min_height": null,
      "min_width": null,
      "object_fit": null,
      "object_position": null,
      "order": null,
      "overflow": null,
      "overflow_x": null,
      "overflow_y": null,
      "padding": null,
      "right": null,
      "top": null,
      "visibility": null,
      "width": null
     }
    },
    "160c2bf06c954e959a1397c10874d2fc": {
     "model_module": "@jupyter-widgets/controls",
     "model_module_version": "1.5.0",
     "model_name": "PasswordModel",
     "state": {
      "_dom_classes": [],
      "_model_module": "@jupyter-widgets/controls",
      "_model_module_version": "1.5.0",
      "_model_name": "PasswordModel",
      "_view_count": null,
      "_view_module": "@jupyter-widgets/controls",
      "_view_module_version": "1.5.0",
      "_view_name": "PasswordView",
      "continuous_update": true,
      "description": "Token:",
      "description_tooltip": null,
      "disabled": false,
      "layout": "IPY_MODEL_09da767216c04ed9ba8e62f1a5d1c6e1",
      "placeholder": "​",
      "style": "IPY_MODEL_21e4c2da64d34c18bcde164676f36f1c",
      "value": ""
     }
    },
    "21e4c2da64d34c18bcde164676f36f1c": {
     "model_module": "@jupyter-widgets/controls",
     "model_module_version": "1.5.0",
     "model_name": "DescriptionStyleModel",
     "state": {
      "_model_module": "@jupyter-widgets/controls",
      "_model_module_version": "1.5.0",
      "_model_name": "DescriptionStyleModel",
      "_view_count": null,
      "_view_module": "@jupyter-widgets/base",
      "_view_module_version": "1.2.0",
      "_view_name": "StyleView",
      "description_width": ""
     }
    },
    "45dd829a3a684444be674eb3e201e941": {
     "model_module": "@jupyter-widgets/controls",
     "model_module_version": "1.5.0",
     "model_name": "ButtonStyleModel",
     "state": {
      "_model_module": "@jupyter-widgets/controls",
      "_model_module_version": "1.5.0",
      "_model_name": "ButtonStyleModel",
      "_view_count": null,
      "_view_module": "@jupyter-widgets/base",
      "_view_module_version": "1.2.0",
      "_view_name": "StyleView",
      "button_color": null,
      "font_weight": ""
     }
    },
    "466e803003b34e6486e25075d5300d47": {
     "model_module": "@jupyter-widgets/base",
     "model_module_version": "1.2.0",
     "model_name": "LayoutModel",
     "state": {
      "_model_module": "@jupyter-widgets/base",
      "_model_module_version": "1.2.0",
      "_model_name": "LayoutModel",
      "_view_count": null,
      "_view_module": "@jupyter-widgets/base",
      "_view_module_version": "1.2.0",
      "_view_name": "LayoutView",
      "align_content": null,
      "align_items": "center",
      "align_self": null,
      "border": null,
      "bottom": null,
      "display": "flex",
      "flex": null,
      "flex_flow": "column",
      "grid_area": null,
      "grid_auto_columns": null,
      "grid_auto_flow": null,
      "grid_auto_rows": null,
      "grid_column": null,
      "grid_gap": null,
      "grid_row": null,
      "grid_template_areas": null,
      "grid_template_columns": null,
      "grid_template_rows": null,
      "height": null,
      "justify_content": null,
      "justify_items": null,
      "left": null,
      "margin": null,
      "max_height": null,
      "max_width": null,
      "min_height": null,
      "min_width": null,
      "object_fit": null,
      "object_position": null,
      "order": null,
      "overflow": null,
      "overflow_x": null,
      "overflow_y": null,
      "padding": null,
      "right": null,
      "top": null,
      "visibility": null,
      "width": "50%"
     }
    },
    "476c638bc952413282409089be8b2e75": {
     "model_module": "@jupyter-widgets/controls",
     "model_module_version": "1.5.0",
     "model_name": "HTMLModel",
     "state": {
      "_dom_classes": [],
      "_model_module": "@jupyter-widgets/controls",
      "_model_module_version": "1.5.0",
      "_model_name": "HTMLModel",
      "_view_count": null,
      "_view_module": "@jupyter-widgets/controls",
      "_view_module_version": "1.5.0",
      "_view_name": "HTMLView",
      "description": "",
      "description_tooltip": null,
      "layout": "IPY_MODEL_52c7123b23a847ccbe0d4c340e2e57d0",
      "placeholder": "​",
      "style": "IPY_MODEL_7904d9830c174fc8bc3a89941bf0348a",
      "value": "\n<b>Thank You</b></center>"
     }
    },
    "4a2c1ccd6df442c4bd10087336a2b04c": {
     "model_module": "@jupyter-widgets/controls",
     "model_module_version": "1.5.0",
     "model_name": "DescriptionStyleModel",
     "state": {
      "_model_module": "@jupyter-widgets/controls",
      "_model_module_version": "1.5.0",
      "_model_name": "DescriptionStyleModel",
      "_view_count": null,
      "_view_module": "@jupyter-widgets/base",
      "_view_module_version": "1.2.0",
      "_view_name": "StyleView",
      "description_width": ""
     }
    },
    "4e34bb35cbc44d4bb056a91ab35fd43e": {
     "model_module": "@jupyter-widgets/controls",
     "model_module_version": "1.5.0",
     "model_name": "LabelModel",
     "state": {
      "_dom_classes": [],
      "_model_module": "@jupyter-widgets/controls",
      "_model_module_version": "1.5.0",
      "_model_name": "LabelModel",
      "_view_count": null,
      "_view_module": "@jupyter-widgets/controls",
      "_view_module_version": "1.5.0",
      "_view_name": "LabelView",
      "description": "",
      "description_tooltip": null,
      "layout": "IPY_MODEL_9a743324ad984e9e9ebce42dc461cdf0",
      "placeholder": "​",
      "style": "IPY_MODEL_766188718314448a97fba3a16d6e4e31",
      "value": "Connecting..."
     }
    },
    "52c7123b23a847ccbe0d4c340e2e57d0": {
     "model_module": "@jupyter-widgets/base",
     "model_module_version": "1.2.0",
     "model_name": "LayoutModel",
     "state": {
      "_model_module": "@jupyter-widgets/base",
      "_model_module_version": "1.2.0",
      "_model_name": "LayoutModel",
      "_view_count": null,
      "_view_module": "@jupyter-widgets/base",
      "_view_module_version": "1.2.0",
      "_view_name": "LayoutView",
      "align_content": null,
      "align_items": null,
      "align_self": null,
      "border": null,
      "bottom": null,
      "display": null,
      "flex": null,
      "flex_flow": null,
      "grid_area": null,
      "grid_auto_columns": null,
      "grid_auto_flow": null,
      "grid_auto_rows": null,
      "grid_column": null,
      "grid_gap": null,
      "grid_row": null,
      "grid_template_areas": null,
      "grid_template_columns": null,
      "grid_template_rows": null,
      "height": null,
      "justify_content": null,
      "justify_items": null,
      "left": null,
      "margin": null,
      "max_height": null,
      "max_width": null,
      "min_height": null,
      "min_width": null,
      "object_fit": null,
      "object_position": null,
      "order": null,
      "overflow": null,
      "overflow_x": null,
      "overflow_y": null,
      "padding": null,
      "right": null,
      "top": null,
      "visibility": null,
      "width": null
     }
    },
    "65c35af0ce9b4cee9d495183714e0e40": {
     "model_module": "@jupyter-widgets/controls",
     "model_module_version": "1.5.0",
     "model_name": "DescriptionStyleModel",
     "state": {
      "_model_module": "@jupyter-widgets/controls",
      "_model_module_version": "1.5.0",
      "_model_name": "DescriptionStyleModel",
      "_view_count": null,
      "_view_module": "@jupyter-widgets/base",
      "_view_module_version": "1.2.0",
      "_view_name": "StyleView",
      "description_width": ""
     }
    },
    "766188718314448a97fba3a16d6e4e31": {
     "model_module": "@jupyter-widgets/controls",
     "model_module_version": "1.5.0",
     "model_name": "DescriptionStyleModel",
     "state": {
      "_model_module": "@jupyter-widgets/controls",
      "_model_module_version": "1.5.0",
      "_model_name": "DescriptionStyleModel",
      "_view_count": null,
      "_view_module": "@jupyter-widgets/base",
      "_view_module_version": "1.2.0",
      "_view_name": "StyleView",
      "description_width": ""
     }
    },
    "78398043f3b144f984536c77be080c5a": {
     "model_module": "@jupyter-widgets/base",
     "model_module_version": "1.2.0",
     "model_name": "LayoutModel",
     "state": {
      "_model_module": "@jupyter-widgets/base",
      "_model_module_version": "1.2.0",
      "_model_name": "LayoutModel",
      "_view_count": null,
      "_view_module": "@jupyter-widgets/base",
      "_view_module_version": "1.2.0",
      "_view_name": "LayoutView",
      "align_content": null,
      "align_items": null,
      "align_self": null,
      "border": null,
      "bottom": null,
      "display": null,
      "flex": null,
      "flex_flow": null,
      "grid_area": null,
      "grid_auto_columns": null,
      "grid_auto_flow": null,
      "grid_auto_rows": null,
      "grid_column": null,
      "grid_gap": null,
      "grid_row": null,
      "grid_template_areas": null,
      "grid_template_columns": null,
      "grid_template_rows": null,
      "height": null,
      "justify_content": null,
      "justify_items": null,
      "left": null,
      "margin": null,
      "max_height": null,
      "max_width": null,
      "min_height": null,
      "min_width": null,
      "object_fit": null,
      "object_position": null,
      "order": null,
      "overflow": null,
      "overflow_x": null,
      "overflow_y": null,
      "padding": null,
      "right": null,
      "top": null,
      "visibility": null,
      "width": null
     }
    },
    "7904d9830c174fc8bc3a89941bf0348a": {
     "model_module": "@jupyter-widgets/controls",
     "model_module_version": "1.5.0",
     "model_name": "DescriptionStyleModel",
     "state": {
      "_model_module": "@jupyter-widgets/controls",
      "_model_module_version": "1.5.0",
      "_model_name": "DescriptionStyleModel",
      "_view_count": null,
      "_view_module": "@jupyter-widgets/base",
      "_view_module_version": "1.2.0",
      "_view_name": "StyleView",
      "description_width": ""
     }
    },
    "7b2c96612f3d4675843aec1145a95c05": {
     "model_module": "@jupyter-widgets/controls",
     "model_module_version": "1.5.0",
     "model_name": "TextModel",
     "state": {
      "_dom_classes": [],
      "_model_module": "@jupyter-widgets/controls",
      "_model_module_version": "1.5.0",
      "_model_name": "TextModel",
      "_view_count": null,
      "_view_module": "@jupyter-widgets/controls",
      "_view_module_version": "1.5.0",
      "_view_name": "TextView",
      "continuous_update": true,
      "description": "Username:",
      "description_tooltip": null,
      "disabled": false,
      "layout": "IPY_MODEL_78398043f3b144f984536c77be080c5a",
      "placeholder": "​",
      "style": "IPY_MODEL_4a2c1ccd6df442c4bd10087336a2b04c",
      "value": "kengboonang"
     }
    },
    "94970ccbb9534e6ab4a0d53b40f358e3": {
     "model_module": "@jupyter-widgets/base",
     "model_module_version": "1.2.0",
     "model_name": "LayoutModel",
     "state": {
      "_model_module": "@jupyter-widgets/base",
      "_model_module_version": "1.2.0",
      "_model_name": "LayoutModel",
      "_view_count": null,
      "_view_module": "@jupyter-widgets/base",
      "_view_module_version": "1.2.0",
      "_view_name": "LayoutView",
      "align_content": null,
      "align_items": null,
      "align_self": null,
      "border": null,
      "bottom": null,
      "display": null,
      "flex": null,
      "flex_flow": null,
      "grid_area": null,
      "grid_auto_columns": null,
      "grid_auto_flow": null,
      "grid_auto_rows": null,
      "grid_column": null,
      "grid_gap": null,
      "grid_row": null,
      "grid_template_areas": null,
      "grid_template_columns": null,
      "grid_template_rows": null,
      "height": null,
      "justify_content": null,
      "justify_items": null,
      "left": null,
      "margin": null,
      "max_height": null,
      "max_width": null,
      "min_height": null,
      "min_width": null,
      "object_fit": null,
      "object_position": null,
      "order": null,
      "overflow": null,
      "overflow_x": null,
      "overflow_y": null,
      "padding": null,
      "right": null,
      "top": null,
      "visibility": null,
      "width": null
     }
    },
    "9587fc2962964581a68516b8d898540e": {
     "model_module": "@jupyter-widgets/controls",
     "model_module_version": "1.5.0",
     "model_name": "DescriptionStyleModel",
     "state": {
      "_model_module": "@jupyter-widgets/controls",
      "_model_module_version": "1.5.0",
      "_model_name": "DescriptionStyleModel",
      "_view_count": null,
      "_view_module": "@jupyter-widgets/base",
      "_view_module_version": "1.2.0",
      "_view_name": "StyleView",
      "description_width": ""
     }
    },
    "9a743324ad984e9e9ebce42dc461cdf0": {
     "model_module": "@jupyter-widgets/base",
     "model_module_version": "1.2.0",
     "model_name": "LayoutModel",
     "state": {
      "_model_module": "@jupyter-widgets/base",
      "_model_module_version": "1.2.0",
      "_model_name": "LayoutModel",
      "_view_count": null,
      "_view_module": "@jupyter-widgets/base",
      "_view_module_version": "1.2.0",
      "_view_name": "LayoutView",
      "align_content": null,
      "align_items": null,
      "align_self": null,
      "border": null,
      "bottom": null,
      "display": null,
      "flex": null,
      "flex_flow": null,
      "grid_area": null,
      "grid_auto_columns": null,
      "grid_auto_flow": null,
      "grid_auto_rows": null,
      "grid_column": null,
      "grid_gap": null,
      "grid_row": null,
      "grid_template_areas": null,
      "grid_template_columns": null,
      "grid_template_rows": null,
      "height": null,
      "justify_content": null,
      "justify_items": null,
      "left": null,
      "margin": null,
      "max_height": null,
      "max_width": null,
      "min_height": null,
      "min_width": null,
      "object_fit": null,
      "object_position": null,
      "order": null,
      "overflow": null,
      "overflow_x": null,
      "overflow_y": null,
      "padding": null,
      "right": null,
      "top": null,
      "visibility": null,
      "width": null
     }
    },
    "b1c3267330724079824b9c13473b34d1": {
     "model_module": "@jupyter-widgets/controls",
     "model_module_version": "1.5.0",
     "model_name": "VBoxModel",
     "state": {
      "_dom_classes": [],
      "_model_module": "@jupyter-widgets/controls",
      "_model_module_version": "1.5.0",
      "_model_name": "VBoxModel",
      "_view_count": null,
      "_view_module": "@jupyter-widgets/controls",
      "_view_module_version": "1.5.0",
      "_view_name": "VBoxView",
      "box_style": "",
      "children": [
       "IPY_MODEL_ea1537695ec24c029d8852eeaa9b4782"
      ],
      "layout": "IPY_MODEL_466e803003b34e6486e25075d5300d47"
     }
    },
    "b1e4f22fdd1b41068eb67f63afc883b4": {
     "model_module": "@jupyter-widgets/controls",
     "model_module_version": "1.5.0",
     "model_name": "HTMLModel",
     "state": {
      "_dom_classes": [],
      "_model_module": "@jupyter-widgets/controls",
      "_model_module_version": "1.5.0",
      "_model_name": "HTMLModel",
      "_view_count": null,
      "_view_module": "@jupyter-widgets/controls",
      "_view_module_version": "1.5.0",
      "_view_name": "HTMLView",
      "description": "",
      "description_tooltip": null,
      "layout": "IPY_MODEL_94970ccbb9534e6ab4a0d53b40f358e3",
      "placeholder": "​",
      "style": "IPY_MODEL_65c35af0ce9b4cee9d495183714e0e40",
      "value": "<center> <img\nsrc=https://www.kaggle.com/static/images/site-logo.png\nalt='Kaggle'> <br> Create an API token from <a\nhref=\"https://www.kaggle.com/settings/account\" target=\"_blank\">your Kaggle\nsettings page</a> and paste it below along with your Kaggle username. <br> </center>"
     }
    },
    "b29252b294d344a08e0a738a736110f8": {
     "model_module": "@jupyter-widgets/base",
     "model_module_version": "1.2.0",
     "model_name": "LayoutModel",
     "state": {
      "_model_module": "@jupyter-widgets/base",
      "_model_module_version": "1.2.0",
      "_model_name": "LayoutModel",
      "_view_count": null,
      "_view_module": "@jupyter-widgets/base",
      "_view_module_version": "1.2.0",
      "_view_name": "LayoutView",
      "align_content": null,
      "align_items": null,
      "align_self": null,
      "border": null,
      "bottom": null,
      "display": null,
      "flex": null,
      "flex_flow": null,
      "grid_area": null,
      "grid_auto_columns": null,
      "grid_auto_flow": null,
      "grid_auto_rows": null,
      "grid_column": null,
      "grid_gap": null,
      "grid_row": null,
      "grid_template_areas": null,
      "grid_template_columns": null,
      "grid_template_rows": null,
      "height": null,
      "justify_content": null,
      "justify_items": null,
      "left": null,
      "margin": null,
      "max_height": null,
      "max_width": null,
      "min_height": null,
      "min_width": null,
      "object_fit": null,
      "object_position": null,
      "order": null,
      "overflow": null,
      "overflow_x": null,
      "overflow_y": null,
      "padding": null,
      "right": null,
      "top": null,
      "visibility": null,
      "width": null
     }
    },
    "ea1537695ec24c029d8852eeaa9b4782": {
     "model_module": "@jupyter-widgets/controls",
     "model_module_version": "1.5.0",
     "model_name": "LabelModel",
     "state": {
      "_dom_classes": [],
      "_model_module": "@jupyter-widgets/controls",
      "_model_module_version": "1.5.0",
      "_model_name": "LabelModel",
      "_view_count": null,
      "_view_module": "@jupyter-widgets/controls",
      "_view_module_version": "1.5.0",
      "_view_name": "LabelView",
      "description": "",
      "description_tooltip": null,
      "layout": "IPY_MODEL_b29252b294d344a08e0a738a736110f8",
      "placeholder": "​",
      "style": "IPY_MODEL_9587fc2962964581a68516b8d898540e",
      "value": "Kaggle credentials successfully validated."
     }
    },
    "ebb24f6e9ec1424ebf9ad773eacc67eb": {
     "model_module": "@jupyter-widgets/controls",
     "model_module_version": "1.5.0",
     "model_name": "ButtonModel",
     "state": {
      "_dom_classes": [],
      "_model_module": "@jupyter-widgets/controls",
      "_model_module_version": "1.5.0",
      "_model_name": "ButtonModel",
      "_view_count": null,
      "_view_module": "@jupyter-widgets/controls",
      "_view_module_version": "1.5.0",
      "_view_name": "ButtonView",
      "button_style": "",
      "description": "Login",
      "disabled": false,
      "icon": "",
      "layout": "IPY_MODEL_119c8481ca8d4a5b94e028d741e9fb63",
      "style": "IPY_MODEL_45dd829a3a684444be674eb3e201e941",
      "tooltip": ""
     }
    }
   }
  }
 },
 "nbformat": 4,
 "nbformat_minor": 0
}
