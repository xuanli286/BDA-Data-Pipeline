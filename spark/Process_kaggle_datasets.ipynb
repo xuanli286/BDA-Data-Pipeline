{
  "cells": [
    {
      "cell_type": "markdown",
      "metadata": {
        "id": "lOXWIQeN91EW"
      },
      "source": [
        "# Installing dependencies"
      ]
    },
    {
      "cell_type": "code",
      "execution_count": 1,
      "metadata": {
        "colab": {
          "base_uri": "https://localhost:8080/"
        },
        "id": "_KzFykWSIaT4",
        "outputId": "79af19e3-0b0d-49db-ca69-cf80fa9643b2"
      },
      "outputs": [
        {
          "name": "stdout",
          "output_type": "stream",
          "text": [
            "Requirement already satisfied: kagglehub in /usr/local/lib/python3.10/dist-packages (0.3.3)\n",
            "Requirement already satisfied: packaging in /usr/local/lib/python3.10/dist-packages (from kagglehub) (24.1)\n",
            "Requirement already satisfied: requests in /usr/local/lib/python3.10/dist-packages (from kagglehub) (2.32.3)\n",
            "Requirement already satisfied: tqdm in /usr/local/lib/python3.10/dist-packages (from kagglehub) (4.66.5)\n",
            "Requirement already satisfied: charset-normalizer<4,>=2 in /usr/local/lib/python3.10/dist-packages (from requests->kagglehub) (3.4.0)\n",
            "Requirement already satisfied: idna<4,>=2.5 in /usr/local/lib/python3.10/dist-packages (from requests->kagglehub) (3.10)\n",
            "Requirement already satisfied: urllib3<3,>=1.21.1 in /usr/local/lib/python3.10/dist-packages (from requests->kagglehub) (2.2.3)\n",
            "Requirement already satisfied: certifi>=2017.4.17 in /usr/local/lib/python3.10/dist-packages (from requests->kagglehub) (2024.8.30)\n"
          ]
        }
      ],
      "source": [
        "!pip install kagglehub\n",
        "!pip install pyspark\n",
        "!wget https://repo1.maven.org/maven2/org/apache/hadoop/hadoop-aws/3.2.0/hadoop-aws-3.2.0.jar\n",
        "!wget https://repo1.maven.org/maven2/com/amazonaws/aws-java-sdk-bundle/1.11.375/aws-java-sdk-bundle-1.11.375.jar\n"
      ]
    },
    {
      "cell_type": "code",
      "execution_count": 64,
      "metadata": {
        "id": "vI0UXR5Fkida"
      },
      "outputs": [],
      "source": [
        "# for deleting files from colab\n",
        "# import shutil\n",
        "\n",
        "# shutil.rmtree('./airline_delay_ranking.csv')"
      ]
    },
    {
      "cell_type": "markdown",
      "metadata": {
        "id": "X-DQ172M94Av"
      },
      "source": [
        "# Login to Kaggle"
      ]
    },
    {
      "cell_type": "code",
      "execution_count": 2,
      "metadata": {
        "colab": {
          "base_uri": "https://localhost:8080/",
          "height": 85,
          "referenced_widgets": [
            "3197f45a663c4302ad1dc12411b67348",
            "afc6045739ce4488b8f30aa39685d188",
            "c4554f19efc34bc9bd7c094752171330",
            "24310145dc3340748e77d811772b3f4d",
            "a8de6a2eae074cfcaf8d8a8124d9cd02",
            "1ec84e7a884d4854b74039d735cd167b",
            "535d2e732afa4f6f895eaea71c1c8346",
            "da856bfc1059411fb676384bf2e7e703",
            "295c7738a1b5428bbf4638afaee733f8",
            "f57234b708e24b61ae914c2afce55eb7",
            "756eedb03b264c4894763a61550bd830",
            "8748d732469a487780e810d45a35c48d",
            "db0646983a014af8ab4581eb80d2c56c",
            "a099ab2d804549b99302cad9e72f0ebb",
            "cd959370bd254fffa0076e77d19b2e5c",
            "2da26666153d4df994c95cee8e9b4b44",
            "123aae12adac4882b17eba3f749241a7",
            "a5056ef64e9f44c08abb1e44b74ecafc",
            "1de07310a3074e9aa2f09324d324be0e",
            "0142f501e3cc4e2d8a6d40419108f1d5",
            "3b1e385516924aa4a72a88ddc50094e0",
            "463c07ae04c64141b6e0f70ae77844ad",
            "84d55b20772c42aaaba9fd619f3a3c7d"
          ]
        },
        "id": "_a-lEbkaIhF_",
        "outputId": "eb4bb42d-6a68-4a08-8d20-5be99ca854d5"
      },
      "outputs": [
        {
          "data": {
            "application/vnd.jupyter.widget-view+json": {
              "model_id": "3197f45a663c4302ad1dc12411b67348",
              "version_major": 2,
              "version_minor": 0
            },
            "text/plain": [
              "VBox(children=(HTML(value='<center> <img\\nsrc=https://www.kaggle.com/static/images/site-logo.png\\nalt=\\'Kaggle…"
            ]
          },
          "metadata": {},
          "output_type": "display_data"
        },
        {
          "name": "stdout",
          "output_type": "stream",
          "text": [
            "Kaggle credentials set.\n",
            "Kaggle credentials successfully validated.\n"
          ]
        }
      ],
      "source": [
        "import kagglehub\n",
        "\n",
        "kagglehub.login()"
      ]
    },
    {
      "cell_type": "markdown",
      "metadata": {
        "id": "L04BFsQG9944"
      },
      "source": [
        "## Downloading datasets from Kaggle"
      ]
    },
    {
      "cell_type": "code",
      "execution_count": 3,
      "metadata": {
        "colab": {
          "base_uri": "https://localhost:8080/"
        },
        "id": "3-FlF_fsIibQ",
        "outputId": "5f65f871-d129-4844-bf14-f821f3006ab1"
      },
      "outputs": [
        {
          "name": "stdout",
          "output_type": "stream",
          "text": [
            "Downloading from https://www.kaggle.com/api/v1/datasets/download/yuanyuwendymu/airline-delay-and-cancellation-data-2009-2018?dataset_version_number=1...\n"
          ]
        },
        {
          "name": "stderr",
          "output_type": "stream",
          "text": [
            "100%|██████████| 1.95G/1.95G [00:18<00:00, 113MB/s]"
          ]
        },
        {
          "name": "stdout",
          "output_type": "stream",
          "text": [
            "Extracting files...\n"
          ]
        },
        {
          "name": "stderr",
          "output_type": "stream",
          "text": [
            "\n"
          ]
        },
        {
          "name": "stdout",
          "output_type": "stream",
          "text": [
            "Path to dataset files: /root/.cache/kagglehub/datasets/yuanyuwendymu/airline-delay-and-cancellation-data-2009-2018/versions/1\n",
            "Downloading from https://www.kaggle.com/api/v1/datasets/download/patrickzel/flight-delay-and-cancellation-dataset-2019-2023?dataset_version_number=7...\n"
          ]
        },
        {
          "name": "stderr",
          "output_type": "stream",
          "text": [
            "100%|██████████| 140M/140M [00:01<00:00, 124MB/s]"
          ]
        },
        {
          "name": "stdout",
          "output_type": "stream",
          "text": [
            "Extracting files...\n"
          ]
        },
        {
          "name": "stderr",
          "output_type": "stream",
          "text": [
            "\n"
          ]
        },
        {
          "name": "stdout",
          "output_type": "stream",
          "text": [
            "Path to dataset files: /root/.cache/kagglehub/datasets/patrickzel/flight-delay-and-cancellation-dataset-2019-2023/versions/7\n"
          ]
        }
      ],
      "source": [
        "path_2009 = kagglehub.dataset_download(\"yuanyuwendymu/airline-delay-and-cancellation-data-2009-2018\")\n",
        "\n",
        "print(\"Path to dataset files:\", path_2009)\n",
        "path_2019 = kagglehub.dataset_download(\"patrickzel/flight-delay-and-cancellation-dataset-2019-2023\")\n",
        "\n",
        "print(\"Path to dataset files:\", path_2019)"
      ]
    },
    {
      "cell_type": "markdown",
      "metadata": {
        "id": "uMI8u49--DnA"
      },
      "source": [
        "Listing the files that have been collected from kaggle."
      ]
    },
    {
      "cell_type": "code",
      "execution_count": 6,
      "metadata": {
        "colab": {
          "base_uri": "https://localhost:8080/"
        },
        "id": "oEwQ0-MaI6J_",
        "outputId": "d5d290f9-9c42-46ed-b85d-0b1292593ac6"
      },
      "outputs": [
        {
          "name": "stdout",
          "output_type": "stream",
          "text": [
            "first files downloaded: ['2013.csv', '2014.csv', '2010.csv', '2016.csv', '2015.csv', '2009.csv', '2012.csv', '2018.csv', '2011.csv', '2017.csv']\n",
            "second Files downloaded: ['flights_sample_3m.csv', 'dictionary.html']\n"
          ]
        }
      ],
      "source": [
        "import os\n",
        "\n",
        "files_2009 = os.listdir(path_2009)\n",
        "print(\"first files downloaded:\", files_2009)\n",
        "files_2019 = os.listdir(path_2019)\n",
        "print(\"second Files downloaded:\", files_2019)"
      ]
    },
    {
      "cell_type": "markdown",
      "metadata": {
        "id": "LvcYujCf-H7n"
      },
      "source": [
        "Creating a mapping to change the column names because they differ between the 3 kaggle datasets. Changing all to fit the original airline.csv"
      ]
    },
    {
      "cell_type": "code",
      "execution_count": 18,
      "metadata": {
        "id": "2WNqCCiLJTDJ"
      },
      "outputs": [],
      "source": [
        "# Mapping for converting columns in the second and third indexes to the first index\n",
        "column_mapping = {\n",
        "    # Second Index to First Index\n",
        "    'FL_DATE': 'Date',\n",
        "    'OP_CARRIER': 'UniqueCarrier',\n",
        "    'OP_CARRIER_FL_NUM': 'FlightNum',\n",
        "    'ORIGIN': 'Origin',\n",
        "    'DEST': 'Dest',\n",
        "    'CRS_DEP_TIME': 'CRSDepTime',\n",
        "    'DEP_TIME': 'DepTime',\n",
        "    'DEP_DELAY': 'DepDelay',\n",
        "    'TAXI_OUT': 'TaxiOut',\n",
        "    'WHEELS_OFF': 'WheelsOff',\n",
        "    'WHEELS_ON': 'WheelsOn',\n",
        "    'TAXI_IN': 'TaxiIn',\n",
        "    'CRS_ARR_TIME': 'CRSArrTime',\n",
        "    'ARR_TIME': 'ArrTime',\n",
        "    'ARR_DELAY': 'ArrDelay',\n",
        "    'CANCELLED': 'Cancelled',\n",
        "    'CANCELLATION_CODE': 'CancellationCode',\n",
        "    'DIVERTED': 'Diverted',\n",
        "    'CRS_ELAPSED_TIME': 'CRSElapsedTime',\n",
        "    'ACTUAL_ELAPSED_TIME': 'ActualElapsedTime',\n",
        "    'AIR_TIME': 'AirTime',\n",
        "    'DISTANCE': 'Distance',\n",
        "    'CARRIER_DELAY': 'CarrierDelay',\n",
        "    'WEATHER_DELAY': 'WeatherDelay',\n",
        "    'NAS_DELAY': 'NASDelay',\n",
        "    'SECURITY_DELAY': 'SecurityDelay',\n",
        "    'LATE_AIRCRAFT_DELAY': 'LateAircraftDelay',\n",
        "\n",
        "    # Third Index to First Index\n",
        "    'AIRLINE_CODE': 'UniqueCarrier',  # assuming similar mapping if applicable\n",
        "    'FL_NUMBER': 'FlightNum',\n",
        "}"
      ]
    },
    {
      "cell_type": "markdown",
      "metadata": {
        "id": "v30SqGrl-RTS"
      },
      "source": [
        "## Using SPARK to process the data\n",
        "Here we are loading the csv files as spark dataframes to save some space and compute."
      ]
    },
    {
      "cell_type": "code",
      "execution_count": 31,
      "metadata": {
        "id": "DyNqR4QyJd7_"
      },
      "outputs": [],
      "source": [
        "from pyspark.sql import SparkSession\n",
        "\n",
        "# create Spark session\n",
        "spark = SparkSession.builder.appName(\"airline_processing\").getOrCreate()\n",
        "\n",
        "def load_and_rename(file_path, column_mapping):\n",
        "    # Load CSV directly into Spark DataFrame\n",
        "    spark_df = spark.read.csv(file_path, header=True, inferSchema=True)\n",
        "\n",
        "    # Remove unnamed columns (any column name containing \"Unnamed\")\n",
        "    unnamed_columns = [col for col in spark_df.columns if \"Unnamed\" in col]\n",
        "    spark_df = spark_df.drop(*unnamed_columns)\n",
        "\n",
        "    # Rename columns based on mapping\n",
        "    for old_col, new_col in column_mapping.items():\n",
        "        if old_col in spark_df.columns:\n",
        "            spark_df = spark_df.withColumnRenamed(old_col, new_col)\n",
        "    return spark_df"
      ]
    },
    {
      "cell_type": "code",
      "execution_count": 32,
      "metadata": {
        "id": "CfZ96GPqJh61"
      },
      "outputs": [],
      "source": [
        "import pandas as pd\n",
        "from pyspark.sql import SparkSession\n",
        "\n",
        "# Initialize Spark session\n",
        "spark = SparkSession.builder \\\n",
        "    .appName(\"ProcessLargeCSVInChunks\") \\\n",
        "    .getOrCreate()\n",
        "\n",
        "# Define your large CSV file path\n",
        "csv_file_path = \"airline.csv\"\n",
        "\n",
        "# Define the output directory for intermediate Parquet files\n",
        "intermediate_path = \"airline_parquet/\"\n",
        "\n",
        "# Parameters for chunk processing\n",
        "chunk_size = 100000  # Number of rows per chunk\n",
        "\n",
        "# Process CSV in chunks using Pandas\n",
        "chunk_number = 0\n",
        "for chunk in pd.read_csv(csv_file_path, chunksize=chunk_size):\n",
        "    # # Rename columns\n",
        "    # chunk.rename(columns=column_mapping, inplace=True)\n",
        "\n",
        "    # Convert Pandas DataFrame to Spark DataFrame\n",
        "    spark_df = spark.createDataFrame(chunk)\n",
        "\n",
        "    # Save each chunk as a separate Parquet file\n",
        "    spark_df.write.parquet(f\"{intermediate_path}/airline_file_{chunk_number}.parquet\")\n",
        "\n",
        "    # Free up memory\n",
        "    del spark_df\n",
        "    chunk_number += 1\n"
      ]
    },
    {
      "cell_type": "code",
      "execution_count": 33,
      "metadata": {
        "colab": {
          "base_uri": "https://localhost:8080/"
        },
        "id": "8Fjc0VhkYtb8",
        "outputId": "bd8472c9-da90-4e40-8f75-5c6137347ad7"
      },
      "outputs": [
        {
          "data": {
            "text/plain": [
              "99"
            ]
          },
          "execution_count": 33,
          "metadata": {},
          "output_type": "execute_result"
        }
      ],
      "source": [
        "chunk_number"
      ]
    },
    {
      "cell_type": "code",
      "execution_count": 34,
      "metadata": {
        "id": "hm1Z6PlgJoFj"
      },
      "outputs": [],
      "source": [
        "# process files\n",
        "intermediate_path = \"airline_parquet/\"\n",
        "sparks_dfs = []\n",
        "# i = 0\n",
        "# spark_df = load_and_rename(\"airline.csv\", column_mapping)\n",
        "# spark_df.write.parquet(f\"{intermediate_path}/airline_file_{i}.parquet\")\n",
        "# i += 1\n",
        "\n",
        "for files in files_2009:\n",
        "    path = path_2009 + '/' + files\n",
        "    spark_df = load_and_rename(path, column_mapping)\n",
        "    spark_df.write.parquet(f\"{intermediate_path}/airline_file_{chunk_number}.parquet\")\n",
        "    chunk_number += 1\n",
        "\n",
        "spark_df = load_and_rename(path_2019 + r'/flights_sample_3m.csv', column_mapping)\n",
        "spark_df.write.parquet(f\"{intermediate_path}/airline_file_{chunk_number}.parquet\")"
      ]
    },
    {
      "cell_type": "code",
      "execution_count": 35,
      "metadata": {
        "colab": {
          "base_uri": "https://localhost:8080/"
        },
        "id": "JW4qaHJfkuTW",
        "outputId": "7e88b978-41bc-4f2d-ce18-f9f0829ec704"
      },
      "outputs": [
        {
          "data": {
            "text/plain": [
              "109"
            ]
          },
          "execution_count": 35,
          "metadata": {},
          "output_type": "execute_result"
        }
      ],
      "source": [
        "chunk_number"
      ]
    },
    {
      "cell_type": "markdown",
      "metadata": {
        "id": "w4o-3xag-kxg"
      },
      "source": [
        "We are correcting some datatype differences here due to having taken info from 3 different sources."
      ]
    },
    {
      "cell_type": "code",
      "execution_count": 37,
      "metadata": {
        "colab": {
          "base_uri": "https://localhost:8080/"
        },
        "id": "uqjiyg1dx8X5",
        "outputId": "fc4bdceb-a74d-44a0-e275-f008dacb1e1b"
      },
      "outputs": [
        {
          "name": "stdout",
          "output_type": "stream",
          "text": [
            "root\n",
            " |-- ActualElapsedTime: double (nullable = true)\n",
            " |-- AirTime: double (nullable = true)\n",
            " |-- ArrDelay: double (nullable = true)\n",
            " |-- ArrTime: double (nullable = true)\n",
            " |-- CRSArrTime: long (nullable = true)\n",
            " |-- CRSDepTime: long (nullable = true)\n",
            " |-- CRSElapsedTime: double (nullable = true)\n",
            " |-- CancellationCode: string (nullable = true)\n",
            " |-- Cancelled: double (nullable = true)\n",
            " |-- CarrierDelay: double (nullable = true)\n",
            " |-- DayOfWeek: long (nullable = true)\n",
            " |-- DayofMonth: long (nullable = true)\n",
            " |-- DepDelay: double (nullable = true)\n",
            " |-- DepTime: double (nullable = true)\n",
            " |-- Dest: string (nullable = true)\n",
            " |-- Distance: double (nullable = true)\n",
            " |-- Diverted: long (nullable = true)\n",
            " |-- FlightNum: integer (nullable = true)\n",
            " |-- LateAircraftDelay: double (nullable = true)\n",
            " |-- Month: long (nullable = true)\n",
            " |-- NASDelay: double (nullable = true)\n",
            " |-- Origin: string (nullable = true)\n",
            " |-- SecurityDelay: double (nullable = true)\n",
            " |-- TailNum: string (nullable = true)\n",
            " |-- TaxiIn: double (nullable = true)\n",
            " |-- TaxiOut: double (nullable = true)\n",
            " |-- UniqueCarrier: string (nullable = true)\n",
            " |-- WeatherDelay: double (nullable = true)\n",
            " |-- Year: long (nullable = true)\n",
            "\n"
          ]
        }
      ],
      "source": [
        "from pyspark.sql.types import IntegerType, LongType, DoubleType\n",
        "from pyspark.sql.functions import col\n",
        "\n",
        "combined_df = spark.read.parquet(\"./airline_parquet/*.parquet\")\n",
        "\n",
        "# Define schema corrections\n",
        "schema_corrections = {\n",
        "    \"CRSArrTime\": LongType(),\n",
        "    \"CRSDepTime\": LongType(),\n",
        "    \"FlightNum\": IntegerType(),\n",
        "    \"Cancelled\": DoubleType()\n",
        "    # Add more columns and their desired types if needed\n",
        "}\n",
        "\n",
        "# Apply schema corrections\n",
        "for column_name, desired_type in schema_corrections.items():\n",
        "    combined_df = combined_df.withColumn(column_name, col(column_name).cast(desired_type))\n",
        "\n",
        "combined_df.printSchema()"
      ]
    },
    {
      "cell_type": "markdown",
      "metadata": {
        "id": "vy5qjVyD-qPh"
      },
      "source": [
        "## Processing Spark dataframe to get Airline Ranking by Number of Delays"
      ]
    },
    {
      "cell_type": "code",
      "execution_count": 57,
      "metadata": {
        "colab": {
          "base_uri": "https://localhost:8080/"
        },
        "id": "WLoX0d0uxaTg",
        "outputId": "5d832da6-83a6-4fbd-dc4a-0573fe28743c"
      },
      "outputs": [
        {
          "name": "stdout",
          "output_type": "stream",
          "text": [
            "+-------------+-----------+\n",
            "|UniqueCarrier|total_delay|\n",
            "+-------------+-----------+\n",
            "|           WN|    3276267|\n",
            "|           DL|    2324107|\n",
            "|           AA|    2307203|\n",
            "|           UA|    1813945|\n",
            "|           US|    1441661|\n",
            "|           OO|    1207980|\n",
            "|           EV|    1069376|\n",
            "|           MQ|     828319|\n",
            "|           NW|     745249|\n",
            "|           CO|     710266|\n",
            "|           B6|     608320|\n",
            "|           AS|     408640|\n",
            "|           TW|     300220|\n",
            "|           XE|     294301|\n",
            "|           HP|     258771|\n",
            "|           FL|     248637|\n",
            "|           F9|     219183|\n",
            "|           YV|     211043|\n",
            "|           9E|     206959|\n",
            "|           OH|     167263|\n",
            "|           NK|     128747|\n",
            "|           VX|      79576|\n",
            "|           EA|      73673|\n",
            "|           PI|      69978|\n",
            "|           HA|      69388|\n",
            "|           YX|      56901|\n",
            "|       PA (1)|      25440|\n",
            "|           G4|      21231|\n",
            "|           DH|      19351|\n",
            "|           PS|       6639|\n",
            "|           AQ|       6292|\n",
            "|       ML (1)|       5737|\n",
            "|           TZ|       4988|\n",
            "|           QX|          0|\n",
            "+-------------+-----------+\n",
            "\n"
          ]
        }
      ],
      "source": [
        "from pyspark.sql import functions as F\n",
        "\n",
        "# Retrieve Delay rankings\n",
        "delayed_airlines = combined_df.withColumn(\n",
        "    \"total_delay\",\n",
        "    F.when(\n",
        "        (F.col(\"CarrierDelay\") > 0) |\n",
        "        (F.col(\"WeatherDelay\") > 0) |\n",
        "        (F.col(\"NASDelay\") > 0) |\n",
        "        (F.col(\"SecurityDelay\") > 0) |\n",
        "        (F.col(\"LateAircraftDelay\") > 0),\n",
        "        1\n",
        "    ).otherwise(0)\n",
        ")\n",
        "\n",
        "result = delayed_airlines.groupBy(\"UniqueCarrier\").agg(\n",
        "    F.sum(\"total_delay\").alias(\"total_delay\")  # Assuming \"Description\" column exists in carrier_df\n",
        ").orderBy(F.desc(\"total_delay\"))\n",
        "\n",
        "# Show the result\n",
        "row_count = result.count()\n",
        "result.show(row_count)\n",
        "# result.show()"
      ]
    },
    {
      "cell_type": "markdown",
      "metadata": {
        "id": "8k--AEBb-wAe"
      },
      "source": [
        "Saving the results into a zip file."
      ]
    },
    {
      "cell_type": "code",
      "execution_count": 65,
      "metadata": {
        "id": "CEedZUN54koe"
      },
      "outputs": [],
      "source": [
        "result.coalesce(1).write.parquet(\"airline_delay_ranking.parquet\")"
      ]
    },
    {
      "cell_type": "code",
      "execution_count": 68,
      "metadata": {
        "colab": {
          "base_uri": "https://localhost:8080/"
        },
        "id": "Tchj-R396teF",
        "outputId": "6b3d1cd2-b5f3-4d87-ee0d-84c658b6ec8d"
      },
      "outputs": [
        {
          "name": "stdout",
          "output_type": "stream",
          "text": [
            "  adding: airline_delay_ranking.parquet/ (stored 0%)\n",
            "  adding: airline_delay_ranking.parquet/_SUCCESS (stored 0%)\n",
            "  adding: airline_delay_ranking.parquet/.part-00000-57a108a2-fefc-443f-925f-e0dd4a6d9d27-c000.snappy.parquet.crc (stored 0%)\n",
            "  adding: airline_delay_ranking.parquet/._SUCCESS.crc (stored 0%)\n",
            "  adding: airline_delay_ranking.parquet/part-00000-57a108a2-fefc-443f-925f-e0dd4a6d9d27-c000.snappy.parquet (deflated 30%)\n"
          ]
        }
      ],
      "source": [
        "!zip -r airline_delay_ranking.zip airline_delay_ranking.parquet"
      ]
    },
    {
      "cell_type": "markdown",
      "metadata": {
        "id": "32idNasZ-yRx"
      },
      "source": [
        "## Saving all Spark data and parquet files to S3"
      ]
    },
    {
      "cell_type": "code",
      "execution_count": 69,
      "metadata": {
        "colab": {
          "base_uri": "https://localhost:8080/"
        },
        "id": "VM1CtfdjzhD1",
        "outputId": "e5a5755a-b9d2-4b73-c516-2ea7e3e16c12"
      },
      "outputs": [
        {
          "name": "stdout",
          "output_type": "stream",
          "text": [
            "File uploaded successfully to s3://is459-project-output-data/airline_delay_ranking.zip\n"
          ]
        }
      ],
      "source": [
        "from dotenv import load_dotenv\n",
        "import boto3\n",
        "from botocore.exceptions import NoCredentialsError\n",
        "import os\n",
        "\n",
        "load_dotenv()\n",
        "# Define AWS credentials and initialize S3 client\n",
        "s3 = boto3.client(\n",
        "    's3',\n",
        "    aws_access_key_id=os.environ.get(\"AWS_ACCESS_KEY\"),\n",
        "    aws_secret_access_key=os.environ.get(\"AWS_SECRET_ACCESS_KEY\"),\n",
        "    region_name='us-east-1'  # Set your region\n",
        ")\n",
        "\n",
        "# Define the file to upload and target S3 bucket details\n",
        "local_file_path = './airline_delay_ranking.zip'\n",
        "bucket_name = 'is459-project-output-data'\n",
        "s3_file_path = 'airline_delay_ranking.zip'\n",
        "\n",
        "try:\n",
        "    # Upload the file\n",
        "    s3.upload_file(local_file_path, bucket_name, s3_file_path)\n",
        "    print(f\"File uploaded successfully to s3://{bucket_name}/{s3_file_path}\")\n",
        "except FileNotFoundError:\n",
        "    print(\"The file was not found\")\n",
        "except NoCredentialsError:\n",
        "    print(\"Credentials not available\")\n"
      ]
    },
    {
      "cell_type": "code",
      "execution_count": 73,
      "metadata": {
        "colab": {
          "base_uri": "https://localhost:8080/"
        },
        "id": "Aoy9gQ537QX8",
        "outputId": "5c4f7570-9d95-43c0-c60c-9af0bf6a3217"
      },
      "outputs": [
        {
          "name": "stdout",
          "output_type": "stream",
          "text": [
            "Uploaded ./airline_parquet/airline_file_93.parquet/part-00001-d4574420-730f-4efa-a27e-bcaa9968623d-c000.snappy.parquet to s3://is459-project-output-data/kaggle/airline_file_93.parquet/part-00001-d4574420-730f-4efa-a27e-bcaa9968623d-c000.snappy.parquet\n",
            "Uploaded ./airline_parquet/airline_file_93.parquet/part-00000-d4574420-730f-4efa-a27e-bcaa9968623d-c000.snappy.parquet to s3://is459-project-output-data/kaggle/airline_file_93.parquet/part-00000-d4574420-730f-4efa-a27e-bcaa9968623d-c000.snappy.parquet\n",
            "Uploaded ./airline_parquet/airline_file_41.parquet/part-00001-c662b2bc-a419-4869-b552-c43ea2bfde6b-c000.snappy.parquet to s3://is459-project-output-data/kaggle/airline_file_41.parquet/part-00001-c662b2bc-a419-4869-b552-c43ea2bfde6b-c000.snappy.parquet\n",
            "Uploaded ./airline_parquet/airline_file_41.parquet/part-00000-c662b2bc-a419-4869-b552-c43ea2bfde6b-c000.snappy.parquet to s3://is459-project-output-data/kaggle/airline_file_41.parquet/part-00000-c662b2bc-a419-4869-b552-c43ea2bfde6b-c000.snappy.parquet\n",
            "Uploaded ./airline_parquet/airline_file_37.parquet/part-00001-206a32fc-9fb9-47f5-b905-ae69b0359328-c000.snappy.parquet to s3://is459-project-output-data/kaggle/airline_file_37.parquet/part-00001-206a32fc-9fb9-47f5-b905-ae69b0359328-c000.snappy.parquet\n",
            "Uploaded ./airline_parquet/airline_file_37.parquet/part-00000-206a32fc-9fb9-47f5-b905-ae69b0359328-c000.snappy.parquet to s3://is459-project-output-data/kaggle/airline_file_37.parquet/part-00000-206a32fc-9fb9-47f5-b905-ae69b0359328-c000.snappy.parquet\n",
            "Uploaded ./airline_parquet/airline_file_85.parquet/part-00000-980e9a4a-8c60-4aed-9a0d-f17062f4dd8c-c000.snappy.parquet to s3://is459-project-output-data/kaggle/airline_file_85.parquet/part-00000-980e9a4a-8c60-4aed-9a0d-f17062f4dd8c-c000.snappy.parquet\n",
            "Uploaded ./airline_parquet/airline_file_85.parquet/part-00001-980e9a4a-8c60-4aed-9a0d-f17062f4dd8c-c000.snappy.parquet to s3://is459-project-output-data/kaggle/airline_file_85.parquet/part-00001-980e9a4a-8c60-4aed-9a0d-f17062f4dd8c-c000.snappy.parquet\n",
            "Uploaded ./airline_parquet/airline_file_38.parquet/part-00000-3e924e95-e072-47a8-95eb-7565c31e99e4-c000.snappy.parquet to s3://is459-project-output-data/kaggle/airline_file_38.parquet/part-00000-3e924e95-e072-47a8-95eb-7565c31e99e4-c000.snappy.parquet\n",
            "Uploaded ./airline_parquet/airline_file_38.parquet/part-00001-3e924e95-e072-47a8-95eb-7565c31e99e4-c000.snappy.parquet to s3://is459-project-output-data/kaggle/airline_file_38.parquet/part-00001-3e924e95-e072-47a8-95eb-7565c31e99e4-c000.snappy.parquet\n",
            "Uploaded ./airline_parquet/airline_file_77.parquet/part-00000-f13e7fcd-4571-4778-82cc-00e956702d3f-c000.snappy.parquet to s3://is459-project-output-data/kaggle/airline_file_77.parquet/part-00000-f13e7fcd-4571-4778-82cc-00e956702d3f-c000.snappy.parquet\n",
            "Uploaded ./airline_parquet/airline_file_77.parquet/part-00001-f13e7fcd-4571-4778-82cc-00e956702d3f-c000.snappy.parquet to s3://is459-project-output-data/kaggle/airline_file_77.parquet/part-00001-f13e7fcd-4571-4778-82cc-00e956702d3f-c000.snappy.parquet\n",
            "Uploaded ./airline_parquet/airline_file_95.parquet/part-00000-84e81dc4-0998-476d-bf25-005f8d58a367-c000.snappy.parquet to s3://is459-project-output-data/kaggle/airline_file_95.parquet/part-00000-84e81dc4-0998-476d-bf25-005f8d58a367-c000.snappy.parquet\n",
            "Uploaded ./airline_parquet/airline_file_95.parquet/part-00001-84e81dc4-0998-476d-bf25-005f8d58a367-c000.snappy.parquet to s3://is459-project-output-data/kaggle/airline_file_95.parquet/part-00001-84e81dc4-0998-476d-bf25-005f8d58a367-c000.snappy.parquet\n",
            "Uploaded ./airline_parquet/airline_file_80.parquet/part-00001-733e1340-eebe-40d8-b4d7-057a991390e4-c000.snappy.parquet to s3://is459-project-output-data/kaggle/airline_file_80.parquet/part-00001-733e1340-eebe-40d8-b4d7-057a991390e4-c000.snappy.parquet\n",
            "Uploaded ./airline_parquet/airline_file_80.parquet/part-00000-733e1340-eebe-40d8-b4d7-057a991390e4-c000.snappy.parquet to s3://is459-project-output-data/kaggle/airline_file_80.parquet/part-00000-733e1340-eebe-40d8-b4d7-057a991390e4-c000.snappy.parquet\n",
            "Uploaded ./airline_parquet/airline_file_21.parquet/part-00000-02df3b06-ba1f-4ed4-900b-516eb3bf326d-c000.snappy.parquet to s3://is459-project-output-data/kaggle/airline_file_21.parquet/part-00000-02df3b06-ba1f-4ed4-900b-516eb3bf326d-c000.snappy.parquet\n",
            "Uploaded ./airline_parquet/airline_file_21.parquet/part-00001-02df3b06-ba1f-4ed4-900b-516eb3bf326d-c000.snappy.parquet to s3://is459-project-output-data/kaggle/airline_file_21.parquet/part-00001-02df3b06-ba1f-4ed4-900b-516eb3bf326d-c000.snappy.parquet\n",
            "Uploaded ./airline_parquet/airline_file_83.parquet/part-00000-ac1a213b-4633-452b-b525-cad256cb4f73-c000.snappy.parquet to s3://is459-project-output-data/kaggle/airline_file_83.parquet/part-00000-ac1a213b-4633-452b-b525-cad256cb4f73-c000.snappy.parquet\n",
            "Uploaded ./airline_parquet/airline_file_83.parquet/part-00001-ac1a213b-4633-452b-b525-cad256cb4f73-c000.snappy.parquet to s3://is459-project-output-data/kaggle/airline_file_83.parquet/part-00001-ac1a213b-4633-452b-b525-cad256cb4f73-c000.snappy.parquet\n",
            "Uploaded ./airline_parquet/airline_file_27.parquet/part-00000-5c653eda-3846-40ec-b899-005f22fa8fb7-c000.snappy.parquet to s3://is459-project-output-data/kaggle/airline_file_27.parquet/part-00000-5c653eda-3846-40ec-b899-005f22fa8fb7-c000.snappy.parquet\n",
            "Uploaded ./airline_parquet/airline_file_27.parquet/part-00001-5c653eda-3846-40ec-b899-005f22fa8fb7-c000.snappy.parquet to s3://is459-project-output-data/kaggle/airline_file_27.parquet/part-00001-5c653eda-3846-40ec-b899-005f22fa8fb7-c000.snappy.parquet\n",
            "Uploaded ./airline_parquet/airline_file_103.parquet/part-00003-4d25bef9-40d4-488b-88cd-de9672416253-c000.snappy.parquet to s3://is459-project-output-data/kaggle/airline_file_103.parquet/part-00003-4d25bef9-40d4-488b-88cd-de9672416253-c000.snappy.parquet\n",
            "Uploaded ./airline_parquet/airline_file_103.parquet/part-00005-4d25bef9-40d4-488b-88cd-de9672416253-c000.snappy.parquet to s3://is459-project-output-data/kaggle/airline_file_103.parquet/part-00005-4d25bef9-40d4-488b-88cd-de9672416253-c000.snappy.parquet\n",
            "Uploaded ./airline_parquet/airline_file_103.parquet/part-00001-4d25bef9-40d4-488b-88cd-de9672416253-c000.snappy.parquet to s3://is459-project-output-data/kaggle/airline_file_103.parquet/part-00001-4d25bef9-40d4-488b-88cd-de9672416253-c000.snappy.parquet\n",
            "Uploaded ./airline_parquet/airline_file_103.parquet/part-00004-4d25bef9-40d4-488b-88cd-de9672416253-c000.snappy.parquet to s3://is459-project-output-data/kaggle/airline_file_103.parquet/part-00004-4d25bef9-40d4-488b-88cd-de9672416253-c000.snappy.parquet\n",
            "Uploaded ./airline_parquet/airline_file_103.parquet/part-00002-4d25bef9-40d4-488b-88cd-de9672416253-c000.snappy.parquet to s3://is459-project-output-data/kaggle/airline_file_103.parquet/part-00002-4d25bef9-40d4-488b-88cd-de9672416253-c000.snappy.parquet\n",
            "Uploaded ./airline_parquet/airline_file_103.parquet/part-00000-4d25bef9-40d4-488b-88cd-de9672416253-c000.snappy.parquet to s3://is459-project-output-data/kaggle/airline_file_103.parquet/part-00000-4d25bef9-40d4-488b-88cd-de9672416253-c000.snappy.parquet\n",
            "Uploaded ./airline_parquet/airline_file_87.parquet/part-00001-1751362d-302a-46be-a250-8b0c778ea19d-c000.snappy.parquet to s3://is459-project-output-data/kaggle/airline_file_87.parquet/part-00001-1751362d-302a-46be-a250-8b0c778ea19d-c000.snappy.parquet\n",
            "Uploaded ./airline_parquet/airline_file_87.parquet/part-00000-1751362d-302a-46be-a250-8b0c778ea19d-c000.snappy.parquet to s3://is459-project-output-data/kaggle/airline_file_87.parquet/part-00000-1751362d-302a-46be-a250-8b0c778ea19d-c000.snappy.parquet\n",
            "Uploaded ./airline_parquet/airline_file_8.parquet/part-00000-72e1366b-61bb-43b2-95f3-157fa303a7ef-c000.snappy.parquet to s3://is459-project-output-data/kaggle/airline_file_8.parquet/part-00000-72e1366b-61bb-43b2-95f3-157fa303a7ef-c000.snappy.parquet\n",
            "Uploaded ./airline_parquet/airline_file_8.parquet/part-00001-72e1366b-61bb-43b2-95f3-157fa303a7ef-c000.snappy.parquet to s3://is459-project-output-data/kaggle/airline_file_8.parquet/part-00001-72e1366b-61bb-43b2-95f3-157fa303a7ef-c000.snappy.parquet\n",
            "Uploaded ./airline_parquet/airline_file_102.parquet/part-00004-5a28cf9c-84e3-4ab6-9f31-f22e4bccf5f2-c000.snappy.parquet to s3://is459-project-output-data/kaggle/airline_file_102.parquet/part-00004-5a28cf9c-84e3-4ab6-9f31-f22e4bccf5f2-c000.snappy.parquet\n",
            "Uploaded ./airline_parquet/airline_file_102.parquet/part-00002-5a28cf9c-84e3-4ab6-9f31-f22e4bccf5f2-c000.snappy.parquet to s3://is459-project-output-data/kaggle/airline_file_102.parquet/part-00002-5a28cf9c-84e3-4ab6-9f31-f22e4bccf5f2-c000.snappy.parquet\n",
            "Uploaded ./airline_parquet/airline_file_102.parquet/part-00003-5a28cf9c-84e3-4ab6-9f31-f22e4bccf5f2-c000.snappy.parquet to s3://is459-project-output-data/kaggle/airline_file_102.parquet/part-00003-5a28cf9c-84e3-4ab6-9f31-f22e4bccf5f2-c000.snappy.parquet\n",
            "Uploaded ./airline_parquet/airline_file_102.parquet/part-00001-5a28cf9c-84e3-4ab6-9f31-f22e4bccf5f2-c000.snappy.parquet to s3://is459-project-output-data/kaggle/airline_file_102.parquet/part-00001-5a28cf9c-84e3-4ab6-9f31-f22e4bccf5f2-c000.snappy.parquet\n",
            "Uploaded ./airline_parquet/airline_file_102.parquet/part-00005-5a28cf9c-84e3-4ab6-9f31-f22e4bccf5f2-c000.snappy.parquet to s3://is459-project-output-data/kaggle/airline_file_102.parquet/part-00005-5a28cf9c-84e3-4ab6-9f31-f22e4bccf5f2-c000.snappy.parquet\n",
            "Uploaded ./airline_parquet/airline_file_102.parquet/part-00000-5a28cf9c-84e3-4ab6-9f31-f22e4bccf5f2-c000.snappy.parquet to s3://is459-project-output-data/kaggle/airline_file_102.parquet/part-00000-5a28cf9c-84e3-4ab6-9f31-f22e4bccf5f2-c000.snappy.parquet\n",
            "Uploaded ./airline_parquet/airline_file_74.parquet/part-00000-e85249e0-eeda-4d3f-b38a-e1cd769a7d67-c000.snappy.parquet to s3://is459-project-output-data/kaggle/airline_file_74.parquet/part-00000-e85249e0-eeda-4d3f-b38a-e1cd769a7d67-c000.snappy.parquet\n",
            "Uploaded ./airline_parquet/airline_file_74.parquet/part-00001-e85249e0-eeda-4d3f-b38a-e1cd769a7d67-c000.snappy.parquet to s3://is459-project-output-data/kaggle/airline_file_74.parquet/part-00001-e85249e0-eeda-4d3f-b38a-e1cd769a7d67-c000.snappy.parquet\n",
            "Uploaded ./airline_parquet/airline_file_1.parquet/part-00001-cf14a800-7944-46e5-829e-804d838adc44-c000.snappy.parquet to s3://is459-project-output-data/kaggle/airline_file_1.parquet/part-00001-cf14a800-7944-46e5-829e-804d838adc44-c000.snappy.parquet\n",
            "Uploaded ./airline_parquet/airline_file_1.parquet/part-00000-cf14a800-7944-46e5-829e-804d838adc44-c000.snappy.parquet to s3://is459-project-output-data/kaggle/airline_file_1.parquet/part-00000-cf14a800-7944-46e5-829e-804d838adc44-c000.snappy.parquet\n",
            "Uploaded ./airline_parquet/airline_file_78.parquet/part-00001-47d26b0c-0da4-47fd-966f-e750ec2a2807-c000.snappy.parquet to s3://is459-project-output-data/kaggle/airline_file_78.parquet/part-00001-47d26b0c-0da4-47fd-966f-e750ec2a2807-c000.snappy.parquet\n",
            "Uploaded ./airline_parquet/airline_file_78.parquet/part-00000-47d26b0c-0da4-47fd-966f-e750ec2a2807-c000.snappy.parquet to s3://is459-project-output-data/kaggle/airline_file_78.parquet/part-00000-47d26b0c-0da4-47fd-966f-e750ec2a2807-c000.snappy.parquet\n",
            "Uploaded ./airline_parquet/airline_file_88.parquet/part-00001-17b80a33-7b47-4393-8d4e-c464b3f57a3e-c000.snappy.parquet to s3://is459-project-output-data/kaggle/airline_file_88.parquet/part-00001-17b80a33-7b47-4393-8d4e-c464b3f57a3e-c000.snappy.parquet\n",
            "Uploaded ./airline_parquet/airline_file_88.parquet/part-00000-17b80a33-7b47-4393-8d4e-c464b3f57a3e-c000.snappy.parquet to s3://is459-project-output-data/kaggle/airline_file_88.parquet/part-00000-17b80a33-7b47-4393-8d4e-c464b3f57a3e-c000.snappy.parquet\n",
            "Uploaded ./airline_parquet/airline_file_20.parquet/part-00000-f41a3957-f493-41d5-a603-8dffaa20cb9e-c000.snappy.parquet to s3://is459-project-output-data/kaggle/airline_file_20.parquet/part-00000-f41a3957-f493-41d5-a603-8dffaa20cb9e-c000.snappy.parquet\n",
            "Uploaded ./airline_parquet/airline_file_20.parquet/part-00001-f41a3957-f493-41d5-a603-8dffaa20cb9e-c000.snappy.parquet to s3://is459-project-output-data/kaggle/airline_file_20.parquet/part-00001-f41a3957-f493-41d5-a603-8dffaa20cb9e-c000.snappy.parquet\n",
            "Uploaded ./airline_parquet/airline_file_55.parquet/part-00000-132fabc6-1f05-4bed-9c77-f8cab9ded453-c000.snappy.parquet to s3://is459-project-output-data/kaggle/airline_file_55.parquet/part-00000-132fabc6-1f05-4bed-9c77-f8cab9ded453-c000.snappy.parquet\n",
            "Uploaded ./airline_parquet/airline_file_55.parquet/part-00001-132fabc6-1f05-4bed-9c77-f8cab9ded453-c000.snappy.parquet to s3://is459-project-output-data/kaggle/airline_file_55.parquet/part-00001-132fabc6-1f05-4bed-9c77-f8cab9ded453-c000.snappy.parquet\n",
            "Uploaded ./airline_parquet/airline_file_11.parquet/part-00000-86bfbeb9-647b-43c4-aa7a-1b79cdb56c86-c000.snappy.parquet to s3://is459-project-output-data/kaggle/airline_file_11.parquet/part-00000-86bfbeb9-647b-43c4-aa7a-1b79cdb56c86-c000.snappy.parquet\n",
            "Uploaded ./airline_parquet/airline_file_11.parquet/part-00001-86bfbeb9-647b-43c4-aa7a-1b79cdb56c86-c000.snappy.parquet to s3://is459-project-output-data/kaggle/airline_file_11.parquet/part-00001-86bfbeb9-647b-43c4-aa7a-1b79cdb56c86-c000.snappy.parquet\n",
            "Uploaded ./airline_parquet/airline_file_24.parquet/part-00000-d6421853-02ec-4d55-8576-5810b1e732a7-c000.snappy.parquet to s3://is459-project-output-data/kaggle/airline_file_24.parquet/part-00000-d6421853-02ec-4d55-8576-5810b1e732a7-c000.snappy.parquet\n",
            "Uploaded ./airline_parquet/airline_file_24.parquet/part-00001-d6421853-02ec-4d55-8576-5810b1e732a7-c000.snappy.parquet to s3://is459-project-output-data/kaggle/airline_file_24.parquet/part-00001-d6421853-02ec-4d55-8576-5810b1e732a7-c000.snappy.parquet\n",
            "Uploaded ./airline_parquet/airline_file_26.parquet/part-00000-262108a4-9c77-465a-b008-fbe0285a7732-c000.snappy.parquet to s3://is459-project-output-data/kaggle/airline_file_26.parquet/part-00000-262108a4-9c77-465a-b008-fbe0285a7732-c000.snappy.parquet\n",
            "Uploaded ./airline_parquet/airline_file_26.parquet/part-00001-262108a4-9c77-465a-b008-fbe0285a7732-c000.snappy.parquet to s3://is459-project-output-data/kaggle/airline_file_26.parquet/part-00001-262108a4-9c77-465a-b008-fbe0285a7732-c000.snappy.parquet\n",
            "Uploaded ./airline_parquet/airline_file_5.parquet/part-00001-9cd41483-4418-4706-89e6-8850dc0f80ca-c000.snappy.parquet to s3://is459-project-output-data/kaggle/airline_file_5.parquet/part-00001-9cd41483-4418-4706-89e6-8850dc0f80ca-c000.snappy.parquet\n",
            "Uploaded ./airline_parquet/airline_file_5.parquet/part-00000-9cd41483-4418-4706-89e6-8850dc0f80ca-c000.snappy.parquet to s3://is459-project-output-data/kaggle/airline_file_5.parquet/part-00000-9cd41483-4418-4706-89e6-8850dc0f80ca-c000.snappy.parquet\n",
            "Uploaded ./airline_parquet/airline_file_72.parquet/part-00000-9d5e1f1a-ec1e-4c33-bf3a-e4f6499e140f-c000.snappy.parquet to s3://is459-project-output-data/kaggle/airline_file_72.parquet/part-00000-9d5e1f1a-ec1e-4c33-bf3a-e4f6499e140f-c000.snappy.parquet\n",
            "Uploaded ./airline_parquet/airline_file_72.parquet/part-00001-9d5e1f1a-ec1e-4c33-bf3a-e4f6499e140f-c000.snappy.parquet to s3://is459-project-output-data/kaggle/airline_file_72.parquet/part-00001-9d5e1f1a-ec1e-4c33-bf3a-e4f6499e140f-c000.snappy.parquet\n",
            "Uploaded ./airline_parquet/airline_file_39.parquet/part-00000-bac37988-471b-4e8a-83e5-21eda422fc87-c000.snappy.parquet to s3://is459-project-output-data/kaggle/airline_file_39.parquet/part-00000-bac37988-471b-4e8a-83e5-21eda422fc87-c000.snappy.parquet\n",
            "Uploaded ./airline_parquet/airline_file_39.parquet/part-00001-bac37988-471b-4e8a-83e5-21eda422fc87-c000.snappy.parquet to s3://is459-project-output-data/kaggle/airline_file_39.parquet/part-00001-bac37988-471b-4e8a-83e5-21eda422fc87-c000.snappy.parquet\n",
            "Uploaded ./airline_parquet/airline_file_81.parquet/part-00001-0b4e76b1-e06c-4520-a303-ab790cbf9a54-c000.snappy.parquet to s3://is459-project-output-data/kaggle/airline_file_81.parquet/part-00001-0b4e76b1-e06c-4520-a303-ab790cbf9a54-c000.snappy.parquet\n",
            "Uploaded ./airline_parquet/airline_file_81.parquet/part-00000-0b4e76b1-e06c-4520-a303-ab790cbf9a54-c000.snappy.parquet to s3://is459-project-output-data/kaggle/airline_file_81.parquet/part-00000-0b4e76b1-e06c-4520-a303-ab790cbf9a54-c000.snappy.parquet\n",
            "Uploaded ./airline_parquet/airline_file_10.parquet/part-00001-88d77a06-ddc5-474a-9909-fce89768d0d2-c000.snappy.parquet to s3://is459-project-output-data/kaggle/airline_file_10.parquet/part-00001-88d77a06-ddc5-474a-9909-fce89768d0d2-c000.snappy.parquet\n",
            "Uploaded ./airline_parquet/airline_file_10.parquet/part-00000-88d77a06-ddc5-474a-9909-fce89768d0d2-c000.snappy.parquet to s3://is459-project-output-data/kaggle/airline_file_10.parquet/part-00000-88d77a06-ddc5-474a-9909-fce89768d0d2-c000.snappy.parquet\n",
            "Uploaded ./airline_parquet/airline_file_50.parquet/part-00000-889bf7a9-0da7-4cf8-8d68-f6fadad18d49-c000.snappy.parquet to s3://is459-project-output-data/kaggle/airline_file_50.parquet/part-00000-889bf7a9-0da7-4cf8-8d68-f6fadad18d49-c000.snappy.parquet\n",
            "Uploaded ./airline_parquet/airline_file_50.parquet/part-00001-889bf7a9-0da7-4cf8-8d68-f6fadad18d49-c000.snappy.parquet to s3://is459-project-output-data/kaggle/airline_file_50.parquet/part-00001-889bf7a9-0da7-4cf8-8d68-f6fadad18d49-c000.snappy.parquet\n",
            "Uploaded ./airline_parquet/airline_file_17.parquet/part-00000-ce591aed-18ca-454b-87ae-bdcb81d27230-c000.snappy.parquet to s3://is459-project-output-data/kaggle/airline_file_17.parquet/part-00000-ce591aed-18ca-454b-87ae-bdcb81d27230-c000.snappy.parquet\n",
            "Uploaded ./airline_parquet/airline_file_17.parquet/part-00001-ce591aed-18ca-454b-87ae-bdcb81d27230-c000.snappy.parquet to s3://is459-project-output-data/kaggle/airline_file_17.parquet/part-00001-ce591aed-18ca-454b-87ae-bdcb81d27230-c000.snappy.parquet\n",
            "Uploaded ./airline_parquet/airline_file_58.parquet/part-00000-859d5342-f609-4d51-ba33-58c204a7fb66-c000.snappy.parquet to s3://is459-project-output-data/kaggle/airline_file_58.parquet/part-00000-859d5342-f609-4d51-ba33-58c204a7fb66-c000.snappy.parquet\n",
            "Uploaded ./airline_parquet/airline_file_58.parquet/part-00001-859d5342-f609-4d51-ba33-58c204a7fb66-c000.snappy.parquet to s3://is459-project-output-data/kaggle/airline_file_58.parquet/part-00001-859d5342-f609-4d51-ba33-58c204a7fb66-c000.snappy.parquet\n",
            "Uploaded ./airline_parquet/airline_file_91.parquet/part-00001-1c681a76-f051-41a7-b23b-4e1d5645e454-c000.snappy.parquet to s3://is459-project-output-data/kaggle/airline_file_91.parquet/part-00001-1c681a76-f051-41a7-b23b-4e1d5645e454-c000.snappy.parquet\n",
            "Uploaded ./airline_parquet/airline_file_91.parquet/part-00000-1c681a76-f051-41a7-b23b-4e1d5645e454-c000.snappy.parquet to s3://is459-project-output-data/kaggle/airline_file_91.parquet/part-00000-1c681a76-f051-41a7-b23b-4e1d5645e454-c000.snappy.parquet\n",
            "Uploaded ./airline_parquet/airline_file_90.parquet/part-00001-1b4f319e-603d-49e2-9b5c-ee097ed2a502-c000.snappy.parquet to s3://is459-project-output-data/kaggle/airline_file_90.parquet/part-00001-1b4f319e-603d-49e2-9b5c-ee097ed2a502-c000.snappy.parquet\n",
            "Uploaded ./airline_parquet/airline_file_90.parquet/part-00000-1b4f319e-603d-49e2-9b5c-ee097ed2a502-c000.snappy.parquet to s3://is459-project-output-data/kaggle/airline_file_90.parquet/part-00000-1b4f319e-603d-49e2-9b5c-ee097ed2a502-c000.snappy.parquet\n",
            "Uploaded ./airline_parquet/airline_file_18.parquet/part-00001-0d0c8745-6e62-43c4-ae56-e7d6f5a4f70e-c000.snappy.parquet to s3://is459-project-output-data/kaggle/airline_file_18.parquet/part-00001-0d0c8745-6e62-43c4-ae56-e7d6f5a4f70e-c000.snappy.parquet\n",
            "Uploaded ./airline_parquet/airline_file_18.parquet/part-00000-0d0c8745-6e62-43c4-ae56-e7d6f5a4f70e-c000.snappy.parquet to s3://is459-project-output-data/kaggle/airline_file_18.parquet/part-00000-0d0c8745-6e62-43c4-ae56-e7d6f5a4f70e-c000.snappy.parquet\n",
            "Uploaded ./airline_parquet/airline_file_4.parquet/part-00000-b265e7cf-ceca-42e9-868f-ba372b63659b-c000.snappy.parquet to s3://is459-project-output-data/kaggle/airline_file_4.parquet/part-00000-b265e7cf-ceca-42e9-868f-ba372b63659b-c000.snappy.parquet\n",
            "Uploaded ./airline_parquet/airline_file_4.parquet/part-00001-b265e7cf-ceca-42e9-868f-ba372b63659b-c000.snappy.parquet to s3://is459-project-output-data/kaggle/airline_file_4.parquet/part-00001-b265e7cf-ceca-42e9-868f-ba372b63659b-c000.snappy.parquet\n",
            "Uploaded ./airline_parquet/airline_file_0.parquet/part-00001-c09deb83-30ec-4d7b-b7e8-802a921c554c-c000.snappy.parquet to s3://is459-project-output-data/kaggle/airline_file_0.parquet/part-00001-c09deb83-30ec-4d7b-b7e8-802a921c554c-c000.snappy.parquet\n",
            "Uploaded ./airline_parquet/airline_file_0.parquet/part-00000-c09deb83-30ec-4d7b-b7e8-802a921c554c-c000.snappy.parquet to s3://is459-project-output-data/kaggle/airline_file_0.parquet/part-00000-c09deb83-30ec-4d7b-b7e8-802a921c554c-c000.snappy.parquet\n",
            "Uploaded ./airline_parquet/airline_file_66.parquet/part-00000-d17a1f20-beaa-4d90-be3a-c5e74978c501-c000.snappy.parquet to s3://is459-project-output-data/kaggle/airline_file_66.parquet/part-00000-d17a1f20-beaa-4d90-be3a-c5e74978c501-c000.snappy.parquet\n",
            "Uploaded ./airline_parquet/airline_file_66.parquet/part-00001-d17a1f20-beaa-4d90-be3a-c5e74978c501-c000.snappy.parquet to s3://is459-project-output-data/kaggle/airline_file_66.parquet/part-00001-d17a1f20-beaa-4d90-be3a-c5e74978c501-c000.snappy.parquet\n",
            "Uploaded ./airline_parquet/airline_file_48.parquet/part-00001-15d0cc65-1770-4adf-b16e-ddfabd129a1f-c000.snappy.parquet to s3://is459-project-output-data/kaggle/airline_file_48.parquet/part-00001-15d0cc65-1770-4adf-b16e-ddfabd129a1f-c000.snappy.parquet\n",
            "Uploaded ./airline_parquet/airline_file_48.parquet/part-00000-15d0cc65-1770-4adf-b16e-ddfabd129a1f-c000.snappy.parquet to s3://is459-project-output-data/kaggle/airline_file_48.parquet/part-00000-15d0cc65-1770-4adf-b16e-ddfabd129a1f-c000.snappy.parquet\n",
            "Uploaded ./airline_parquet/airline_file_71.parquet/part-00000-644d12e3-7cd3-420a-bc67-943b6472974c-c000.snappy.parquet to s3://is459-project-output-data/kaggle/airline_file_71.parquet/part-00000-644d12e3-7cd3-420a-bc67-943b6472974c-c000.snappy.parquet\n",
            "Uploaded ./airline_parquet/airline_file_71.parquet/part-00001-644d12e3-7cd3-420a-bc67-943b6472974c-c000.snappy.parquet to s3://is459-project-output-data/kaggle/airline_file_71.parquet/part-00001-644d12e3-7cd3-420a-bc67-943b6472974c-c000.snappy.parquet\n",
            "Uploaded ./airline_parquet/airline_file_82.parquet/part-00000-f67ce51a-89ac-4662-897f-db316839fe5b-c000.snappy.parquet to s3://is459-project-output-data/kaggle/airline_file_82.parquet/part-00000-f67ce51a-89ac-4662-897f-db316839fe5b-c000.snappy.parquet\n",
            "Uploaded ./airline_parquet/airline_file_82.parquet/part-00001-f67ce51a-89ac-4662-897f-db316839fe5b-c000.snappy.parquet to s3://is459-project-output-data/kaggle/airline_file_82.parquet/part-00001-f67ce51a-89ac-4662-897f-db316839fe5b-c000.snappy.parquet\n",
            "Uploaded ./airline_parquet/airline_file_40.parquet/part-00001-77337123-a039-4e1c-a66f-20bde1ade0e9-c000.snappy.parquet to s3://is459-project-output-data/kaggle/airline_file_40.parquet/part-00001-77337123-a039-4e1c-a66f-20bde1ade0e9-c000.snappy.parquet\n",
            "Uploaded ./airline_parquet/airline_file_40.parquet/part-00000-77337123-a039-4e1c-a66f-20bde1ade0e9-c000.snappy.parquet to s3://is459-project-output-data/kaggle/airline_file_40.parquet/part-00000-77337123-a039-4e1c-a66f-20bde1ade0e9-c000.snappy.parquet\n",
            "Uploaded ./airline_parquet/airline_file_65.parquet/part-00001-83cbb804-f650-441d-b019-f1c7ae8d8636-c000.snappy.parquet to s3://is459-project-output-data/kaggle/airline_file_65.parquet/part-00001-83cbb804-f650-441d-b019-f1c7ae8d8636-c000.snappy.parquet\n",
            "Uploaded ./airline_parquet/airline_file_65.parquet/part-00000-83cbb804-f650-441d-b019-f1c7ae8d8636-c000.snappy.parquet to s3://is459-project-output-data/kaggle/airline_file_65.parquet/part-00000-83cbb804-f650-441d-b019-f1c7ae8d8636-c000.snappy.parquet\n",
            "Uploaded ./airline_parquet/airline_file_64.parquet/part-00000-74775166-0bf7-42da-ae82-e86971c096d8-c000.snappy.parquet to s3://is459-project-output-data/kaggle/airline_file_64.parquet/part-00000-74775166-0bf7-42da-ae82-e86971c096d8-c000.snappy.parquet\n",
            "Uploaded ./airline_parquet/airline_file_64.parquet/part-00001-74775166-0bf7-42da-ae82-e86971c096d8-c000.snappy.parquet to s3://is459-project-output-data/kaggle/airline_file_64.parquet/part-00001-74775166-0bf7-42da-ae82-e86971c096d8-c000.snappy.parquet\n",
            "Uploaded ./airline_parquet/airline_file_86.parquet/part-00000-de6c0e58-5b96-407e-bf61-b5ae607f84fd-c000.snappy.parquet to s3://is459-project-output-data/kaggle/airline_file_86.parquet/part-00000-de6c0e58-5b96-407e-bf61-b5ae607f84fd-c000.snappy.parquet\n",
            "Uploaded ./airline_parquet/airline_file_86.parquet/part-00001-de6c0e58-5b96-407e-bf61-b5ae607f84fd-c000.snappy.parquet to s3://is459-project-output-data/kaggle/airline_file_86.parquet/part-00001-de6c0e58-5b96-407e-bf61-b5ae607f84fd-c000.snappy.parquet\n",
            "Uploaded ./airline_parquet/airline_file_30.parquet/part-00000-19d333b0-0c7b-4305-bf70-383de9a33bd0-c000.snappy.parquet to s3://is459-project-output-data/kaggle/airline_file_30.parquet/part-00000-19d333b0-0c7b-4305-bf70-383de9a33bd0-c000.snappy.parquet\n",
            "Uploaded ./airline_parquet/airline_file_30.parquet/part-00001-19d333b0-0c7b-4305-bf70-383de9a33bd0-c000.snappy.parquet to s3://is459-project-output-data/kaggle/airline_file_30.parquet/part-00001-19d333b0-0c7b-4305-bf70-383de9a33bd0-c000.snappy.parquet\n",
            "Uploaded ./airline_parquet/airline_file_42.parquet/part-00000-5d9f20f5-c548-4219-b5f7-39fd635078d0-c000.snappy.parquet to s3://is459-project-output-data/kaggle/airline_file_42.parquet/part-00000-5d9f20f5-c548-4219-b5f7-39fd635078d0-c000.snappy.parquet\n",
            "Uploaded ./airline_parquet/airline_file_42.parquet/part-00001-5d9f20f5-c548-4219-b5f7-39fd635078d0-c000.snappy.parquet to s3://is459-project-output-data/kaggle/airline_file_42.parquet/part-00001-5d9f20f5-c548-4219-b5f7-39fd635078d0-c000.snappy.parquet\n",
            "Uploaded ./airline_parquet/airline_file_44.parquet/part-00001-89a1a89c-ad8f-4d9f-9e30-423b7d81f90f-c000.snappy.parquet to s3://is459-project-output-data/kaggle/airline_file_44.parquet/part-00001-89a1a89c-ad8f-4d9f-9e30-423b7d81f90f-c000.snappy.parquet\n",
            "Uploaded ./airline_parquet/airline_file_44.parquet/part-00000-89a1a89c-ad8f-4d9f-9e30-423b7d81f90f-c000.snappy.parquet to s3://is459-project-output-data/kaggle/airline_file_44.parquet/part-00000-89a1a89c-ad8f-4d9f-9e30-423b7d81f90f-c000.snappy.parquet\n",
            "Uploaded ./airline_parquet/airline_file_99.parquet/part-00002-beafaea4-80a5-4e4e-80a4-301acb80a89e-c000.snappy.parquet to s3://is459-project-output-data/kaggle/airline_file_99.parquet/part-00002-beafaea4-80a5-4e4e-80a4-301acb80a89e-c000.snappy.parquet\n",
            "Uploaded ./airline_parquet/airline_file_99.parquet/part-00005-beafaea4-80a5-4e4e-80a4-301acb80a89e-c000.snappy.parquet to s3://is459-project-output-data/kaggle/airline_file_99.parquet/part-00005-beafaea4-80a5-4e4e-80a4-301acb80a89e-c000.snappy.parquet\n",
            "Uploaded ./airline_parquet/airline_file_99.parquet/part-00001-beafaea4-80a5-4e4e-80a4-301acb80a89e-c000.snappy.parquet to s3://is459-project-output-data/kaggle/airline_file_99.parquet/part-00001-beafaea4-80a5-4e4e-80a4-301acb80a89e-c000.snappy.parquet\n",
            "Uploaded ./airline_parquet/airline_file_99.parquet/part-00000-beafaea4-80a5-4e4e-80a4-301acb80a89e-c000.snappy.parquet to s3://is459-project-output-data/kaggle/airline_file_99.parquet/part-00000-beafaea4-80a5-4e4e-80a4-301acb80a89e-c000.snappy.parquet\n",
            "Uploaded ./airline_parquet/airline_file_99.parquet/part-00003-beafaea4-80a5-4e4e-80a4-301acb80a89e-c000.snappy.parquet to s3://is459-project-output-data/kaggle/airline_file_99.parquet/part-00003-beafaea4-80a5-4e4e-80a4-301acb80a89e-c000.snappy.parquet\n",
            "Uploaded ./airline_parquet/airline_file_99.parquet/part-00004-beafaea4-80a5-4e4e-80a4-301acb80a89e-c000.snappy.parquet to s3://is459-project-output-data/kaggle/airline_file_99.parquet/part-00004-beafaea4-80a5-4e4e-80a4-301acb80a89e-c000.snappy.parquet\n",
            "Uploaded ./airline_parquet/airline_file_43.parquet/part-00000-f61bdb00-48aa-4af6-a1aa-58bd1cf99c74-c000.snappy.parquet to s3://is459-project-output-data/kaggle/airline_file_43.parquet/part-00000-f61bdb00-48aa-4af6-a1aa-58bd1cf99c74-c000.snappy.parquet\n",
            "Uploaded ./airline_parquet/airline_file_43.parquet/part-00001-f61bdb00-48aa-4af6-a1aa-58bd1cf99c74-c000.snappy.parquet to s3://is459-project-output-data/kaggle/airline_file_43.parquet/part-00001-f61bdb00-48aa-4af6-a1aa-58bd1cf99c74-c000.snappy.parquet\n",
            "Uploaded ./airline_parquet/airline_file_67.parquet/part-00001-e6c2a2fb-0e28-465b-bb28-31b1eece6309-c000.snappy.parquet to s3://is459-project-output-data/kaggle/airline_file_67.parquet/part-00001-e6c2a2fb-0e28-465b-bb28-31b1eece6309-c000.snappy.parquet\n",
            "Uploaded ./airline_parquet/airline_file_67.parquet/part-00000-e6c2a2fb-0e28-465b-bb28-31b1eece6309-c000.snappy.parquet to s3://is459-project-output-data/kaggle/airline_file_67.parquet/part-00000-e6c2a2fb-0e28-465b-bb28-31b1eece6309-c000.snappy.parquet\n",
            "Uploaded ./airline_parquet/airline_file_60.parquet/part-00000-06a363e1-84cc-436a-a36f-c94ba554918f-c000.snappy.parquet to s3://is459-project-output-data/kaggle/airline_file_60.parquet/part-00000-06a363e1-84cc-436a-a36f-c94ba554918f-c000.snappy.parquet\n",
            "Uploaded ./airline_parquet/airline_file_60.parquet/part-00001-06a363e1-84cc-436a-a36f-c94ba554918f-c000.snappy.parquet to s3://is459-project-output-data/kaggle/airline_file_60.parquet/part-00001-06a363e1-84cc-436a-a36f-c94ba554918f-c000.snappy.parquet\n",
            "Uploaded ./airline_parquet/airline_file_101.parquet/part-00002-de8c4a00-3730-4cb4-94f9-382dcd4016b7-c000.snappy.parquet to s3://is459-project-output-data/kaggle/airline_file_101.parquet/part-00002-de8c4a00-3730-4cb4-94f9-382dcd4016b7-c000.snappy.parquet\n",
            "Uploaded ./airline_parquet/airline_file_101.parquet/part-00001-de8c4a00-3730-4cb4-94f9-382dcd4016b7-c000.snappy.parquet to s3://is459-project-output-data/kaggle/airline_file_101.parquet/part-00001-de8c4a00-3730-4cb4-94f9-382dcd4016b7-c000.snappy.parquet\n",
            "Uploaded ./airline_parquet/airline_file_101.parquet/part-00000-de8c4a00-3730-4cb4-94f9-382dcd4016b7-c000.snappy.parquet to s3://is459-project-output-data/kaggle/airline_file_101.parquet/part-00000-de8c4a00-3730-4cb4-94f9-382dcd4016b7-c000.snappy.parquet\n",
            "Uploaded ./airline_parquet/airline_file_101.parquet/part-00003-de8c4a00-3730-4cb4-94f9-382dcd4016b7-c000.snappy.parquet to s3://is459-project-output-data/kaggle/airline_file_101.parquet/part-00003-de8c4a00-3730-4cb4-94f9-382dcd4016b7-c000.snappy.parquet\n",
            "Uploaded ./airline_parquet/airline_file_101.parquet/part-00004-de8c4a00-3730-4cb4-94f9-382dcd4016b7-c000.snappy.parquet to s3://is459-project-output-data/kaggle/airline_file_101.parquet/part-00004-de8c4a00-3730-4cb4-94f9-382dcd4016b7-c000.snappy.parquet\n",
            "Uploaded ./airline_parquet/airline_file_101.parquet/part-00005-de8c4a00-3730-4cb4-94f9-382dcd4016b7-c000.snappy.parquet to s3://is459-project-output-data/kaggle/airline_file_101.parquet/part-00005-de8c4a00-3730-4cb4-94f9-382dcd4016b7-c000.snappy.parquet\n",
            "Uploaded ./airline_parquet/airline_file_68.parquet/part-00001-d0c9ebc7-8b27-484f-a339-f032ebe7c541-c000.snappy.parquet to s3://is459-project-output-data/kaggle/airline_file_68.parquet/part-00001-d0c9ebc7-8b27-484f-a339-f032ebe7c541-c000.snappy.parquet\n",
            "Uploaded ./airline_parquet/airline_file_68.parquet/part-00000-d0c9ebc7-8b27-484f-a339-f032ebe7c541-c000.snappy.parquet to s3://is459-project-output-data/kaggle/airline_file_68.parquet/part-00000-d0c9ebc7-8b27-484f-a339-f032ebe7c541-c000.snappy.parquet\n",
            "Uploaded ./airline_parquet/airline_file_28.parquet/part-00000-15f1d3b0-1491-44f1-9c0a-ad93e80ff7c2-c000.snappy.parquet to s3://is459-project-output-data/kaggle/airline_file_28.parquet/part-00000-15f1d3b0-1491-44f1-9c0a-ad93e80ff7c2-c000.snappy.parquet\n",
            "Uploaded ./airline_parquet/airline_file_28.parquet/part-00001-15f1d3b0-1491-44f1-9c0a-ad93e80ff7c2-c000.snappy.parquet to s3://is459-project-output-data/kaggle/airline_file_28.parquet/part-00001-15f1d3b0-1491-44f1-9c0a-ad93e80ff7c2-c000.snappy.parquet\n",
            "Uploaded ./airline_parquet/airline_file_56.parquet/part-00001-5d2b7980-1946-40aa-a175-5faec06e34fd-c000.snappy.parquet to s3://is459-project-output-data/kaggle/airline_file_56.parquet/part-00001-5d2b7980-1946-40aa-a175-5faec06e34fd-c000.snappy.parquet\n",
            "Uploaded ./airline_parquet/airline_file_56.parquet/part-00000-5d2b7980-1946-40aa-a175-5faec06e34fd-c000.snappy.parquet to s3://is459-project-output-data/kaggle/airline_file_56.parquet/part-00000-5d2b7980-1946-40aa-a175-5faec06e34fd-c000.snappy.parquet\n",
            "Uploaded ./airline_parquet/airline_file_108.parquet/part-00000-adc70a6b-8d79-4d24-9713-bc4d45a193fa-c000.snappy.parquet to s3://is459-project-output-data/kaggle/airline_file_108.parquet/part-00000-adc70a6b-8d79-4d24-9713-bc4d45a193fa-c000.snappy.parquet\n",
            "Uploaded ./airline_parquet/airline_file_108.parquet/part-00001-adc70a6b-8d79-4d24-9713-bc4d45a193fa-c000.snappy.parquet to s3://is459-project-output-data/kaggle/airline_file_108.parquet/part-00001-adc70a6b-8d79-4d24-9713-bc4d45a193fa-c000.snappy.parquet\n",
            "Uploaded ./airline_parquet/airline_file_108.parquet/part-00003-adc70a6b-8d79-4d24-9713-bc4d45a193fa-c000.snappy.parquet to s3://is459-project-output-data/kaggle/airline_file_108.parquet/part-00003-adc70a6b-8d79-4d24-9713-bc4d45a193fa-c000.snappy.parquet\n",
            "Uploaded ./airline_parquet/airline_file_108.parquet/part-00004-adc70a6b-8d79-4d24-9713-bc4d45a193fa-c000.snappy.parquet to s3://is459-project-output-data/kaggle/airline_file_108.parquet/part-00004-adc70a6b-8d79-4d24-9713-bc4d45a193fa-c000.snappy.parquet\n",
            "Uploaded ./airline_parquet/airline_file_108.parquet/part-00002-adc70a6b-8d79-4d24-9713-bc4d45a193fa-c000.snappy.parquet to s3://is459-project-output-data/kaggle/airline_file_108.parquet/part-00002-adc70a6b-8d79-4d24-9713-bc4d45a193fa-c000.snappy.parquet\n",
            "Uploaded ./airline_parquet/airline_file_108.parquet/part-00005-adc70a6b-8d79-4d24-9713-bc4d45a193fa-c000.snappy.parquet to s3://is459-project-output-data/kaggle/airline_file_108.parquet/part-00005-adc70a6b-8d79-4d24-9713-bc4d45a193fa-c000.snappy.parquet\n",
            "Uploaded ./airline_parquet/airline_file_73.parquet/part-00001-e342b2ae-08f1-4337-a0ee-2bf7dc29f61e-c000.snappy.parquet to s3://is459-project-output-data/kaggle/airline_file_73.parquet/part-00001-e342b2ae-08f1-4337-a0ee-2bf7dc29f61e-c000.snappy.parquet\n",
            "Uploaded ./airline_parquet/airline_file_73.parquet/part-00000-e342b2ae-08f1-4337-a0ee-2bf7dc29f61e-c000.snappy.parquet to s3://is459-project-output-data/kaggle/airline_file_73.parquet/part-00000-e342b2ae-08f1-4337-a0ee-2bf7dc29f61e-c000.snappy.parquet\n",
            "Uploaded ./airline_parquet/airline_file_62.parquet/part-00000-19dcf158-3b0d-431c-b833-394977d6ffd5-c000.snappy.parquet to s3://is459-project-output-data/kaggle/airline_file_62.parquet/part-00000-19dcf158-3b0d-431c-b833-394977d6ffd5-c000.snappy.parquet\n",
            "Uploaded ./airline_parquet/airline_file_62.parquet/part-00001-19dcf158-3b0d-431c-b833-394977d6ffd5-c000.snappy.parquet to s3://is459-project-output-data/kaggle/airline_file_62.parquet/part-00001-19dcf158-3b0d-431c-b833-394977d6ffd5-c000.snappy.parquet\n",
            "Uploaded ./airline_parquet/airline_file_75.parquet/part-00000-18fd25af-0a25-4417-83b4-5cf7b644cd91-c000.snappy.parquet to s3://is459-project-output-data/kaggle/airline_file_75.parquet/part-00000-18fd25af-0a25-4417-83b4-5cf7b644cd91-c000.snappy.parquet\n",
            "Uploaded ./airline_parquet/airline_file_75.parquet/part-00001-18fd25af-0a25-4417-83b4-5cf7b644cd91-c000.snappy.parquet to s3://is459-project-output-data/kaggle/airline_file_75.parquet/part-00001-18fd25af-0a25-4417-83b4-5cf7b644cd91-c000.snappy.parquet\n",
            "Uploaded ./airline_parquet/airline_file_31.parquet/part-00000-ad1368a3-bf66-4116-a4db-926ae9254fe6-c000.snappy.parquet to s3://is459-project-output-data/kaggle/airline_file_31.parquet/part-00000-ad1368a3-bf66-4116-a4db-926ae9254fe6-c000.snappy.parquet\n",
            "Uploaded ./airline_parquet/airline_file_31.parquet/part-00001-ad1368a3-bf66-4116-a4db-926ae9254fe6-c000.snappy.parquet to s3://is459-project-output-data/kaggle/airline_file_31.parquet/part-00001-ad1368a3-bf66-4116-a4db-926ae9254fe6-c000.snappy.parquet\n",
            "Uploaded ./airline_parquet/airline_file_6.parquet/part-00001-e2fbc832-15bb-412a-9f8c-45daf7fe0c8d-c000.snappy.parquet to s3://is459-project-output-data/kaggle/airline_file_6.parquet/part-00001-e2fbc832-15bb-412a-9f8c-45daf7fe0c8d-c000.snappy.parquet\n",
            "Uploaded ./airline_parquet/airline_file_6.parquet/part-00000-e2fbc832-15bb-412a-9f8c-45daf7fe0c8d-c000.snappy.parquet to s3://is459-project-output-data/kaggle/airline_file_6.parquet/part-00000-e2fbc832-15bb-412a-9f8c-45daf7fe0c8d-c000.snappy.parquet\n",
            "Uploaded ./airline_parquet/airline_file_25.parquet/part-00000-f9529e14-bd86-4099-8818-5d4658880504-c000.snappy.parquet to s3://is459-project-output-data/kaggle/airline_file_25.parquet/part-00000-f9529e14-bd86-4099-8818-5d4658880504-c000.snappy.parquet\n",
            "Uploaded ./airline_parquet/airline_file_25.parquet/part-00001-f9529e14-bd86-4099-8818-5d4658880504-c000.snappy.parquet to s3://is459-project-output-data/kaggle/airline_file_25.parquet/part-00001-f9529e14-bd86-4099-8818-5d4658880504-c000.snappy.parquet\n",
            "Uploaded ./airline_parquet/airline_file_69.parquet/part-00001-9468dcb9-47e2-44bc-b032-5d81c6e69ffa-c000.snappy.parquet to s3://is459-project-output-data/kaggle/airline_file_69.parquet/part-00001-9468dcb9-47e2-44bc-b032-5d81c6e69ffa-c000.snappy.parquet\n",
            "Uploaded ./airline_parquet/airline_file_69.parquet/part-00000-9468dcb9-47e2-44bc-b032-5d81c6e69ffa-c000.snappy.parquet to s3://is459-project-output-data/kaggle/airline_file_69.parquet/part-00000-9468dcb9-47e2-44bc-b032-5d81c6e69ffa-c000.snappy.parquet\n",
            "Uploaded ./airline_parquet/airline_file_47.parquet/part-00000-5bedd582-87dc-4840-a542-3bdb3bdaa10c-c000.snappy.parquet to s3://is459-project-output-data/kaggle/airline_file_47.parquet/part-00000-5bedd582-87dc-4840-a542-3bdb3bdaa10c-c000.snappy.parquet\n",
            "Uploaded ./airline_parquet/airline_file_47.parquet/part-00001-5bedd582-87dc-4840-a542-3bdb3bdaa10c-c000.snappy.parquet to s3://is459-project-output-data/kaggle/airline_file_47.parquet/part-00001-5bedd582-87dc-4840-a542-3bdb3bdaa10c-c000.snappy.parquet\n",
            "Uploaded ./airline_parquet/airline_file_7.parquet/part-00001-0d044057-5095-42e6-a6b0-0733ee6604e9-c000.snappy.parquet to s3://is459-project-output-data/kaggle/airline_file_7.parquet/part-00001-0d044057-5095-42e6-a6b0-0733ee6604e9-c000.snappy.parquet\n",
            "Uploaded ./airline_parquet/airline_file_7.parquet/part-00000-0d044057-5095-42e6-a6b0-0733ee6604e9-c000.snappy.parquet to s3://is459-project-output-data/kaggle/airline_file_7.parquet/part-00000-0d044057-5095-42e6-a6b0-0733ee6604e9-c000.snappy.parquet\n",
            "Uploaded ./airline_parquet/airline_file_63.parquet/part-00000-42aa2dc6-8971-4526-be77-22311ebb6ef4-c000.snappy.parquet to s3://is459-project-output-data/kaggle/airline_file_63.parquet/part-00000-42aa2dc6-8971-4526-be77-22311ebb6ef4-c000.snappy.parquet\n",
            "Uploaded ./airline_parquet/airline_file_63.parquet/part-00001-42aa2dc6-8971-4526-be77-22311ebb6ef4-c000.snappy.parquet to s3://is459-project-output-data/kaggle/airline_file_63.parquet/part-00001-42aa2dc6-8971-4526-be77-22311ebb6ef4-c000.snappy.parquet\n",
            "Uploaded ./airline_parquet/airline_file_3.parquet/part-00000-2bab99b6-e30a-4e53-a872-0e4818768fba-c000.snappy.parquet to s3://is459-project-output-data/kaggle/airline_file_3.parquet/part-00000-2bab99b6-e30a-4e53-a872-0e4818768fba-c000.snappy.parquet\n",
            "Uploaded ./airline_parquet/airline_file_3.parquet/part-00001-2bab99b6-e30a-4e53-a872-0e4818768fba-c000.snappy.parquet to s3://is459-project-output-data/kaggle/airline_file_3.parquet/part-00001-2bab99b6-e30a-4e53-a872-0e4818768fba-c000.snappy.parquet\n",
            "Uploaded ./airline_parquet/airline_file_100.parquet/part-00000-ec14a25f-7313-4916-a021-2d060035fc43-c000.snappy.parquet to s3://is459-project-output-data/kaggle/airline_file_100.parquet/part-00000-ec14a25f-7313-4916-a021-2d060035fc43-c000.snappy.parquet\n",
            "Uploaded ./airline_parquet/airline_file_100.parquet/part-00001-ec14a25f-7313-4916-a021-2d060035fc43-c000.snappy.parquet to s3://is459-project-output-data/kaggle/airline_file_100.parquet/part-00001-ec14a25f-7313-4916-a021-2d060035fc43-c000.snappy.parquet\n",
            "Uploaded ./airline_parquet/airline_file_100.parquet/part-00003-ec14a25f-7313-4916-a021-2d060035fc43-c000.snappy.parquet to s3://is459-project-output-data/kaggle/airline_file_100.parquet/part-00003-ec14a25f-7313-4916-a021-2d060035fc43-c000.snappy.parquet\n",
            "Uploaded ./airline_parquet/airline_file_100.parquet/part-00005-ec14a25f-7313-4916-a021-2d060035fc43-c000.snappy.parquet to s3://is459-project-output-data/kaggle/airline_file_100.parquet/part-00005-ec14a25f-7313-4916-a021-2d060035fc43-c000.snappy.parquet\n",
            "Uploaded ./airline_parquet/airline_file_100.parquet/part-00002-ec14a25f-7313-4916-a021-2d060035fc43-c000.snappy.parquet to s3://is459-project-output-data/kaggle/airline_file_100.parquet/part-00002-ec14a25f-7313-4916-a021-2d060035fc43-c000.snappy.parquet\n",
            "Uploaded ./airline_parquet/airline_file_100.parquet/part-00004-ec14a25f-7313-4916-a021-2d060035fc43-c000.snappy.parquet to s3://is459-project-output-data/kaggle/airline_file_100.parquet/part-00004-ec14a25f-7313-4916-a021-2d060035fc43-c000.snappy.parquet\n",
            "Uploaded ./airline_parquet/airline_file_2.parquet/part-00001-0d9a3157-7597-490d-8aec-b3bf9c223121-c000.snappy.parquet to s3://is459-project-output-data/kaggle/airline_file_2.parquet/part-00001-0d9a3157-7597-490d-8aec-b3bf9c223121-c000.snappy.parquet\n",
            "Uploaded ./airline_parquet/airline_file_2.parquet/part-00000-0d9a3157-7597-490d-8aec-b3bf9c223121-c000.snappy.parquet to s3://is459-project-output-data/kaggle/airline_file_2.parquet/part-00000-0d9a3157-7597-490d-8aec-b3bf9c223121-c000.snappy.parquet\n",
            "Uploaded ./airline_parquet/airline_file_76.parquet/part-00000-e105a550-c72b-42f8-b2cb-f803cf4481e7-c000.snappy.parquet to s3://is459-project-output-data/kaggle/airline_file_76.parquet/part-00000-e105a550-c72b-42f8-b2cb-f803cf4481e7-c000.snappy.parquet\n",
            "Uploaded ./airline_parquet/airline_file_76.parquet/part-00001-e105a550-c72b-42f8-b2cb-f803cf4481e7-c000.snappy.parquet to s3://is459-project-output-data/kaggle/airline_file_76.parquet/part-00001-e105a550-c72b-42f8-b2cb-f803cf4481e7-c000.snappy.parquet\n",
            "Uploaded ./airline_parquet/airline_file_107.parquet/part-00000-1c955b4c-9e02-4654-9285-290e4e19e611-c000.snappy.parquet to s3://is459-project-output-data/kaggle/airline_file_107.parquet/part-00000-1c955b4c-9e02-4654-9285-290e4e19e611-c000.snappy.parquet\n",
            "Uploaded ./airline_parquet/airline_file_107.parquet/part-00004-1c955b4c-9e02-4654-9285-290e4e19e611-c000.snappy.parquet to s3://is459-project-output-data/kaggle/airline_file_107.parquet/part-00004-1c955b4c-9e02-4654-9285-290e4e19e611-c000.snappy.parquet\n",
            "Uploaded ./airline_parquet/airline_file_107.parquet/part-00005-1c955b4c-9e02-4654-9285-290e4e19e611-c000.snappy.parquet to s3://is459-project-output-data/kaggle/airline_file_107.parquet/part-00005-1c955b4c-9e02-4654-9285-290e4e19e611-c000.snappy.parquet\n",
            "Uploaded ./airline_parquet/airline_file_107.parquet/part-00003-1c955b4c-9e02-4654-9285-290e4e19e611-c000.snappy.parquet to s3://is459-project-output-data/kaggle/airline_file_107.parquet/part-00003-1c955b4c-9e02-4654-9285-290e4e19e611-c000.snappy.parquet\n",
            "Uploaded ./airline_parquet/airline_file_107.parquet/part-00001-1c955b4c-9e02-4654-9285-290e4e19e611-c000.snappy.parquet to s3://is459-project-output-data/kaggle/airline_file_107.parquet/part-00001-1c955b4c-9e02-4654-9285-290e4e19e611-c000.snappy.parquet\n",
            "Uploaded ./airline_parquet/airline_file_107.parquet/part-00002-1c955b4c-9e02-4654-9285-290e4e19e611-c000.snappy.parquet to s3://is459-project-output-data/kaggle/airline_file_107.parquet/part-00002-1c955b4c-9e02-4654-9285-290e4e19e611-c000.snappy.parquet\n",
            "Uploaded ./airline_parquet/airline_file_97.parquet/part-00001-502dfa08-e5d5-41dd-9e85-87bfae7ee2f4-c000.snappy.parquet to s3://is459-project-output-data/kaggle/airline_file_97.parquet/part-00001-502dfa08-e5d5-41dd-9e85-87bfae7ee2f4-c000.snappy.parquet\n",
            "Uploaded ./airline_parquet/airline_file_97.parquet/part-00000-502dfa08-e5d5-41dd-9e85-87bfae7ee2f4-c000.snappy.parquet to s3://is459-project-output-data/kaggle/airline_file_97.parquet/part-00000-502dfa08-e5d5-41dd-9e85-87bfae7ee2f4-c000.snappy.parquet\n",
            "Uploaded ./airline_parquet/airline_file_84.parquet/part-00001-0c701427-1102-4753-9525-03109a5f19e7-c000.snappy.parquet to s3://is459-project-output-data/kaggle/airline_file_84.parquet/part-00001-0c701427-1102-4753-9525-03109a5f19e7-c000.snappy.parquet\n",
            "Uploaded ./airline_parquet/airline_file_84.parquet/part-00000-0c701427-1102-4753-9525-03109a5f19e7-c000.snappy.parquet to s3://is459-project-output-data/kaggle/airline_file_84.parquet/part-00000-0c701427-1102-4753-9525-03109a5f19e7-c000.snappy.parquet\n",
            "Uploaded ./airline_parquet/airline_file_32.parquet/part-00001-ac18a8c2-490e-46cb-a093-ef69e56cc5f1-c000.snappy.parquet to s3://is459-project-output-data/kaggle/airline_file_32.parquet/part-00001-ac18a8c2-490e-46cb-a093-ef69e56cc5f1-c000.snappy.parquet\n",
            "Uploaded ./airline_parquet/airline_file_32.parquet/part-00000-ac18a8c2-490e-46cb-a093-ef69e56cc5f1-c000.snappy.parquet to s3://is459-project-output-data/kaggle/airline_file_32.parquet/part-00000-ac18a8c2-490e-46cb-a093-ef69e56cc5f1-c000.snappy.parquet\n",
            "Uploaded ./airline_parquet/airline_file_57.parquet/part-00000-af2caacf-1a6b-4830-b552-f8c04b280131-c000.snappy.parquet to s3://is459-project-output-data/kaggle/airline_file_57.parquet/part-00000-af2caacf-1a6b-4830-b552-f8c04b280131-c000.snappy.parquet\n",
            "Uploaded ./airline_parquet/airline_file_57.parquet/part-00001-af2caacf-1a6b-4830-b552-f8c04b280131-c000.snappy.parquet to s3://is459-project-output-data/kaggle/airline_file_57.parquet/part-00001-af2caacf-1a6b-4830-b552-f8c04b280131-c000.snappy.parquet\n",
            "Uploaded ./airline_parquet/airline_file_104.parquet/part-00000-fe5c02c6-5403-46b1-9f67-79ce83446a3c-c000.snappy.parquet to s3://is459-project-output-data/kaggle/airline_file_104.parquet/part-00000-fe5c02c6-5403-46b1-9f67-79ce83446a3c-c000.snappy.parquet\n",
            "Uploaded ./airline_parquet/airline_file_104.parquet/part-00002-fe5c02c6-5403-46b1-9f67-79ce83446a3c-c000.snappy.parquet to s3://is459-project-output-data/kaggle/airline_file_104.parquet/part-00002-fe5c02c6-5403-46b1-9f67-79ce83446a3c-c000.snappy.parquet\n",
            "Uploaded ./airline_parquet/airline_file_104.parquet/part-00005-fe5c02c6-5403-46b1-9f67-79ce83446a3c-c000.snappy.parquet to s3://is459-project-output-data/kaggle/airline_file_104.parquet/part-00005-fe5c02c6-5403-46b1-9f67-79ce83446a3c-c000.snappy.parquet\n",
            "Uploaded ./airline_parquet/airline_file_104.parquet/part-00004-fe5c02c6-5403-46b1-9f67-79ce83446a3c-c000.snappy.parquet to s3://is459-project-output-data/kaggle/airline_file_104.parquet/part-00004-fe5c02c6-5403-46b1-9f67-79ce83446a3c-c000.snappy.parquet\n",
            "Uploaded ./airline_parquet/airline_file_104.parquet/part-00003-fe5c02c6-5403-46b1-9f67-79ce83446a3c-c000.snappy.parquet to s3://is459-project-output-data/kaggle/airline_file_104.parquet/part-00003-fe5c02c6-5403-46b1-9f67-79ce83446a3c-c000.snappy.parquet\n",
            "Uploaded ./airline_parquet/airline_file_104.parquet/part-00001-fe5c02c6-5403-46b1-9f67-79ce83446a3c-c000.snappy.parquet to s3://is459-project-output-data/kaggle/airline_file_104.parquet/part-00001-fe5c02c6-5403-46b1-9f67-79ce83446a3c-c000.snappy.parquet\n",
            "Uploaded ./airline_parquet/airline_file_23.parquet/part-00000-ea1cccfa-ceb9-45e9-98ee-87f4e08a36b3-c000.snappy.parquet to s3://is459-project-output-data/kaggle/airline_file_23.parquet/part-00000-ea1cccfa-ceb9-45e9-98ee-87f4e08a36b3-c000.snappy.parquet\n",
            "Uploaded ./airline_parquet/airline_file_23.parquet/part-00001-ea1cccfa-ceb9-45e9-98ee-87f4e08a36b3-c000.snappy.parquet to s3://is459-project-output-data/kaggle/airline_file_23.parquet/part-00001-ea1cccfa-ceb9-45e9-98ee-87f4e08a36b3-c000.snappy.parquet\n",
            "Uploaded ./airline_parquet/airline_file_49.parquet/part-00001-1c91d477-d529-47f4-940b-c47c59e97bda-c000.snappy.parquet to s3://is459-project-output-data/kaggle/airline_file_49.parquet/part-00001-1c91d477-d529-47f4-940b-c47c59e97bda-c000.snappy.parquet\n",
            "Uploaded ./airline_parquet/airline_file_49.parquet/part-00000-1c91d477-d529-47f4-940b-c47c59e97bda-c000.snappy.parquet to s3://is459-project-output-data/kaggle/airline_file_49.parquet/part-00000-1c91d477-d529-47f4-940b-c47c59e97bda-c000.snappy.parquet\n",
            "Uploaded ./airline_parquet/airline_file_59.parquet/part-00000-0b6960e7-1f3a-487a-938f-5bebff7f1206-c000.snappy.parquet to s3://is459-project-output-data/kaggle/airline_file_59.parquet/part-00000-0b6960e7-1f3a-487a-938f-5bebff7f1206-c000.snappy.parquet\n",
            "Uploaded ./airline_parquet/airline_file_59.parquet/part-00001-0b6960e7-1f3a-487a-938f-5bebff7f1206-c000.snappy.parquet to s3://is459-project-output-data/kaggle/airline_file_59.parquet/part-00001-0b6960e7-1f3a-487a-938f-5bebff7f1206-c000.snappy.parquet\n",
            "Uploaded ./airline_parquet/airline_file_46.parquet/part-00001-393fba86-278d-4d4d-95bb-007327af7f11-c000.snappy.parquet to s3://is459-project-output-data/kaggle/airline_file_46.parquet/part-00001-393fba86-278d-4d4d-95bb-007327af7f11-c000.snappy.parquet\n",
            "Uploaded ./airline_parquet/airline_file_46.parquet/part-00000-393fba86-278d-4d4d-95bb-007327af7f11-c000.snappy.parquet to s3://is459-project-output-data/kaggle/airline_file_46.parquet/part-00000-393fba86-278d-4d4d-95bb-007327af7f11-c000.snappy.parquet\n",
            "Uploaded ./airline_parquet/airline_file_34.parquet/part-00001-c07d6902-0457-4ba7-899a-3d589c3af471-c000.snappy.parquet to s3://is459-project-output-data/kaggle/airline_file_34.parquet/part-00001-c07d6902-0457-4ba7-899a-3d589c3af471-c000.snappy.parquet\n",
            "Uploaded ./airline_parquet/airline_file_34.parquet/part-00000-c07d6902-0457-4ba7-899a-3d589c3af471-c000.snappy.parquet to s3://is459-project-output-data/kaggle/airline_file_34.parquet/part-00000-c07d6902-0457-4ba7-899a-3d589c3af471-c000.snappy.parquet\n",
            "Uploaded ./airline_parquet/airline_file_22.parquet/part-00000-d0bc29c0-02bf-44fc-913e-2bcb625a617d-c000.snappy.parquet to s3://is459-project-output-data/kaggle/airline_file_22.parquet/part-00000-d0bc29c0-02bf-44fc-913e-2bcb625a617d-c000.snappy.parquet\n",
            "Uploaded ./airline_parquet/airline_file_22.parquet/part-00001-d0bc29c0-02bf-44fc-913e-2bcb625a617d-c000.snappy.parquet to s3://is459-project-output-data/kaggle/airline_file_22.parquet/part-00001-d0bc29c0-02bf-44fc-913e-2bcb625a617d-c000.snappy.parquet\n",
            "Uploaded ./airline_parquet/airline_file_16.parquet/part-00000-0db5b9f5-8944-4d74-9238-a30aac415b51-c000.snappy.parquet to s3://is459-project-output-data/kaggle/airline_file_16.parquet/part-00000-0db5b9f5-8944-4d74-9238-a30aac415b51-c000.snappy.parquet\n",
            "Uploaded ./airline_parquet/airline_file_16.parquet/part-00001-0db5b9f5-8944-4d74-9238-a30aac415b51-c000.snappy.parquet to s3://is459-project-output-data/kaggle/airline_file_16.parquet/part-00001-0db5b9f5-8944-4d74-9238-a30aac415b51-c000.snappy.parquet\n",
            "Uploaded ./airline_parquet/airline_file_45.parquet/part-00000-2f0d34b7-6c1c-4e5b-911c-35b6b2447141-c000.snappy.parquet to s3://is459-project-output-data/kaggle/airline_file_45.parquet/part-00000-2f0d34b7-6c1c-4e5b-911c-35b6b2447141-c000.snappy.parquet\n",
            "Uploaded ./airline_parquet/airline_file_45.parquet/part-00001-2f0d34b7-6c1c-4e5b-911c-35b6b2447141-c000.snappy.parquet to s3://is459-project-output-data/kaggle/airline_file_45.parquet/part-00001-2f0d34b7-6c1c-4e5b-911c-35b6b2447141-c000.snappy.parquet\n",
            "Uploaded ./airline_parquet/airline_file_106.parquet/part-00006-cc23cbd8-3056-473c-8583-dc7187951e8b-c000.snappy.parquet to s3://is459-project-output-data/kaggle/airline_file_106.parquet/part-00006-cc23cbd8-3056-473c-8583-dc7187951e8b-c000.snappy.parquet\n",
            "Uploaded ./airline_parquet/airline_file_106.parquet/part-00004-cc23cbd8-3056-473c-8583-dc7187951e8b-c000.snappy.parquet to s3://is459-project-output-data/kaggle/airline_file_106.parquet/part-00004-cc23cbd8-3056-473c-8583-dc7187951e8b-c000.snappy.parquet\n",
            "Uploaded ./airline_parquet/airline_file_106.parquet/part-00001-cc23cbd8-3056-473c-8583-dc7187951e8b-c000.snappy.parquet to s3://is459-project-output-data/kaggle/airline_file_106.parquet/part-00001-cc23cbd8-3056-473c-8583-dc7187951e8b-c000.snappy.parquet\n",
            "Uploaded ./airline_parquet/airline_file_106.parquet/part-00005-cc23cbd8-3056-473c-8583-dc7187951e8b-c000.snappy.parquet to s3://is459-project-output-data/kaggle/airline_file_106.parquet/part-00005-cc23cbd8-3056-473c-8583-dc7187951e8b-c000.snappy.parquet\n",
            "Uploaded ./airline_parquet/airline_file_106.parquet/part-00002-cc23cbd8-3056-473c-8583-dc7187951e8b-c000.snappy.parquet to s3://is459-project-output-data/kaggle/airline_file_106.parquet/part-00002-cc23cbd8-3056-473c-8583-dc7187951e8b-c000.snappy.parquet\n",
            "Uploaded ./airline_parquet/airline_file_106.parquet/part-00000-cc23cbd8-3056-473c-8583-dc7187951e8b-c000.snappy.parquet to s3://is459-project-output-data/kaggle/airline_file_106.parquet/part-00000-cc23cbd8-3056-473c-8583-dc7187951e8b-c000.snappy.parquet\n",
            "Uploaded ./airline_parquet/airline_file_106.parquet/part-00003-cc23cbd8-3056-473c-8583-dc7187951e8b-c000.snappy.parquet to s3://is459-project-output-data/kaggle/airline_file_106.parquet/part-00003-cc23cbd8-3056-473c-8583-dc7187951e8b-c000.snappy.parquet\n",
            "Uploaded ./airline_parquet/airline_file_89.parquet/part-00001-0d37e3a1-b61a-414c-a65f-9de3a1226b8a-c000.snappy.parquet to s3://is459-project-output-data/kaggle/airline_file_89.parquet/part-00001-0d37e3a1-b61a-414c-a65f-9de3a1226b8a-c000.snappy.parquet\n",
            "Uploaded ./airline_parquet/airline_file_89.parquet/part-00000-0d37e3a1-b61a-414c-a65f-9de3a1226b8a-c000.snappy.parquet to s3://is459-project-output-data/kaggle/airline_file_89.parquet/part-00000-0d37e3a1-b61a-414c-a65f-9de3a1226b8a-c000.snappy.parquet\n",
            "Uploaded ./airline_parquet/airline_file_53.parquet/part-00000-cd7b7d6b-e2e4-4614-a523-22131db8b9c2-c000.snappy.parquet to s3://is459-project-output-data/kaggle/airline_file_53.parquet/part-00000-cd7b7d6b-e2e4-4614-a523-22131db8b9c2-c000.snappy.parquet\n",
            "Uploaded ./airline_parquet/airline_file_53.parquet/part-00001-cd7b7d6b-e2e4-4614-a523-22131db8b9c2-c000.snappy.parquet to s3://is459-project-output-data/kaggle/airline_file_53.parquet/part-00001-cd7b7d6b-e2e4-4614-a523-22131db8b9c2-c000.snappy.parquet\n",
            "Uploaded ./airline_parquet/airline_file_51.parquet/part-00001-9ca9e6ff-5f24-469e-ad57-e8d9313a5ec6-c000.snappy.parquet to s3://is459-project-output-data/kaggle/airline_file_51.parquet/part-00001-9ca9e6ff-5f24-469e-ad57-e8d9313a5ec6-c000.snappy.parquet\n",
            "Uploaded ./airline_parquet/airline_file_51.parquet/part-00000-9ca9e6ff-5f24-469e-ad57-e8d9313a5ec6-c000.snappy.parquet to s3://is459-project-output-data/kaggle/airline_file_51.parquet/part-00000-9ca9e6ff-5f24-469e-ad57-e8d9313a5ec6-c000.snappy.parquet\n",
            "Uploaded ./airline_parquet/airline_file_33.parquet/part-00000-0b79af1f-d410-4da1-8133-b33c8cefd1e8-c000.snappy.parquet to s3://is459-project-output-data/kaggle/airline_file_33.parquet/part-00000-0b79af1f-d410-4da1-8133-b33c8cefd1e8-c000.snappy.parquet\n",
            "Uploaded ./airline_parquet/airline_file_33.parquet/part-00001-0b79af1f-d410-4da1-8133-b33c8cefd1e8-c000.snappy.parquet to s3://is459-project-output-data/kaggle/airline_file_33.parquet/part-00001-0b79af1f-d410-4da1-8133-b33c8cefd1e8-c000.snappy.parquet\n",
            "Uploaded ./airline_parquet/airline_file_92.parquet/part-00001-75943a9d-d12b-415f-a54d-d238d749c459-c000.snappy.parquet to s3://is459-project-output-data/kaggle/airline_file_92.parquet/part-00001-75943a9d-d12b-415f-a54d-d238d749c459-c000.snappy.parquet\n",
            "Uploaded ./airline_parquet/airline_file_92.parquet/part-00000-75943a9d-d12b-415f-a54d-d238d749c459-c000.snappy.parquet to s3://is459-project-output-data/kaggle/airline_file_92.parquet/part-00000-75943a9d-d12b-415f-a54d-d238d749c459-c000.snappy.parquet\n",
            "Uploaded ./airline_parquet/airline_file_79.parquet/part-00001-55505d40-b756-4f15-b2c7-f4d5bbe437f4-c000.snappy.parquet to s3://is459-project-output-data/kaggle/airline_file_79.parquet/part-00001-55505d40-b756-4f15-b2c7-f4d5bbe437f4-c000.snappy.parquet\n",
            "Uploaded ./airline_parquet/airline_file_79.parquet/part-00000-55505d40-b756-4f15-b2c7-f4d5bbe437f4-c000.snappy.parquet to s3://is459-project-output-data/kaggle/airline_file_79.parquet/part-00000-55505d40-b756-4f15-b2c7-f4d5bbe437f4-c000.snappy.parquet\n",
            "Uploaded ./airline_parquet/airline_file_29.parquet/part-00000-e533092d-f754-48e4-85e6-114b265293df-c000.snappy.parquet to s3://is459-project-output-data/kaggle/airline_file_29.parquet/part-00000-e533092d-f754-48e4-85e6-114b265293df-c000.snappy.parquet\n",
            "Uploaded ./airline_parquet/airline_file_29.parquet/part-00001-e533092d-f754-48e4-85e6-114b265293df-c000.snappy.parquet to s3://is459-project-output-data/kaggle/airline_file_29.parquet/part-00001-e533092d-f754-48e4-85e6-114b265293df-c000.snappy.parquet\n",
            "Uploaded ./airline_parquet/airline_file_12.parquet/part-00000-928129e7-2f5c-4ae7-8c9e-9b85951a06af-c000.snappy.parquet to s3://is459-project-output-data/kaggle/airline_file_12.parquet/part-00000-928129e7-2f5c-4ae7-8c9e-9b85951a06af-c000.snappy.parquet\n",
            "Uploaded ./airline_parquet/airline_file_12.parquet/part-00001-928129e7-2f5c-4ae7-8c9e-9b85951a06af-c000.snappy.parquet to s3://is459-project-output-data/kaggle/airline_file_12.parquet/part-00001-928129e7-2f5c-4ae7-8c9e-9b85951a06af-c000.snappy.parquet\n",
            "Uploaded ./airline_parquet/airline_file_109.parquet/part-00003-31bb99d5-5236-4521-8bbf-832599d48ba0-c000.snappy.parquet to s3://is459-project-output-data/kaggle/airline_file_109.parquet/part-00003-31bb99d5-5236-4521-8bbf-832599d48ba0-c000.snappy.parquet\n",
            "Uploaded ./airline_parquet/airline_file_109.parquet/part-00004-31bb99d5-5236-4521-8bbf-832599d48ba0-c000.snappy.parquet to s3://is459-project-output-data/kaggle/airline_file_109.parquet/part-00004-31bb99d5-5236-4521-8bbf-832599d48ba0-c000.snappy.parquet\n",
            "Uploaded ./airline_parquet/airline_file_109.parquet/part-00001-31bb99d5-5236-4521-8bbf-832599d48ba0-c000.snappy.parquet to s3://is459-project-output-data/kaggle/airline_file_109.parquet/part-00001-31bb99d5-5236-4521-8bbf-832599d48ba0-c000.snappy.parquet\n",
            "Uploaded ./airline_parquet/airline_file_109.parquet/part-00000-31bb99d5-5236-4521-8bbf-832599d48ba0-c000.snappy.parquet to s3://is459-project-output-data/kaggle/airline_file_109.parquet/part-00000-31bb99d5-5236-4521-8bbf-832599d48ba0-c000.snappy.parquet\n",
            "Uploaded ./airline_parquet/airline_file_109.parquet/part-00002-31bb99d5-5236-4521-8bbf-832599d48ba0-c000.snappy.parquet to s3://is459-project-output-data/kaggle/airline_file_109.parquet/part-00002-31bb99d5-5236-4521-8bbf-832599d48ba0-c000.snappy.parquet\n",
            "Uploaded ./airline_parquet/airline_file_15.parquet/part-00001-bd0b2e18-68d0-411a-9f6d-5b5dd107c6f4-c000.snappy.parquet to s3://is459-project-output-data/kaggle/airline_file_15.parquet/part-00001-bd0b2e18-68d0-411a-9f6d-5b5dd107c6f4-c000.snappy.parquet\n",
            "Uploaded ./airline_parquet/airline_file_15.parquet/part-00000-bd0b2e18-68d0-411a-9f6d-5b5dd107c6f4-c000.snappy.parquet to s3://is459-project-output-data/kaggle/airline_file_15.parquet/part-00000-bd0b2e18-68d0-411a-9f6d-5b5dd107c6f4-c000.snappy.parquet\n",
            "Uploaded ./airline_parquet/airline_file_9.parquet/part-00001-2f9808b7-e5d7-4bc0-83db-63e1a425f245-c000.snappy.parquet to s3://is459-project-output-data/kaggle/airline_file_9.parquet/part-00001-2f9808b7-e5d7-4bc0-83db-63e1a425f245-c000.snappy.parquet\n",
            "Uploaded ./airline_parquet/airline_file_9.parquet/part-00000-2f9808b7-e5d7-4bc0-83db-63e1a425f245-c000.snappy.parquet to s3://is459-project-output-data/kaggle/airline_file_9.parquet/part-00000-2f9808b7-e5d7-4bc0-83db-63e1a425f245-c000.snappy.parquet\n",
            "Uploaded ./airline_parquet/airline_file_98.parquet/part-00000-b26c48ec-0678-486a-b9ca-4160e6d5c2a7-c000.snappy.parquet to s3://is459-project-output-data/kaggle/airline_file_98.parquet/part-00000-b26c48ec-0678-486a-b9ca-4160e6d5c2a7-c000.snappy.parquet\n",
            "Uploaded ./airline_parquet/airline_file_98.parquet/part-00001-b26c48ec-0678-486a-b9ca-4160e6d5c2a7-c000.snappy.parquet to s3://is459-project-output-data/kaggle/airline_file_98.parquet/part-00001-b26c48ec-0678-486a-b9ca-4160e6d5c2a7-c000.snappy.parquet\n",
            "Uploaded ./airline_parquet/airline_file_94.parquet/part-00000-1eaa48f2-c00c-4904-a5cd-a6687682156a-c000.snappy.parquet to s3://is459-project-output-data/kaggle/airline_file_94.parquet/part-00000-1eaa48f2-c00c-4904-a5cd-a6687682156a-c000.snappy.parquet\n",
            "Uploaded ./airline_parquet/airline_file_94.parquet/part-00001-1eaa48f2-c00c-4904-a5cd-a6687682156a-c000.snappy.parquet to s3://is459-project-output-data/kaggle/airline_file_94.parquet/part-00001-1eaa48f2-c00c-4904-a5cd-a6687682156a-c000.snappy.parquet\n",
            "Uploaded ./airline_parquet/airline_file_70.parquet/part-00001-2caa898d-7c19-41b1-a70a-1ded81e270aa-c000.snappy.parquet to s3://is459-project-output-data/kaggle/airline_file_70.parquet/part-00001-2caa898d-7c19-41b1-a70a-1ded81e270aa-c000.snappy.parquet\n",
            "Uploaded ./airline_parquet/airline_file_70.parquet/part-00000-2caa898d-7c19-41b1-a70a-1ded81e270aa-c000.snappy.parquet to s3://is459-project-output-data/kaggle/airline_file_70.parquet/part-00000-2caa898d-7c19-41b1-a70a-1ded81e270aa-c000.snappy.parquet\n",
            "Uploaded ./airline_parquet/airline_file_54.parquet/part-00000-e7f84347-5832-42e4-b24d-8b359ad3da3a-c000.snappy.parquet to s3://is459-project-output-data/kaggle/airline_file_54.parquet/part-00000-e7f84347-5832-42e4-b24d-8b359ad3da3a-c000.snappy.parquet\n",
            "Uploaded ./airline_parquet/airline_file_54.parquet/part-00001-e7f84347-5832-42e4-b24d-8b359ad3da3a-c000.snappy.parquet to s3://is459-project-output-data/kaggle/airline_file_54.parquet/part-00001-e7f84347-5832-42e4-b24d-8b359ad3da3a-c000.snappy.parquet\n",
            "Uploaded ./airline_parquet/airline_file_35.parquet/part-00001-8499f0f7-0dc8-4345-a352-83ade332ac05-c000.snappy.parquet to s3://is459-project-output-data/kaggle/airline_file_35.parquet/part-00001-8499f0f7-0dc8-4345-a352-83ade332ac05-c000.snappy.parquet\n",
            "Uploaded ./airline_parquet/airline_file_35.parquet/part-00000-8499f0f7-0dc8-4345-a352-83ade332ac05-c000.snappy.parquet to s3://is459-project-output-data/kaggle/airline_file_35.parquet/part-00000-8499f0f7-0dc8-4345-a352-83ade332ac05-c000.snappy.parquet\n",
            "Uploaded ./airline_parquet/airline_file_14.parquet/part-00000-6a614377-a1ed-458a-a003-582b1a924844-c000.snappy.parquet to s3://is459-project-output-data/kaggle/airline_file_14.parquet/part-00000-6a614377-a1ed-458a-a003-582b1a924844-c000.snappy.parquet\n",
            "Uploaded ./airline_parquet/airline_file_14.parquet/part-00001-6a614377-a1ed-458a-a003-582b1a924844-c000.snappy.parquet to s3://is459-project-output-data/kaggle/airline_file_14.parquet/part-00001-6a614377-a1ed-458a-a003-582b1a924844-c000.snappy.parquet\n",
            "Uploaded ./airline_parquet/airline_file_52.parquet/part-00000-d9ccac35-0ef5-4f89-ada8-ef9853f91d57-c000.snappy.parquet to s3://is459-project-output-data/kaggle/airline_file_52.parquet/part-00000-d9ccac35-0ef5-4f89-ada8-ef9853f91d57-c000.snappy.parquet\n",
            "Uploaded ./airline_parquet/airline_file_52.parquet/part-00001-d9ccac35-0ef5-4f89-ada8-ef9853f91d57-c000.snappy.parquet to s3://is459-project-output-data/kaggle/airline_file_52.parquet/part-00001-d9ccac35-0ef5-4f89-ada8-ef9853f91d57-c000.snappy.parquet\n",
            "Uploaded ./airline_parquet/airline_file_13.parquet/part-00000-b252f004-4699-4e46-9a18-782f86cc4408-c000.snappy.parquet to s3://is459-project-output-data/kaggle/airline_file_13.parquet/part-00000-b252f004-4699-4e46-9a18-782f86cc4408-c000.snappy.parquet\n",
            "Uploaded ./airline_parquet/airline_file_13.parquet/part-00001-b252f004-4699-4e46-9a18-782f86cc4408-c000.snappy.parquet to s3://is459-project-output-data/kaggle/airline_file_13.parquet/part-00001-b252f004-4699-4e46-9a18-782f86cc4408-c000.snappy.parquet\n",
            "Uploaded ./airline_parquet/airline_file_19.parquet/part-00000-3ea39153-66d1-4167-a5ba-8cd051fcfce8-c000.snappy.parquet to s3://is459-project-output-data/kaggle/airline_file_19.parquet/part-00000-3ea39153-66d1-4167-a5ba-8cd051fcfce8-c000.snappy.parquet\n",
            "Uploaded ./airline_parquet/airline_file_19.parquet/part-00001-3ea39153-66d1-4167-a5ba-8cd051fcfce8-c000.snappy.parquet to s3://is459-project-output-data/kaggle/airline_file_19.parquet/part-00001-3ea39153-66d1-4167-a5ba-8cd051fcfce8-c000.snappy.parquet\n",
            "Uploaded ./airline_parquet/airline_file_96.parquet/part-00000-b990a195-1f68-4c6d-9ad9-08f8618d5f23-c000.snappy.parquet to s3://is459-project-output-data/kaggle/airline_file_96.parquet/part-00000-b990a195-1f68-4c6d-9ad9-08f8618d5f23-c000.snappy.parquet\n",
            "Uploaded ./airline_parquet/airline_file_96.parquet/part-00001-b990a195-1f68-4c6d-9ad9-08f8618d5f23-c000.snappy.parquet to s3://is459-project-output-data/kaggle/airline_file_96.parquet/part-00001-b990a195-1f68-4c6d-9ad9-08f8618d5f23-c000.snappy.parquet\n",
            "Uploaded ./airline_parquet/airline_file_36.parquet/part-00000-3265fbfe-a0ac-4dfd-bf83-43da43aaf83e-c000.snappy.parquet to s3://is459-project-output-data/kaggle/airline_file_36.parquet/part-00000-3265fbfe-a0ac-4dfd-bf83-43da43aaf83e-c000.snappy.parquet\n",
            "Uploaded ./airline_parquet/airline_file_36.parquet/part-00001-3265fbfe-a0ac-4dfd-bf83-43da43aaf83e-c000.snappy.parquet to s3://is459-project-output-data/kaggle/airline_file_36.parquet/part-00001-3265fbfe-a0ac-4dfd-bf83-43da43aaf83e-c000.snappy.parquet\n",
            "Uploaded ./airline_parquet/airline_file_105.parquet/part-00000-954522fe-6ad9-4d4e-b7b5-5d2b9d3b5d2f-c000.snappy.parquet to s3://is459-project-output-data/kaggle/airline_file_105.parquet/part-00000-954522fe-6ad9-4d4e-b7b5-5d2b9d3b5d2f-c000.snappy.parquet\n",
            "Uploaded ./airline_parquet/airline_file_105.parquet/part-00003-954522fe-6ad9-4d4e-b7b5-5d2b9d3b5d2f-c000.snappy.parquet to s3://is459-project-output-data/kaggle/airline_file_105.parquet/part-00003-954522fe-6ad9-4d4e-b7b5-5d2b9d3b5d2f-c000.snappy.parquet\n",
            "Uploaded ./airline_parquet/airline_file_105.parquet/part-00004-954522fe-6ad9-4d4e-b7b5-5d2b9d3b5d2f-c000.snappy.parquet to s3://is459-project-output-data/kaggle/airline_file_105.parquet/part-00004-954522fe-6ad9-4d4e-b7b5-5d2b9d3b5d2f-c000.snappy.parquet\n",
            "Uploaded ./airline_parquet/airline_file_105.parquet/part-00005-954522fe-6ad9-4d4e-b7b5-5d2b9d3b5d2f-c000.snappy.parquet to s3://is459-project-output-data/kaggle/airline_file_105.parquet/part-00005-954522fe-6ad9-4d4e-b7b5-5d2b9d3b5d2f-c000.snappy.parquet\n",
            "Uploaded ./airline_parquet/airline_file_105.parquet/part-00002-954522fe-6ad9-4d4e-b7b5-5d2b9d3b5d2f-c000.snappy.parquet to s3://is459-project-output-data/kaggle/airline_file_105.parquet/part-00002-954522fe-6ad9-4d4e-b7b5-5d2b9d3b5d2f-c000.snappy.parquet\n",
            "Uploaded ./airline_parquet/airline_file_105.parquet/part-00001-954522fe-6ad9-4d4e-b7b5-5d2b9d3b5d2f-c000.snappy.parquet to s3://is459-project-output-data/kaggle/airline_file_105.parquet/part-00001-954522fe-6ad9-4d4e-b7b5-5d2b9d3b5d2f-c000.snappy.parquet\n",
            "Uploaded ./airline_parquet/airline_file_61.parquet/part-00000-7d9d2b30-ce5d-4b1d-bf1a-b8217cff1715-c000.snappy.parquet to s3://is459-project-output-data/kaggle/airline_file_61.parquet/part-00000-7d9d2b30-ce5d-4b1d-bf1a-b8217cff1715-c000.snappy.parquet\n",
            "Uploaded ./airline_parquet/airline_file_61.parquet/part-00001-7d9d2b30-ce5d-4b1d-bf1a-b8217cff1715-c000.snappy.parquet to s3://is459-project-output-data/kaggle/airline_file_61.parquet/part-00001-7d9d2b30-ce5d-4b1d-bf1a-b8217cff1715-c000.snappy.parquet\n"
          ]
        }
      ],
      "source": [
        "# save combined spark dataframes\n",
        "\n",
        "# Define local directory and S3 bucket details\n",
        "local_directory = './airline_parquet'  # Replace with your directory path\n",
        "bucket_name = 'is459-project-output-data'  # Replace with your S3 bucket name\n",
        "s3_folder = 'kaggle'  # Replace with the desired folder path in S3\n",
        "\n",
        "# Function to upload files in a directory to S3\n",
        "def upload_files_to_s3(local_path, s3_path):\n",
        "    for root, dirs, files in os.walk(local_path):\n",
        "        for file in files:\n",
        "            # Only upload files with .parquet extension\n",
        "            if file.endswith(\".parquet\"):\n",
        "                local_file_path = os.path.join(root, file)\n",
        "                s3_file_path = os.path.join(s3_path, os.path.relpath(local_file_path, local_path))\n",
        "\n",
        "                try:\n",
        "                    # Upload the file to S3\n",
        "                    s3.upload_file(local_file_path, bucket_name, s3_file_path)\n",
        "                    print(f\"Uploaded {local_file_path} to s3://{bucket_name}/{s3_file_path}\")\n",
        "                except FileNotFoundError:\n",
        "                    print(f\"The file {file} was not found\")\n",
        "                except NoCredentialsError:\n",
        "                    print(\"Credentials not available\")\n",
        "\n",
        "# Upload all Parquet files from local directory to S3\n",
        "upload_files_to_s3(local_directory, s3_folder)"
      ]
    }
  ],
  "metadata": {
    "colab": {
      "provenance": []
    },
    "kernelspec": {
      "display_name": "Python 3",
      "name": "python3"
    },
    "language_info": {
      "name": "python"
    },
    "widgets": {
      "application/vnd.jupyter.widget-state+json": {
        "0142f501e3cc4e2d8a6d40419108f1d5": {
          "model_module": "@jupyter-widgets/controls",
          "model_module_version": "1.5.0",
          "model_name": "DescriptionStyleModel",
          "state": {
            "_model_module": "@jupyter-widgets/controls",
            "_model_module_version": "1.5.0",
            "_model_name": "DescriptionStyleModel",
            "_view_count": null,
            "_view_module": "@jupyter-widgets/base",
            "_view_module_version": "1.2.0",
            "_view_name": "StyleView",
            "description_width": ""
          }
        },
        "123aae12adac4882b17eba3f749241a7": {
          "model_module": "@jupyter-widgets/controls",
          "model_module_version": "1.5.0",
          "model_name": "DescriptionStyleModel",
          "state": {
            "_model_module": "@jupyter-widgets/controls",
            "_model_module_version": "1.5.0",
            "_model_name": "DescriptionStyleModel",
            "_view_count": null,
            "_view_module": "@jupyter-widgets/base",
            "_view_module_version": "1.2.0",
            "_view_name": "StyleView",
            "description_width": ""
          }
        },
        "1de07310a3074e9aa2f09324d324be0e": {
          "model_module": "@jupyter-widgets/base",
          "model_module_version": "1.2.0",
          "model_name": "LayoutModel",
          "state": {
            "_model_module": "@jupyter-widgets/base",
            "_model_module_version": "1.2.0",
            "_model_name": "LayoutModel",
            "_view_count": null,
            "_view_module": "@jupyter-widgets/base",
            "_view_module_version": "1.2.0",
            "_view_name": "LayoutView",
            "align_content": null,
            "align_items": null,
            "align_self": null,
            "border": null,
            "bottom": null,
            "display": null,
            "flex": null,
            "flex_flow": null,
            "grid_area": null,
            "grid_auto_columns": null,
            "grid_auto_flow": null,
            "grid_auto_rows": null,
            "grid_column": null,
            "grid_gap": null,
            "grid_row": null,
            "grid_template_areas": null,
            "grid_template_columns": null,
            "grid_template_rows": null,
            "height": null,
            "justify_content": null,
            "justify_items": null,
            "left": null,
            "margin": null,
            "max_height": null,
            "max_width": null,
            "min_height": null,
            "min_width": null,
            "object_fit": null,
            "object_position": null,
            "order": null,
            "overflow": null,
            "overflow_x": null,
            "overflow_y": null,
            "padding": null,
            "right": null,
            "top": null,
            "visibility": null,
            "width": null
          }
        },
        "1ec84e7a884d4854b74039d735cd167b": {
          "model_module": "@jupyter-widgets/controls",
          "model_module_version": "1.5.0",
          "model_name": "HTMLModel",
          "state": {
            "_dom_classes": [],
            "_model_module": "@jupyter-widgets/controls",
            "_model_module_version": "1.5.0",
            "_model_name": "HTMLModel",
            "_view_count": null,
            "_view_module": "@jupyter-widgets/controls",
            "_view_module_version": "1.5.0",
            "_view_name": "HTMLView",
            "description": "",
            "description_tooltip": null,
            "layout": "IPY_MODEL_2da26666153d4df994c95cee8e9b4b44",
            "placeholder": "​",
            "style": "IPY_MODEL_123aae12adac4882b17eba3f749241a7",
            "value": "\n<b>Thank You</b></center>"
          }
        },
        "24310145dc3340748e77d811772b3f4d": {
          "model_module": "@jupyter-widgets/controls",
          "model_module_version": "1.5.0",
          "model_name": "PasswordModel",
          "state": {
            "_dom_classes": [],
            "_model_module": "@jupyter-widgets/controls",
            "_model_module_version": "1.5.0",
            "_model_name": "PasswordModel",
            "_view_count": null,
            "_view_module": "@jupyter-widgets/controls",
            "_view_module_version": "1.5.0",
            "_view_name": "PasswordView",
            "continuous_update": true,
            "description": "Token:",
            "description_tooltip": null,
            "disabled": false,
            "layout": "IPY_MODEL_8748d732469a487780e810d45a35c48d",
            "placeholder": "​",
            "style": "IPY_MODEL_db0646983a014af8ab4581eb80d2c56c",
            "value": ""
          }
        },
        "295c7738a1b5428bbf4638afaee733f8": {
          "model_module": "@jupyter-widgets/controls",
          "model_module_version": "1.5.0",
          "model_name": "DescriptionStyleModel",
          "state": {
            "_model_module": "@jupyter-widgets/controls",
            "_model_module_version": "1.5.0",
            "_model_name": "DescriptionStyleModel",
            "_view_count": null,
            "_view_module": "@jupyter-widgets/base",
            "_view_module_version": "1.2.0",
            "_view_name": "StyleView",
            "description_width": ""
          }
        },
        "2da26666153d4df994c95cee8e9b4b44": {
          "model_module": "@jupyter-widgets/base",
          "model_module_version": "1.2.0",
          "model_name": "LayoutModel",
          "state": {
            "_model_module": "@jupyter-widgets/base",
            "_model_module_version": "1.2.0",
            "_model_name": "LayoutModel",
            "_view_count": null,
            "_view_module": "@jupyter-widgets/base",
            "_view_module_version": "1.2.0",
            "_view_name": "LayoutView",
            "align_content": null,
            "align_items": null,
            "align_self": null,
            "border": null,
            "bottom": null,
            "display": null,
            "flex": null,
            "flex_flow": null,
            "grid_area": null,
            "grid_auto_columns": null,
            "grid_auto_flow": null,
            "grid_auto_rows": null,
            "grid_column": null,
            "grid_gap": null,
            "grid_row": null,
            "grid_template_areas": null,
            "grid_template_columns": null,
            "grid_template_rows": null,
            "height": null,
            "justify_content": null,
            "justify_items": null,
            "left": null,
            "margin": null,
            "max_height": null,
            "max_width": null,
            "min_height": null,
            "min_width": null,
            "object_fit": null,
            "object_position": null,
            "order": null,
            "overflow": null,
            "overflow_x": null,
            "overflow_y": null,
            "padding": null,
            "right": null,
            "top": null,
            "visibility": null,
            "width": null
          }
        },
        "3197f45a663c4302ad1dc12411b67348": {
          "model_module": "@jupyter-widgets/controls",
          "model_module_version": "1.5.0",
          "model_name": "VBoxModel",
          "state": {
            "_dom_classes": [],
            "_model_module": "@jupyter-widgets/controls",
            "_model_module_version": "1.5.0",
            "_model_name": "VBoxModel",
            "_view_count": null,
            "_view_module": "@jupyter-widgets/controls",
            "_view_module_version": "1.5.0",
            "_view_name": "VBoxView",
            "box_style": "",
            "children": [
              "IPY_MODEL_3b1e385516924aa4a72a88ddc50094e0"
            ],
            "layout": "IPY_MODEL_535d2e732afa4f6f895eaea71c1c8346"
          }
        },
        "3b1e385516924aa4a72a88ddc50094e0": {
          "model_module": "@jupyter-widgets/controls",
          "model_module_version": "1.5.0",
          "model_name": "LabelModel",
          "state": {
            "_dom_classes": [],
            "_model_module": "@jupyter-widgets/controls",
            "_model_module_version": "1.5.0",
            "_model_name": "LabelModel",
            "_view_count": null,
            "_view_module": "@jupyter-widgets/controls",
            "_view_module_version": "1.5.0",
            "_view_name": "LabelView",
            "description": "",
            "description_tooltip": null,
            "layout": "IPY_MODEL_463c07ae04c64141b6e0f70ae77844ad",
            "placeholder": "​",
            "style": "IPY_MODEL_84d55b20772c42aaaba9fd619f3a3c7d",
            "value": "Kaggle credentials successfully validated."
          }
        },
        "463c07ae04c64141b6e0f70ae77844ad": {
          "model_module": "@jupyter-widgets/base",
          "model_module_version": "1.2.0",
          "model_name": "LayoutModel",
          "state": {
            "_model_module": "@jupyter-widgets/base",
            "_model_module_version": "1.2.0",
            "_model_name": "LayoutModel",
            "_view_count": null,
            "_view_module": "@jupyter-widgets/base",
            "_view_module_version": "1.2.0",
            "_view_name": "LayoutView",
            "align_content": null,
            "align_items": null,
            "align_self": null,
            "border": null,
            "bottom": null,
            "display": null,
            "flex": null,
            "flex_flow": null,
            "grid_area": null,
            "grid_auto_columns": null,
            "grid_auto_flow": null,
            "grid_auto_rows": null,
            "grid_column": null,
            "grid_gap": null,
            "grid_row": null,
            "grid_template_areas": null,
            "grid_template_columns": null,
            "grid_template_rows": null,
            "height": null,
            "justify_content": null,
            "justify_items": null,
            "left": null,
            "margin": null,
            "max_height": null,
            "max_width": null,
            "min_height": null,
            "min_width": null,
            "object_fit": null,
            "object_position": null,
            "order": null,
            "overflow": null,
            "overflow_x": null,
            "overflow_y": null,
            "padding": null,
            "right": null,
            "top": null,
            "visibility": null,
            "width": null
          }
        },
        "535d2e732afa4f6f895eaea71c1c8346": {
          "model_module": "@jupyter-widgets/base",
          "model_module_version": "1.2.0",
          "model_name": "LayoutModel",
          "state": {
            "_model_module": "@jupyter-widgets/base",
            "_model_module_version": "1.2.0",
            "_model_name": "LayoutModel",
            "_view_count": null,
            "_view_module": "@jupyter-widgets/base",
            "_view_module_version": "1.2.0",
            "_view_name": "LayoutView",
            "align_content": null,
            "align_items": "center",
            "align_self": null,
            "border": null,
            "bottom": null,
            "display": "flex",
            "flex": null,
            "flex_flow": "column",
            "grid_area": null,
            "grid_auto_columns": null,
            "grid_auto_flow": null,
            "grid_auto_rows": null,
            "grid_column": null,
            "grid_gap": null,
            "grid_row": null,
            "grid_template_areas": null,
            "grid_template_columns": null,
            "grid_template_rows": null,
            "height": null,
            "justify_content": null,
            "justify_items": null,
            "left": null,
            "margin": null,
            "max_height": null,
            "max_width": null,
            "min_height": null,
            "min_width": null,
            "object_fit": null,
            "object_position": null,
            "order": null,
            "overflow": null,
            "overflow_x": null,
            "overflow_y": null,
            "padding": null,
            "right": null,
            "top": null,
            "visibility": null,
            "width": "50%"
          }
        },
        "756eedb03b264c4894763a61550bd830": {
          "model_module": "@jupyter-widgets/controls",
          "model_module_version": "1.5.0",
          "model_name": "DescriptionStyleModel",
          "state": {
            "_model_module": "@jupyter-widgets/controls",
            "_model_module_version": "1.5.0",
            "_model_name": "DescriptionStyleModel",
            "_view_count": null,
            "_view_module": "@jupyter-widgets/base",
            "_view_module_version": "1.2.0",
            "_view_name": "StyleView",
            "description_width": ""
          }
        },
        "84d55b20772c42aaaba9fd619f3a3c7d": {
          "model_module": "@jupyter-widgets/controls",
          "model_module_version": "1.5.0",
          "model_name": "DescriptionStyleModel",
          "state": {
            "_model_module": "@jupyter-widgets/controls",
            "_model_module_version": "1.5.0",
            "_model_name": "DescriptionStyleModel",
            "_view_count": null,
            "_view_module": "@jupyter-widgets/base",
            "_view_module_version": "1.2.0",
            "_view_name": "StyleView",
            "description_width": ""
          }
        },
        "8748d732469a487780e810d45a35c48d": {
          "model_module": "@jupyter-widgets/base",
          "model_module_version": "1.2.0",
          "model_name": "LayoutModel",
          "state": {
            "_model_module": "@jupyter-widgets/base",
            "_model_module_version": "1.2.0",
            "_model_name": "LayoutModel",
            "_view_count": null,
            "_view_module": "@jupyter-widgets/base",
            "_view_module_version": "1.2.0",
            "_view_name": "LayoutView",
            "align_content": null,
            "align_items": null,
            "align_self": null,
            "border": null,
            "bottom": null,
            "display": null,
            "flex": null,
            "flex_flow": null,
            "grid_area": null,
            "grid_auto_columns": null,
            "grid_auto_flow": null,
            "grid_auto_rows": null,
            "grid_column": null,
            "grid_gap": null,
            "grid_row": null,
            "grid_template_areas": null,
            "grid_template_columns": null,
            "grid_template_rows": null,
            "height": null,
            "justify_content": null,
            "justify_items": null,
            "left": null,
            "margin": null,
            "max_height": null,
            "max_width": null,
            "min_height": null,
            "min_width": null,
            "object_fit": null,
            "object_position": null,
            "order": null,
            "overflow": null,
            "overflow_x": null,
            "overflow_y": null,
            "padding": null,
            "right": null,
            "top": null,
            "visibility": null,
            "width": null
          }
        },
        "a099ab2d804549b99302cad9e72f0ebb": {
          "model_module": "@jupyter-widgets/base",
          "model_module_version": "1.2.0",
          "model_name": "LayoutModel",
          "state": {
            "_model_module": "@jupyter-widgets/base",
            "_model_module_version": "1.2.0",
            "_model_name": "LayoutModel",
            "_view_count": null,
            "_view_module": "@jupyter-widgets/base",
            "_view_module_version": "1.2.0",
            "_view_name": "LayoutView",
            "align_content": null,
            "align_items": null,
            "align_self": null,
            "border": null,
            "bottom": null,
            "display": null,
            "flex": null,
            "flex_flow": null,
            "grid_area": null,
            "grid_auto_columns": null,
            "grid_auto_flow": null,
            "grid_auto_rows": null,
            "grid_column": null,
            "grid_gap": null,
            "grid_row": null,
            "grid_template_areas": null,
            "grid_template_columns": null,
            "grid_template_rows": null,
            "height": null,
            "justify_content": null,
            "justify_items": null,
            "left": null,
            "margin": null,
            "max_height": null,
            "max_width": null,
            "min_height": null,
            "min_width": null,
            "object_fit": null,
            "object_position": null,
            "order": null,
            "overflow": null,
            "overflow_x": null,
            "overflow_y": null,
            "padding": null,
            "right": null,
            "top": null,
            "visibility": null,
            "width": null
          }
        },
        "a5056ef64e9f44c08abb1e44b74ecafc": {
          "model_module": "@jupyter-widgets/controls",
          "model_module_version": "1.5.0",
          "model_name": "LabelModel",
          "state": {
            "_dom_classes": [],
            "_model_module": "@jupyter-widgets/controls",
            "_model_module_version": "1.5.0",
            "_model_name": "LabelModel",
            "_view_count": null,
            "_view_module": "@jupyter-widgets/controls",
            "_view_module_version": "1.5.0",
            "_view_name": "LabelView",
            "description": "",
            "description_tooltip": null,
            "layout": "IPY_MODEL_1de07310a3074e9aa2f09324d324be0e",
            "placeholder": "​",
            "style": "IPY_MODEL_0142f501e3cc4e2d8a6d40419108f1d5",
            "value": "Connecting..."
          }
        },
        "a8de6a2eae074cfcaf8d8a8124d9cd02": {
          "model_module": "@jupyter-widgets/controls",
          "model_module_version": "1.5.0",
          "model_name": "ButtonModel",
          "state": {
            "_dom_classes": [],
            "_model_module": "@jupyter-widgets/controls",
            "_model_module_version": "1.5.0",
            "_model_name": "ButtonModel",
            "_view_count": null,
            "_view_module": "@jupyter-widgets/controls",
            "_view_module_version": "1.5.0",
            "_view_name": "ButtonView",
            "button_style": "",
            "description": "Login",
            "disabled": false,
            "icon": "",
            "layout": "IPY_MODEL_a099ab2d804549b99302cad9e72f0ebb",
            "style": "IPY_MODEL_cd959370bd254fffa0076e77d19b2e5c",
            "tooltip": ""
          }
        },
        "afc6045739ce4488b8f30aa39685d188": {
          "model_module": "@jupyter-widgets/controls",
          "model_module_version": "1.5.0",
          "model_name": "HTMLModel",
          "state": {
            "_dom_classes": [],
            "_model_module": "@jupyter-widgets/controls",
            "_model_module_version": "1.5.0",
            "_model_name": "HTMLModel",
            "_view_count": null,
            "_view_module": "@jupyter-widgets/controls",
            "_view_module_version": "1.5.0",
            "_view_name": "HTMLView",
            "description": "",
            "description_tooltip": null,
            "layout": "IPY_MODEL_da856bfc1059411fb676384bf2e7e703",
            "placeholder": "​",
            "style": "IPY_MODEL_295c7738a1b5428bbf4638afaee733f8",
            "value": "<center> <img\nsrc=https://www.kaggle.com/static/images/site-logo.png\nalt='Kaggle'> <br> Create an API token from <a\nhref=\"https://www.kaggle.com/settings/account\" target=\"_blank\">your Kaggle\nsettings page</a> and paste it below along with your Kaggle username. <br> </center>"
          }
        },
        "c4554f19efc34bc9bd7c094752171330": {
          "model_module": "@jupyter-widgets/controls",
          "model_module_version": "1.5.0",
          "model_name": "TextModel",
          "state": {
            "_dom_classes": [],
            "_model_module": "@jupyter-widgets/controls",
            "_model_module_version": "1.5.0",
            "_model_name": "TextModel",
            "_view_count": null,
            "_view_module": "@jupyter-widgets/controls",
            "_view_module_version": "1.5.0",
            "_view_name": "TextView",
            "continuous_update": true,
            "description": "Username:",
            "description_tooltip": null,
            "disabled": false,
            "layout": "IPY_MODEL_f57234b708e24b61ae914c2afce55eb7",
            "placeholder": "​",
            "style": "IPY_MODEL_756eedb03b264c4894763a61550bd830",
            "value": "kengboonang"
          }
        },
        "cd959370bd254fffa0076e77d19b2e5c": {
          "model_module": "@jupyter-widgets/controls",
          "model_module_version": "1.5.0",
          "model_name": "ButtonStyleModel",
          "state": {
            "_model_module": "@jupyter-widgets/controls",
            "_model_module_version": "1.5.0",
            "_model_name": "ButtonStyleModel",
            "_view_count": null,
            "_view_module": "@jupyter-widgets/base",
            "_view_module_version": "1.2.0",
            "_view_name": "StyleView",
            "button_color": null,
            "font_weight": ""
          }
        },
        "da856bfc1059411fb676384bf2e7e703": {
          "model_module": "@jupyter-widgets/base",
          "model_module_version": "1.2.0",
          "model_name": "LayoutModel",
          "state": {
            "_model_module": "@jupyter-widgets/base",
            "_model_module_version": "1.2.0",
            "_model_name": "LayoutModel",
            "_view_count": null,
            "_view_module": "@jupyter-widgets/base",
            "_view_module_version": "1.2.0",
            "_view_name": "LayoutView",
            "align_content": null,
            "align_items": null,
            "align_self": null,
            "border": null,
            "bottom": null,
            "display": null,
            "flex": null,
            "flex_flow": null,
            "grid_area": null,
            "grid_auto_columns": null,
            "grid_auto_flow": null,
            "grid_auto_rows": null,
            "grid_column": null,
            "grid_gap": null,
            "grid_row": null,
            "grid_template_areas": null,
            "grid_template_columns": null,
            "grid_template_rows": null,
            "height": null,
            "justify_content": null,
            "justify_items": null,
            "left": null,
            "margin": null,
            "max_height": null,
            "max_width": null,
            "min_height": null,
            "min_width": null,
            "object_fit": null,
            "object_position": null,
            "order": null,
            "overflow": null,
            "overflow_x": null,
            "overflow_y": null,
            "padding": null,
            "right": null,
            "top": null,
            "visibility": null,
            "width": null
          }
        },
        "db0646983a014af8ab4581eb80d2c56c": {
          "model_module": "@jupyter-widgets/controls",
          "model_module_version": "1.5.0",
          "model_name": "DescriptionStyleModel",
          "state": {
            "_model_module": "@jupyter-widgets/controls",
            "_model_module_version": "1.5.0",
            "_model_name": "DescriptionStyleModel",
            "_view_count": null,
            "_view_module": "@jupyter-widgets/base",
            "_view_module_version": "1.2.0",
            "_view_name": "StyleView",
            "description_width": ""
          }
        },
        "f57234b708e24b61ae914c2afce55eb7": {
          "model_module": "@jupyter-widgets/base",
          "model_module_version": "1.2.0",
          "model_name": "LayoutModel",
          "state": {
            "_model_module": "@jupyter-widgets/base",
            "_model_module_version": "1.2.0",
            "_model_name": "LayoutModel",
            "_view_count": null,
            "_view_module": "@jupyter-widgets/base",
            "_view_module_version": "1.2.0",
            "_view_name": "LayoutView",
            "align_content": null,
            "align_items": null,
            "align_self": null,
            "border": null,
            "bottom": null,
            "display": null,
            "flex": null,
            "flex_flow": null,
            "grid_area": null,
            "grid_auto_columns": null,
            "grid_auto_flow": null,
            "grid_auto_rows": null,
            "grid_column": null,
            "grid_gap": null,
            "grid_row": null,
            "grid_template_areas": null,
            "grid_template_columns": null,
            "grid_template_rows": null,
            "height": null,
            "justify_content": null,
            "justify_items": null,
            "left": null,
            "margin": null,
            "max_height": null,
            "max_width": null,
            "min_height": null,
            "min_width": null,
            "object_fit": null,
            "object_position": null,
            "order": null,
            "overflow": null,
            "overflow_x": null,
            "overflow_y": null,
            "padding": null,
            "right": null,
            "top": null,
            "visibility": null,
            "width": null
          }
        }
      }
    }
  },
  "nbformat": 4,
  "nbformat_minor": 0
}
