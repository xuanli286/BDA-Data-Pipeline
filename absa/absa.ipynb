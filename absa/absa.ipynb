{
 "cells": [
  {
   "cell_type": "markdown",
   "metadata": {},
   "source": [
    "# This notebook serves as a testbed for the ABSA pipeline before we actually create scripts and a working pipeline."
   ]
  },
  {
   "cell_type": "code",
   "execution_count": 1,
   "metadata": {},
   "outputs": [],
   "source": [
    "# !python -m spacy download en_core_web_sm"
   ]
  },
  {
   "cell_type": "markdown",
   "metadata": {},
   "source": [
    "## Load data and clean"
   ]
  },
  {
   "cell_type": "code",
   "execution_count": 2,
   "metadata": {},
   "outputs": [
    {
     "data": {
      "text/plain": [
       "(448, 11)"
      ]
     },
     "execution_count": 2,
     "metadata": {},
     "output_type": "execute_result"
    }
   ],
   "source": [
    "import pandas as pd \n",
    "\n",
    "post_data = pd.read_csv('../data/posts_sentiment.csv')\n",
    "post_data.shape"
   ]
  },
  {
   "cell_type": "code",
   "execution_count": 3,
   "metadata": {},
   "outputs": [
    {
     "data": {
      "text/html": [
       "<div>\n",
       "<style scoped>\n",
       "    .dataframe tbody tr th:only-of-type {\n",
       "        vertical-align: middle;\n",
       "    }\n",
       "\n",
       "    .dataframe tbody tr th {\n",
       "        vertical-align: top;\n",
       "    }\n",
       "\n",
       "    .dataframe thead th {\n",
       "        text-align: right;\n",
       "    }\n",
       "</style>\n",
       "<table border=\"1\" class=\"dataframe\">\n",
       "  <thead>\n",
       "    <tr style=\"text-align: right;\">\n",
       "      <th></th>\n",
       "      <th>Unnamed: 0</th>\n",
       "      <th>id</th>\n",
       "      <th>date</th>\n",
       "      <th>title</th>\n",
       "      <th>content</th>\n",
       "      <th>username</th>\n",
       "      <th>commentCount</th>\n",
       "      <th>score</th>\n",
       "      <th>subreddit</th>\n",
       "      <th>Code</th>\n",
       "      <th>sentiment</th>\n",
       "    </tr>\n",
       "  </thead>\n",
       "  <tbody>\n",
       "    <tr>\n",
       "      <th>0</th>\n",
       "      <td>0</td>\n",
       "      <td>absdf</td>\n",
       "      <td>2019-08-03 11:27:29</td>\n",
       "      <td>中国产C919飞机有一大缺点 难获国际市场</td>\n",
       "      <td>中国C919飞机原定于去年年底交付。虽然在今年5月完成了即将交付用户的首架飞机的试飞，但还没...</td>\n",
       "      <td>xl</td>\n",
       "      <td>0</td>\n",
       "      <td>0</td>\n",
       "      <td>SouthwestAirlines</td>\n",
       "      <td>WN</td>\n",
       "      <td>NEUTRAL</td>\n",
       "    </tr>\n",
       "    <tr>\n",
       "      <th>1</th>\n",
       "      <td>1</td>\n",
       "      <td>1g7qgpv</td>\n",
       "      <td>2024-10-20 12:04:51</td>\n",
       "      <td>Question/Help</td>\n",
       "      <td>Hey everyone, I know it’s a long shot, but I t...</td>\n",
       "      <td>Kmelloww</td>\n",
       "      <td>4</td>\n",
       "      <td>0</td>\n",
       "      <td>SouthwestAirlines</td>\n",
       "      <td>WN</td>\n",
       "      <td>NEGATIVE</td>\n",
       "    </tr>\n",
       "    <tr>\n",
       "      <th>2</th>\n",
       "      <td>2</td>\n",
       "      <td>1g7plv5</td>\n",
       "      <td>2024-10-20 11:12:20</td>\n",
       "      <td>Airpods left on plane</td>\n",
       "      <td>I left my airpods on a recent flight and I can...</td>\n",
       "      <td>Ph4Nt0M218</td>\n",
       "      <td>6</td>\n",
       "      <td>3</td>\n",
       "      <td>SouthwestAirlines</td>\n",
       "      <td>WN</td>\n",
       "      <td>NEGATIVE</td>\n",
       "    </tr>\n",
       "    <tr>\n",
       "      <th>3</th>\n",
       "      <td>4</td>\n",
       "      <td>1g7o4ce</td>\n",
       "      <td>2024-10-20 09:44:42</td>\n",
       "      <td>If I book 4 tickets together and I’m A-List, w...</td>\n",
       "      <td>I know all the tickets in my booking get my bo...</td>\n",
       "      <td>DoubleJob6790</td>\n",
       "      <td>3</td>\n",
       "      <td>3</td>\n",
       "      <td>SouthwestAirlines</td>\n",
       "      <td>WN</td>\n",
       "      <td>NEUTRAL</td>\n",
       "    </tr>\n",
       "    <tr>\n",
       "      <th>4</th>\n",
       "      <td>5</td>\n",
       "      <td>1g7nqmh</td>\n",
       "      <td>2024-10-20 09:23:06</td>\n",
       "      <td>Elliott, Southwest Airlines to begin settlemen...</td>\n",
       "      <td>Interesting</td>\n",
       "      <td>Even-Compote2602</td>\n",
       "      <td>9</td>\n",
       "      <td>20</td>\n",
       "      <td>SouthwestAirlines</td>\n",
       "      <td>WN</td>\n",
       "      <td>POSITIVE</td>\n",
       "    </tr>\n",
       "  </tbody>\n",
       "</table>\n",
       "</div>"
      ],
      "text/plain": [
       "   Unnamed: 0       id                 date  \\\n",
       "0           0    absdf  2019-08-03 11:27:29   \n",
       "1           1  1g7qgpv  2024-10-20 12:04:51   \n",
       "2           2  1g7plv5  2024-10-20 11:12:20   \n",
       "3           4  1g7o4ce  2024-10-20 09:44:42   \n",
       "4           5  1g7nqmh  2024-10-20 09:23:06   \n",
       "\n",
       "                                               title  \\\n",
       "0                              中国产C919飞机有一大缺点 难获国际市场   \n",
       "1                                      Question/Help   \n",
       "2                              Airpods left on plane   \n",
       "3  If I book 4 tickets together and I’m A-List, w...   \n",
       "4  Elliott, Southwest Airlines to begin settlemen...   \n",
       "\n",
       "                                             content          username  \\\n",
       "0  中国C919飞机原定于去年年底交付。虽然在今年5月完成了即将交付用户的首架飞机的试飞，但还没...                xl   \n",
       "1  Hey everyone, I know it’s a long shot, but I t...          Kmelloww   \n",
       "2  I left my airpods on a recent flight and I can...        Ph4Nt0M218   \n",
       "3  I know all the tickets in my booking get my bo...     DoubleJob6790   \n",
       "4                                       Interesting   Even-Compote2602   \n",
       "\n",
       "   commentCount  score          subreddit Code sentiment  \n",
       "0             0      0  SouthwestAirlines   WN   NEUTRAL  \n",
       "1             4      0  SouthwestAirlines   WN  NEGATIVE  \n",
       "2             6      3  SouthwestAirlines   WN  NEGATIVE  \n",
       "3             3      3  SouthwestAirlines   WN   NEUTRAL  \n",
       "4             9     20  SouthwestAirlines   WN  POSITIVE  "
      ]
     },
     "execution_count": 3,
     "metadata": {},
     "output_type": "execute_result"
    }
   ],
   "source": [
    "post_data.head(5)"
   ]
  },
  {
   "cell_type": "code",
   "execution_count": 4,
   "metadata": {},
   "outputs": [],
   "source": [
    "# Filtering non-english posts\n",
    "from langdetect import detect, DetectorFactory\n",
    "from langdetect.lang_detect_exception import LangDetectException\n",
    "\n",
    "DetectorFactory.seed = 42\n",
    "\n",
    "def is_english(text):\n",
    "    try:\n",
    "        return detect(text) == 'en'\n",
    "    except LangDetectException:\n",
    "        return False"
   ]
  },
  {
   "cell_type": "code",
   "execution_count": 5,
   "metadata": {},
   "outputs": [
    {
     "name": "stderr",
     "output_type": "stream",
     "text": [
      "[nltk_data] Downloading package stopwords to\n",
      "[nltk_data]     C:\\Users\\kengb\\AppData\\Roaming\\nltk_data...\n",
      "[nltk_data]   Package stopwords is already up-to-date!\n"
     ]
    }
   ],
   "source": [
    "# Preprocessing text\n",
    "import re\n",
    "import nltk\n",
    "from nltk.corpus import stopwords\n",
    "\n",
    "nltk.download('stopwords')\n",
    "stop_words = set(stopwords.words('english'))\n",
    "\n",
    "def preprocess_text(text):\n",
    "    # convert to lowercase\n",
    "    text = text.lower()\n",
    "    # remove numbers\n",
    "    text = re.sub(r'\\d+', '', text)\n",
    "    # remove punctuation\n",
    "    text = re.sub(r'[^\\w\\s]', '', text)\n",
    "    # remove whitespaces\n",
    "    text = ' '.join([word for word in text.split() if word not in stop_words])\n",
    "    return text"
   ]
  },
  {
   "cell_type": "code",
   "execution_count": 6,
   "metadata": {},
   "outputs": [
    {
     "name": "stderr",
     "output_type": "stream",
     "text": [
      "C:\\Users\\kengb\\AppData\\Local\\Temp\\ipykernel_23416\\4228701406.py:3: SettingWithCopyWarning: \n",
      "A value is trying to be set on a copy of a slice from a DataFrame.\n",
      "Try using .loc[row_indexer,col_indexer] = value instead\n",
      "\n",
      "See the caveats in the documentation: https://pandas.pydata.org/pandas-docs/stable/user_guide/indexing.html#returning-a-view-versus-a-copy\n",
      "  test_data['content'] = test_data['title'] + ' ' + test_data['content']\n",
      "C:\\Users\\kengb\\AppData\\Local\\Temp\\ipykernel_23416\\4228701406.py:4: SettingWithCopyWarning: \n",
      "A value is trying to be set on a copy of a slice from a DataFrame.\n",
      "Try using .loc[row_indexer,col_indexer] = value instead\n",
      "\n",
      "See the caveats in the documentation: https://pandas.pydata.org/pandas-docs/stable/user_guide/indexing.html#returning-a-view-versus-a-copy\n",
      "  test_data['content'] = test_data['content'].apply(preprocess_text)\n"
     ]
    },
    {
     "data": {
      "text/plain": [
       "(440, 11)"
      ]
     },
     "execution_count": 6,
     "metadata": {},
     "output_type": "execute_result"
    }
   ],
   "source": [
    "test_data = post_data[post_data['content'].apply(is_english)]\n",
    "# combine title with content\n",
    "test_data['content'] = test_data['title'] + ' ' + test_data['content']\n",
    "test_data['content'] = test_data['content'].apply(preprocess_text)\n",
    "test_data.shape"
   ]
  },
  {
   "cell_type": "code",
   "execution_count": 7,
   "metadata": {},
   "outputs": [
    {
     "data": {
      "text/html": [
       "<div>\n",
       "<style scoped>\n",
       "    .dataframe tbody tr th:only-of-type {\n",
       "        vertical-align: middle;\n",
       "    }\n",
       "\n",
       "    .dataframe tbody tr th {\n",
       "        vertical-align: top;\n",
       "    }\n",
       "\n",
       "    .dataframe thead th {\n",
       "        text-align: right;\n",
       "    }\n",
       "</style>\n",
       "<table border=\"1\" class=\"dataframe\">\n",
       "  <thead>\n",
       "    <tr style=\"text-align: right;\">\n",
       "      <th></th>\n",
       "      <th>id</th>\n",
       "      <th>date</th>\n",
       "      <th>content</th>\n",
       "    </tr>\n",
       "  </thead>\n",
       "  <tbody>\n",
       "    <tr>\n",
       "      <th>0</th>\n",
       "      <td>1g7qgpv</td>\n",
       "      <td>2024-10-20 12:04:51</td>\n",
       "      <td>questionhelp hey everyone know long shot thoug...</td>\n",
       "    </tr>\n",
       "    <tr>\n",
       "      <th>1</th>\n",
       "      <td>1g7plv5</td>\n",
       "      <td>2024-10-20 11:12:20</td>\n",
       "      <td>airpods left plane left airpods recent flight ...</td>\n",
       "    </tr>\n",
       "    <tr>\n",
       "      <th>2</th>\n",
       "      <td>1g7o4ce</td>\n",
       "      <td>2024-10-20 09:44:42</td>\n",
       "      <td>book tickets together im alist confirmed day c...</td>\n",
       "    </tr>\n",
       "    <tr>\n",
       "      <th>3</th>\n",
       "      <td>1g7nqmh</td>\n",
       "      <td>2024-10-20 09:23:06</td>\n",
       "      <td>elliott southwest airlines begin settlement di...</td>\n",
       "    </tr>\n",
       "    <tr>\n",
       "      <th>4</th>\n",
       "      <td>1g7no5o</td>\n",
       "      <td>2024-10-20 09:19:10</td>\n",
       "      <td>silly question app booked flights downloaded a...</td>\n",
       "    </tr>\n",
       "  </tbody>\n",
       "</table>\n",
       "</div>"
      ],
      "text/plain": [
       "        id                 date  \\\n",
       "0  1g7qgpv  2024-10-20 12:04:51   \n",
       "1  1g7plv5  2024-10-20 11:12:20   \n",
       "2  1g7o4ce  2024-10-20 09:44:42   \n",
       "3  1g7nqmh  2024-10-20 09:23:06   \n",
       "4  1g7no5o  2024-10-20 09:19:10   \n",
       "\n",
       "                                             content  \n",
       "0  questionhelp hey everyone know long shot thoug...  \n",
       "1  airpods left plane left airpods recent flight ...  \n",
       "2  book tickets together im alist confirmed day c...  \n",
       "3  elliott southwest airlines begin settlement di...  \n",
       "4  silly question app booked flights downloaded a...  "
      ]
     },
     "execution_count": 7,
     "metadata": {},
     "output_type": "execute_result"
    }
   ],
   "source": [
    "# Sanity check\n",
    "\n",
    "test_data = test_data.drop(columns=['Unnamed: 0', 'title', 'username', 'commentCount', 'score', 'subreddit', 'Code', 'sentiment'])\n",
    "test_data = test_data.reset_index(drop=True)\n",
    "test_data.head(5)"
   ]
  },
  {
   "cell_type": "markdown",
   "metadata": {},
   "source": [
    "## Aspect Extraction\n",
    "Getting the subjects / aspects / topics in the text to extract sentiments about later. Using Latent Dirichlet Allocation (LDA)."
   ]
  },
  {
   "cell_type": "code",
   "execution_count": 8,
   "metadata": {},
   "outputs": [
    {
     "data": {
      "text/plain": [
       "array(['aa', 'aa flight', 'able', 'able get', 'accept', 'account',\n",
       "       'across', 'actually', 'added', 'additional', 'advance', 'advice',\n",
       "       'agency', 'agent', 'agents', 'ago', 'ahead', 'air', 'aircraft',\n",
       "       'airline', 'airlines', 'airlines customer', 'airlines flight',\n",
       "       'airport', 'airports', 'aisle', 'alaska', 'alaska airlines',\n",
       "       'alist', 'allow', 'allowed', 'almost', 'alone', 'along', 'already',\n",
       "       'also', 'although', 'always', 'american', 'american airlines',\n",
       "       'americanair', 'amex', 'amount', 'another', 'another airline',\n",
       "       'another flight', 'answer', 'anyone', 'anyone else',\n",
       "       'anyone experience', 'anyone know', 'anything', 'anyway',\n",
       "       'anyways', 'app', 'apparently', 'application', 'applied', 'apply',\n",
       "       'appreciated', 'approved', 'area', 'around', 'arrival', 'arrive',\n",
       "       'arrived', 'ask', 'asked', 'asking', 'assigned',\n",
       "       'assigned seating', 'assigned seats', 'assignments', 'athens',\n",
       "       'atl', 'atlanta', 'atlantic', 'attendant', 'attendants',\n",
       "       'available', 'away', 'baby', 'back', 'back home', 'backpack',\n",
       "       'bad', 'bag', 'baggage', 'baggage claim', 'bags', 'based', 'basic',\n",
       "       'basically', 'bc', 'behind', 'believe', 'benefit', 'benefits',\n",
       "       'best', 'better', 'big', 'bin', 'bird', 'bit', 'board', 'boarded',\n",
       "       'boarding', 'boarding pass', 'boarding position', 'boeing',\n",
       "       'bonus', 'bonus points', 'book', 'book flight', 'booked',\n",
       "       'booked flight', 'booking', 'bos', 'bought', 'bring', 'budget',\n",
       "       'business', 'business card', 'buy', 'buying', 'bwi', 'cabin',\n",
       "       'california', 'call', 'called', 'calling', 'came', 'cancel',\n",
       "       'cancel flight', 'canceled', 'canceled flight', 'cancellation',\n",
       "       'cancelled', 'cannot', 'cant', 'cant get', 'car', 'car seat',\n",
       "       'card', 'card bonus', 'cards', 'care', 'carrier', 'carry',\n",
       "       'carry ons', 'carryon', 'case', 'cat', 'catch', 'cats', 'cc',\n",
       "       'certificate', 'certificates', 'chance', 'change', 'change flight',\n",
       "       'changed', 'changes', 'charge', 'charged', 'charlotte', 'chase',\n",
       "       'chat', 'cheaper', 'check', 'checked', 'checked bag',\n",
       "       'checked bags', 'checkin', 'checking', 'chicago', 'children',\n",
       "       'choice', 'choose', 'chose', 'claim', 'class', 'clear', 'close',\n",
       "       'closed', 'closing', 'code', 'collect', 'come', 'come back',\n",
       "       'comes', 'comfort', 'coming', 'companion', 'companion certificate',\n",
       "       'companion pass', 'company', 'compensation', 'complaint',\n",
       "       'complete', 'completely', 'confirmation', 'confirmed', 'confused',\n",
       "       'connecting', 'connecting flight', 'connection', 'considering',\n",
       "       'contact', 'correct', 'cost', 'costco', 'costs', 'could',\n",
       "       'could get', 'couldnt', 'count', 'couple', 'course', 'cover', 'cp',\n",
       "       'credit', 'credit card', 'credits', 'crew', 'curious', 'current',\n",
       "       'currently', 'customer', 'customer service', 'customers', 'dallas',\n",
       "       'date', 'dates', 'daughter', 'day', 'days', 'days ago', 'deal',\n",
       "       'decided', 'definitely', 'delay', 'delayed', 'delayed hours',\n",
       "       'delays', 'delta', 'delta airlines', 'delta flight', 'deltas',\n",
       "       'den', 'denied', 'denied boarding', 'denver', 'departure',\n",
       "       'departure time', 'desk', 'desk agent', 'destination',\n",
       "       'destinations', 'details', 'detroit', 'dfw', 'didnt', 'didnt get',\n",
       "       'diego', 'difference', 'different', 'digit', 'direct', 'discount',\n",
       "       'dl', 'documents', 'doesnt', 'doesnt seem', 'dog', 'domestic',\n",
       "       'done', 'dont', 'dont care', 'dont know', 'dont want', 'door',\n",
       "       'double', 'drive', 'drop', 'dropped', 'due', 'earlier', 'early',\n",
       "       'early bird', 'earn', 'economy', 'edit', 'either', 'elite', 'else',\n",
       "       'email', 'emails', 'employees', 'empty', 'end', 'enough', 'ensure',\n",
       "       'entire', 'error', 'etc', 'europe', 'even', 'even though',\n",
       "       'eventually', 'ever', 'every', 'every flight', 'everyone',\n",
       "       'everything', 'exactly', 'example', 'excited', 'expect',\n",
       "       'expenses', 'expensive', 'experience', 'experienced',\n",
       "       'experiences', 'expired', 'explained', 'extra', 'family', 'fare',\n",
       "       'fares', 'fault', 'fee', 'feel', 'fees', 'figure', 'figured',\n",
       "       'fill', 'finally', 'find', 'fine', 'first', 'first class',\n",
       "       'first leg', 'first time', 'fit', 'fits', 'fix', 'flew', 'flight',\n",
       "       'flight attendant', 'flight attendants', 'flight back',\n",
       "       'flight booked', 'flight credit', 'flight crew', 'flight delayed',\n",
       "       'flight got', 'flight next', 'flight still', 'flight time',\n",
       "       'flights', 'florida', 'flown', 'fly', 'flyer', 'flying',\n",
       "       'flying frontier', 'flying southwest', 'folks', 'food', 'form',\n",
       "       'found', 'four', 'free', 'friday', 'front', 'frontier',\n",
       "       'frontier airlines', 'frustrating', 'full', 'fully', 'future',\n",
       "       'gate', 'gate agent', 'gate agents', 'gave', 'get', 'get back',\n",
       "       'get cancelled', 'get home', 'get plane', 'get points',\n",
       "       'get refund', 'gets', 'getting', 'gift', 'gift card', 'give',\n",
       "       'given', 'giving', 'go', 'go wild', 'goes', 'going', 'gold',\n",
       "       'gonna', 'good', 'google', 'got', 'gotten', 'great', 'group',\n",
       "       'guess', 'guys', 'ha', 'half', 'happen', 'happened', 'happens',\n",
       "       'hard', 'havent', 'hawaii', 'hawaiian', 'hawaiian airlines',\n",
       "       'hear', 'heard', 'hello', 'help', 'hey', 'hi', 'hit', 'hnl',\n",
       "       'hold', 'home', 'honolulu', 'hope', 'hoping', 'hotel', 'hour',\n",
       "       'hours', 'however', 'hr', 'hrs', 'hurricane', 'husband', 'id',\n",
       "       'id like', 'idea', 'ill', 'im', 'im flying', 'im getting',\n",
       "       'im going', 'im sure', 'im trying', 'im wondering', 'imagine',\n",
       "       'immediately', 'impossible', 'including', 'inflight', 'info',\n",
       "       'information', 'initially', 'inside', 'instead', 'insurance',\n",
       "       'international', 'isnt', 'issue', 'issued', 'issues', 'item',\n",
       "       'items', 'itinerary', 'ive', 'january', 'jfk', 'job', 'july',\n",
       "       'keep', 'keeps', 'kept', 'kid', 'kids', 'kind', 'klm', 'know',\n",
       "       'knows', 'la', 'lack', 'land', 'landed', 'las', 'las vegas',\n",
       "       'last', 'last minute', 'last night', 'last time', 'late', 'later',\n",
       "       'lax', 'layover', 'layover denver', 'learned', 'least', 'leave',\n",
       "       'leaving', 'left', 'leg', 'legs', 'less', 'let', 'let us', 'level',\n",
       "       'lga', 'like', 'like know', 'likely', 'limit', 'line', 'link',\n",
       "       'list', 'literally', 'little', 'live', 'lol', 'long', 'longer',\n",
       "       'look', 'looked', 'looking', 'looks', 'looks like', 'lost', 'lot',\n",
       "       'lots', 'lounge', 'love', 'low', 'loyalty', 'luck', 'luggage',\n",
       "       'made', 'main', 'main cabin', 'maintenance', 'make', 'make sure',\n",
       "       'makes', 'making', 'manager', 'managing', 'many', 'match',\n",
       "       'matter', 'may', 'maybe', 'mco', 'mean', 'mechanical', 'medallion',\n",
       "       'medical', 'member', 'merger', 'middle', 'miles', 'milton', 'min',\n",
       "       'mind', 'mine', 'minneapolis', 'minute', 'minute layover',\n",
       "       'minutes', 'miss', 'missed', 'missed flight', 'missing', 'money',\n",
       "       'month', 'months', 'months ago', 'morning', 'move', 'moved',\n",
       "       'much', 'must', 'name', 'nd', 'nearly', 'need', 'needed', 'needs',\n",
       "       'never', 'new', 'new flight', 'new york', 'news', 'next',\n",
       "       'next day', 'next flight', 'night', 'none', 'nothing', 'noticed',\n",
       "       'number', 'oakland', 'obviously', 'oct', 'offer', 'offered',\n",
       "       'offers', 'often', 'oh', 'ok', 'okay', 'old', 'one', 'one flight',\n",
       "       'one way', 'ones', 'oneway', 'online', 'ons', 'open', 'option',\n",
       "       'options', 'order', 'original', 'originally', 'orlando', 'others',\n",
       "       'outage', 'overbooked', 'overhead', 'paid', 'part', 'partner',\n",
       "       'pass', 'passengers', 'passport', 'password', 'past', 'pay',\n",
       "       'paying', 'people', 'per', 'person', 'personal', 'personal item',\n",
       "       'pet', 'philadelphia', 'phoenix', 'phone', 'picking', 'pilot',\n",
       "       'pilots', 'place', 'plan', 'plane', 'planning', 'plans',\n",
       "       'platinum', 'please', 'plenty', 'plus', 'pm', 'pm flight', 'point',\n",
       "       'points', 'policy', 'portland', 'position', 'possible', 'post',\n",
       "       'posted', 'preferred', 'premium', 'pretty', 'price', 'prices',\n",
       "       'pricing', 'prior', 'priority', 'probably', 'problem', 'process',\n",
       "       'promo', 'proof', 'provide', 'pull', 'purchase', 'purchased',\n",
       "       'put', 'qatar', 'question', 'questions', 'quick', 'quickly',\n",
       "       'ramp', 'ran', 'random', 'rather', 'read', 'real', 'really',\n",
       "       'reason', 'rebook', 'rebook flight', 'rebooked', 'rebooking',\n",
       "       'receive', 'received', 'recent', 'recently', 'referral', 'refund',\n",
       "       'refundable', 'refunded', 'refused', 'reimbursed', 'reimbursement',\n",
       "       'rental', 'report', 'request', 'requested', 'reschedule',\n",
       "       'rescheduled', 'reservation', 'reservations', 'resolve', 'return',\n",
       "       'return flight', 'returned', 'rewards', 'right', 'room', 'round',\n",
       "       'round trip', 'route', 'row', 'rr', 'rude', 'rule', 'run',\n",
       "       'sacramento', 'safe', 'said', 'sale', 'san', 'san diego', 'save',\n",
       "       'saw', 'say', 'saying', 'saying flight', 'says', 'scam', 'scared',\n",
       "       'schedule', 'scheduled', 'search', 'seat', 'seat assignments',\n",
       "       'seating', 'seats', 'seattle', 'second', 'security', 'see',\n",
       "       'seeing', 'seem', 'seemed', 'seems', 'seems like', 'seen',\n",
       "       'select', 'selection', 'send', 'sense', 'sent', 'separate',\n",
       "       'separated', 'september', 'service', 'several', 'sfo', 'share',\n",
       "       'shit', 'short', 'show', 'showed', 'showing', 'sign', 'signed',\n",
       "       'similar', 'since', 'single', 'sister', 'sit', 'site', 'sitting',\n",
       "       'situation', 'size', 'sky', 'skyclub', 'skymiles', 'small', 'sold',\n",
       "       'someone', 'something', 'something similar', 'somewhere', 'son',\n",
       "       'soon', 'sorry', 'southwest', 'space', 'speak', 'spend',\n",
       "       'spending', 'spent', 'st', 'staff', 'standby', 'starlink', 'start',\n",
       "       'started', 'statement', 'status', 'still', 'stolen', 'stop',\n",
       "       'story', 'stranded', 'stroller', 'stuck', 'stuff', 'sucks',\n",
       "       'suddenly', 'suggest', 'suggestions', 'suitcase', 'sunday',\n",
       "       'super', 'supervisor', 'support', 'suppose', 'supposed', 'sure',\n",
       "       'surprise', 'surprised', 'sw', 'swa', 'system', 'take', 'taken',\n",
       "       'takes', 'taking', 'talk', 'tech', 'tell', 'telling', 'terms',\n",
       "       'text', 'th', 'thank', 'thanks', 'thanks advance', 'thats',\n",
       "       'theres', 'theyll', 'theyre', 'thing', 'things', 'think',\n",
       "       'thinking', 'though', 'thought', 'thoughts', 'three', 'ticket',\n",
       "       'tickets', 'time', 'time flying', 'times', 'times week', 'tips',\n",
       "       'today', 'together', 'told', 'tomorrow', 'tonight', 'took', 'top',\n",
       "       'total', 'towards', 'transfer', 'transferred', 'travel',\n",
       "       'travel credit', 'traveled', 'traveling', 'tried', 'trip', 'trips',\n",
       "       'try', 'trying', 'trying get', 'tsa', 'tuesday', 'twice', 'two',\n",
       "       'ultimately', 'unable', 'understand', 'unfortunately', 'united',\n",
       "       'university', 'upcoming', 'update', 'upgrade', 'upgraded',\n",
       "       'upgrades', 'uplift', 'us', 'usa', 'use', 'used', 'using', 'usual',\n",
       "       'vacation', 'valid', 'value', 'vegas', 'via', 'virgin',\n",
       "       'virgin atlantic', 'visit', 'voucher', 'wait', 'waited', 'waiting',\n",
       "       'walk', 'walked', 'walking', 'want', 'want make', 'wanted',\n",
       "       'wanting', 'wasnt', 'way', 'way get', 'weather', 'website', 'wed',\n",
       "       'wednesday', 'week', 'weekend', 'weeks', 'weight', 'welcome',\n",
       "       'well', 'went', 'weve', 'whats', 'whole', 'wife', 'wifi', 'wild',\n",
       "       'wild pass', 'within', 'without', 'wondering', 'wondering anyone',\n",
       "       'wont', 'work', 'worked', 'working', 'works', 'world', 'worried',\n",
       "       'worst', 'worth', 'would', 'would like', 'wouldnt', 'wrong', 'xx',\n",
       "       'year', 'year old', 'years', 'yes', 'yesterday', 'yet', 'york',\n",
       "       'young', 'youre', 'zone'], dtype=object)"
      ]
     },
     "execution_count": 8,
     "metadata": {},
     "output_type": "execute_result"
    }
   ],
   "source": [
    "from sklearn.feature_extraction.text import TfidfVectorizer\n",
    "from sklearn.decomposition import LatentDirichletAllocation\n",
    "\n",
    "vectorizer = TfidfVectorizer(max_features=1000, ngram_range=(1, 2))\n",
    "X = vectorizer.fit_transform(test_data['content'])\n",
    "vectorizer.get_feature_names_out()"
   ]
  },
  {
   "cell_type": "code",
   "execution_count": 9,
   "metadata": {},
   "outputs": [
    {
     "name": "stdout",
     "output_type": "stream",
     "text": [
      "Topic 0:\n",
      "['wild', 'seat', 'seattle', 'go wild', 'password', 'orlando', 'first', 'wifi', 'class', 'first class']\n",
      "\n",
      "Topic 1:\n",
      "['gate', 'bag', 'carry', 'airlines', 'plane', 'aa', 'alaska', 'hawaiian', 'flight', 'seat']\n",
      "\n",
      "Topic 2:\n",
      "['bring', 'weight', 'flight', 'personal', 'jfk', 'anyone', 'airlines', 'item', 'personal item', 'southwest']\n",
      "\n",
      "Topic 3:\n",
      "['ticket', 'miles', 'time', 'credit', 'card', 'flights', 'delta', 'im', 'get', 'flight']\n",
      "\n",
      "Topic 4:\n",
      "['schedule', 'baggage', 'car seat', 'item', 'application', 'lost', 'need', 'starlink', 'carryon', 'car']\n",
      "\n"
     ]
    }
   ],
   "source": [
    "# 5 topics\n",
    "lda_model = LatentDirichletAllocation(n_components=5, random_state=42)\n",
    "lda_model.fit(X)\n",
    "\n",
    "topics = lda_model.components_\n",
    "feature_names = vectorizer.get_feature_names_out()\n",
    "\n",
    "for idx, topic in enumerate(topics):\n",
    "    print(f'Topic {idx}:')\n",
    "    print([feature_names[i] for i in topic.argsort()[-10:]])\n",
    "    print()"
   ]
  },
  {
   "cell_type": "code",
   "execution_count": 10,
   "metadata": {},
   "outputs": [
    {
     "data": {
      "text/plain": [
       "array([3, 3, 3, 2, 3, 3, 0, 2, 3, 0, 3, 3, 1, 0, 3, 1, 3, 3, 1, 3, 3, 3,\n",
       "       1, 3, 3, 1, 3, 3, 3, 1, 3, 3, 3, 3, 3, 3, 3, 3, 3, 3, 4, 1, 3, 3,\n",
       "       3, 3, 3, 1, 1, 2, 3, 3, 3, 3, 3, 0, 2, 3, 3, 3, 3, 3, 1, 3, 3, 3,\n",
       "       3, 3, 1, 3, 1, 3, 2, 3, 4, 1, 3, 3, 0, 3, 3, 3, 1, 3, 4, 1, 3, 1,\n",
       "       3, 1, 0, 1, 4, 4, 1, 0, 1, 3, 1, 1, 3, 1, 1, 1, 3, 1, 1, 3, 4, 3,\n",
       "       3, 3, 3, 3, 1, 3, 1, 3, 4, 3, 1, 3, 3, 3, 3, 3, 3, 4, 3, 3, 1, 1,\n",
       "       1, 3, 1, 3, 3, 1, 3, 4, 0, 1, 3, 1, 3, 3, 1, 3, 4, 2, 3, 3, 3, 3,\n",
       "       3, 3, 3, 1, 3, 3, 1, 3, 1, 1, 4, 1, 3, 0, 1, 3, 3, 1, 3, 1, 0, 1,\n",
       "       3, 1, 3, 3, 4, 3, 3, 4, 2, 3, 3, 3, 3, 3, 3, 3, 3, 3, 3, 3, 3, 3,\n",
       "       3, 3, 3, 2, 1, 3, 3, 1, 1, 1, 1, 3, 1, 1, 1, 0, 3, 2, 1, 3, 1, 1,\n",
       "       3, 3, 2, 2, 3, 3, 1, 1, 3, 3, 3, 3, 3, 3, 1, 3, 3, 2, 1, 1, 1, 3,\n",
       "       3, 3, 3, 3, 3, 3, 3, 3, 3, 3, 3, 3, 3, 2, 3, 1, 3, 1, 4, 3, 3, 2,\n",
       "       3, 3, 2, 1, 1, 3, 1, 3, 3, 3, 1, 1, 3, 3, 3, 1, 3, 3, 4, 3, 1, 1,\n",
       "       3, 3, 1, 1, 3, 3, 3, 3, 1, 3, 1, 3, 3, 3, 3, 3, 3, 3, 3, 3, 3, 3,\n",
       "       3, 1, 3, 1, 1, 1, 3, 0, 1, 3, 0, 3, 3, 3, 3, 3, 1, 3, 3, 3, 1, 3,\n",
       "       1, 3, 1, 3, 1, 3, 3, 3, 3, 3, 1, 4, 3, 3, 3, 3, 3, 1, 1, 4, 3, 3,\n",
       "       3, 3, 3, 3, 3, 4, 3, 3, 1, 3, 3, 3, 3, 3, 3, 3, 3, 3, 3, 4, 2, 3,\n",
       "       3, 1, 4, 3, 1, 3, 1, 3, 1, 3, 3, 3, 3, 3, 3, 3, 1, 3, 3, 1, 3, 3,\n",
       "       3, 3, 2, 3, 3, 3, 3, 3, 3, 1, 3, 3, 3, 3, 2, 3, 1, 1, 3, 3, 3, 1,\n",
       "       3, 3, 3, 1, 2, 2, 3, 3, 0, 3, 3, 3, 3, 1, 3, 3, 3, 3, 3, 3, 3, 3])"
      ]
     },
     "execution_count": 10,
     "metadata": {},
     "output_type": "execute_result"
    }
   ],
   "source": [
    "document_topics = lda_model.transform(X)\n",
    "dominant_topics = document_topics.argmax(axis=1)\n",
    "dominant_topics"
   ]
  },
  {
   "cell_type": "code",
   "execution_count": 11,
   "metadata": {},
   "outputs": [
    {
     "name": "stdout",
     "output_type": "stream",
     "text": [
      "Topic 0:\n",
      "['id', 'instead', 'reservations', 'best', 'exactly', 'mco', 'stolen', 'difference', 'trips', 'group', 'vegas', 'destinations', 'top', 'link', 'seating', 'las', 'las vegas', 'anyone', 'open', 'skyclub', 'ones', 'trying get', 'seats', 'lounge', 'update', 'american', 'often', 'whats', 'economy', 'fault', 'philadelphia', 'seat assignments', 'assignments', 'look', 'uplift', 'oakland', 'wild pass', 'st', 'go', 'domestic', 'wild', 'seat', 'seattle', 'go wild', 'password', 'orlando', 'first', 'wifi', 'class', 'first class']\n",
      "\"Travel Seat Dynamics\"\n",
      "Topic 1:\n",
      "['hawaii', 'big', 'shit', 'american', 'never', 'hold', 'board', 'us', 'hi', 'going', 'gold', 'got', 'group', 'like', 'international', 'staff', 'question', 'customer', 'checked', 'people', 'didnt', 'hawaiian airlines', 'frontier', 'airport', 'pilots', 'agent', 'flying', 'status', 'said', 'would', 'anyone', 'swa', 'crew', 'free', 'check', 'delta', 'know', 'im', 'get', 'boarding', 'gate', 'bag', 'carry', 'airlines', 'plane', 'aa', 'alaska', 'hawaiian', 'flight', 'seat']\n",
      "**Airline Experience Chronicles**\n",
      "Topic 2:\n",
      "['cards', 'job', 'count', 'safe', 'super', 'aircraft', 'lounge', 'athens', 'small', 'please', 'denied boarding', 'share', 'last', 'seen', 'im flying', 'checking', 'flying southwest', 'also', 'backpack', 'anyone know', 'says', 'phoenix', 'attendants', 'match', 'flying', 'experiences', 'flight attendants', 'airline', 'information', 'back', 'im', 'gift card', 'like', 'gift', 'outage', 'certificates', 'tech', 'gonna', 'flown', 'university', 'bring', 'weight', 'flight', 'personal', 'jfk', 'anyone', 'airlines', 'item', 'personal item', 'southwest']\n",
      "\"Airline Experience Insights\"\n",
      "Topic 3:\n",
      "['airlines', 'companion', 'new', 'check', 'need', 'us', 'airline', 'book', 'make', 'go', 'thanks', 'trip', 'cancel', 'ive', 'pass', 'able', 'dont', 'way', 'cancelled', 'help', 'days', 'seats', 'know', 'first', 'southwest', 'like', 'hours', 'credit card', 'see', 'anyone', 'back', 'flying', 'fly', 'app', 'change', 'would', 'booked', 'frontier', 'points', 'one', 'ticket', 'miles', 'time', 'credit', 'card', 'flights', 'delta', 'im', 'get', 'flight']\n",
      "\"Aviation Journey Experiences\"\n",
      "Topic 4:\n",
      "['next flight', 'daughter', 'fly', 'americanair', 'claim', 'really', 'anyone experience', 'put', 'ive', 'frontier', 'checkin', 'tomorrow', 'minneapolis', 'transfer', 'anyone know', 'virgin', 'luggage', 'bags', 'zone', 'thank', 'thanks', 'personal item', 'aa', 'think', 'min', 'anyone', 'items', 'sfo', 'advance', 'plane', 'old', 'expired', 'know', 'seat', 'medical', 'size', 'passengers', 'gets', 'row', 'denver', 'schedule', 'baggage', 'car seat', 'item', 'application', 'lost', 'need', 'starlink', 'carryon', 'car']\n",
      "\"Travel Frustrations\"\n",
      "dict_keys(['\"Travel Seat Dynamics\"', '**Airline Experience Chronicles**', '\"Airline Experience Insights\"', '\"Aviation Journey Experiences\"', '\"Travel Frustrations\"'])\n"
     ]
    }
   ],
   "source": [
    "# Get GPT to generate a title for each topic\n",
    "import collections\n",
    "from dotenv import load_dotenv\n",
    "from langchain_core.prompts import PromptTemplate\n",
    "import os\n",
    "import openai\n",
    "\n",
    "load_dotenv()\n",
    "topic_dict = collections.defaultdict(list)\n",
    "openai_model = openai.OpenAI(api_key=os.getenv('OPENAI_API_KEY'))\n",
    "\n",
    "for idx, topic in enumerate(topics):\n",
    "    print(f'Topic {idx}:')\n",
    "    \n",
    "    top_features = [feature_names[i] for i in topic.argsort()[-50:]]\n",
    "    print(top_features)\n",
    "    # feed chatgpt the words and generate a title\n",
    "    prompt = f\"\"\"Generate a unique noun phrase or one-word topic for posts that contain the following features. \n",
    "    This topic will be used for Aspect-Based Sentiment Analysis on social media data. \n",
    "    Ensure the topic is different from previously generated topics. \n",
    "    Feature names:\\n{\", \".join(top_features)}\\nTopic:\"\"\"\n",
    "    prompt = PromptTemplate.from_template(prompt)\n",
    "    response = openai_model.chat.completions.create(\n",
    "        model=\"gpt-4o-mini\",\n",
    "        messages=[{\"role\": \"user\", \"content\": prompt.template}],\n",
    "        max_tokens=10,\n",
    "        temperature=1,\n",
    "    )\n",
    "    print(response.choices[0].message.content)\n",
    "    title = response.choices[0].message.content.strip()\n",
    "    # if there are repeated topics, add an index to the title\n",
    "    if title in topic_dict:\n",
    "        title = title + \"_\" + str(idx)\n",
    "    topic_dict[title] = [feature_names[i] for i in topic.argsort()]\n",
    "print(topic_dict.keys())"
   ]
  },
  {
   "cell_type": "markdown",
   "metadata": {},
   "source": [
    "## Sentiment Analysis"
   ]
  },
  {
   "cell_type": "code",
   "execution_count": 12,
   "metadata": {},
   "outputs": [],
   "source": [
    "from vaderSentiment.vaderSentiment import SentimentIntensityAnalyzer\n",
    "\n",
    "vader_model = SentimentIntensityAnalyzer()\n",
    "\n",
    "def get_sentiment(text):\n",
    "    sentiment = vader_model.polarity_scores(text)\n",
    "    return sentiment['compound']"
   ]
  },
  {
   "cell_type": "markdown",
   "metadata": {},
   "source": [
    "## ABSA"
   ]
  },
  {
   "cell_type": "code",
   "execution_count": 13,
   "metadata": {},
   "outputs": [
    {
     "data": {
      "text/html": [
       "<div>\n",
       "<style scoped>\n",
       "    .dataframe tbody tr th:only-of-type {\n",
       "        vertical-align: middle;\n",
       "    }\n",
       "\n",
       "    .dataframe tbody tr th {\n",
       "        vertical-align: top;\n",
       "    }\n",
       "\n",
       "    .dataframe thead th {\n",
       "        text-align: right;\n",
       "    }\n",
       "</style>\n",
       "<table border=\"1\" class=\"dataframe\">\n",
       "  <thead>\n",
       "    <tr style=\"text-align: right;\">\n",
       "      <th></th>\n",
       "      <th>id</th>\n",
       "      <th>date</th>\n",
       "      <th>content</th>\n",
       "      <th>sentiment</th>\n",
       "      <th>topic</th>\n",
       "    </tr>\n",
       "  </thead>\n",
       "  <tbody>\n",
       "    <tr>\n",
       "      <th>0</th>\n",
       "      <td>1g7qgpv</td>\n",
       "      <td>2024-10-20 12:04:51</td>\n",
       "      <td>questionhelp hey everyone know long shot thoug...</td>\n",
       "      <td>0.9274</td>\n",
       "      <td>\"Aviation Journey Experiences\"</td>\n",
       "    </tr>\n",
       "    <tr>\n",
       "      <th>1</th>\n",
       "      <td>1g7plv5</td>\n",
       "      <td>2024-10-20 11:12:20</td>\n",
       "      <td>airpods left plane left airpods recent flight ...</td>\n",
       "      <td>-0.4215</td>\n",
       "      <td>\"Aviation Journey Experiences\"</td>\n",
       "    </tr>\n",
       "    <tr>\n",
       "      <th>2</th>\n",
       "      <td>1g7o4ce</td>\n",
       "      <td>2024-10-20 09:44:42</td>\n",
       "      <td>book tickets together im alist confirmed day c...</td>\n",
       "      <td>0.7906</td>\n",
       "      <td>\"Aviation Journey Experiences\"</td>\n",
       "    </tr>\n",
       "    <tr>\n",
       "      <th>3</th>\n",
       "      <td>1g7nqmh</td>\n",
       "      <td>2024-10-20 09:23:06</td>\n",
       "      <td>elliott southwest airlines begin settlement di...</td>\n",
       "      <td>0.4019</td>\n",
       "      <td>\"Airline Experience Insights\"</td>\n",
       "    </tr>\n",
       "    <tr>\n",
       "      <th>4</th>\n",
       "      <td>1g7no5o</td>\n",
       "      <td>2024-10-20 09:19:10</td>\n",
       "      <td>silly question app booked flights downloaded a...</td>\n",
       "      <td>0.9262</td>\n",
       "      <td>\"Aviation Journey Experiences\"</td>\n",
       "    </tr>\n",
       "  </tbody>\n",
       "</table>\n",
       "</div>"
      ],
      "text/plain": [
       "        id                 date  \\\n",
       "0  1g7qgpv  2024-10-20 12:04:51   \n",
       "1  1g7plv5  2024-10-20 11:12:20   \n",
       "2  1g7o4ce  2024-10-20 09:44:42   \n",
       "3  1g7nqmh  2024-10-20 09:23:06   \n",
       "4  1g7no5o  2024-10-20 09:19:10   \n",
       "\n",
       "                                             content  sentiment  \\\n",
       "0  questionhelp hey everyone know long shot thoug...     0.9274   \n",
       "1  airpods left plane left airpods recent flight ...    -0.4215   \n",
       "2  book tickets together im alist confirmed day c...     0.7906   \n",
       "3  elliott southwest airlines begin settlement di...     0.4019   \n",
       "4  silly question app booked flights downloaded a...     0.9262   \n",
       "\n",
       "                            topic  \n",
       "0  \"Aviation Journey Experiences\"  \n",
       "1  \"Aviation Journey Experiences\"  \n",
       "2  \"Aviation Journey Experiences\"  \n",
       "3   \"Airline Experience Insights\"  \n",
       "4  \"Aviation Journey Experiences\"  "
      ]
     },
     "execution_count": 13,
     "metadata": {},
     "output_type": "execute_result"
    }
   ],
   "source": [
    "for idx, row in test_data.iterrows():\n",
    "    text = row['content']\n",
    "    sentiment = get_sentiment(text)\n",
    "    test_data.at[idx, 'sentiment'] = sentiment\n",
    "    test_data.at[idx, 'topic'] = list(topic_dict.keys())[dominant_topics[idx]]\n",
    "\n",
    "test_data.head(5)"
   ]
  },
  {
   "cell_type": "code",
   "execution_count": 15,
   "metadata": {},
   "outputs": [
    {
     "data": {
      "image/png": "[encoded data removed]",
      "text/plain": [
       "<Figure size 640x480 with 1 Axes>"
      ]
     },
     "metadata": {},
     "output_type": "display_data"
    }
   ],
   "source": [
    "import matplotlib.pyplot as plt\n",
    "sentiment_summary = test_data.groupby('topic')['sentiment'].mean()\n",
    "sentiment_summary.plot(kind='bar')\n",
    "plt.show()"
   ]
  },
  {
   "cell_type": "code",
   "execution_count": 16,
   "metadata": {},
   "outputs": [
    {
     "data": {
      "image/png": "[encoded data removed]",
      "text/plain": [
       "<Figure size 640x480 with 1 Axes>"
      ]
     },
     "metadata": {},
     "output_type": "display_data"
    }
   ],
   "source": [
    "sentiment_summary = test_data.groupby('topic')['sentiment'].median()\n",
    "sentiment_summary.plot(kind='bar')\n",
    "plt.show()"
   ]
  },
  {
   "cell_type": "markdown",
   "metadata": {},
   "source": [
    "## Saving Files"
   ]
  },
  {
   "cell_type": "code",
   "execution_count": 17,
   "metadata": {},
   "outputs": [],
   "source": [
    "import pickle\n",
    "\n",
    "with open('../models/lda_model.pkl', 'wb') as f:\n",
    "    pickle.dump(lda_model, f)"
   ]
  },
  {
   "cell_type": "code",
   "execution_count": 18,
   "metadata": {},
   "outputs": [],
   "source": [
    "with open('../models/vectorizer.pkl', 'wb') as f:\n",
    "    pickle.dump(vectorizer, f)"
   ]
  }
 ],
 "metadata": {
  "kernelspec": {
   "display_name": ".venv",
   "language": "python",
   "name": "python3"
  },
  "language_info": {
   "codemirror_mode": {
    "name": "ipython",
    "version": 3
   },
   "file_extension": ".py",
   "mimetype": "text/x-python",
   "name": "python",
   "nbconvert_exporter": "python",
   "pygments_lexer": "ipython3",
   "version": "3.9.13"
  }
 },
 "nbformat": 4,
 "nbformat_minor": 2
}
