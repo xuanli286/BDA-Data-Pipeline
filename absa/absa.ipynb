{
 "cells": [
  {
   "cell_type": "markdown",
   "metadata": {},
   "source": [
    "# This notebook serves as a testbed for the ABSA pipeline before we actually create scripts and a working pipeline.\n",
    "\n",
    "Code implementation can be found in absa_model.py.\n",
    "Example usage can be found in test.ipynb"
   ]
  },
  {
   "cell_type": "code",
   "execution_count": 1,
   "metadata": {},
   "outputs": [],
   "source": [
    "# !python -m spacy download en_core_web_sm"
   ]
  },
  {
   "cell_type": "markdown",
   "metadata": {},
   "source": [
    "## Load data and clean"
   ]
  },
  {
   "cell_type": "code",
   "execution_count": 1,
   "metadata": {},
   "outputs": [
    {
     "data": {
      "text/plain": [
       "(448, 11)"
      ]
     },
     "execution_count": 1,
     "metadata": {},
     "output_type": "execute_result"
    }
   ],
   "source": [
    "import pandas as pd \n",
    "\n",
    "post_data = pd.read_csv('../data/posts_sentiment.csv')\n",
    "post_data.shape"
   ]
  },
  {
   "cell_type": "code",
   "execution_count": 2,
   "metadata": {},
   "outputs": [
    {
     "data": {
      "text/html": [
       "<div>\n",
       "<style scoped>\n",
       "    .dataframe tbody tr th:only-of-type {\n",
       "        vertical-align: middle;\n",
       "    }\n",
       "\n",
       "    .dataframe tbody tr th {\n",
       "        vertical-align: top;\n",
       "    }\n",
       "\n",
       "    .dataframe thead th {\n",
       "        text-align: right;\n",
       "    }\n",
       "</style>\n",
       "<table border=\"1\" class=\"dataframe\">\n",
       "  <thead>\n",
       "    <tr style=\"text-align: right;\">\n",
       "      <th></th>\n",
       "      <th>Unnamed: 0</th>\n",
       "      <th>id</th>\n",
       "      <th>date</th>\n",
       "      <th>title</th>\n",
       "      <th>content</th>\n",
       "      <th>username</th>\n",
       "      <th>commentCount</th>\n",
       "      <th>score</th>\n",
       "      <th>subreddit</th>\n",
       "      <th>Code</th>\n",
       "      <th>sentiment</th>\n",
       "    </tr>\n",
       "  </thead>\n",
       "  <tbody>\n",
       "    <tr>\n",
       "      <th>0</th>\n",
       "      <td>0</td>\n",
       "      <td>absdf</td>\n",
       "      <td>2019-08-03 11:27:29</td>\n",
       "      <td>中国产C919飞机有一大缺点 难获国际市场</td>\n",
       "      <td>中国C919飞机原定于去年年底交付。虽然在今年5月完成了即将交付用户的首架飞机的试飞，但还没...</td>\n",
       "      <td>xl</td>\n",
       "      <td>0</td>\n",
       "      <td>0</td>\n",
       "      <td>SouthwestAirlines</td>\n",
       "      <td>WN</td>\n",
       "      <td>NEUTRAL</td>\n",
       "    </tr>\n",
       "    <tr>\n",
       "      <th>1</th>\n",
       "      <td>1</td>\n",
       "      <td>1g7qgpv</td>\n",
       "      <td>2024-10-20 12:04:51</td>\n",
       "      <td>Question/Help</td>\n",
       "      <td>Hey everyone, I know it’s a long shot, but I t...</td>\n",
       "      <td>Kmelloww</td>\n",
       "      <td>4</td>\n",
       "      <td>0</td>\n",
       "      <td>SouthwestAirlines</td>\n",
       "      <td>WN</td>\n",
       "      <td>NEGATIVE</td>\n",
       "    </tr>\n",
       "    <tr>\n",
       "      <th>2</th>\n",
       "      <td>2</td>\n",
       "      <td>1g7plv5</td>\n",
       "      <td>2024-10-20 11:12:20</td>\n",
       "      <td>Airpods left on plane</td>\n",
       "      <td>I left my airpods on a recent flight and I can...</td>\n",
       "      <td>Ph4Nt0M218</td>\n",
       "      <td>6</td>\n",
       "      <td>3</td>\n",
       "      <td>SouthwestAirlines</td>\n",
       "      <td>WN</td>\n",
       "      <td>NEGATIVE</td>\n",
       "    </tr>\n",
       "    <tr>\n",
       "      <th>3</th>\n",
       "      <td>4</td>\n",
       "      <td>1g7o4ce</td>\n",
       "      <td>2024-10-20 09:44:42</td>\n",
       "      <td>If I book 4 tickets together and I’m A-List, w...</td>\n",
       "      <td>I know all the tickets in my booking get my bo...</td>\n",
       "      <td>DoubleJob6790</td>\n",
       "      <td>3</td>\n",
       "      <td>3</td>\n",
       "      <td>SouthwestAirlines</td>\n",
       "      <td>WN</td>\n",
       "      <td>NEUTRAL</td>\n",
       "    </tr>\n",
       "    <tr>\n",
       "      <th>4</th>\n",
       "      <td>5</td>\n",
       "      <td>1g7nqmh</td>\n",
       "      <td>2024-10-20 09:23:06</td>\n",
       "      <td>Elliott, Southwest Airlines to begin settlemen...</td>\n",
       "      <td>Interesting</td>\n",
       "      <td>Even-Compote2602</td>\n",
       "      <td>9</td>\n",
       "      <td>20</td>\n",
       "      <td>SouthwestAirlines</td>\n",
       "      <td>WN</td>\n",
       "      <td>POSITIVE</td>\n",
       "    </tr>\n",
       "  </tbody>\n",
       "</table>\n",
       "</div>"
      ],
      "text/plain": [
       "   Unnamed: 0       id                 date  \\\n",
       "0           0    absdf  2019-08-03 11:27:29   \n",
       "1           1  1g7qgpv  2024-10-20 12:04:51   \n",
       "2           2  1g7plv5  2024-10-20 11:12:20   \n",
       "3           4  1g7o4ce  2024-10-20 09:44:42   \n",
       "4           5  1g7nqmh  2024-10-20 09:23:06   \n",
       "\n",
       "                                               title  \\\n",
       "0                              中国产C919飞机有一大缺点 难获国际市场   \n",
       "1                                      Question/Help   \n",
       "2                              Airpods left on plane   \n",
       "3  If I book 4 tickets together and I’m A-List, w...   \n",
       "4  Elliott, Southwest Airlines to begin settlemen...   \n",
       "\n",
       "                                             content          username  \\\n",
       "0  中国C919飞机原定于去年年底交付。虽然在今年5月完成了即将交付用户的首架飞机的试飞，但还没...                xl   \n",
       "1  Hey everyone, I know it’s a long shot, but I t...          Kmelloww   \n",
       "2  I left my airpods on a recent flight and I can...        Ph4Nt0M218   \n",
       "3  I know all the tickets in my booking get my bo...     DoubleJob6790   \n",
       "4                                       Interesting   Even-Compote2602   \n",
       "\n",
       "   commentCount  score          subreddit Code sentiment  \n",
       "0             0      0  SouthwestAirlines   WN   NEUTRAL  \n",
       "1             4      0  SouthwestAirlines   WN  NEGATIVE  \n",
       "2             6      3  SouthwestAirlines   WN  NEGATIVE  \n",
       "3             3      3  SouthwestAirlines   WN   NEUTRAL  \n",
       "4             9     20  SouthwestAirlines   WN  POSITIVE  "
      ]
     },
     "execution_count": 2,
     "metadata": {},
     "output_type": "execute_result"
    }
   ],
   "source": [
    "post_data.head(5)"
   ]
  },
  {
   "cell_type": "code",
   "execution_count": null,
   "metadata": {},
   "outputs": [],
   "source": [
    "# Filtering non-english posts\n",
    "from langdetect import detect, DetectorFactory\n",
    "from langdetect.lang_detect_exception import LangDetectException\n",
    "\n",
    "DetectorFactory.seed = 42\n",
    "\n",
    "def is_english(text):\n",
    "    try:\n",
    "        return detect(text) == 'en'\n",
    "    except LangDetectException:\n",
    "        return False"
   ]
  },
  {
   "cell_type": "code",
   "execution_count": 4,
   "metadata": {},
   "outputs": [
    {
     "name": "stderr",
     "output_type": "stream",
     "text": [
      "[nltk_data] Downloading package stopwords to\n",
      "[nltk_data]     C:\\Users\\user\\AppData\\Roaming\\nltk_data...\n",
      "[nltk_data]   Package stopwords is already up-to-date!\n"
     ]
    }
   ],
   "source": [
    "# Preprocessing text\n",
    "import re\n",
    "import nltk\n",
    "from nltk.corpus import stopwords\n",
    "from nltk.stem import PorterStemmer\n",
    "\n",
    "nltk.download('stopwords')\n",
    "stop_words = set(stopwords.words('english'))\n",
    "stemmer = PorterStemmer()\n",
    "\n",
    "def preprocess_text(text):\n",
    "    # convert to lowercase\n",
    "    text = text.lower()\n",
    "    # remove numbers\n",
    "    text = re.sub(r'\\d+', '', text)\n",
    "    # remove punctuation\n",
    "    text = re.sub(r'[^\\w\\s]', '', text)\n",
    "\n",
    "    # remove whitespaces and stemming\n",
    "    # text = ' '.join([word for word in text.split() if word not in stop_words])\n",
    "    text = ' '.join([stemmer.stem(word) for word in text.split() if word not in stop_words])\n",
    "\n",
    "    return text"
   ]
  },
  {
   "cell_type": "code",
   "execution_count": 5,
   "metadata": {},
   "outputs": [
    {
     "name": "stderr",
     "output_type": "stream",
     "text": [
      "C:\\Users\\user\\AppData\\Local\\Temp\\ipykernel_19208\\4228701406.py:3: SettingWithCopyWarning: \n",
      "A value is trying to be set on a copy of a slice from a DataFrame.\n",
      "Try using .loc[row_indexer,col_indexer] = value instead\n",
      "\n",
      "See the caveats in the documentation: https://pandas.pydata.org/pandas-docs/stable/user_guide/indexing.html#returning-a-view-versus-a-copy\n",
      "  test_data['content'] = test_data['title'] + ' ' + test_data['content']\n",
      "C:\\Users\\user\\AppData\\Local\\Temp\\ipykernel_19208\\4228701406.py:4: SettingWithCopyWarning: \n",
      "A value is trying to be set on a copy of a slice from a DataFrame.\n",
      "Try using .loc[row_indexer,col_indexer] = value instead\n",
      "\n",
      "See the caveats in the documentation: https://pandas.pydata.org/pandas-docs/stable/user_guide/indexing.html#returning-a-view-versus-a-copy\n",
      "  test_data['content'] = test_data['content'].apply(preprocess_text)\n"
     ]
    },
    {
     "data": {
      "text/plain": [
       "(440, 11)"
      ]
     },
     "execution_count": 5,
     "metadata": {},
     "output_type": "execute_result"
    }
   ],
   "source": [
    "test_data = post_data[post_data['content'].apply(is_english)]\n",
    "# combine title with content\n",
    "test_data['content'] = test_data['title'] + ' ' + test_data['content']\n",
    "test_data['content'] = test_data['content'].apply(preprocess_text)\n",
    "test_data.shape"
   ]
  },
  {
   "cell_type": "code",
   "execution_count": 6,
   "metadata": {},
   "outputs": [
    {
     "data": {
      "text/html": [
       "<div>\n",
       "<style scoped>\n",
       "    .dataframe tbody tr th:only-of-type {\n",
       "        vertical-align: middle;\n",
       "    }\n",
       "\n",
       "    .dataframe tbody tr th {\n",
       "        vertical-align: top;\n",
       "    }\n",
       "\n",
       "    .dataframe thead th {\n",
       "        text-align: right;\n",
       "    }\n",
       "</style>\n",
       "<table border=\"1\" class=\"dataframe\">\n",
       "  <thead>\n",
       "    <tr style=\"text-align: right;\">\n",
       "      <th></th>\n",
       "      <th>id</th>\n",
       "      <th>date</th>\n",
       "      <th>content</th>\n",
       "    </tr>\n",
       "  </thead>\n",
       "  <tbody>\n",
       "    <tr>\n",
       "      <th>0</th>\n",
       "      <td>1g7qgpv</td>\n",
       "      <td>2024-10-20 12:04:51</td>\n",
       "      <td>questionhelp hey everyon know long shot though...</td>\n",
       "    </tr>\n",
       "    <tr>\n",
       "      <th>1</th>\n",
       "      <td>1g7plv5</td>\n",
       "      <td>2024-10-20 11:12:20</td>\n",
       "      <td>airpod left plane left airpod recent flight se...</td>\n",
       "    </tr>\n",
       "    <tr>\n",
       "      <th>2</th>\n",
       "      <td>1g7o4ce</td>\n",
       "      <td>2024-10-20 09:44:42</td>\n",
       "      <td>book ticket togeth im alist confirm day chang ...</td>\n",
       "    </tr>\n",
       "    <tr>\n",
       "      <th>3</th>\n",
       "      <td>1g7nqmh</td>\n",
       "      <td>2024-10-20 09:23:06</td>\n",
       "      <td>elliott southwest airlin begin settlement disc...</td>\n",
       "    </tr>\n",
       "    <tr>\n",
       "      <th>4</th>\n",
       "      <td>1g7no5o</td>\n",
       "      <td>2024-10-20 09:19:10</td>\n",
       "      <td>silli question app book flight download app it...</td>\n",
       "    </tr>\n",
       "  </tbody>\n",
       "</table>\n",
       "</div>"
      ],
      "text/plain": [
       "        id                 date  \\\n",
       "0  1g7qgpv  2024-10-20 12:04:51   \n",
       "1  1g7plv5  2024-10-20 11:12:20   \n",
       "2  1g7o4ce  2024-10-20 09:44:42   \n",
       "3  1g7nqmh  2024-10-20 09:23:06   \n",
       "4  1g7no5o  2024-10-20 09:19:10   \n",
       "\n",
       "                                             content  \n",
       "0  questionhelp hey everyon know long shot though...  \n",
       "1  airpod left plane left airpod recent flight se...  \n",
       "2  book ticket togeth im alist confirm day chang ...  \n",
       "3  elliott southwest airlin begin settlement disc...  \n",
       "4  silli question app book flight download app it...  "
      ]
     },
     "execution_count": 6,
     "metadata": {},
     "output_type": "execute_result"
    }
   ],
   "source": [
    "# Sanity check\n",
    "\n",
    "test_data = test_data.drop(columns=['Unnamed: 0', 'title', 'username', 'commentCount', 'score', 'subreddit', 'Code', 'sentiment'])\n",
    "test_data = test_data.reset_index(drop=True)\n",
    "test_data.head(5)"
   ]
  },
  {
   "cell_type": "markdown",
   "metadata": {},
   "source": [
    "## Aspect Extraction\n",
    "Getting the subjects / aspects / topics in the text to extract sentiments about later. Using Latent Dirichlet Allocation (LDA)."
   ]
  },
  {
   "cell_type": "code",
   "execution_count": 7,
   "metadata": {},
   "outputs": [
    {
     "data": {
      "text/plain": [
       "array(['aa', 'aa flight', 'abl', 'abl get', 'abl use', 'absolut',\n",
       "       'accept', 'access', 'account', 'across', 'action', 'actual', 'ad',\n",
       "       'addit', 'adult', 'advanc', 'advic', 'agenc', 'agent', 'ago',\n",
       "       'agre', 'ahead', 'air', 'aircraft', 'airlin', 'airlin custom',\n",
       "       'airlin flight', 'airlin get', 'airport', 'aisl', 'alaska',\n",
       "       'alaska airlin', 'alist', 'allow', 'almost', 'alon', 'along',\n",
       "       'alreadi', 'also', 'although', 'alway', 'american',\n",
       "       'american airlin', 'americanair', 'amex', 'amount', 'announc',\n",
       "       'anoth', 'anoth airlin', 'anoth flight', 'answer', 'anyon',\n",
       "       'anyon els', 'anyon experi', 'anyon know', 'anyth', 'anyway',\n",
       "       'apolog', 'app', 'appar', 'appear', 'appli', 'applic', 'appreci',\n",
       "       'approv', 'area', 'around', 'arriv', 'ask', 'ask question',\n",
       "       'assign', 'assign seat', 'assist', 'assum', 'athen', 'atl',\n",
       "       'atlant', 'atlanta', 'attempt', 'attend', 'august', 'avail',\n",
       "       'avail flight', 'avoid', 'award', 'away', 'babi', 'back',\n",
       "       'back home', 'backpack', 'bad', 'bag', 'baggag', 'baggag claim',\n",
       "       'base', 'basic', 'behind', 'believ', 'benefit', 'best', 'better',\n",
       "       'big', 'bin', 'bird', 'bit', 'bo', 'board', 'board group',\n",
       "       'board pass', 'board posit', 'boe', 'bonu', 'bonu point', 'book',\n",
       "       'book flight', 'book round', 'book ticket', 'bought', 'box', 'boy',\n",
       "       'bring', 'budget', 'busi', 'busi card', 'buy', 'bwi', 'cabin',\n",
       "       'california', 'call', 'came', 'cancel', 'cancel due',\n",
       "       'cancel flight', 'cancel trip', 'cannot', 'cant', 'cant get',\n",
       "       'car', 'car seat', 'card', 'card bonu', 'care', 'carri', 'carrier',\n",
       "       'carryon', 'case', 'cat', 'catch', 'caus', 'cc', 'certif', 'chanc',\n",
       "       'chang', 'chang flight', 'charg', 'charlott', 'chase', 'chat',\n",
       "       'cheaper', 'check', 'check bag', 'check flight', 'checkin',\n",
       "       'chicago', 'children', 'choic', 'choos', 'chose', 'claim', 'class',\n",
       "       'class seat', 'clear', 'close', 'code', 'collect', 'come',\n",
       "       'come back', 'comfort', 'commun', 'compani', 'companion',\n",
       "       'companion certif', 'companion pass', 'compens', 'complaint',\n",
       "       'complet', 'concern', 'confirm', 'confirm code', 'confirm number',\n",
       "       'confus', 'connect', 'connect flight', 'consid', 'contact',\n",
       "       'continu', 'correct', 'cost', 'costco', 'could', 'could get',\n",
       "       'couldnt', 'count', 'coupl', 'cours', 'cover', 'cp', 'credit',\n",
       "       'credit card', 'crew', 'curiou', 'current', 'custom',\n",
       "       'custom servic', 'dalla', 'date', 'daughter', 'day', 'day ago',\n",
       "       'deal', 'decid', 'definit', 'delay', 'delay flight', 'delay hour',\n",
       "       'delta', 'delta airlin', 'delta flight', 'den', 'deni',\n",
       "       'deni board', 'denver', 'depart', 'departur', 'departur time',\n",
       "       'desk', 'desk agent', 'destin', 'detail', 'detroit', 'dfw',\n",
       "       'didnt', 'didnt get', 'diego', 'differ', 'digit', 'direct',\n",
       "       'disappoint', 'disconnect', 'discount', 'dl', 'document', 'doesnt',\n",
       "       'doesnt seem', 'dog', 'domest', 'done', 'dont', 'dont care',\n",
       "       'dont know', 'dont want', 'door', 'doubl', 'download', 'drive',\n",
       "       'drop', 'dublin', 'due', 'earli', 'earli bird', 'earlier', 'earn',\n",
       "       'economi', 'edit', 'either', 'elit', 'elliott', 'els', 'email',\n",
       "       'email say', 'employe', 'empti', 'end', 'enjoy', 'enough', 'ensur',\n",
       "       'entir', 'error', 'escal', 'etc', 'europ', 'even', 'even though',\n",
       "       'eventu', 'ever', 'everi', 'everi flight', 'everyon', 'everyth',\n",
       "       'exactli', 'exampl', 'excit', 'exist', 'expect', 'expens',\n",
       "       'experi', 'experienc', 'expir', 'explain', 'extra', 'fall',\n",
       "       'famili', 'fare', 'fault', 'fee', 'feel', 'feel like', 'figur',\n",
       "       'file', 'fill', 'final', 'find', 'fine', 'first', 'first class',\n",
       "       'first leg', 'first time', 'fit', 'fix', 'flew', 'fli',\n",
       "       'fli frontier', 'flight', 'flight attend', 'flight back',\n",
       "       'flight book', 'flight cancel', 'flight charg', 'flight credit',\n",
       "       'flight crew', 'flight delay', 'flight delta', 'flight flight',\n",
       "       'flight go', 'flight got', 'flight home', 'flight leav',\n",
       "       'flight next', 'flight purchas', 'flight schedul', 'flight still',\n",
       "       'flight time', 'flight would', 'florida', 'flown', 'flyer', 'folk',\n",
       "       'follow', 'food', 'form', 'found', 'four', 'free', 'free check',\n",
       "       'friday', 'friend', 'front', 'frontier', 'frontier airlin',\n",
       "       'frontier cancel', 'frustrat', 'fuck', 'full', 'fulli', 'function',\n",
       "       'futur', 'gate', 'gate agent', 'gave', 'get', 'get back',\n",
       "       'get cancel', 'get credit', 'get flight', 'get free', 'get home',\n",
       "       'get plane', 'get point', 'get refund', 'gift', 'gift card',\n",
       "       'give', 'given', 'go', 'go back', 'go wild', 'goe', 'gold',\n",
       "       'gonna', 'good', 'googl', 'got', 'got cancel', 'gotten', 'great',\n",
       "       'ground', 'group', 'guarante', 'guess', 'guy', 'ha', 'half',\n",
       "       'hand', 'happen', 'hard', 'havent', 'hawaii', 'hawaiian',\n",
       "       'hawaiian airlin', 'head', 'hear', 'heard', 'hello', 'help', 'hey',\n",
       "       'hi', 'hi everyon', 'high', 'hire', 'hit', 'hnl', 'hold', 'home',\n",
       "       'honolulu', 'honor', 'hope', 'hotel', 'hour', 'hour flight',\n",
       "       'hour layov', 'howev', 'hr', 'hr flight', 'hub', 'huge',\n",
       "       'hurrican', 'hurrican milton', 'husband', 'id', 'id like', 'idea',\n",
       "       'ideal', 'identifi', 'ill', 'im', 'im book', 'im fli', 'im get',\n",
       "       'im go', 'im sure', 'im tri', 'im wonder', 'imagin', 'immedi',\n",
       "       'imposs', 'inch', 'includ', 'inflight', 'info', 'inform', 'initi',\n",
       "       'insid', 'insight', 'instead', 'insur', 'interest', 'intern',\n",
       "       'isnt', 'issu', 'item', 'itinerari', 'ive', 'ive flown',\n",
       "       'ive never', 'januari', 'jfk', 'job', 'juli', 'keep', 'kept',\n",
       "       'kick', 'kid', 'kind', 'klm', 'knew', 'know', 'la', 'la vega',\n",
       "       'lack', 'land', 'last', 'last minut', 'last night', 'late',\n",
       "       'later', 'lax', 'layov', 'layov denver', 'learn', 'least', 'leav',\n",
       "       'left', 'leg', 'less', 'let', 'let us', 'level', 'lga', 'like',\n",
       "       'limit', 'line', 'link', 'list', 'littl', 'live', 'log', 'lol',\n",
       "       'long', 'longer', 'look', 'look like', 'lose', 'lost', 'lot',\n",
       "       'loung', 'love', 'low', 'loyalti', 'luck', 'luggag', 'made',\n",
       "       'main', 'main cabin', 'mainten', 'make', 'make sure', 'manag',\n",
       "       'mani', 'match', 'matter', 'may', 'mayb', 'mco', 'mean', 'meant',\n",
       "       'mechan', 'mechan issu', 'medallion', 'medic', 'member', 'mention',\n",
       "       'merger', 'messag', 'middl', 'mile', 'milton', 'min', 'mind',\n",
       "       'mine', 'minneapoli', 'minut', 'minut layov', 'miss',\n",
       "       'miss flight', 'money', 'month', 'month ago', 'morn', 'move',\n",
       "       'much', 'must', 'name', 'nd', 'nearli', 'need', 'need get',\n",
       "       'need go', 'neither', 'never', 'new', 'new flight', 'new york',\n",
       "       'news', 'next', 'next day', 'next flight', 'next week',\n",
       "       'next year', 'night', 'non', 'none', 'nonstop', 'note', 'noth',\n",
       "       'notic', 'novemb', 'number', 'oakland', 'obvious', 'oct', 'offer',\n",
       "       'often', 'oh', 'ok', 'okay', 'old', 'on', 'one', 'one flight',\n",
       "       'one person', 'one way', 'oneway', 'onlin', 'open', 'oper',\n",
       "       'option', 'order', 'origin', 'orlando', 'other', 'outag',\n",
       "       'overbook', 'overhead', 'paid', 'parent', 'part', 'partner',\n",
       "       'partner airlin', 'pass', 'passeng', 'passport', 'password',\n",
       "       'past', 'pay', 'pay extra', 'pend', 'peopl', 'per', 'person',\n",
       "       'person item', 'pet', 'philadelphia', 'phoenix', 'phone', 'pick',\n",
       "       'pictur', 'pilot', 'place', 'plan', 'plane', 'platinum', 'play',\n",
       "       'pleas', 'plenti', 'plu', 'pm', 'pm flight', 'podcast', 'point',\n",
       "       'polici', 'portland', 'posit', 'possibl', 'post', 'prefer',\n",
       "       'premium', 'pretti', 'price', 'price drop', 'print', 'prior',\n",
       "       'prioriti', 'probabl', 'problem', 'proceed', 'process', 'promis',\n",
       "       'promo', 'proof', 'provid', 'pull', 'purchas', 'purchas ticket',\n",
       "       'purpos', 'push', 'put', 'qatar', 'qualifi', 'question', 'quick',\n",
       "       'quickli', 'ramp', 'ran', 'random', 'rather', 'reach', 'read',\n",
       "       'real', 'realiz', 'realli', 'reason', 'rebook', 'rebook flight',\n",
       "       'receipt', 'receiv', 'receiv email', 'recent', 'recogn',\n",
       "       'recommend', 'refer', 'referr', 'refund', 'refus', 'regard',\n",
       "       'reimburs', 'renew', 'rental', 'rental car', 'report', 'request',\n",
       "       'requir', 'reschedul', 'research', 'reserv', 'resolv', 'respons',\n",
       "       'restrict', 'return', 'return flight', 'review', 'reward', 'right',\n",
       "       'room', 'round', 'round trip', 'rout', 'row', 'rr', 'rude', 'rule',\n",
       "       'rumor', 'run', 'sacramento', 'safe', 'said', 'sale', 'san',\n",
       "       'san diego', 'save', 'saw', 'say', 'say flight', 'scam', 'scare',\n",
       "       'schedul', 'screen', 'screenshot', 'search', 'seat', 'seat assign',\n",
       "       'seattl', 'second', 'secur', 'see', 'seem', 'seem like', 'seen',\n",
       "       'segment', 'select', 'sell', 'send', 'sens', 'sent', 'separ',\n",
       "       'septemb', 'serv', 'servic', 'set', 'sever', 'sfo', 'share',\n",
       "       'shit', 'short', 'show', 'sick', 'side', 'sign', 'similar', 'sinc',\n",
       "       'singl', 'sister', 'sit', 'sit plane', 'site', 'situat', 'size',\n",
       "       'sky', 'skyclub', 'skymil', 'sleep', 'small', 'snack', 'sold',\n",
       "       'someon', 'someon els', 'someth', 'someth similar', 'somewher',\n",
       "       'son', 'soon', 'sorri', 'sort', 'southwest', 'southwest credit',\n",
       "       'space', 'speak', 'special', 'spend', 'spent', 'spirit', 'spot',\n",
       "       'st', 'staff', 'stand', 'standard', 'standbi', 'starlink', 'start',\n",
       "       'state', 'statement', 'statu', 'statu match', 'stay', 'still',\n",
       "       'stolen', 'stop', 'stori', 'strand', 'stress', 'stroller', 'stuck',\n",
       "       'stuff', 'success', 'suck', 'suggest', 'suitcas', 'sunday',\n",
       "       'supervisor', 'support', 'suppos', 'suppos fli', 'sure', 'surpris',\n",
       "       'sw', 'swa', 'switch', 'system', 'take', 'taken', 'talk', 'tell',\n",
       "       'term', 'termin', 'terribl', 'text', 'th', 'thank', 'thank advanc',\n",
       "       'that', 'there', 'theyll', 'theyr', 'thing', 'think', 'though',\n",
       "       'thought', 'three', 'ticket', 'time', 'time fli', 'time flight',\n",
       "       'time get', 'time week', 'time year', 'tip', 'today', 'toddler',\n",
       "       'togeth', 'told', 'tomorrow', 'tonight', 'took', 'tool', 'top',\n",
       "       'total', 'toward', 'tqp', 'transfer', 'travel', 'travel agenc',\n",
       "       'travel credit', 'tri', 'tri book', 'tri call', 'tri get',\n",
       "       'tri rebook', 'trip', 'tsa', 'tuesday', 'turn', 'twice', 'two',\n",
       "       'two week', 'type', 'ultim', 'unabl', 'understand', 'unfortun',\n",
       "       'unit', 'univers', 'upcom', 'updat', 'upgrad', 'uplift', 'us',\n",
       "       'usa', 'use', 'usual', 'vacat', 'valid', 'valu', 'vega', 'via',\n",
       "       'virgin', 'virgin atlant', 'visit', 'voucher', 'wait', 'walk',\n",
       "       'want', 'want fli', 'want get', 'want know', 'want make', 'wasnt',\n",
       "       'way', 'way get', 'weather', 'websit', 'wed', 'wednesday', 'week',\n",
       "       'weekend', 'weight', 'welcom', 'well', 'went', 'weve', 'what',\n",
       "       'whatev', 'whole', 'wife', 'wifi', 'wild', 'wild pass', 'window',\n",
       "       'within', 'without', 'wonder', 'wonder anyon', 'wont', 'work',\n",
       "       'world', 'worri', 'worst', 'worth', 'would', 'would like',\n",
       "       'wouldnt', 'wrong', 'xx', 'ye', 'year', 'year old', 'yesterday',\n",
       "       'yet', 'york', 'young', 'your', 'zone'], dtype=object)"
      ]
     },
     "execution_count": 7,
     "metadata": {},
     "output_type": "execute_result"
    }
   ],
   "source": [
    "from sklearn.feature_extraction.text import TfidfVectorizer\n",
    "from sklearn.decomposition import LatentDirichletAllocation\n",
    "\n",
    "# use only the top 1,000 most frequent words or phrases (tokens) in the text data\n",
    "# specifies that the vectorizer should consider both unigrams (individual words) and bigrams (two-word phrases)\n",
    "vectorizer = TfidfVectorizer(max_features=1000, ngram_range=(1, 2))\n",
    "X = vectorizer.fit_transform(test_data['content'])\n",
    "vectorizer.get_feature_names_out()"
   ]
  },
  {
   "cell_type": "code",
   "execution_count": 8,
   "metadata": {},
   "outputs": [
    {
     "name": "stdout",
     "output_type": "stream",
     "text": [
      "Topic 0:\n",
      "['oakland', 'jfk', 'limit', 'access', 'chase', 'zone', 'la', 'hawaiian airlin', 'hawaiian', 'alaska']\n",
      "\n",
      "Topic 1:\n",
      "['bird', 'earli bird', 'starlink', 'news', 'medic', 'inflight', 'jfk', 'applic', 'wifi', 'americanair']\n",
      "\n",
      "Topic 2:\n",
      "['limit', 'weight', 'elliott', 'statu match', 'gonna', 'welcom', 'starlink', 'person', 'item', 'person item']\n",
      "\n",
      "Topic 3:\n",
      "['time', 'airlin', 'book', 'fli', 'cancel', 'im', 'delta', 'seat', 'get', 'flight']\n",
      "\n",
      "Topic 4:\n",
      "['klm', 'bonu point', 'carri', 'southwest', 'mco', 'orlando', 'referr', 'bonu', 'thank advanc', 'advanc']\n",
      "\n"
     ]
    }
   ],
   "source": [
    "# 5 topics\n",
    "lda_model = LatentDirichletAllocation(n_components=5, random_state=42)\n",
    "lda_model.fit(X)\n",
    "\n",
    "topics = lda_model.components_\n",
    "# in topics, each row is 1 ropic, each col represents a word in the vocab\n",
    "# each value is the weighnt of the word in the topic\n",
    "\n",
    "feature_names = vectorizer.get_feature_names_out()\n",
    "# feature_names is the list of words that the model knows\n",
    "\n",
    "for idx, topic in enumerate(topics):\n",
    "    print(f'Topic {idx}:')\n",
    "    print([feature_names[i] for i in topic.argsort()[-10:]])\n",
    "    # argsort [-10] to get top 10 values in the row -> find words associated w the topic\n",
    "    # then convert these indices into words -> get the exact words that are super associated w the topic\n",
    "    print()"
   ]
  },
  {
   "cell_type": "code",
   "execution_count": 9,
   "metadata": {},
   "outputs": [
    {
     "data": {
      "text/plain": [
       "array([3, 3, 3, 4, 3, 3, 4, 4, 3, 0, 3, 3, 3, 3, 3, 3, 3, 3, 3, 3, 3, 3,\n",
       "       3, 3, 3, 3, 3, 3, 3, 3, 3, 3, 3, 3, 3, 3, 3, 3, 3, 3, 0, 3, 3, 3,\n",
       "       3, 3, 3, 3, 3, 4, 3, 3, 3, 3, 3, 3, 2, 3, 4, 3, 3, 3, 3, 2, 3, 3,\n",
       "       3, 3, 3, 3, 3, 3, 2, 3, 3, 3, 3, 3, 3, 3, 3, 3, 3, 3, 3, 3, 3, 3,\n",
       "       3, 3, 0, 3, 3, 1, 2, 3, 3, 3, 3, 3, 3, 3, 3, 3, 3, 3, 3, 3, 0, 3,\n",
       "       3, 3, 3, 3, 3, 3, 3, 3, 3, 3, 3, 3, 3, 3, 3, 3, 3, 3, 3, 3, 3, 3,\n",
       "       3, 3, 3, 3, 3, 3, 3, 4, 3, 3, 3, 3, 3, 3, 3, 3, 3, 3, 3, 3, 3, 3,\n",
       "       3, 3, 3, 3, 3, 3, 3, 3, 3, 3, 1, 3, 3, 0, 3, 3, 3, 3, 3, 3, 3, 3,\n",
       "       3, 3, 3, 3, 3, 3, 3, 3, 3, 3, 3, 3, 3, 3, 3, 3, 3, 3, 3, 3, 3, 3,\n",
       "       3, 3, 3, 1, 3, 3, 3, 3, 3, 1, 3, 3, 3, 3, 3, 3, 3, 3, 3, 3, 3, 3,\n",
       "       3, 3, 3, 4, 3, 3, 3, 3, 3, 3, 3, 3, 3, 3, 3, 3, 3, 3, 3, 3, 3, 3,\n",
       "       3, 3, 3, 3, 3, 3, 3, 3, 3, 3, 3, 3, 3, 3, 3, 3, 3, 3, 3, 3, 3, 3,\n",
       "       3, 3, 4, 3, 3, 3, 3, 3, 3, 3, 3, 3, 3, 3, 3, 0, 3, 3, 3, 3, 3, 3,\n",
       "       3, 3, 3, 0, 3, 3, 3, 3, 3, 3, 3, 3, 3, 4, 3, 3, 3, 0, 0, 3, 3, 3,\n",
       "       3, 0, 3, 3, 3, 3, 3, 3, 3, 3, 3, 3, 3, 3, 3, 3, 3, 3, 3, 3, 3, 3,\n",
       "       0, 3, 3, 1, 2, 3, 3, 2, 3, 3, 3, 1, 3, 3, 3, 3, 3, 3, 3, 4, 3, 3,\n",
       "       3, 3, 3, 3, 3, 3, 3, 3, 3, 3, 3, 3, 3, 3, 3, 3, 3, 3, 3, 3, 3, 3,\n",
       "       3, 3, 3, 3, 3, 3, 3, 3, 3, 3, 3, 3, 3, 3, 3, 3, 3, 3, 3, 3, 3, 3,\n",
       "       3, 3, 3, 3, 3, 3, 3, 3, 3, 3, 3, 3, 3, 3, 3, 3, 3, 3, 3, 3, 3, 3,\n",
       "       3, 3, 3, 3, 2, 2, 3, 3, 3, 3, 3, 3, 3, 3, 3, 3, 3, 3, 3, 3, 3, 3])"
      ]
     },
     "execution_count": 9,
     "metadata": {},
     "output_type": "execute_result"
    }
   ],
   "source": [
    "# this will create a matrix where each row is a document and each col is a topic\n",
    "document_topics = lda_model.transform(X)\n",
    "\n",
    "# get the highest probability topic for each document\n",
    "dominant_topics = document_topics.argmax(axis=1)\n",
    "dominant_topics\n",
    "\n",
    "# each value represent the topic for the document"
   ]
  },
  {
   "cell_type": "code",
   "execution_count": 10,
   "metadata": {},
   "outputs": [
    {
     "name": "stdout",
     "output_type": "stream",
     "text": [
      "Topic 0:\n",
      "['put', 'type', 'proceed', 'carryon', 'athen', 'hub', 'busi', 'loung', 'merger', 'medic', 'credit', 'guarante', 'airlin', 'dublin', 'first', 'card', 'hawaii', 'im go', 'bo', 'manag', 'philadelphia', 'wild', 'what', 'serv', 'sky', 'first class', 'busi card', 'seattl', 'minneapoli', 'go wild', 'la vega', 'class', 'vega', 'wild pass', 'gift', 'gift card', 'domest', 'choos', 'honolulu', 'transfer', 'oakland', 'jfk', 'limit', 'access', 'chase', 'zone', 'la', 'hawaiian airlin', 'hawaiian', 'alaska']\n",
      "**\"Skyway Experiences\"**\n",
      "Topic 1:\n",
      "['im', 'aisl', 'good', 'apolog', 'board posit', 'tool', 'board', 'almost', 'trip', 'get', 'hour layov', 'best', 'servic', 'today', 'avail', 'virgin', 'ha', 'atlant', 'virgin atlant', 'post', 'shit', 'hnl', 'surpris', 'thank', 'provid', 'dl', 'none', 'your', 'interest', 'full', 'issu', 'seattl', 'loung', 'swa', 'place', 'stori', 'merger', 'time week', 'detroit', 'resolv', 'bird', 'earli bird', 'starlink', 'news', 'medic', 'inflight', 'jfk', 'applic', 'wifi', 'americanair']\n",
      "**Topic: \"Travel Experience Essentials\"**\n",
      "Topic 2:\n",
      "['segment', 'everyth', 'site', 'hey', 'soon', 'seen', 'bit', 'say', 'wild', 'ask question', 'get free', 'la', 'download', 'size', 'go wild', 'phoenix', 'question', 'across', 'function', 'abl', 'xx', 'count', 'boy', 'wifi', 'skyclub', 'fill', 'hit', 'like', 'im fli', 'today', 'futur', 'im', 'non', 'gold', 'post', 'backpack', 'southwest', 'match', 'podcast', 'someth', 'limit', 'weight', 'elliott', 'statu match', 'gonna', 'welcom', 'starlink', 'person', 'item', 'person item']\n",
      "\"Digital Nomad Essentials\"\n",
      "Topic 3:\n",
      "['question', 'say', 'year', 'issu', 'southwest', 'trip', 'gate', 'us', 'make', 'want', 'airport', 'delay', 'point', 'help', 'back', 'plane', 'tri', 'first', 'day', 'need', 'use', 'thank', 'like', 'would', 'mile', 'travel', 'hour', 'board', 'card', 'aa', 'one', 'credit', 'know', 'bag', 'chang', 'anyon', 'go', 'ticket', 'frontier', 'check', 'time', 'airlin', 'book', 'fli', 'cancel', 'im', 'delta', 'seat', 'get', 'flight']\n",
      "\"Airport Experience\"\n",
      "Topic 4:\n",
      "['spot', 'fli', 'time flight', 'gift card', 'airlin', 'carryon', 'size', 'identifi', 'research', 'delta airlin', 'fall', 'detail', 'inform', 'airport', 'job', 'thank', 'virgin', 'atlant', 'virgin atlant', 'attend', 'anyon', 'elliott', 'flight attend', 'welcom', 'offer', 'univers', 'interest', 'good', 'experi', 'hit', 'card', 'approv', 'friend', 'link', 'share', 'outag', 'flight leav', 'boe', 'on', 'refer', 'klm', 'bonu point', 'carri', 'southwest', 'mco', 'orlando', 'referr', 'bonu', 'thank advanc', 'advanc']\n",
      "\"Travel Experience Insights\"\n",
      "dict_keys(['**\"Skyway Experiences\"**', '**Topic: \"Travel Experience Essentials\"**', '\"Digital Nomad Essentials\"', '\"Airport Experience\"', '\"Travel Experience Insights\"'])\n"
     ]
    }
   ],
   "source": [
    "# Get GPT to generate a title for each topic\n",
    "import collections\n",
    "from dotenv import load_dotenv\n",
    "from langchain_core.prompts import PromptTemplate\n",
    "import os\n",
    "import openai\n",
    "\n",
    "load_dotenv()\n",
    "topic_dict = collections.defaultdict(list)\n",
    "openai_model = openai.OpenAI(api_key=os.getenv('OPENAI_API_KEY'))\n",
    "\n",
    "for idx, topic in enumerate(topics):\n",
    "    # each row is a topic\n",
    "    print(f'Topic {idx}:')\n",
    "    \n",
    "    top_features = [feature_names[i] for i in topic.argsort()[-50:]]\n",
    "    # take the top most relevant words \n",
    "    print(top_features)\n",
    "    # feed chatgpt the words and generate a title\n",
    "    prompt = f\"\"\"Generate a unique noun phrase or one-word topic for posts that contain the following features. \n",
    "    This topic will be used for Aspect-Based Sentiment Analysis on social media data. \n",
    "    Ensure the topic is different from previously generated topics. \n",
    "    Feature names:\\n{\", \".join(top_features)}\\nTopic:\"\"\"\n",
    "    prompt = PromptTemplate.from_template(prompt)\n",
    "    response = openai_model.chat.completions.create(\n",
    "        model=\"gpt-4o-mini\",\n",
    "        messages=[{\"role\": \"user\", \"content\": prompt.template}],\n",
    "        max_tokens=10,\n",
    "        temperature=1,\n",
    "    )\n",
    "    print(response.choices[0].message.content)\n",
    "    title = response.choices[0].message.content.strip()\n",
    "    # if there are repeated topics, add an index to the title\n",
    "    if title in topic_dict:\n",
    "        title = title + \"_\" + str(idx)\n",
    "    topic_dict[title] = [feature_names[i] for i in topic.argsort()]\n",
    "print(topic_dict.keys())"
   ]
  },
  {
   "cell_type": "markdown",
   "metadata": {},
   "source": [
    "## Sentiment Analysis"
   ]
  },
  {
   "cell_type": "code",
   "execution_count": 11,
   "metadata": {},
   "outputs": [],
   "source": [
    "from vaderSentiment.vaderSentiment import SentimentIntensityAnalyzer\n",
    "\n",
    "vader_model = SentimentIntensityAnalyzer()\n",
    "\n",
    "def get_sentiment(text):\n",
    "    sentiment = vader_model.polarity_scores(text)\n",
    "    return sentiment['compound']"
   ]
  },
  {
   "cell_type": "markdown",
   "metadata": {},
   "source": [
    "## ABSA"
   ]
  },
  {
   "cell_type": "code",
   "execution_count": 12,
   "metadata": {},
   "outputs": [
    {
     "data": {
      "text/html": [
       "<div>\n",
       "<style scoped>\n",
       "    .dataframe tbody tr th:only-of-type {\n",
       "        vertical-align: middle;\n",
       "    }\n",
       "\n",
       "    .dataframe tbody tr th {\n",
       "        vertical-align: top;\n",
       "    }\n",
       "\n",
       "    .dataframe thead th {\n",
       "        text-align: right;\n",
       "    }\n",
       "</style>\n",
       "<table border=\"1\" class=\"dataframe\">\n",
       "  <thead>\n",
       "    <tr style=\"text-align: right;\">\n",
       "      <th></th>\n",
       "      <th>id</th>\n",
       "      <th>date</th>\n",
       "      <th>content</th>\n",
       "      <th>sentiment</th>\n",
       "      <th>topic</th>\n",
       "    </tr>\n",
       "  </thead>\n",
       "  <tbody>\n",
       "    <tr>\n",
       "      <th>0</th>\n",
       "      <td>1g7qgpv</td>\n",
       "      <td>2024-10-20 12:04:51</td>\n",
       "      <td>questionhelp hey everyon know long shot though...</td>\n",
       "      <td>0.7783</td>\n",
       "      <td>\"Airport Experience\"</td>\n",
       "    </tr>\n",
       "    <tr>\n",
       "      <th>1</th>\n",
       "      <td>1g7plv5</td>\n",
       "      <td>2024-10-20 11:12:20</td>\n",
       "      <td>airpod left plane left airpod recent flight se...</td>\n",
       "      <td>-0.5574</td>\n",
       "      <td>\"Airport Experience\"</td>\n",
       "    </tr>\n",
       "    <tr>\n",
       "      <th>2</th>\n",
       "      <td>1g7o4ce</td>\n",
       "      <td>2024-10-20 09:44:42</td>\n",
       "      <td>book ticket togeth im alist confirm day chang ...</td>\n",
       "      <td>0.6486</td>\n",
       "      <td>\"Airport Experience\"</td>\n",
       "    </tr>\n",
       "    <tr>\n",
       "      <th>3</th>\n",
       "      <td>1g7nqmh</td>\n",
       "      <td>2024-10-20 09:23:06</td>\n",
       "      <td>elliott southwest airlin begin settlement disc...</td>\n",
       "      <td>0.4588</td>\n",
       "      <td>\"Travel Experience Insights\"</td>\n",
       "    </tr>\n",
       "    <tr>\n",
       "      <th>4</th>\n",
       "      <td>1g7no5o</td>\n",
       "      <td>2024-10-20 09:19:10</td>\n",
       "      <td>silli question app book flight download app it...</td>\n",
       "      <td>0.9276</td>\n",
       "      <td>\"Airport Experience\"</td>\n",
       "    </tr>\n",
       "  </tbody>\n",
       "</table>\n",
       "</div>"
      ],
      "text/plain": [
       "        id                 date  \\\n",
       "0  1g7qgpv  2024-10-20 12:04:51   \n",
       "1  1g7plv5  2024-10-20 11:12:20   \n",
       "2  1g7o4ce  2024-10-20 09:44:42   \n",
       "3  1g7nqmh  2024-10-20 09:23:06   \n",
       "4  1g7no5o  2024-10-20 09:19:10   \n",
       "\n",
       "                                             content  sentiment  \\\n",
       "0  questionhelp hey everyon know long shot though...     0.7783   \n",
       "1  airpod left plane left airpod recent flight se...    -0.5574   \n",
       "2  book ticket togeth im alist confirm day chang ...     0.6486   \n",
       "3  elliott southwest airlin begin settlement disc...     0.4588   \n",
       "4  silli question app book flight download app it...     0.9276   \n",
       "\n",
       "                          topic  \n",
       "0          \"Airport Experience\"  \n",
       "1          \"Airport Experience\"  \n",
       "2          \"Airport Experience\"  \n",
       "3  \"Travel Experience Insights\"  \n",
       "4          \"Airport Experience\"  "
      ]
     },
     "execution_count": 12,
     "metadata": {},
     "output_type": "execute_result"
    }
   ],
   "source": [
    "for idx, row in test_data.iterrows():\n",
    "    text = row['content']\n",
    "    sentiment = get_sentiment(text)\n",
    "\n",
    "    # store the sentiment score in a new column called sentiment\n",
    "    test_data.at[idx, 'sentiment'] = sentiment\n",
    "\n",
    "    # get the dominant topic for the document\n",
    "    test_data.at[idx, 'topic'] = list(topic_dict.keys())[dominant_topics[idx]]\n",
    "\n",
    "test_data.head(5)"
   ]
  },
  {
   "cell_type": "code",
   "execution_count": 13,
   "metadata": {},
   "outputs": [
    {
     "data": {
      "image/png": "[encoded data removed]",
      "text/plain": [
       "<Figure size 640x480 with 1 Axes>"
      ]
     },
     "metadata": {},
     "output_type": "display_data"
    }
   ],
   "source": [
    "import matplotlib.pyplot as plt\n",
    "sentiment_summary = test_data.groupby('topic')['sentiment'].mean()\n",
    "sentiment_summary.plot(kind='bar')\n",
    "plt.show()"
   ]
  },
  {
   "cell_type": "code",
   "execution_count": 14,
   "metadata": {},
   "outputs": [
    {
     "data": {
      "image/png": "[encoded data removed]",
      "text/plain": [
       "<Figure size 640x480 with 1 Axes>"
      ]
     },
     "metadata": {},
     "output_type": "display_data"
    }
   ],
   "source": [
    "sentiment_summary = test_data.groupby('topic')['sentiment'].median()\n",
    "sentiment_summary.plot(kind='bar')\n",
    "plt.show()"
   ]
  },
  {
   "cell_type": "markdown",
   "metadata": {},
   "source": [
    "## Saving Files"
   ]
  },
  {
   "cell_type": "code",
   "execution_count": 15,
   "metadata": {},
   "outputs": [],
   "source": [
    "import pickle\n",
    "\n",
    "with open('../models/lda_model.pkl', 'wb') as f:\n",
    "    pickle.dump(lda_model, f)"
   ]
  },
  {
   "cell_type": "code",
   "execution_count": 16,
   "metadata": {},
   "outputs": [],
   "source": [
    "with open('../models/vectorizer.pkl', 'wb') as f:\n",
    "    pickle.dump(vectorizer, f)"
   ]
  },
  {
   "cell_type": "code",
   "execution_count": 17,
   "metadata": {},
   "outputs": [],
   "source": [
    "with open('../data/topic_dict.pkl', 'wb') as f:\n",
    "    pickle.dump(topic_dict, f)"
   ]
  },
  {
   "cell_type": "code",
   "execution_count": null,
   "metadata": {},
   "outputs": [],
   "source": []
  }
 ],
 "metadata": {
  "kernelspec": {
   "display_name": "venv",
   "language": "python",
   "name": "python3"
  },
  "language_info": {
   "codemirror_mode": {
    "name": "ipython",
    "version": 3
   },
   "file_extension": ".py",
   "mimetype": "text/x-python",
   "name": "python",
   "nbconvert_exporter": "python",
   "pygments_lexer": "ipython3",
   "version": "3.12.5"
  }
 },
 "nbformat": 4,
 "nbformat_minor": 2
}
