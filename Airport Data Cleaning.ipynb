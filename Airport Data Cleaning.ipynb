{
 "cells": [
  {
   "cell_type": "code",
   "execution_count": 1,
   "id": "fdc3bb5f-d490-4e1c-b159-0a0341f5a9ed",
   "metadata": {},
   "outputs": [],
   "source": [
    "import pandas as pd"
   ]
  },
  {
   "cell_type": "code",
   "execution_count": 2,
   "id": "3500f169-da3e-4caa-b9ea-175d6740608a",
   "metadata": {},
   "outputs": [
    {
     "data": {
      "text/plain": [
       "id                     int64\n",
       "ident                 object\n",
       "type                  object\n",
       "name                  object\n",
       "latitude_deg         float64\n",
       "longitude_deg        float64\n",
       "elevation_ft         float64\n",
       "continent             object\n",
       "country_name          object\n",
       "iso_country           object\n",
       "region_name           object\n",
       "iso_region            object\n",
       "local_region          object\n",
       "municipality          object\n",
       "scheduled_service      int64\n",
       "gps_code              object\n",
       "iata_code             object\n",
       "local_code            object\n",
       "home_link             object\n",
       "wikipedia_link        object\n",
       "keywords              object\n",
       "score                  int64\n",
       "last_updated          object\n",
       "dtype: object"
      ]
     },
     "execution_count": 2,
     "metadata": {},
     "output_type": "execute_result"
    }
   ],
   "source": [
    "df = pd.read_csv(\"data/us-airports.csv\")\n",
    "df.dtypes"
   ]
  },
  {
   "cell_type": "code",
   "execution_count": 3,
   "id": "64374a7a-fad7-413b-8f8e-bda02e3e073e",
   "metadata": {},
   "outputs": [],
   "source": [
    "df = df.dropna(subset=[\"elevation_ft\"])"
   ]
  },
  {
   "cell_type": "code",
   "execution_count": 4,
   "id": "c4cd3b22-6e3e-48fa-875b-5c6068157f3d",
   "metadata": {},
   "outputs": [],
   "source": [
    "df.to_csv(\"us-airports.csv\", index=False)"
   ]
  },
  {
   "cell_type": "code",
   "execution_count": null,
   "id": "97e16145-a2a6-43f3-95ea-d4bcf9465d50",
   "metadata": {},
   "outputs": [],
   "source": []
  }
 ],
 "metadata": {
  "kernelspec": {
   "display_name": "Python 3 (ipykernel)",
   "language": "python",
   "name": "python3"
  },
  "language_info": {
   "codemirror_mode": {
    "name": "ipython",
    "version": 3
   },
   "file_extension": ".py",
   "mimetype": "text/x-python",
   "name": "python",
   "nbconvert_exporter": "python",
   "pygments_lexer": "ipython3",
   "version": "3.11.7"
  }
 },
 "nbformat": 4,
 "nbformat_minor": 5
}
