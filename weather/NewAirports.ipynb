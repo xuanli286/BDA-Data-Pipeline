{
 "cells": [
  {
   "cell_type": "markdown",
   "metadata": {},
   "source": [
    "### Check the New Full Dataset till 2023 for Updated List of Airports\n",
    "ran in same directory as parquet files"
   ]
  },
  {
   "cell_type": "code",
   "execution_count": null,
   "metadata": {},
   "outputs": [],
   "source": [
    "# pip install pandas pyarrow\n",
    "import pandas as pd\n",
    "import os\n",
    "import csv\n"
   ]
  },
  {
   "cell_type": "code",
   "execution_count": 6,
   "metadata": {},
   "outputs": [
    {
     "name": "stdout",
     "output_type": "stream",
     "text": [
      "   ActualElapsedTime  AirTime  ArrDelay  ArrTime  CRSArrTime  CRSDepTime  \\\n",
      "0              154.0    122.0      90.0   1850.0        1720        1455   \n",
      "1              159.0    125.0      59.0   1703.0        1604        1510   \n",
      "2                NaN     71.0       NaN      NaN        1140        1037   \n",
      "3               70.0      NaN      80.0     20.0        2300        2100   \n",
      "4              150.0    135.0       5.0   2030.0        2025        1740   \n",
      "\n",
      "   CRSElapsedTime CancellationCode  Cancelled  CarrierDelay  ...  Month  \\\n",
      "0           145.0              NaN          0           0.0  ...      6   \n",
      "1           114.0              NaN          0           NaN  ...      9   \n",
      "2            63.0              NaN          1           NaN  ...      2   \n",
      "3            60.0              NaN          0           NaN  ...      2   \n",
      "4           165.0              NaN          0           NaN  ...      2   \n",
      "\n",
      "   NASDelay  Origin  SecurityDelay TailNum  TaxiIn  TaxiOut  UniqueCarrier  \\\n",
      "0      23.0     ORD            0.0  N293AA     8.0     24.0             AA   \n",
      "1       NaN     DTW            NaN  N8921E    19.0     15.0             NW   \n",
      "2       NaN     CVG            NaN  N331DL     4.0     15.0             DL   \n",
      "3       NaN     MDW            NaN     NaN     NaN      NaN         ML (1)   \n",
      "4       NaN     PHL            NaN  N512AU     3.0     12.0             US   \n",
      "\n",
      "   WeatherDelay  Year  \n",
      "0           0.0  2006  \n",
      "1           NaN  1997  \n",
      "2           NaN  1995  \n",
      "3           NaN  1991  \n",
      "4           NaN  1997  \n",
      "\n",
      "[5 rows x 29 columns]\n"
     ]
    }
   ],
   "source": [
    "file_path = os.path.join(\"airline_file_0.parquet\", \"part-00000-c09deb83-30ec-4d7b-b7e8-802a921c554c-c000.snappy.parquet\")\n",
    "\n",
    "# Read the Parquet file using Pandas\n",
    "df = pd.read_parquet(file_path)\n",
    "\n",
    "# Display the first few rows of the DataFrame\n",
    "print(df.head())\n"
   ]
  },
  {
   "cell_type": "code",
   "execution_count": 5,
   "metadata": {},
   "outputs": [
    {
     "name": "stdout",
     "output_type": "stream",
     "text": [
      "Total number of unique origins across all files: 426\n",
      "Unique origins:\n",
      "{'MIB', 'MVY', 'SCC', 'DEC', 'PWM', 'MSY', 'ITO', 'ESC', 'ART', 'IMT', 'HIB', 'PAE', 'RIW', 'LYH', 'GUC', 'PSM', 'CID', 'ORD', 'OGD', 'OME', 'MTH', 'PVD', 'IPL', 'STX', 'GEG', 'DFW', 'SPN', 'ISO', 'USA', 'DCA', 'TUP', 'HKY', 'HNL', 'OGG', 'SEA', 'SIT', 'ACV', 'GRK', 'EWN', 'LGB', 'VLD', 'HPN', 'EUG', 'LIT', 'HLN', 'DAY', 'FAT', 'TVC', 'BMI', 'ERI', 'BGM', 'CKB', 'OTH', 'FOE', 'CHO', 'BWI', 'PSP', 'MRY', 'CMX', 'CDV', 'PIT', 'HOB', 'MOB', 'ASE', 'COD', 'BRD', 'ICT', 'HSV', 'UIN', 'GCC', 'LWB', 'MSN', 'LBB', 'MOT', 'PUB', 'SBA', 'MAZ', 'ORH', 'PHF', 'TXK', 'PNS', 'JST', 'KTN', 'HDN', 'TBN', 'MCI', 'CMH', 'AVP', 'DET', 'PHX', 'MTJ', 'PHL', 'PUW', 'GGG', 'IDA', 'HHH', 'RST', 'AZA', 'ALW', 'MLU', 'STS', 'LIH', 'AUS', 'BQN', 'CHS', 'DEN', 'IAD', 'DSM', 'OMA', 'BLV', 'CEC', 'BOS', 'TUL', 'SHR', 'ALB', 'ALO', 'RFD', 'DAL', 'CLT', 'DIK', 'MCO', 'TLH', 'XNA', 'PFN', 'VIS', 'BKG', 'GCK', 'CIU', 'AMA', 'BET', 'CMI', 'BFM', 'SNA', 'GSO', 'YKM', 'BRO', 'IAG', 'TYS', 'DRO', 'RDM', 'BOI', 'FCA', 'MCN', 'GUM', 'PGD', 'HRL', 'BTR', 'SWO', 'MKG', 'MIA', 'IPT', 'COS', 'VCT', 'GRI', 'HGR', 'TRI', 'ROR', 'SGF', 'TPA', 'FNT', 'GSP', 'ISN', 'TUS', 'DHN', 'ACY', 'FLL', 'DRT', 'GST', 'OAJ', 'UCA', 'TKI', 'SMF', 'IAH', 'HYS', 'RDU', 'LAR', 'GTF', 'PBI', 'SBN', 'MFR', 'EYW', 'IYK', 'KSM', 'SCK', 'SBP', 'OXR', 'SFB', 'PSG', 'PDX', 'LNK', 'ROA', 'GJT', 'YNG', 'ABE', 'PSC', 'LSE', 'IND', 'YAK', 'EKO', 'LRD', 'GPT', 'ABY', 'SFO', 'CVG', 'SRQ', 'PVU', 'BRW', 'CAK', 'SMX', 'SLN', 'DDC', 'MAF', 'EAR', 'SAT', 'AEX', 'PSE', 'YAP', 'LAX', 'CYS', 'BHM', 'SLC', 'OTZ', 'JAC', 'TTN', 'CGI', 'LCH', 'EGE', 'MKK', 'ACK', 'SAF', 'LFT', 'CCR', 'EVV', 'MMH', 'CLL', 'LMT', 'CLD', 'SLE', 'BTM', 'MLB', 'EAT', 'ABI', 'CIC', 'SPI', 'HVN', 'ILM', 'FWA', 'GNV', 'JLN', 'PBG', 'MBS', 'OAK', 'LBF', 'CAE', 'TOL', 'EAU', 'CRP', 'ADK', 'TEX', 'LAN', 'APN', 'ATL', 'ROC', 'DVL', 'ELP', 'BTV', 'JNU', 'DAB', 'SJU', 'AZO', 'SOP', 'HYA', 'MHT', 'HOU', 'PLN', 'SAN', 'FSM', 'PIH', 'PIE', 'CDB', 'LAS', 'FAR', 'XWA', 'SPS', 'PIB', 'UST', 'MCW', 'RDD', 'OGS', 'DLH', 'SHV', 'MEI', 'MQT', 'DUT', 'FLG', 'GRB', 'BPT', 'INL', 'CSG', 'HTS', 'RNO', 'ORF', 'FSD', 'BUR', 'ROP', 'CWA', 'STL', 'JAN', 'AVL', 'BLI', 'PPG', 'BGR', 'PGV', 'YUM', 'MLI', 'SCE', 'ADQ', 'ISP', 'AKN', 'DLG', 'FAI', 'MKE', 'BNA', 'ATW', 'ATY', 'CDC', 'ALS', 'ONT', 'ABQ', 'ANI', 'BZN', 'SGU', 'SJC', 'PIR', 'CRW', 'BFL', 'BJI', 'SDF', 'SWF', 'BIS', 'MHK', 'CNY', 'OWB', 'EWR', 'FLO', 'BUF', 'WRG', 'SHD', 'PAH', 'LNY', 'GCN', 'WYS', 'COU', 'IFP', 'SUX', 'VPS', 'GTR', 'RKS', 'MGM', 'AGS', 'RSW', 'LAW', 'DTW', 'LBL', 'KOA', 'BFF', 'RDR', 'TVL', 'ILG', 'BQK', 'MFE', 'MDT', 'MEM', 'ECP', 'UTM', 'OKC', 'STC', 'RAP', 'RIC', 'JFK', 'CLE', 'FOD', 'SYR', 'SAV', 'BDL', 'PIA', 'SUN', 'ANC', 'MWH', 'LCK', 'GFK', 'PMD', 'LGA', 'PRC', 'TWF', 'APF', 'RHI', 'ENV', 'LEX', 'ITH', 'BIL', 'CHA', 'SJT', 'VEL', 'ELM', 'MSO', 'MYR', 'DBQ', 'ILE', 'ABR', 'FAY', 'ROW', 'MDW', 'BIH', 'LBE', 'LWS', 'STT', 'EFD', 'TYR', 'MOD', 'JAX', 'MSP', 'ACT', 'JMS', 'GRR', 'CPR'}\n"
     ]
    }
   ],
   "source": [
    "#New number of unique origins\n",
    "\n",
    "base_directory = \".\"  \n",
    "\n",
    "# Initialize a set to store unique origins\n",
    "unique_origins = set()\n",
    "\n",
    "# Iterate through each Parquet file in the base directory\n",
    "for folder in os.listdir(base_directory):\n",
    "    folder_path = os.path.join(base_directory, folder)\n",
    "    \n",
    "    # Check if the item is a directory (since each file is in its own folder)\n",
    "    if os.path.isdir(folder_path):\n",
    "        for file in os.listdir(folder_path):\n",
    "            if file.endswith('.parquet'):\n",
    "                # Construct the full file path\n",
    "                file_path = os.path.join(folder_path, file)\n",
    "                \n",
    "                # Read the Parquet file\n",
    "                df = pd.read_parquet(file_path)\n",
    "                \n",
    "                # Add unique origins in this file to the set\n",
    "                unique_origins.update(df['Origin'].dropna())\n",
    "\n",
    "# Display the total count of unique origins\n",
    "print(f\"Total number of unique origins across all files: {len(unique_origins)}\")\n",
    "\n",
    "# Optionally, print all unique origins\n",
    "print(\"Unique origins:\")\n",
    "print(unique_origins)\n",
    "\n"
   ]
  },
  {
   "cell_type": "code",
   "execution_count": 10,
   "metadata": {},
   "outputs": [
    {
     "name": "stdout",
     "output_type": "stream",
     "text": [
      "Origins in Parquet files that are missing in the CSV:\n",
      "{'MVY', 'DEC', 'BLV', 'ATY', 'ESC', 'ALS', 'PVU', 'ART', 'IMT', 'SHR', 'HIB', 'PAE', 'RIW', 'SLN', 'DDC', 'DIK', 'PSM', 'EAR', 'OGD', 'CYS', 'MHK', 'CNY', 'OWB', 'BKG', 'SHD', 'CIU', 'GCK', 'CGI', 'PAH', 'SAF', 'USA', 'MMH', 'BFM', 'COU', 'IFP', 'EAT', 'IAG', 'JLN', 'PBG', 'LBL', 'BFF', 'LBF', 'PGD', 'ECP', 'SWO', 'UTM', 'APN', 'IPT', 'DVL', 'STC', 'GRI', 'HGR', 'HOB', 'FOD', 'HYA', 'BRD', 'ISN', 'UIN', 'DRT', 'CDB', 'XWA', 'MWH', 'PIB', 'LCK', 'UST', 'MCW', 'OGS', 'JST', 'PRC', 'TBN', 'TKI', 'ENV', 'PUW', 'HYS', 'LAR', 'VEL', 'AZA', 'ALW', 'ABR', 'STS', 'BIH', 'LBE', 'SFB', 'PPG', 'YNG', 'PGV', 'JMS'}\n"
     ]
    }
   ],
   "source": [
    "#Check for new origins\n",
    "# Load the unique_airport_coordinates(1989-2008) CSV file\n",
    "unique_coordinates_path = \"unique_airport_coordinates.csv\"  \n",
    "unique_coordinates_df = pd.read_csv(unique_coordinates_path)\n",
    "unique_origins_csv = set(unique_coordinates_df['Origin'].dropna())  \n",
    "\n",
    "\n",
    "base_directory = \".\"  \n",
    "\n",
    "# Initialize a set to store all unique origins found in the Parquet files\n",
    "all_origins_in_parquet = set()\n",
    "\n",
    "# Iterate through each Parquet file in the base directory\n",
    "for folder in os.listdir(base_directory):\n",
    "    folder_path = os.path.join(base_directory, folder)\n",
    "    \n",
    "    # Check if the item is a directory (since each file is in its own folder)\n",
    "    if os.path.isdir(folder_path):\n",
    "        for file in os.listdir(folder_path):\n",
    "            if file.endswith('.parquet'):\n",
    "                # Construct the full file path\n",
    "                file_path = os.path.join(folder_path, file)\n",
    "                \n",
    "                # Read the Parquet file\n",
    "                df = pd.read_parquet(file_path)\n",
    "                \n",
    "                # Add the unique origins in this file to the set\n",
    "                all_origins_in_parquet.update(df['Origin'].dropna())\n",
    "\n",
    "# Check for any origins in the Parquet files that are missing in the CSV\n",
    "missing_in_csv = all_origins_in_parquet - unique_origins_csv\n",
    "\n",
    "# Display results\n",
    "if missing_in_csv:\n",
    "    print(\"Origins in Parquet files that are missing in the CSV:\")\n",
    "    print(missing_in_csv)\n",
    "else:\n",
    "    print(\"All origins in the Parquet files are present in the CSV.\")\n"
   ]
  },
  {
   "cell_type": "code",
   "execution_count": 11,
   "metadata": {},
   "outputs": [
    {
     "name": "stdout",
     "output_type": "stream",
     "text": [
      "Number of origins in Parquet files that are missing in the CSV: 87\n"
     ]
    }
   ],
   "source": [
    "#number of origins from the 2009-2023 dataset\n",
    "missing_in_csv_count = len(missing_in_csv)\n",
    "print(f\"Number of origins in Parquet files that are missing in the CSV: {missing_in_csv_count}\")"
   ]
  },
  {
   "cell_type": "code",
   "execution_count": 12,
   "metadata": {},
   "outputs": [
    {
     "name": "stdout",
     "output_type": "stream",
     "text": [
      "Number of unique origins in the CSV: 339\n"
     ]
    }
   ],
   "source": [
    "origin_count_csv = len(unique_coordinates_df['Origin'])\n",
    "print(f\"Number of unique origins in the CSV: {origin_count_csv}\")"
   ]
  },
  {
   "cell_type": "code",
   "execution_count": 13,
   "metadata": {},
   "outputs": [
    {
     "name": "stdout",
     "output_type": "stream",
     "text": [
      "Missing origins have been saved to missing_origins.csv\n"
     ]
    }
   ],
   "source": [
    "# Convert the set of missing origins to a DataFrame\n",
    "missing_origins_df = pd.DataFrame(list(missing_in_csv), columns=['Origin'])\n",
    "\n",
    "# Define the path for the new CSV file\n",
    "missing_origins_csv_path = \"missing_origins.csv\"\n",
    "\n",
    "# Save the DataFrame to a CSV file\n",
    "missing_origins_df.to_csv(missing_origins_csv_path, index=False)\n",
    "\n",
    "print(f\"Missing origins have been saved to {missing_origins_csv_path}\")"
   ]
  },
  {
   "cell_type": "code",
   "execution_count": 22,
   "metadata": {},
   "outputs": [
    {
     "name": "stdout",
     "output_type": "stream",
     "text": [
      "{'ID': '1', 'Name': 'Goroka Airport', 'City': 'Goroka', 'Country': 'Papua New Guinea', 'IATA': 'GKA', 'ICAO': 'AYGA', 'Latitude': '-6.081689834590001', 'Longitude': '145.391998291', 'Altitude': '5282', 'Timezone': '10', 'DST': 'U', 'Tz': 'Pacific/Port_Moresby', 'Type': 'airport', 'Source': 'OurAirports'}\n",
      "{'ID': '2', 'Name': 'Madang Airport', 'City': 'Madang', 'Country': 'Papua New Guinea', 'IATA': 'MAG', 'ICAO': 'AYMD', 'Latitude': '-5.20707988739', 'Longitude': '145.789001465', 'Altitude': '20', 'Timezone': '10', 'DST': 'U', 'Tz': 'Pacific/Port_Moresby', 'Type': 'airport', 'Source': 'OurAirports'}\n",
      "{'ID': '3', 'Name': 'Mount Hagen Kagamuga Airport', 'City': 'Mount Hagen', 'Country': 'Papua New Guinea', 'IATA': 'HGU', 'ICAO': 'AYMH', 'Latitude': '-5.826789855957031', 'Longitude': '144.29600524902344', 'Altitude': '5388', 'Timezone': '10', 'DST': 'U', 'Tz': 'Pacific/Port_Moresby', 'Type': 'airport', 'Source': 'OurAirports'}\n",
      "{'ID': '4', 'Name': 'Nadzab Airport', 'City': 'Nadzab', 'Country': 'Papua New Guinea', 'IATA': 'LAE', 'ICAO': 'AYNZ', 'Latitude': '-6.569803', 'Longitude': '146.725977', 'Altitude': '239', 'Timezone': '10', 'DST': 'U', 'Tz': 'Pacific/Port_Moresby', 'Type': 'airport', 'Source': 'OurAirports'}\n",
      "{'ID': '5', 'Name': 'Port Moresby Jacksons International Airport', 'City': 'Port Moresby', 'Country': 'Papua New Guinea', 'IATA': 'POM', 'ICAO': 'AYPY', 'Latitude': '-9.443380355834961', 'Longitude': '147.22000122070312', 'Altitude': '146', 'Timezone': '10', 'DST': 'U', 'Tz': 'Pacific/Port_Moresby', 'Type': 'airport', 'Source': 'OurAirports'}\n",
      "['GKA', 'MAG', 'HGU', 'LAE', 'POM', 'WWK', 'UAK', 'GOH', 'SFJ', 'THU', 'AEY', 'EGS', 'HFN', 'HZK', 'IFJ', 'KEF', 'PFJ', 'RKV', 'SIJ', 'VEY', 'YAM', '\\\\N', '\\\\N', 'YAY', 'YAZ', 'YBB', 'YBC', 'YBG', 'YBK', 'YBL', 'YBR', 'YCB', 'YCD', 'YCG', 'YCH', 'YCL', 'YCO', 'YCT', 'YCW', 'YCY', 'YZS', 'YDA', 'YDB', '\\\\N', 'YDF', 'YDL', 'YDN', 'YDQ', 'YEG', 'YEK', 'YEN', 'YET', 'YEU', 'YEV', 'YFB', 'YFC', 'YFE', 'YFO', 'YFR', 'YFS', 'YGK', 'YGL', 'YGP', 'YGQ', 'YGR', 'YHB', 'YHD', 'YHI', 'YHK', 'YHM', 'YHU', 'YHY', 'YHZ', 'YIB', 'YIO', 'YJN', 'YJT', 'YKA', 'YKF', 'YKL', 'YKY', 'YKZ', 'YLD', 'YLJ', 'YLL', 'YLT', 'YLW', 'YMA', 'YMJ', 'YMM', 'YMO', 'YMW', 'YMX', 'YNA', 'YND', 'YNM', 'YOC', 'YOD', 'YOJ', 'YOW', 'YPA', 'YPE', 'YPG', '\\\\N', 'YPL', 'YPN', 'YPQ', 'YPR', 'YPY', 'YQA', 'YQB', 'YQF', 'YQG', 'YQH', 'YQK', 'YQL', 'YQM', 'YQQ', 'YQR', 'YQT', 'YQU', 'YQV', 'YQW', 'YQX', 'YQY', 'YQZ', 'YRB', 'YRI', 'YRJ', 'YRM', 'YRT', 'YSB', 'YSC', 'YSJ', 'YSM', 'YSR', 'YSU', 'YSY', 'YTE', 'YTH', 'YTR', 'YTS', 'YTZ', 'YUB', 'YUL', 'YUT', 'YUX', 'YUY', 'YVC', 'YVG', 'YVM', 'YVO', 'YVP', 'YVQ', 'YVR', 'YVT', 'YVV', 'YWA', 'YWG', 'YWK', 'YWL', 'YWY', 'YXC', 'YXD', 'YXE', 'YXH', 'YXJ', 'YXL', 'YXP', 'YXR', 'YXS', 'YXT', 'YXU', 'YXX', 'YXY', 'YYB', 'YYC', 'YYD', 'YYE', 'YYF', 'YYG', 'YYH', 'YYJ', 'YYL', 'YYN', 'YYQ', 'YYR', 'YYT', 'YYU', 'YYW', 'YYY', 'YYZ', 'YZD', 'YZE', 'YZF', 'YZH', 'YZP', 'YZR', 'YZT', 'YZU', 'YZV', 'YZW', 'YZX', 'ZFA', 'ZFM', 'QLD', 'BUJ', 'BJA', 'ALG', 'DJG', '\\\\N', '\\\\N', 'VVZ', '\\\\N', 'TMR', 'GJL', 'MZW', '\\\\N', 'AAE', 'CZL', 'TEE', 'HRM', 'TID', '\\\\N', 'TIN', 'CFK', 'TAF', 'TLM', 'ORN', 'BFW', 'MUW', 'AZR', 'BSK', 'ELG', 'GHA', 'HME', 'INZ', 'TGR', 'LOO', 'TMX', 'OGX', 'IAM', 'COO', 'OUA', 'BOY', 'ACC', 'TML', '\\\\N', 'NYI', 'TKD', 'ABJ', 'BYK', 'DJO', 'HGO', 'MJC', 'SPY', 'ASK', 'ABV', 'AKR', 'BNI', 'CBQ', 'ENU', '\\\\N', 'IBA', 'ILR', 'JOS', 'KAD', 'KAN', 'MIU', 'MDI', 'LOS', 'MXJ', 'PHC', 'SKO', 'YOL', 'ZAR', 'MFQ', 'NIM', 'THZ', 'AJY', '\\\\N', '\\\\N', 'ZND', 'MIR', 'TUN', '\\\\N', '\\\\N', 'GAF', 'GAE', '\\\\N', 'DJE', 'EBM', 'SFA', 'TOE', 'LRL', 'LFW', 'ANR', '\\\\N', '\\\\N', 'BRU', '\\\\N', 'CRL', '\\\\N', '\\\\N', '\\\\N', 'KJK', 'LGG', 'OST', '\\\\N', '\\\\N', '\\\\N', '\\\\N', '\\\\N', 'OBL', '\\\\N', 'AOC', '\\\\N', '\\\\N', '\\\\N', '\\\\N', '\\\\N', 'IES', 'REB', '\\\\N', 'QXH', 'BBH', '\\\\N', '\\\\N', 'ZMG', '\\\\N', '\\\\N', 'CBU', '\\\\N', 'SXF', 'DRS', 'ERF', 'FRA', 'FMO', 'HAM', 'THF', 'CGN', 'DUS', 'MUC', 'NUE', 'LEJ', 'SCN', 'STR', 'TXL', 'HAJ', 'BRE', 'QEF', 'HHN', 'MHG', '\\\\N', '\\\\N', '\\\\N', 'EIB', 'SGE', 'XFW', 'KEL', 'LBC', '\\\\N', '\\\\N', '\\\\N', 'ESS', 'BFE', 'MGL', 'PAD', '\\\\N', 'DTM', 'AGB', '\\\\N', '\\\\N', '\\\\N', 'OBF', 'RBM', '\\\\N', '\\\\N', 'FDH', 'SZW', '\\\\N', '\\\\N', 'BYU', 'URD', 'HOQ', '\\\\N', '\\\\N', '\\\\N', '\\\\N', 'ZQW', 'ZQL', '\\\\N', '\\\\N', '\\\\N', '\\\\N', 'BWE', 'KSF', '\\\\N', 'BRV', 'EME', '\\\\N', 'WVN', 'BMK', 'NRD', 'FLF', '\\\\N', 'GWT', '\\\\N', 'KDL', 'URE', 'EPU', 'TLL', 'TAY', 'ENF', '\\\\N', 'KEV', 'HEM', 'HEL', '\\\\N', '\\\\N', 'HYV', '\\\\N', '\\\\N', 'KTQ', 'IVL', 'JOE', 'JYV', 'KAU', 'KEM', 'KAJ', 'KHJ', 'KOK', '\\\\N', 'KAO', 'KTT', 'KUO', 'QLF', 'LPP', 'MHQ', '\\\\N', 'MIK', '\\\\N', 'OUL', '\\\\N', 'POR', '\\\\N', '\\\\N', '\\\\N', '\\\\N', 'RVN', '\\\\N', 'SVL', '\\\\N', 'SOT', 'TMP', '\\\\N', 'TKU', 'UTI', 'VAA', 'VRK', 'YLI', 'BFS', 'ENK', 'BHD', 'LDY', 'BHX', 'CVT', '\\\\N', 'GLO', '\\\\N', 'GBA', '\\\\N', '\\\\N', 'MAN', '\\\\N', '\\\\N', 'NQY', 'LYE', '\\\\N', '\\\\N', '\\\\N', 'YEO', 'HAW', 'CWL', 'SWS', 'BRS', 'LPL', 'LTN', 'PLH', 'BOH', 'SOU', 'QLA', 'ACI', 'GCI', 'JER', 'ESH', 'BQH', 'LGW', 'LCY', 'FAB', '\\\\N', 'BBS', 'LHR', 'SEN', 'LYX', 'MSE', '\\\\N', 'CAX', '\\\\N', 'BLK', 'HUY', 'BWF', 'LBA', 'WRT', 'CEG', 'IOM', 'NCL', 'MME', 'EMA', '\\\\N', '\\\\N', '\\\\N', '\\\\N', 'KOI', 'LSI', 'WIC', 'ABZ', 'INV', 'GLA', 'EDI', 'ILY', 'PIK', 'BEB', 'SCS', 'DND', 'SYY', 'TRE', 'ADX', 'LMO', 'CBG', '\\\\N', 'NWI', 'STN', '\\\\N', '\\\\N', '\\\\N', 'EXT', 'FZO', 'OXF', 'BEX', 'LKZ', 'MHZ', '\\\\N', 'QUY', 'FFD', 'BZZ', 'ODH', '\\\\N', 'NHT', 'QCY', '\\\\N', '\\\\N', '\\\\N', 'BEQ', '\\\\N', 'SQZ', '\\\\N', 'HRT', 'WTN', '\\\\N', '\\\\N', '\\\\N', 'KNF', 'MPN', 'AMS', '\\\\N', 'MST', '\\\\N', '\\\\N', 'EIN', 'GRQ', 'GLZ', 'DHR', 'LEY', 'LWR', 'RTM', 'UTC', 'ENS', 'LID', 'WOE', 'ORK', 'GWY', 'DUB', 'NOC', 'KIR', '\\\\N', 'SNN', 'SXL', 'WAT', 'AAR', 'BLL', 'CPH', 'EBJ', '\\\\N', 'KRP', 'BYR', 'MRW', 'ODE', '\\\\N', 'RKE', 'RNN', 'SGD', 'SKS', 'SQW', 'TED', '\\\\N', 'FAE', '\\\\N', 'STA', 'AAL', 'LUX', 'AES', 'ANX', 'ALF', '\\\\N', 'BNN', 'BOO', 'BGO', 'BJF', 'KRS', 'DLD', 'BDU', 'EVE', 'VDB', 'FRO', 'OSL', 'HAU', 'HAA', 'KSU', '\\\\N', 'KKN', 'FAN', 'MOL', 'MJF', 'LKL', 'NTB', 'OLA', 'RRS', 'RYG', 'LYR', 'SKE', 'SRP', 'SSJ', 'TOS', 'TRF', 'TRD', 'SVG', '\\\\N', 'GDN', 'KRK', '\\\\N', 'KTW', '\\\\N', 'POZ', 'RZE', 'SZZ', 'OSP', '\\\\N', 'WAW', 'WRO', 'IEG', '\\\\N', '\\\\N', '\\\\N', 'RNB', '\\\\N', 'GOT', 'JKG', '\\\\N', 'LDK', 'GSE', 'KVB', 'THN', '\\\\N', '\\\\N', '\\\\N', 'KSK', 'MXX', 'NYO', '\\\\N', '\\\\N', '\\\\N', 'KID', '\\\\N', 'OSK', '\\\\N', 'KLR', 'MMX', 'HAD', '\\\\N', 'VXO', '\\\\N', '\\\\N', 'EVG', 'GEV', 'HUV', '\\\\N', 'KRF', 'LYC', '\\\\N', 'SDL', 'OER', '\\\\N', 'KRN', '\\\\N', 'SFT', '\\\\N', 'UME', 'VHM', 'AJR', 'ORB', 'VST', 'LLA', '\\\\N', '\\\\N', 'ARN', 'BMA', 'BLE', 'HLF', 'GVX', 'LPI', 'NRK', 'EKT', 'VBY', '\\\\N', 'SPM', 'RMS', 'GHF', '\\\\N', 'ZCN', '\\\\N', 'FRZ', '\\\\N', '\\\\N', '\\\\N', '\\\\N', '\\\\N', '\\\\N', 'ZNF', '\\\\N', 'KZG', 'FCN', '\\\\N', 'GKE', '\\\\N', '\\\\N', 'RLG', '\\\\N', 'WBG', '\\\\N', '\\\\N', '\\\\N', '\\\\N', 'WIE', '\\\\N', '\\\\N', '\\\\N', 'FEL', '\\\\N', 'IGS', '\\\\N', '\\\\N', 'GUT', 'ALJ', 'AGZ', '\\\\N', 'BIY', 'BFN', '\\\\N', '\\\\N', 'CPT', '\\\\N', 'DUR', 'ELS', '\\\\N', 'FCB', 'GCJ', 'GRJ', '\\\\N', '\\\\N', '\\\\N', '\\\\N', 'HRS', 'HDS', '\\\\N', 'JNB', 'KXE', 'KIM', '\\\\N', '\\\\N', 'KMH', 'KLZ', 'HLA', '\\\\N', '\\\\N', 'SDB', 'LAY', '\\\\N', 'MGH', '\\\\N', '\\\\N', 'LLE', '\\\\N', 'MZQ', 'NCS', '\\\\N', 'OVG', 'OUH', 'PLZ', 'PBZ', 'PHW', '\\\\N', 'JOH', 'PZB', 'NTY', 'PTG', 'PCF', '\\\\N', 'UTW', 'RCB', '\\\\N', 'ROD', 'SBU', 'ZEC', '\\\\N', '\\\\N', '\\\\N', 'SIS', '\\\\N', 'SZK', '\\\\N', '\\\\N', '\\\\N', 'LTA', 'ULD', 'UTN', 'UTT', 'VRU', 'VIR', 'VRE', '\\\\N', 'PRY', '\\\\N', 'WKF', '\\\\N', '\\\\N', '\\\\N', 'FRW', 'JWA', 'BBK', 'MUB', 'GBE', 'PKW', 'BZV', 'FTX', 'OUE', 'PNR', 'MTS', 'BGF', 'BBT', 'BSG', 'SSG', 'ASI', 'MRU', 'RRG', 'NKW', 'TKC', 'DLA', 'MVR', 'FOM', 'NGE', 'GOU', 'BFX', 'BPC', 'YAO', 'CGJ', 'LVI', 'LUN', 'MFU', 'MNR', 'NLA', 'KIW', 'HAH', 'NWA', 'AJN', 'DZA', 'RUN', 'ZSE', 'TNR', 'ZVA', 'SMS', 'TMM', 'MOQ', 'DIE', 'WMR', 'ZWA', 'AMB', 'ANM', 'HVA', 'MJN', 'NOS', 'BPY', 'WMN', 'SVB', 'VOH', 'WAI', 'IVA', 'FTU', 'WFI', 'RVA', 'WVK', 'MNJ', 'MXM', 'TLE', 'SSY', 'BUG', 'CAB', 'NOV', 'SVP', '\\\\N', 'LAD', 'MEG', 'SPP', 'GXG', 'PBN', 'VHC', 'SZA', 'SDD', 'LUO', 'UGO', 'XGN', 'OYE', 'OKN', 'LBQ', 'BMM', 'POG', 'OMB', 'MKU', 'LBV', 'MVB', 'PCP', 'TMS', 'BEW', 'INH', 'VXC', 'LFB', 'MPM', 'MUD', 'MZB', '\\\\N', 'MNC', 'APL', 'POL', 'UEL', '\\\\N', 'TET', '\\\\N', 'VNX', '\\\\N', 'DES', '\\\\N', 'SEZ', 'PRI', '\\\\N', 'AEH', 'MQQ', 'NDJ', 'FYT', 'BUQ', '\\\\N', 'BFO', 'VFA', 'HRE', 'KAB', '\\\\N', 'UTA', 'MVZ', '\\\\N', 'GWE', 'HWN', 'BLZ', 'KGJ', 'KBQ', 'LLW', 'ZZU', 'MSU', '\\\\N', 'FIH', 'NLO', 'MNB', '\\\\N', 'FDU', 'KKW', 'MDK', 'BDT', 'GMA', 'KLI', 'LIQ', 'FKI', 'IRP', 'BUX', 'BZU', 'BKY', 'GOM', 'KND', 'FBM', 'KWZ', 'FMI', 'KMN', 'KGA', 'MJM', 'BKO', 'GAQ', 'KYS', 'MZI', 'TOM', '\\\\N', 'BJL', 'FUE', 'VDE', 'SPC', 'LPA', 'ACE', 'TFS', 'TFN', 'MLN', 'FNA', '\\\\N', 'MLW', 'ROB', 'AGA', 'TTA', 'FEZ', '\\\\N', 'ERH', 'MEK', 'OUD', 'GMD', 'RBA', 'CMN', 'RAK', 'NNA', 'OZZ', 'AHU', 'TTU', 'TNG', 'ZIG', 'CSK', 'KLC', 'DKR', 'XLS', 'BXE', 'KGG', 'TUD', 'AEO', 'TIY', 'KFA', 'EMN', 'KED', 'NKC', 'SEY', 'ATR', 'NDB', '\\\\N', 'FIG', 'FAA', 'LEK', 'SID', 'BVC', 'MMO', 'SNE', 'VXE', 'ADD', '\\\\N', 'AMH', 'AXU', 'BJR', 'DIR', 'GMB', 'GDQ', 'JIM', 'LLI', 'MQX', 'ASO', 'BJM', 'HGA', 'BBO', 'KMU', 'ALY', 'ABS', 'CAI', 'CWE', 'HRG', 'EGH', 'LXR', 'MUH', 'PSD', 'SKV', 'ASW', 'ELT', 'EDL', 'GGM', 'KIS', 'KTL', 'LOK', 'LAU', 'MBA', '\\\\N', 'WIL', '\\\\N', 'WJR', '\\\\N', '\\\\N', 'GHT', 'AKF', 'BEN', 'SEB', 'TIP', 'LMQ', '\\\\N', 'HUQ', '\\\\N', 'LTD', '\\\\N', 'GYI', 'KGL', 'KME', 'DOG', 'RSS', 'ELF', 'KSL', 'KDX', 'EBD', 'JUB', 'MAK', 'KRT', 'ARK', 'DAR', 'DOD', 'IRI', 'JRO', 'LKY', 'MYW', 'MWZ', 'PMA', 'TGT', 'ZNZ', 'EBB', 'SRT', 'TIA', 'BOJ', 'GOZ', 'PDV', 'SOF', 'SZR', 'VAR', 'LCA', 'PFO', 'AKT', 'DBV', '\\\\N', 'OSI', 'PUY', '\\\\N', 'RJK', 'SPU', '\\\\N', 'ZAG', 'ZAD', '\\\\N', 'ABC', 'ALC', 'LEI', 'OVD', 'ODB', 'BIO', 'BCN', 'BJZ', 'LCG', '\\\\N', 'GRO', 'GRX', '\\\\N', 'IBZ', 'XRY', 'MJV', 'MAD', 'AGP', 'MAH', 'OZP', '\\\\N', 'PNA', '\\\\N', 'REU', 'ROZ', 'SLM', '\\\\N', '\\\\N', 'EAS', 'SCQ', 'LEU', 'TOJ', 'VLC', 'VLL', 'VIT', 'VGO', 'SDR', 'ZAZ', 'SVQ', 'CQF', '\\\\N', '\\\\N', '\\\\N', 'BYF', 'LTQ', 'XVS', '\\\\N', 'AGF', '\\\\N', 'BOD', 'EGC', '\\\\N', 'CNG', 'PIS', 'MCU', 'LIG', '\\\\N', 'NIT', 'TLS', 'PUF', '\\\\N', 'LDE', 'ANG', 'BVE', 'PGX', 'BIQ', 'ZAO', '\\\\N', '\\\\N', 'LBI', 'DCM', '\\\\N', '\\\\N', '\\\\N', 'RDZ', '\\\\N', '\\\\N', 'RYN', '\\\\N', '\\\\N', 'XMW', '\\\\N', '\\\\N', '\\\\N', '\\\\N', 'RCO', '\\\\N', '\\\\N', '\\\\N', '\\\\N', '\\\\N', 'CMR', '\\\\N', 'DLE', '\\\\N', '\\\\N', 'OBS', 'LPY', '\\\\N', '\\\\N', '\\\\N', '\\\\N', '\\\\N', '\\\\N', 'ETZ', 'BIA', 'CLY', 'FSC', 'AJA', 'PRP', 'SOZ', '\\\\N', 'AUF', 'CMF', 'CFE', 'BOU', '\\\\N', '\\\\N', 'QNJ', 'LYS', '\\\\N', 'SYT', 'RNE', 'NCY', 'GNB', '\\\\N', 'VAF', 'VHY', 'AUR', 'CHR', 'LYN', '\\\\N', '\\\\N', 'CEQ', 'EBU', '\\\\N', 'CCF', 'MRS', 'NCE', 'XOG', 'PGF', 'CTT', '\\\\N', 'MPL', 'BZR', 'AVN', '\\\\N', '\\\\N', 'MEN', '\\\\N', '\\\\N', 'BVA', '\\\\N', '\\\\N', 'EVX', 'LEH', 'XAB', 'ORE', 'XCR', 'URO', 'TUF', 'CET', 'LVA', '\\\\N', 'LBG', 'CSF', 'CDG', '\\\\N', '\\\\N', 'TNF', 'ORY', 'POX', 'VIY', '\\\\N', '\\\\N', '\\\\N', '\\\\N', '\\\\N', 'NVS', '\\\\N', 'XME', '\\\\N', '\\\\N', 'LIL', 'HZB', 'XCZ', '\\\\N', 'BES', 'CER', 'DNR', 'LBY', 'GFR', 'DOL', 'LRT', 'EDM', 'LDV', 'CFR', '\\\\N', 'LME', 'RNS', 'LAI', 'UIP', 'NTE', 'SBK', 'MXN', 'VNE', 'SNR', 'BSL', '\\\\N', 'DIJ', 'MZM', 'EPL', '\\\\N', '\\\\N', '\\\\N', 'ENC', '\\\\N', '\\\\N', 'RHE', 'SXB', '\\\\N', '\\\\N', 'TLN', 'FNI', 'MQC', 'FSP', '\\\\N', '\\\\N', 'PYR', 'AGQ', 'AXD', '\\\\N', 'VOL', '\\\\N', 'JKH', 'IOA', 'HER', 'KSO', 'KIT', 'EFL', 'KLX', '\\\\N', 'KGS', 'AOK', 'CFU', 'KSJ', 'KVA', 'KZI', 'LRS', 'LXS', 'LRA', '\\\\N', 'JMK', 'MJT', 'PVK', '\\\\N', 'RHO', 'GPA', 'CHQ', 'JSI', 'SMI', 'SPJ', 'JTR', 'JSH', '\\\\N', 'SKU', '\\\\N', '\\\\N', '\\\\N', 'SKG', '\\\\N', 'ZTH', 'BUD', 'DEB', '\\\\N', '\\\\N', '\\\\N', '\\\\N', '\\\\N', '\\\\N', 'CRV', 'BRI', 'FOG', 'TAR', 'LCC', 'PSR', 'BDS', '\\\\N', 'SUF', 'CTA', 'LMP', 'PNL', 'PMO', '\\\\N', 'REG', 'TPS', 'NSY', 'AHO', 'DCI', 'CAG', 'OLB', 'TTB', '\\\\N', '\\\\N', 'MXP', 'BGY', 'TRN', 'ALL', 'GOA', 'LIN', '\\\\N', 'PMF', '\\\\N', 'CUF', 'AVB', 'BZO', '\\\\N', 'BLQ', 'TSF', '\\\\N', 'FRL', '\\\\N', '\\\\N', 'VBS', 'TRS', 'RMI', '\\\\N', 'VIC', 'QPA', 'VRN', 'VCE', 'SAY', 'CIA', '\\\\N', 'FCO', '\\\\N', 'EBA', 'QLT', '\\\\N', 'NAP', 'PSA', 'FLR', 'GRS', '\\\\N', '\\\\N', 'PEG', '\\\\N', 'LJU', 'MBX', 'POW', '\\\\N', '\\\\N', '\\\\N', '\\\\N', '\\\\N', '\\\\N', 'UHE', 'KLV', '\\\\N', '\\\\N', 'OSR', '\\\\N', 'PED', '\\\\N', 'PRV', 'PRG', 'BRQ', 'VOD', 'TLV', 'BEV', '\\\\N', '\\\\N', 'ETH', 'EIY', 'HFA', '\\\\N', 'RPN', '\\\\N', 'MTZ', 'VTM', 'VDA', '\\\\N', 'MIP', 'SDV', 'MLA', '\\\\N', '\\\\N', 'GRZ', 'INN', 'LNZ', 'SZG', 'VIE', '\\\\N', 'AVR', 'SMA', 'BGC', 'BYJ', 'BGZ', '\\\\N', 'CAT', '\\\\N', '\\\\N', 'FLW', 'FAO', 'GRW', 'HOR', 'TER', 'QLR', '\\\\N', '\\\\N', 'PDL', 'PIX', 'PRM', 'OPO', 'PXO', 'LIS', 'SJZ', '\\\\N', '\\\\N', 'VRL', 'VSE', 'OMO', 'SJJ', 'ARW', 'BCM', 'BAY', 'BBU', 'CND', 'CLJ', 'CSB', 'CRA', 'IAS', 'OMR', 'OTP', 'SBZ', 'SUJ', 'SCV', 'TCE', 'TGM', 'TSR', '\\\\N', 'GVA', '\\\\N', 'SIR', '\\\\N', '\\\\N', 'EML', '\\\\N', '\\\\N', '\\\\N', 'LUG', 'BRN', 'ZHI', 'ZRH', 'ACH', 'SMV', '\\\\N', 'ESB', 'ANK', '\\\\N', 'ADA', 'UAB', 'AFY', 'AYT', 'GZT', '\\\\N', 'KYA', '\\\\N', 'MZH', 'VAS', 'MLX', 'ASR', '\\\\N', 'TJK', 'DNZ', 'ISL', 'BZI', 'BDM', 'ESK', 'ADB', '\\\\N', 'IGL', '\\\\N', '\\\\N', '\\\\N', 'KCO', 'DLM', '\\\\N', 'BXN', '\\\\N', 'EZS', 'DIY', 'ERC', 'ERZ', 'TZX', 'VAN', 'BAL', 'SXZ', '\\\\N', '\\\\N', 'BZY', 'KIV', 'OHD', 'SKP', 'GIB', 'BEG', 'INI', 'TGD', 'PRN', 'TIV', '\\\\N', 'BTS', 'KSC', '\\\\N', 'PZY', 'SLD', '\\\\N', 'TAT', 'NCA', 'PLS', 'XSC', '\\\\N', 'BRX', 'CBJ', 'LRM', 'PUJ', 'POP', 'SDQ', '\\\\N', 'STI', '\\\\N', 'CBV', 'GUA', 'RER', 'GSJ', 'LCE', 'SAP', 'GJA', 'RTB', 'TEA', 'TGU', 'TJI', 'OCJ', 'KIN', 'MBJ', 'POT', 'KTP', 'ACA', 'NTR', 'AGU', 'HUX', 'CVJ', 'ACN', 'CME', 'NCG', '\\\\N', 'CUL', 'CTM', 'CEN', 'CPE', 'CJS', 'CUU', 'CVM', 'CZM', 'DGO', 'TPQ', 'ESE', 'GDL', 'GYM', 'TCN', 'HMO', 'CLQ', 'ISJ', 'SLW', 'IZT', 'LZC', 'LMM', 'BJX', 'LAP', 'LTO', 'MAM', 'MID', 'MXL', 'MLM', 'MTT', 'LOV', 'MEX', 'MTY', 'MZT', 'NOG', 'NLD', 'OAX', 'PAZ', 'PBC', '\\\\N', 'PPE', 'PDS', 'UPN', 'PVR', 'PXM', 'QRO', 'REX', 'SJD', 'SFH', 'SLP', '\\\\N', '\\\\N', 'TRC', 'TGZ', 'TIJ', 'TAM', 'TSL', 'TLC', 'TAP', 'CUN', 'VSA', 'VER', 'ZCL', 'ZIH', 'ZMM', 'ZLO', '\\\\N', 'BEF', '\\\\N', '\\\\N', 'MGA', 'PUZ', 'BOC', 'CHX', 'DAV', 'BLB', 'PAC', 'SYP', 'PTY', 'BAI', 'OTR', 'JAP', '\\\\N', '\\\\N', 'GLF', 'GPL', 'LIR', 'LSL', 'LIO', 'NOB', 'SJO', '\\\\N', 'PMZ', 'XQP', '\\\\N', 'TOO', 'SAL', '\\\\N', 'CYA', 'CAP', 'JAK', 'PAP', 'BCA', 'BYM', 'AVI', 'CCC', 'CFG', 'CYO', 'CMW', 'SCU', '\\\\N', 'NBW', 'GAO', 'HAV', 'HOG', 'LCL', 'MOA', 'MZO', 'GER', 'UPB', 'QPD', '\\\\N', 'SNU', '\\\\N', 'SZJ', 'USS', 'VRA', 'VTU', 'CYB', 'GCM', 'MAY', 'ASD', 'MHH', 'SAQ', 'AXP', '\\\\N', 'TCB', 'CCZ', 'GHC', 'BIM', 'GGT', '\\\\N', 'ELH', 'GHB', 'NMC', 'RSD', 'TYM', 'FPO', 'IGA', 'LGI', 'SML', 'MYG', 'NAS', 'DCT', 'RCY', 'ZSA', 'BZE', 'AIT', 'RAR', 'NAN', 'SUV', 'TBU', 'VAV', 'TRW', 'TBF', 'WLS', 'APW', 'PPG', 'RUR', 'TUB', 'AAA', 'FGU', 'TIH', 'REA', 'FAV', 'XMH', 'GMR', 'KKR', 'MKP', 'PKP', 'TKP', 'AXR', 'MVT', 'TKX', 'NHV', 'BOB', 'RGI', 'HUH', 'MOZ', 'HOI', 'MAU', 'RFP', 'VLI', 'KNQ', 'KOC', 'LIF', 'GEA', 'MEE', 'TOU', 'UVE', 'NOU', 'AKL', 'TUO', 'AMZ', 'CHC', 'CHT', 'DUD', 'GIS', 'GTN', 'HKK', 'HLZ', '\\\\N', 'KKE', 'KAT', 'ALR', 'MON', 'TEU', 'MRO', 'NPL', 'NSN', 'IVC', 'OHA', 'OAM', 'PMR', 'PPQ', 'ZQN', 'ROT', '\\\\N', '\\\\N', 'TRG', 'TIU', 'TWZ', 'BHE', '\\\\N', 'WKA', '\\\\N', 'WHK', 'WLG', 'WIR', '\\\\N', 'WRE', 'WSZ', 'WAG', 'HEA', 'JAA', 'KBL', 'KDH', 'MMZ', 'MZR', 'OAH', '\\\\N', 'UND', 'BAH', '\\\\N', 'AHB', 'HOF', 'ABT', 'BHH', '\\\\N', 'DMM', 'DHA', 'GIZ', 'ELQ', 'URY', 'HAS', 'QJB', '\\\\N', 'JED', 'KMC', 'MED', 'EAM', 'AQI', '\\\\N', '\\\\N', '\\\\N', '\\\\N', 'RAH', 'RUH', '\\\\N', 'RAE', '\\\\N', 'SHW', 'SLF', 'TUU', 'TIF', '\\\\N', '\\\\N', 'TUI', 'EJH', 'YNB', 'ABD', 'DEF', 'AKW', 'GCH', '\\\\N', 'OMI', 'MRX', 'AWZ', 'AEU', 'BUZ', '\\\\N', '\\\\N', 'KIH', 'BDH', 'KHK', 'SXI', 'LVP', 'KSH', 'SDG', 'IFH', '\\\\N', 'KKS', 'IFN', '\\\\N', 'RAS', 'AJK', '\\\\N', '\\\\N', '\\\\N', '\\\\N', 'THR', 'GZW', '\\\\N', 'BND', 'JYR', 'KER', 'HDR', '\\\\N', 'SYJ', 'XBJ', 'CKT', 'RUD', 'TCX', 'KLM', 'RZR', 'FAZ', 'JAR', 'LFM', 'SYZ', 'KHY', 'TBZ', 'JWN', 'AZD', 'ACZ', 'ZBR', 'ZAH', 'IHR', '\\\\N', 'AMM', 'ADJ', 'AQJ', '\\\\N', '\\\\N', 'OMF', 'KWI', 'BEY', 'KYE', 'AUH', 'AZI', '\\\\N', '\\\\N', 'DHF', '\\\\N', '\\\\N', '\\\\N', 'DXB', 'FJR', 'RKT', 'SHJ', 'KHS', 'MSH', 'MCT', 'SLL', 'TTH', 'BHW', 'LYP', 'GWD', 'GIL', 'JAG', 'KHI', 'LHE', '\\\\N', 'XJM', 'MFG', 'MWD', 'MJD', '\\\\N', 'MUX', 'WNS', '\\\\N', 'PJG', 'PSI', 'PEW', '\\\\N', 'UET', 'RYK', '\\\\N', '\\\\N', 'RAZ', 'SKZ', 'SDT', 'SUL', 'BDN', 'WAF', 'PZH', 'BSR', 'ALP', 'DAM', 'DEZ', 'LTK', 'PMS', 'DIA', 'CIS', 'ROP', 'SPN', 'UAM', 'GUM', 'TIQ', 'MAJ', '\\\\N', 'KWA', 'CXI', 'MDY', 'TKK', 'PNI', 'ROR', 'KSA', 'YAP', 'KNH', '\\\\N', '\\\\N', 'TTT', 'GNI', 'KHH', 'CYI', 'KYD', 'RMQ', 'TNN', 'HSZ', 'MZG', '\\\\N', 'PIF', 'TSA', 'TPE', 'WOT', 'HUN', 'NRT', 'MMJ', 'IBR', 'MUS', 'IWO', 'SHM', '\\\\N', 'OBO', 'CTS', 'HKD', '\\\\N', 'MMB', 'SHB', '\\\\N', 'WKJ', 'IKI', 'UBJ', 'TSJ', 'MBE', 'AKJ', 'OIR', 'RIS', '\\\\N', 'KUM', 'FUJ', 'FUK', 'TNE', 'KOJ', 'KMI', '\\\\N', 'OIT', 'KKJ', 'KMJ', 'NGS', '\\\\N', '\\\\N', 'ASJ', 'OKE', 'TKN', 'FKJ', 'QGU', '\\\\N', 'KMQ', 'OKI', 'TOY', '\\\\N', 'HIJ', 'OKJ', 'IZO', '\\\\N', 'YGJ', 'KCZ', 'MYJ', 'ITM', 'TTJ', 'TKS', 'TAK', '\\\\N', '\\\\N', 'AOJ', 'GAJ', 'SDS', 'HHE', 'HNA', 'AXT', 'MSJ', 'SDJ', '\\\\N', 'NJA', '\\\\N', 'HAC', '\\\\N', '\\\\N', '\\\\N', 'OIM', '\\\\N', 'HND', 'OKO', 'KWJ', 'CHN', 'RSU', '\\\\N', 'KAG', 'CJU', 'CHF', 'PUS', 'USN', '\\\\N', 'SSN', 'OSN', 'GMP', 'SWU', 'KPO', 'TAE', 'YEC', 'OKA', '\\\\N', 'DNA', 'ISG', 'UEO', 'MMD', 'MMY', 'KTD', 'SHI', 'TRA', 'RNJ', '\\\\N', 'OGN', 'MNL', 'CBO', '\\\\N', 'PAG', 'GES', 'ZAM', 'BAG', 'DTE', '\\\\N', '\\\\N', 'SJI', '\\\\N', 'MBO', '\\\\N', 'BQA', '\\\\N', 'TAC', 'BCD', 'DGT', 'MPH', '\\\\N', 'ILO', 'KLO', 'PPS', 'EUQ', 'COC', 'GHU', 'JNI', 'PRA', 'ROS', 'SFN', 'AEP', 'COR', '\\\\N', 'FDO', '\\\\N', 'LPG', '\\\\N', 'EPA', 'HOS', 'GNR', 'MDZ', 'LGS', 'AFA', 'CTC', 'SDE', '\\\\N', 'IRJ', '\\\\N', 'TUC', 'UAQ', 'RCU', 'VDR', '\\\\N', '\\\\N', 'VME', 'LUQ', 'CNQ', 'RES', 'FMA', 'IGR', 'AOL', 'MCS', 'PSS', 'PRQ', 'SLA', 'JUJ', 'ORA', '\\\\N', 'ELO', 'OYA', '\\\\N', 'RCQ', 'UZU', 'EHL', 'CRD', 'EQS', 'REL', 'VDM', 'PMY', '\\\\N', 'PUD', 'RGA', 'RGL', 'USH', 'ULA', 'PMQ', 'RZA', 'BHI', 'CSZ', 'OVR', 'GPO', 'OYO', '\\\\N', 'MDQ', 'NQN', 'PEH', 'RSA', 'BRC', 'TDL', 'VLG', 'CUT', 'CPC', 'CDJ', '\\\\N', '\\\\N', 'AQA', 'AJU', 'AFL', 'ARU', 'BEL', 'BGX', 'PLU', 'BFH', '\\\\N', 'BSB', 'BAU', 'BVB', 'BPG', 'CAC', '\\\\N', 'CNF', 'CGR', 'XAP', 'CLN', 'CCM', '\\\\N', 'CAW', 'CMG', 'CWB', 'CRQ', 'CXJ', 'CGB', 'CZS', 'PPB', 'MAO', 'JCR', '\\\\N', 'IGU', 'FLN', 'FEN', '\\\\N', 'FOR', 'GIG', 'GJM', 'GYN', '\\\\N', 'GRU', 'GUJ', 'ATM', 'ITA', 'ITB', 'IOS', 'IPN', 'ITR', 'IMP', '\\\\N', 'JDF', 'JPA', 'JOI', 'CPV', 'VCP', 'LAJ', 'LIP', 'LDB', 'LAZ', '\\\\N', 'MAB', 'MEU', 'MGF', 'MOC', 'PLL', 'MCZ', 'MCP', 'MVF', '\\\\N', 'MNX', 'NVT', 'GEL', 'NAT', 'OYK', 'POA', 'PHB', 'POO', 'PFB', 'PET', 'PNZ', 'PNB', 'PMG', 'PVH', 'RBR', 'REC', 'SDU', 'RAO', 'SNZ', 'SJK', 'SLZ', 'CGH', 'SJP', 'SSZ', 'SSA', 'TMT', 'THE', 'TFF', 'TRQ', 'TEC', '\\\\N', 'TBT', 'TUR', 'SJL', 'PAV', 'URG', 'UDI', 'UBA', 'VAG', 'BVH', 'VIX', '\\\\N', 'QPS', 'ARI', 'BBA', '\\\\N', 'CCH', 'CJC', 'YAI', 'PUQ', 'GXQ', 'IQQ', 'SCL', 'ANF', 'WPR', 'FFU', 'LSQ', 'WPU', 'CCP', 'IPC', 'ZOS', 'VLR', 'QRC', 'TNM', 'LSC', '\\\\N', 'PZS', 'PMC', 'WCH', 'ZAL', 'ATF', '\\\\N', 'OCC', 'CUE', 'GPS', 'GYE', '\\\\N', '\\\\N', '\\\\N', '\\\\N', 'LTX', 'MRR', 'XMS', 'MCH', '\\\\N', 'MEC', '\\\\N', '\\\\N', 'PVO', '\\\\N', 'UIO', '\\\\N', 'ETR', 'SNC', '\\\\N', '\\\\N', '\\\\N', 'TPC', 'TUA', 'ASU', 'AYO', 'CIO', '\\\\N', 'ESG', 'PIL', 'AXM', 'PUU', 'ELB', 'BGA', 'BOG', 'BAQ', 'BSC', 'BUN', 'CUC', 'CTG', 'CLO', 'TCO', 'CZU', 'EJA', 'FLA', 'GIR', 'GPI', '\\\\N', 'IBE', 'IPI', 'APO', 'MCJ', 'LET', 'EOH', 'MGN', 'MTR', 'MVP', 'MZL', 'NVA', 'OCV', 'OTU', '\\\\N', 'PCR', 'PEI', 'PTX', 'PPN', 'PSO', 'PVA', 'MQU', 'MDE', 'RCH', 'SJE', 'SMR', 'ADZ', 'SVI', 'TME', 'AUC', 'UIB', 'ULQ', 'VUP', 'VVC', 'BJO', 'CBB', 'CCA', 'CIJ', 'LPB', 'ORU', 'POI', 'PSZ', 'SBL', 'SRE', 'TJA', 'TDD', 'VLM', 'VVI', 'BYC', 'PBM', 'CAY', 'OYP', '\\\\N', 'AOP', '\\\\N', 'IBP', 'PCL', 'CHM', '\\\\N', '\\\\N', 'CIX', 'AYP', 'ANS', 'ATA', 'LIM', 'JJI', 'JAU', 'JUL', 'ILQ', '\\\\N', 'TBP', 'YMS', '\\\\N', 'CHH', 'IQT', 'AQP', '\\\\N', 'TRU', 'PIO', 'TPP', 'TCQ', 'PEM', 'PIU', 'TYL', 'CUZ', '\\\\N', 'DZO', 'MVD', 'STY', 'AGV', 'AAO', '\\\\N', 'BLA', 'BNS', '\\\\N', 'BRM', 'CBL', 'CXA', '\\\\N', 'CLZ', 'CAJ', 'VCR', 'CUP', 'CZE', '\\\\N', 'CUM', '\\\\N', 'EOR', 'EOZ', 'GDO', 'GUI', 'GUQ', 'HGE', 'ICC', 'LSP', '\\\\N', 'LFR', '\\\\N', 'MAR', 'MRD', 'PMV', 'CCS', 'MUN', 'PYH', 'PBL', 'SCI', 'PZO', 'PTM', 'SVZ', 'SBB', 'SNV', 'STD', 'SNF', 'SFD', 'SOM', 'STB', 'TUV', 'TMO', 'VLN', 'VLV', 'VDP', '\\\\N', 'LTM', 'ANU', 'BGI', 'DCF', 'DOM', 'FDF', 'SFG', 'PTP', 'GND', 'STT', 'STX', 'BQN', 'FAJ', 'SIG', 'MAZ', 'PSE', 'SJU', 'SKB', 'SLU', 'UVF', 'AUA', 'BON', 'CUR', 'EUX', 'SXM', 'AXA', 'TAB', 'POS', 'EIS', 'CIW', 'MQS', 'SVD', 'ALA', 'BXH', 'TSE', 'DMB', 'FRU', 'OSS', 'CIT', 'URA', 'PWQ', 'PLX', 'AKX', 'GYD', 'YKS', 'MJZ', 'BQS', 'KHV', 'PVS', 'GDX', 'PWE', 'PKC', 'UUS', 'VVO', 'HTA', 'BTK', 'IKT', 'UUD', 'KBP', 'DOK', 'DNK', 'SIP', 'IEV', 'LWO', 'ODS', 'LED', 'MMK', 'GME', 'VTB', 'KGD', 'MHP', 'MSQ', 'ABA', 'BAX', 'KEJ', 'OMS', 'KRR', 'MCX', 'MRV', 'STW', 'ROV', 'AER', 'ASF', 'VOG', 'CEK', 'MQF', 'NJC', 'PEE', 'SGC', 'SVX', 'ASB', 'KRW', 'CRZ', 'DYU', 'BHK', 'SKD', 'TAS', 'BZK', 'SVO', 'KLD', 'VOZ', 'VKO', 'SCW', 'KZN', 'REN', 'UFA', 'KUF', 'AMD', 'AKD', 'IXU', 'BOM', 'PAB', 'BHJ', 'IXG', 'BDQ', 'BHO', 'BHU', 'NMB', '\\\\N', 'GUX', 'GOI', 'IDR', 'JLR', 'JGA', 'IXY', 'HJR', 'KLH', 'IXK', 'NAG', 'ISK', 'PNQ', 'PBD', 'RAJ', 'RPR', 'SSE', 'STV', 'UDR', 'CMB', 'ACJ', 'BTC', 'RML', 'ADP', 'JAF', 'TRR', 'KZC', 'PNH', 'REP', 'TNX', 'IXV', 'IXA', 'AJL', 'IXB', '\\\\N', 'BBI', 'CCU', 'COH', 'DBD', 'GAY', '\\\\N', 'IMF', '\\\\N', 'IXW', 'JRH', 'IXH', 'IXS', 'IXI', 'DIB', 'MZU', '\\\\N', '\\\\N', 'PAT', '\\\\N', 'IXR', 'RRK', '\\\\N', 'VTZ', 'ZER', 'CXB', 'CGP', 'IRD', 'JSR', 'RJH', 'SPD', 'ZYL', '\\\\N', 'DAC', 'HKG', '\\\\N', 'AGR', 'IXD', 'ATQ', 'BKB', '\\\\N', 'VNS', 'KUU', 'BUP', '\\\\N', 'BEK', 'IXC', 'KNU', '\\\\N', 'DED', 'DEL', 'GWL', 'HSS', '\\\\N', 'JDH', 'JAI', 'JSA', 'IXJ', '\\\\N', 'KTU', 'LUH', 'IXL', 'LKO', 'IXP', '\\\\N', 'PGH', '\\\\N', '\\\\N', 'SXR', 'TNI', 'LPQ', 'PKZ', '\\\\N', 'ZVK', 'NEU', 'VTE', 'MFM', 'BWA', 'JKR', 'KTM', 'PKR', 'SIF', 'BIR', 'AGX', 'BLR', 'BEP', '\\\\N', 'VGA', 'CJB', 'COK', 'CCJ', 'CDP', 'CBD', '\\\\N', 'BPM', 'IXM', 'IXE', 'MAA', '\\\\N', 'IXZ', 'PNY', 'RJA', 'SXV', 'TJV', 'TIR', 'TRZ', 'TRV', '\\\\N', 'PBH', 'MLE', 'DMK', 'KDT', '\\\\N', 'UTP', '\\\\N', 'LPT', 'PRH', 'HHQ', 'TKH', '\\\\N', '\\\\N', 'PHS', '\\\\N', '\\\\N', 'NAW', 'KBV', 'SGZ', 'PAN', 'USM', '\\\\N', 'HKT', 'UNN', 'HDY', 'TST', 'UTH', 'SNO', 'PXR', 'LOE', '\\\\N', '\\\\N', 'DAD', '\\\\N', '\\\\N', 'HAN', 'NHA', 'HUI', 'PQC', 'SGN', 'VBA', '\\\\N', 'NYU', '\\\\N', 'HEH', 'HOX', 'KET', 'KYP', 'LSH', '\\\\N', 'MDL', 'MGZ', 'MYT', 'MOE', 'MOG', '\\\\N', 'NMS', 'PAA', 'PBU', 'PRU', '\\\\N', 'AKY', 'SNW', 'THL', '\\\\N', 'RGN', 'UPG', 'BIK', 'NBX', 'TIM', 'DJJ', 'WMX', 'MKQ', 'GTO', 'PLW', 'MDC', 'PSJ', 'OTI', 'TTE', 'LUW', 'AMQ', 'FKQ', 'KNG', 'BXB', 'MKW', 'SOQ', 'BTU', 'KCH', 'LMN', 'MUR', 'MYY', 'SBW', 'LDU', 'BKI', 'LBU', 'TWU', 'BWN', 'PKU', 'DUM', 'CGK', 'GNS', 'AEG', 'PDG', 'MES', 'FLZ', 'NPO', 'KTG', 'PNK', 'DJB', 'BKS', 'PLM', 'RGT', 'LSX', 'BTJ', '\\\\N', 'AOR', 'BWH', 'KBR', 'KUA', 'KTE', '\\\\N', 'IPH', 'JHB', 'KUL', 'LGK', 'MKZ', 'TGG', 'PEN', 'UAI', 'DIL', 'BCH', '\\\\N', 'QPG', 'TGA', 'XSP', 'SIN', 'ACF', 'ABM', 'ASP', 'BNE', 'OOL', 'CNS', 'CTL', 'ISA', 'MCY', 'MKY', 'PPP', 'ROK', 'TSV', 'WEI', 'AVV', 'ABX', 'MEB', '\\\\N', 'HBA', 'LST', 'MBW', 'MEL', '\\\\N', 'ADL', '\\\\N', 'JAD', 'KTA', 'KGI', 'KNX', 'LEA', 'PHE', '\\\\N', 'PER', 'UMR', 'XCH', 'BWU', 'CBR', 'CFS', 'CDU', 'DBO', 'NLK', 'XRH', 'SYD', 'TMW', 'WGA', 'PEK', 'HLD', 'TSN', 'TYN', 'CAN', 'CSX', 'KWL', 'NNG', 'SZX', 'CGO', 'WUH', 'FNJ', 'LHW', 'XIY', 'ULN', 'JHG', 'KMG', 'XMN', 'KHN', 'FOC', 'HGH', 'NGB', 'NKG', 'HFE', 'TAO', 'SHA', 'YNT', 'CKG', 'KWE', 'CTU', 'XIC', 'KHG', 'HTN', 'URC', 'HRB', 'MDG', 'DLC', 'PVG', 'TOD', 'SZB', 'NTQ', 'HBE', 'BTI', '\\\\N', 'LUR', 'PIZ', 'ITO', 'ORL', 'BTT', '\\\\N', 'UTO', 'FYU', 'SVW', 'FRN', 'TLJ', 'CZF', 'BED', 'SNP', 'EHM', 'STG', 'ILI', 'PTU', 'BMX', 'OSC', 'OAR', 'MHR', 'BYS', '\\\\N', 'FSM', 'MRI', 'GNT', 'PNC', 'SVN', 'GFK', 'PBF', 'NSE', 'HNM', 'PRC', 'TTN', 'BOS', 'SUU', 'RME', 'ENV', 'BFM', 'OAK', 'OMA', '\\\\N', 'OGG', 'ICT', 'MCI', 'MSN', 'DLG', 'HRO', 'PHX', 'BGR', 'FXE', 'GGG', 'AND', 'GEG', 'HWO', 'SFO', 'CTB', 'ARA', 'GNV', 'MEM', 'DUG', 'BIG', 'CNW', 'ANN', 'CAR', 'LRF', 'HUA', 'POB', 'DHT', 'DLF', 'LAX', 'ANB', 'CLE', 'DOV', 'CVG', 'FME', '\\\\N', 'HON', 'JNU', 'LFT', 'EWR', 'BOI', 'INS', 'GCK', 'MOT', 'HHI', 'MXF', '\\\\N', 'DAL', 'FCS', 'HLN', 'NKX', 'LUF', '\\\\N', 'HHR', 'HUL', 'END', 'NTD', 'EDW', 'LCH', 'KOA', 'MYR', 'NLC', 'ACK', 'FAF', 'HOP', 'DCA', 'NHK', 'PSX', 'BYH', 'ACY', 'TIK', 'ECG', 'PUB', 'PQI', 'GRF', 'ADQ', 'UPP', 'FLL', '\\\\N', 'INL', 'SLC', 'CDS', 'BIX', 'LSF', 'NQI', 'FRI', 'MDT', 'LNK', 'LAN', 'MUE', 'MSS', 'HKY', 'SPG', 'FMY', 'IAH', '\\\\N', 'ADW', 'INT', 'VCV', 'CEW', '\\\\N', 'PHN', 'BFL', 'ELP', 'HRL', 'CAE', 'DMA', 'NPA', 'PNS', 'RDR', 'HOU', 'BFK', 'ORT', 'PAQ', 'PIT', 'BRW', 'EFD', 'NUW', 'ALI', 'VAD', 'MIA', 'SEA', 'CHA', 'BDR', 'JAN', 'GLS', 'LGB', 'HDH', 'IPT', 'IND', 'SZL', 'AKC', 'GWO', 'HPN', 'FOK', 'JBR', 'XSD', 'LNA', 'NZY', 'BIF', 'YUM', 'CNM', 'DLH', 'BET', 'LOU', 'FHU', 'LIH', 'HUF', 'HVR', 'MWH', 'MPV', '\\\\N', 'RIC', 'SHV', 'CDV', 'ORF', 'BPT', 'SAV', 'HIF', 'OME', '\\\\N', 'PIE', 'MNM', 'CXO', 'SCC', 'SAT', 'ROC', 'COF', 'TEB', 'RCA', 'RDU', 'DAY', 'ENA', 'MLC', 'IAG', 'CFD', 'LIY', 'PHF', 'ESF', 'LTS', 'TUS', 'MIB', 'BAB', 'IKK', 'GSB', 'PVD', 'SBY', '\\\\N', 'BUR', 'DTW', 'TPA', 'PMB', 'POE', 'EIL', 'HIB', 'LFK', 'MAF', 'GRB', 'ADM', 'WRI', '\\\\N', '\\\\N', 'AGS', 'ISN', 'LIT', 'SWF', 'BDE', 'SAC', 'HOM', 'TBN', 'MGE', 'SKA', 'HTL', 'PAM', 'DFW', 'MLB', 'TCM', 'AUS', 'LCK', 'MQT', 'TYS', 'HLR', 'STL', 'MIV', 'SPS', 'LUK', 'ATL', 'MER', 'MCC', 'GRR', 'INK', 'FAT', 'VRB', 'IPL', 'BNA', 'LRD', 'EDF', 'OTZ', 'AOO', 'DYS', 'ELD', 'LGA', 'TLH', 'DPA', 'ACT', 'AUG', '\\\\N', 'NIP', 'MKL', 'MKK', 'FTK', '\\\\N', 'SJT', 'CXL', 'CIC', 'BTV', 'JAX', 'DRO', 'IAD', 'CLL', 'SFF', 'MKE', 'ABI', 'COU', 'PDX', 'TNT', 'PBI', 'FTW', 'OGS', 'FMH', 'BFI', 'SKF', 'HNL', 'DSM', 'EWN', 'SAN', 'MLU', 'SSC', 'ONT', 'GVT', 'ROW', 'DET', 'BRO', 'DHN', 'WWD', 'NFL', 'MTC', 'FMN', 'CRP', 'SYR', 'NQX', 'MDW', 'SJC', 'HOB', 'PNE', 'DEN', 'PHL', 'SUX', 'MCN', 'TCS', 'PMD', 'RND', 'NJK', 'CMH', 'FYV', 'FSI', '\\\\N', 'FFO', 'GAL', '\\\\N', 'MWL', 'IAB', 'NBG', 'BFT', 'TXK', 'PBG', 'APG', 'TCC', 'ANC', 'GRK', '\\\\N', 'BLI', 'NQA', 'EKN', 'HFD', 'SFZ', 'MOB', 'NUQ', 'SAF', 'BKH', 'DRI', 'BSF', 'OLS', 'MCF', 'BLV', 'OPF', 'DRT', 'RSW', 'AKN', 'MUI', 'JHM', 'JFK', 'HST', 'RAL', 'FLV', 'WAL', 'HMN', 'NXX', 'CYS', 'SCK', 'CHS', 'RNO', 'KTN', 'YIP', 'VBG', 'BHM', 'NEL', 'SYA', 'LSV', 'RIV', 'MOD', 'SMF', 'UGN', 'COS', 'BUF', 'SKY', 'PAE', 'MUO', 'CDC', 'BDL', 'MFE', 'NGU', 'CEF', 'LBB', 'ORD', 'BCT', 'FAI', '\\\\N', 'CVS', 'NGF', 'OFF', 'GKN', 'ART', 'PSP', 'AMA', 'FOD', 'BAD', 'FOE', 'COT', 'ILM', 'BTR', '\\\\N', 'TYR', 'BWI', 'HBR', 'LNY', 'AEX', 'WSD', 'CDB', 'TUL', 'SIT', 'ISP', 'MSP', 'ILG', 'DUT', 'MSY', 'PWM', 'OKC', 'ALB', 'VDZ', 'LFI', 'SNA', 'CBM', 'TMB', 'NTU', 'GUS', 'CPR', 'VPS', 'SEM', 'EYW', 'CLT', 'LAS', 'MCO', 'FLO', 'GTF', 'YNG', 'FBK', '\\\\N', 'WRB', 'BKK', 'NAH', 'MXB', 'SQR', 'TTR', 'KDI', 'SBG', 'TSY', '\\\\N', 'MLG', '\\\\N', 'BDO', 'CBN', 'JOG', 'CXP', 'PCB', 'SRG', 'BTH', 'TJQ', 'PGK', 'TNJ', 'SIQ', 'BDJ', 'BTW', 'PKN', 'PKY', 'MOF', 'ENE', 'RTG', 'KOE', 'LBJ', 'BPN', 'TRK', 'SRI', 'TSX', 'AMI', 'BMU', 'WGP', 'SUB', 'SOC', 'ICN', 'CNX', 'CEI', 'NST', 'NAK', 'KOP', 'UBP', 'KKC', 'THS', 'DPS', 'ATH', 'NGO', 'UKB', 'PUW', 'LWS', 'ELM', 'ITH', 'MRY', 'SBA', 'DAB', 'LPX', 'RIX', 'SQQ', 'HLJ', 'KUN', '\\\\N', 'PLQ', 'VNO', 'PNV', '\\\\N', '\\\\N', 'EVN', 'LWN', 'ASA', 'ASM', 'MSW', 'GZA', 'BUS', 'KUT', 'TBS', 'RIY', 'TAI', 'HOD', 'ADE', 'AXK', 'AAY', 'SAH', 'BHN', 'SCT', '\\\\N', 'FMM', 'NAV', 'EZE', 'EBL', 'EMD', 'HEW', 'KIX', 'JRB', 'TAG', 'JAV', 'JCH', 'JEG', 'PMI', 'DRW', 'URT', 'TKA', 'GZM', 'HVN', 'AVL', 'GSO', 'FSD', 'AYQ', 'MHT', 'APF', 'RDN', 'SDF', 'CHO', 'ROA', 'LEX', 'EVV', 'ABQ', 'BZN', 'BIL', 'BTM', 'TVC', 'FRS', 'BHB', 'RKD', 'JAC', 'RFD', 'DME', 'SYX', 'MFN', 'LJG', 'GSP', 'BMI', 'GPT', 'AZO', 'TOL', 'FWA', 'DEC', 'CID', 'LSE', 'CWA', 'PIA', 'ATW', 'RST', 'CMI', 'MHK', 'KGC', 'HVB', 'DLU', 'MZV', 'SSH', 'FKL', 'NBO', 'SEU', 'FTE', 'ARM', 'GJT', 'SGU', 'DWH', '\\\\N', 'SRQ', 'BDA', 'VNY', 'MLI', 'PFN', 'HIR', 'PPT', 'INU', 'FUN', 'OVB', '\\\\N', 'XKH', 'BIS', 'TEX', '\\\\N', 'HGN', 'RAP', 'CLD', 'FNT', 'DVO', 'FNC', 'STM', 'KOS', 'YOA', 'NPE', 'LEV', 'LXA', 'RDD', 'EUG', 'IDA', 'MFR', 'KBZ', 'RDM', 'PCN', 'WDH', 'YWH', '\\\\N', 'TNA', 'CZX', 'YBP', 'TJM', 'CAK', 'HSV', 'PKB', 'MGM', 'TRI', 'PAH', 'JIB', 'HAK', 'MFA', 'PGA', 'UII', 'FCA', 'MBS', 'BGM', 'BGW', 'NNT', 'ROI', 'BFV', 'TDX', 'BLH', 'IQA', 'TQD', 'XQC', 'CRK', 'SDK', 'LXG', 'ODY', 'SHE', 'DOY', 'MNI', 'PSG', 'LYA', 'XUZ', 'MWQ', 'KHM', 'DLI', 'VDH', 'VKG', 'CAH', 'VCL', 'TBB', 'PYY', 'BWK', 'NSI', 'CKY', 'AAH', 'FKB', 'SFB', 'JST', 'LUA', 'BHP', 'LDN', 'JMO', 'NGX', 'PPL', 'RUM', 'DNP', 'RUK', 'JUM', 'TPJ', 'TMI', 'SKH', 'IMK', 'DOP', 'BJH', 'DHI', 'MWX', 'JTY', 'JIK', 'JKL', 'MLO', 'JNX', 'PAS', 'KZS', 'RMF', 'NRN', 'USU', 'BXU', 'DPL', 'LAO', 'LGP', 'OZC', 'CEB', 'NOD', 'JUI', 'BPS', 'QIG', 'PMW', 'CLV', 'MSO', 'BKQ', 'BDB', 'GCN', 'SGR', '\\\\N', 'APA', 'CVN', 'FST', 'LVS', 'IWS', '\\\\N', 'LRU', 'BKD', 'TPL', 'OZA', 'KDM', 'LAK', 'YWJ', 'ZFN', 'YGH', 'TAH', 'YPC', 'SRZ', 'SAB', 'EGE', 'SKN', 'CGF', 'MFD', 'CSG', 'LAW', 'FNL', 'FLG', 'TVL', 'TWF', 'MVY', 'CON', 'GON', 'STC', 'BPE', 'GTR', 'GOJ', 'HQM', 'ERI', 'HYA', 'SPR', 'SDX', 'MGW', 'CRW', 'AVP', 'BJI', 'THG', 'FGI', 'BNK', 'FAR', 'MKC', 'RBE', 'GCC', 'TOF', 'NZJ', 'PHY', 'CJM', 'JZH', 'SWA', '\\\\N', 'GEO', 'AGT', 'OGL', 'KAI', 'DNH', 'AOI', '\\\\N', 'TCP', 'LYB', 'BJV', 'TBJ', 'SAW', 'SCE', 'BME', 'NTL', '\\\\N', 'KLU', 'HFT', 'HVG', 'MEH', 'VDS', 'IKA', 'MHD', 'UIK', 'MEI', 'SPI', 'CEZ', 'HDN', 'GUP', 'LBL', 'LAA', 'GLD', 'COD', 'HOV', 'ISC', 'SGF', 'NVK', 'BVG', 'FBU', 'NSK', 'AAQ', 'JLN', 'ABE', 'XNA', 'GUW', 'KZO', 'SBN', 'BKA', 'ARH', 'RTW', 'NUX', 'NOJ', 'SCO', 'UCT', 'USK', 'PEX', 'NNM', 'PKV', 'KGP', 'KJA', 'KGF', '\\\\N', 'URJ', 'IWA', 'CGQ', 'KIJ', 'JON', 'SMD', 'ACV', 'OAJ', 'TCL', 'DBQ', 'HHP', 'ATD', 'AKS', 'BAS', 'FRE', 'MBU', 'IRA', 'SCZ', 'MUA', 'GZO', 'MNY', 'RNL', 'RUS', 'VAO', 'KGE', 'RBV', 'BUA', 'CMU', 'DAU', 'GUR', 'PNP', 'HKN', 'UNG', 'KRI', 'KMA', 'KVG', 'MDU', 'MAS', 'MXH', 'MIS', 'TIZ', 'TBG', 'RAB', 'VAI', 'WBM', 'LLU', 'CNP', 'JFR', 'JGO', 'JJU', 'JSU', 'JNN', 'JNS', 'NAQ', 'JHS', 'JUV', 'JQA', 'GRY', 'THO', 'VPN', 'YWS', 'YAA', 'YWM', 'YFX', 'YHA', 'YRG', 'YCK', 'YLE', 'SUR', 'YAX', 'WNN', 'YNO', 'XBE', 'KIF', 'YOG', 'YHP', 'YKU', 'ZTB', 'ZLT', 'YAC', 'YAG', 'XKS', 'YKG', 'YAT', '\\\\N', 'YBE', 'YBX', 'YRF', 'YCS', 'YDP', 'YER', 'YFA', 'YFH', 'YMN', 'YGB', 'YGO', 'YGT', 'YGW', 'YGX', 'YGZ', 'YQC', 'CXH', 'YNS', 'YHO', 'YHR', 'YIK', 'YIV', 'AKV', 'YKQ', 'YPJ', 'YLC', 'YLH', '\\\\N', 'XGR', 'YMH', 'YMT', 'YUD', 'YNC', 'YNE', 'YNL', 'YOH', 'YPH', 'YPM', 'YPO', 'YPW', 'YQD', 'YQN', 'YRA', 'YRL', 'YSF', 'YSK', 'YST', 'YTL', 'YVZ', 'YWP', 'YXN', 'YZG', 'ZAC', 'ILF', 'ZBF', 'ZEM', 'ZFD', 'ZGI', 'ZJN', 'ZKE', 'MSA', 'ZMT', 'ZPB', 'ZRJ', 'ZSJ', 'ZTM', 'ZUM', 'ZWL', 'BLJ', 'CBH', 'BMW', 'ELU', 'KMS', 'HDF', 'HEI', 'HGL', 'SJY', 'NQT', 'DSA', 'CAL', 'EOI', 'FIE', 'NRL', 'PPW', 'SOY', 'NDY', 'LWK', 'WRY', 'LEQ', 'PZE', 'VLY', 'BRR', 'CFN', '\\\\N', 'CNL', 'LKN', 'OSY', 'MQN', 'RVK', 'RET', 'SDN', 'SOG', 'SVJ', 'SOJ', 'VAW', 'VRY', 'BZG', 'LCJ', 'OSD', 'HFS', 'KSD', 'TYF', 'AGH', 'SQO', 'HMV', 'VNT', 'QRA', 'MQP', 'AAM', 'MBD', 'GNZ', 'ORP', 'SWX', 'TLD', 'DIS', 'CIP', '\\\\N', 'YVA', 'WAQ', 'JVA', 'BMD', 'MXT', 'TVA', 'WTA', 'WTS', 'WAM', 'WPB', '\\\\N', 'DWB', 'WMP', '\\\\N', 'WMA', 'MJA', 'CBT', 'DUE', 'VPE', 'MSZ', 'KOU', 'MJL', 'TCH', 'VPY', 'SRH', 'CMK', 'LUD', 'OND', 'OMD', 'SWP', 'ERS', 'BOA', 'MAT', 'INO', 'NIO', 'KRZ', 'BSU', 'TSH', 'LJA', 'PFR', 'OUK', 'GMZ', 'BTE', 'KBS', 'KEN', 'OXB', 'SMW', 'VIL', 'ESU', 'EUN', 'NDR', 'RAI', 'SFL', 'BCO', 'BEI', 'DSE', 'DEM', 'GDE', 'GOR', 'ABK', 'MTF', 'TIE', 'ALU', 'BSA', 'MGQ', 'GLK', 'BUO', 'AAC', 'ATZ', 'ASV', 'LKG', 'MYD', 'NYK', 'SRX', 'TOB', 'MJI', 'LAQ', 'ATB', 'UYL', 'PZU', 'BKZ', 'TKQ', 'LDI', 'MUZ', 'SHY', 'TBO', 'RUA', 'ULU', 'DIU', 'ABR', 'ABY', 'AHN', 'ALM', 'ALO', 'ALW', 'APN', 'ATY', 'BFD', 'BFF', 'BKW', 'BQK', 'BRL', 'CEC', 'CGI', 'CIU', 'CKB', 'CLM', 'CMX', 'DDC', 'DUJ', 'EAU', 'EKO', 'EWB', 'FAY', 'GGW', 'GRI', 'HOT', 'HTS', 'KIO', 'IRK', 'JMS', 'LAR', 'LBE', 'LBF', 'LEB', 'LMT', 'LNS', 'LWT', 'LYH', 'MKG', 'MLS', 'MSL', 'OTH', 'OWB', 'PIB', 'PIH', 'PIR', 'PLN', 'PSM', 'RDG', 'RHI', 'RKS', 'RUT', 'SBP', 'SHR', 'SLK', 'SLN', 'SMX', 'TUP', 'UIN', 'VCT', 'VLD', 'WRL', 'YKM', 'ECN', 'RJL', 'IDY', 'ANE', 'LTT', 'JSY', 'PEV', '\\\\N', 'SOB', 'AOT', 'QSR', 'CVU', 'BNX', 'USQ', 'KSY', 'SFQ', 'KCM', 'AJI', 'ADF', 'ISE', 'EDO', 'SZF', 'ILZ', 'GDT', 'MDS', 'SLX', 'AZS', 'JBQ', 'PBR', 'AAZ', 'UTK', 'AHS', 'PEU', 'MIJ', 'CYW', 'CUA', 'GUB', 'JAL', 'CTD', 'ONX', 'JQE', 'PLP', 'TTQ', 'BCL', '\\\\N', 'PBP', 'PJM', 'SYQ', '\\\\N', 'JEE', 'PAX', '\\\\N', 'TND', 'COX', 'ATC', 'TBI', 'CRI', 'PID', 'AIU', 'MGS', 'MHX', 'MUK', 'MOI', 'PYE', 'ICI', 'PTF', 'KDV', 'MNF', 'MFJ', 'NGI', 'LKB', 'LBS', 'TVU', 'KXF', 'RTA', 'SVU', 'EUA', 'HPA', 'NFO', 'NTT', 'VBV', 'IUE', 'FUT', 'MXS', 'APK', 'AHE', 'AUQ', 'UAP', 'UAH', 'MTV', 'SLH', 'TOH', 'EAE', 'CCV', 'LOD', 'SSR', 'PBJ', 'LPM', 'LNB', 'MWF', 'LNE', 'NUS', 'ZGU', 'RCL', 'SON', 'TGH', 'ULB', 'VLS', 'SWJ', 'OLJ', 'AUY', 'AWD', 'DLY', 'FTA', 'IPA', 'TGJ', 'BMY', 'ILP', 'FBD', '\\\\N', 'AJF', 'WAE', 'KHD', 'BXR', 'RJN', 'BJB', 'AFZ', 'NSH', 'SRY', 'LRR', 'ADU', 'OMH', 'AAN', 'BNP', 'BHV', 'CJL', 'DBA', 'DEA', 'DSK', 'JIW', 'HDD', 'KDD', 'ORW', 'PAJ', 'KDU', 'SYW', 'TUK', 'ISU', 'KAC', 'GXF', 'ADK', 'GST', 'SGY', 'HCR', 'HNS', 'KLG', 'MCG', 'MOU', 'ANI', 'VAK', 'WRG', 'OPU', 'VMU', 'LUP', 'ENT', 'LZN', 'HCN', 'MFK', 'KUH', 'OKD', 'HSG', 'NKM', 'IWJ', 'FKS', 'ONJ', 'SYO', 'MYE', 'KUV', 'MPK', 'WJU', 'YNY', 'HIN', 'CJJ', 'SFS', 'CYU', '\\\\N', 'CGM', 'JOL', 'TWT', 'SUG', 'TDG', 'WNP', 'BSO', 'SFE', 'TUG', 'VRC', 'CYP', 'CRM', 'MBT', 'RXS', 'TTG', 'LHS', 'OES', 'ING', 'GGS', 'SST', 'NEC', 'JDO', 'LEC', 'MEA', 'MII', 'VDC', 'RIA', 'TOW', 'ESR', 'ZPC', 'SOD', 'SCY', 'LOH', 'ESM', 'PSY', 'CRC', '\\\\N', 'LQM', 'LPD', 'NQU', 'PDA', 'EYP', 'GYA', 'PUR', 'RIB', 'REY', 'SRJ', 'ORG', 'MVS', '\\\\N', 'CJA', 'HUU', 'NZC', 'SRA', '\\\\N', 'MYC', 'VIG', 'JPR', 'BBQ', 'DSD', 'BBR', 'SFC', 'GBJ', 'NEV', 'VIJ', 'BQU', 'UNI', 'KOV', 'PPK', 'DZN', 'UKK', 'KSN', 'KVD', 'NAJ', 'NER', 'PYJ', 'CKH', 'CYX', 'IKS', 'KXK', 'DYR', 'OHO', 'UJE', 'MPW', 'VSG', 'OZH', 'KWG', 'HRK', 'IFO', 'CWC', 'RWN', 'UDJ', 'CSH', 'CEE', 'AMV', 'KSZ', 'PES', 'GNA', 'MVQ', 'EIE', 'KYZ', 'NOZ', 'HTG', 'IAA', '\\\\N', 'NAL', 'OGZ', 'ESL', 'WKK', 'BLF', 'GLH', 'PSC', 'KQA', 'LPS', 'SLY', 'HMA', 'NYA', 'OVS', 'IJK', 'KVX', 'NYM', 'RAT', 'NFG', 'KRO', 'LBD', 'AZN', 'FEG', 'NMA', 'NCU', 'UGC', 'KSQ', 'TMJ', 'RYB', 'EGO', 'URS', 'LPK', 'VKT', 'UUA', 'JOK', 'CSY', 'ULY', 'OSW', 'PEZ', 'SKX', 'BWO', 'HBX', 'KCT', 'WRZ', 'BBM', 'SHL', 'GAU', 'DMU', 'TEZ', 'BZL', 'HOE', 'BHR', 'BDP', 'MEY', 'KEP', 'GAN', 'HAQ', 'KDO', 'MAQ', 'BMV', 'HPH', 'CXR', 'VCS', 'VCA', 'DIN', 'UIH', 'PXU', 'VII', 'BMO', 'TVY', 'KAW', 'LIW', 'MNU', 'BSX', 'PKK', 'SWQ', 'TMC', 'BUI', 'SEH', 'TJS', 'DTD', 'BEJ', 'TJG', 'SMQ', 'LUV', 'ARD', 'BLG', 'LGL', 'ODN', 'MKM', 'BKM', 'LWY', 'BBN', 'TMG', 'KUD', 'TKG', 'HLP', 'NTX', 'PSU', 'SQG', 'PDO', 'LSW', 'PKG', 'LBW', 'NNX', 'LPU', 'ALH', 'GYL', 'AUU', 'BCI', 'BDD', 'BVI', 'BHQ', 'HTI', 'BEU', 'BRK', 'BUC', 'GIC', 'OKY', 'BQL', 'BHS', 'BLT', 'CVQ', 'CAZ', 'CPD', 'CNC', 'CNJ', 'CED', 'CTN', 'CMA', 'CNB', 'CUQ', 'OOM', 'DMD', 'NLF', 'DPO', 'ELC', 'EPR', 'FLS', 'GET', 'GLT', 'GTE', 'GFF', 'HID', 'HOK', 'MHU', 'HGD', 'JCK', 'KAX', 'KNS', 'KFG', 'KRB', 'KWM', 'KUG', 'LNO', 'LEL', 'LDH', 'IRG', 'LSY', 'LHG', 'LRE', 'LER', 'LVO', 'UBB', 'MKR', 'MIM', 'MGT', 'MNG', 'MCV', 'MQL', 'MMG', 'MRZ', 'MOV', 'MYA', 'MGB', 'ONG', 'MYI', 'MBH', 'NRA', 'NAA', 'NTN', 'ZNE', 'OLP', 'PUG', 'PMK', 'PBO', 'CCK', 'GOV', 'PKE', 'PLO', 'EDR', 'PQQ', 'PTJ', 'ULP', 'RAM', 'RMA', 'SGO', 'MJK', 'SBR', 'SRN', 'XTG', 'TCA', 'VCD', 'SYU', 'WNR', 'WYA', 'WUN', 'WOL', 'WIN', 'BWT', 'OKR', 'XMY', 'NAY', 'CIF', 'CIH', 'DAT', 'HET', 'BAV', 'SJW', 'TGO', 'HLH', 'XIL', 'BHY', 'CGD', 'DYG', 'MXZ', 'ZUH', 'LZH', 'ZHA', 'ENH', 'NNY', 'XFN', 'YIH', 'AKA', 'GOQ', 'HZG', 'IQN', 'XNN', 'ENY', 'UYN', 'AVK', 'LTI', 'BYN', 'DLZ', 'HVD', 'MXV', 'DIG', 'LUM', 'SYM', 'ZAT', 'KOW', 'JDZ', 'JIU', 'JUZ', 'LYG', 'HYN', 'LYI', 'JJN', 'TXN', 'WEF', 'WEH', 'WUX', 'WUS', 'WNZ', 'YNZ', 'YIW', 'HSN', 'BPX', 'DAX', 'GYS', 'LZO', 'MIG', 'NAO', 'LZY', 'WXN', 'AKU', 'IQM', 'KCA', 'KRL', 'KRY', 'YIN', 'HEK', 'JMU', 'JNZ', 'NDG', 'YNJ', 'WKL', 'WME', 'LRV', 'IOR', 'NNR', 'GTI', 'EZV', '\\\\N', 'ORH', 'AQG', 'SHP', 'YCU', '\\\\N', 'JGN', 'DDG', 'DSN', 'PZI', 'PWT', 'SPW', 'JEF', '\\\\N', 'UNT', '\\\\N', 'PVC', '\\\\N', 'SBH', 'KMW', 'SUI', 'TBW', 'OBN', 'ERM', '\\\\N', 'CVF', 'FUL', 'USA', '\\\\N', 'NVI', '\\\\N', '\\\\N', 'QSF', 'LRH', 'SUN', '\\\\N', '\\\\N', 'MCW', 'AZA', 'XAU', '\\\\N', '\\\\N', '\\\\N', '\\\\N', 'AKP', 'ANV', 'ATK', 'GAM', 'HPB', 'KAL', 'KSM', 'KVL', 'MYU', 'RBY', 'SHH', 'SVA', 'WTK', 'OMC', 'YPX', 'YTQ', 'ARC', 'QOW', 'FON', 'TMU', 'CYZ', 'KVK', 'GVR', 'KPC', 'PJA', 'QBC', 'HGR', 'ACR', 'GOP', 'SDP', 'HMI', 'WUZ', 'TBH', 'ACP', 'GBT', 'IIL', 'PFQ', '\\\\N', 'TCG', 'MQM', 'AFS', 'DRG', 'LEN', 'RGS', 'EGM', 'CQD', 'DHM', 'NDC', 'SLV', 'IGG', 'KNW', 'KVC', 'PTH', 'TOG', 'EGN', 'LKH', 'WLH', 'CHG', 'UAS', 'BHG', 'YVB', 'SKT', 'PDP', 'WVB', 'MPA', 'AOE', 'CKZ', 'MSR', 'NOP', 'TEQ', 'YEI', 'LSS', 'KMV', 'VQS', 'YIF', 'HDM', 'MRQ', 'GFN', 'OAG', 'TRO', 'COQ', 'HOH', '\\\\N', '\\\\N', 'ESC', 'YAK', 'GUL', 'CES', 'NSO', 'DGE', 'MTL', 'CPX', '\\\\N', '\\\\N', '\\\\N', '\\\\N', 'MWA', '\\\\N', 'OCN', '\\\\N', 'KIK', 'XJD', 'GBZ', 'IMT', '\\\\N', 'AET', '\\\\N', '\\\\N', '\\\\N', 'MGC', 'SWD', 'GRM', 'AUW', '\\\\N', 'MYP', '\\\\N', '\\\\N', '\\\\N', 'MVA', 'QSA', 'WSY', 'MIE', 'LAF', '\\\\N', 'VGT', 'ENW', 'MTJ', 'RIW', 'PDT', 'LYM', 'PKH', '\\\\N', '\\\\N', 'KTR', '\\\\N', 'NOA', 'UCK', 'CEJ', '\\\\N', 'BQT', 'OSH', '\\\\N', 'AGE', '\\\\N', 'BXG', 'EAT', 'ARE', 'RIN', 'KCK', 'UKX', 'RMT', '\\\\N', 'QLS', '\\\\N', 'ZJI', 'QNC', 'TGK', 'GDZ', 'ZIA', '\\\\N', '\\\\N', '\\\\N', '\\\\N', 'IAR', 'OHE', 'JNG', 'DRK', 'AAT', 'TZL', 'FWH', 'NYT', '\\\\N', '\\\\N', 'VBP', 'NZH', 'WUA', 'GYY', 'BRD', 'LWB', 'PGV', 'CYF', 'OXR', 'BKG', 'TEN', 'JGS', 'NIU', 'SCH', 'NBC', 'QRW', '\\\\N', 'IAO', 'LGO', '\\\\N', 'NLP', 'CKC', 'UST', 'NLV', 'RHP', 'STS', 'ISM', 'LCQ', '\\\\N', '\\\\N', '\\\\N', 'LGU', 'BMC', '\\\\N', 'ASE', 'ULV', 'ERV', '\\\\N', 'GED', 'ZSW', 'GBD', 'HYS', 'SUS', 'LYU', 'GPZ', 'TVF', 'EGV', 'ARV', '\\\\N', 'YBV', '\\\\N', 'AVX', 'MHV', 'ZIN', 'INQ', 'SWT', 'HUT', 'OAI', 'AKH', 'STJ', '\\\\N', '\\\\N', 'VOK', 'GUC', 'SIA', 'TOA', 'MBL', 'PGD', 'WFK', 'JHW', 'YTM', 'SME', 'SHD', 'DVL', 'DIK', 'SDY', 'CDR', 'AIA', 'MCK', 'MTH', 'GDV', 'OLF', 'WYS', 'ALS', 'CNY', 'ELY', 'VEL', 'RUI', 'SOW', 'MYL', 'SMN', 'MMH', 'FRD', 'ESD', 'AST', 'ONP', 'EMK', 'UNK', 'UUK', 'SHX', 'CHU', 'NUI', 'EEK', 'KUK', 'KWT', 'KWK', 'MLL', 'RSH', 'KGK', 'KMO', 'CIK', 'EAA', 'HUS', 'HSL', 'NUL', 'VEE', 'WBQ', 'CEM', 'SHG', 'IYK', 'VIS', 'MCE', 'CYR', 'CPQ', 'GYR', 'TWB', 'BBL', '\\\\N', 'AYK', '\\\\N', 'AGN', 'ELV', 'FNR', 'HNH', '\\\\N', 'MTM', 'HYG', 'EGX', 'KPV', 'PIP', 'WSN', 'AKK', 'KYK', 'KLN', 'ABL', 'BKC', 'IAN', 'OBU', 'ORV', 'WLK', 'KTS', 'ELI', 'GLV', 'TLA', 'WAA', 'WMO', 'KKA', 'SMK', 'SKK', 'TNC', 'AKB', 'IKO', 'CYT', 'AUK', 'KPN', 'KFP', 'NLG', 'PML', 'KLW', 'KWN', 'KOT', 'KYU', 'SCM', 'NNL', 'KKH', 'NIB', 'AKI', 'AIN', 'APZ', 'RDS', 'PNT', 'SGV', 'IGB', 'NCN', 'TKJ', 'IRC', 'SLQ', '\\\\N', '\\\\N', 'LMA', 'MLY', 'YNP', 'YSO', 'YWB', 'YTF', 'YGV', 'YXK', 'XTL', 'XLB', 'XSI', 'YBT', 'ZGR', 'YCR', 'YRS', 'YOP', 'YBY', 'ZNA', 'YGG', '\\\\N', 'YDT', 'YLY', '\\\\N', 'YFJ', '\\\\N', '\\\\N', 'RNI', 'BZA', 'RFS', 'SIU', 'WSP', 'NCR', 'PLD', 'COZ', 'NEG', 'NRR', 'SPB', 'ARR', 'JSM', 'UYU', 'RBQ', 'ABF', '\\\\N', '\\\\N', 'ABN', '\\\\N', '\\\\N', 'DRJ', '\\\\N', '\\\\N', '\\\\N', 'MOJ', 'ICK', 'OEM', '\\\\N', '\\\\N', 'SMZ', 'TOT', 'AGI', '\\\\N', 'ORJ', 'NAI', '\\\\N', 'IMB', 'KAR', 'USI', 'MHA', 'PJC', 'ACD', 'RVE', 'BQJ', 'VGZ', 'EBG', 'CAQ', 'COG', 'TLU', 'CFB', 'OPS', 'GRP', 'CMP', 'BVS', 'SFK', 'PIN', 'BRA', 'STZ', 'MQH', 'AUX', 'NVP', '\\\\N', 'FRC', 'DOU', 'LBR', 'ROO', 'GPB', 'JCB', 'RVD', 'AAX', 'MBZ', 'RBB', 'CIZ', 'BAZ', 'DMT', 'GNM', 'QDJ', 'NZA', 'LBZ', 'KNP', 'AMC', 'GSQ', 'MRB', 'AWA', 'JIJ', 'MKS', 'DBM', 'DBT', 'QHR', 'GOB', 'MYB', 'MRE', 'JJM', 'RBX', '\\\\N', 'CPA', '\\\\N', 'IHC', 'MAX', 'BDI', 'WHF', 'NBE', '\\\\N', '\\\\N', '\\\\N', '\\\\N', '\\\\N', 'HTY', '\\\\N', '\\\\N', 'RVV', 'FUO', 'HUZ', 'ILD', '\\\\N', 'BIU', 'GJR', 'SAK', '\\\\N', 'IIA', '\\\\N', 'ULG', 'KQT', 'VGD', '\\\\N', 'ONK', 'SYS', 'LDG', '\\\\N', '\\\\N', '\\\\N', '\\\\N', '\\\\N', '\\\\N', 'HSK', 'CQM', 'NJF', 'CSA', 'RKH', 'AGC', 'VQQ', 'FTY', '\\\\N', 'TII', 'ZAJ', 'CCN', 'FUG', 'LCX', 'BSD', 'ACX', 'HZH', '\\\\N', 'OSU', 'ADS', 'DSI', 'KHE', 'SZS', '\\\\N', 'HJJ', 'YQI', 'ISO', 'FFA', 'LNJ', '\\\\N', 'CKS', '\\\\N', 'MWK', '\\\\N', '\\\\N', '\\\\N', 'PGU', 'YES', 'OSM', 'TJH', 'AXJ', 'KKX', 'AGJ', 'ULZ', 'UGA', 'ULO', '\\\\N', 'LBX', 'TJU', 'CMJ', 'TAZ', 'BWB', 'DRB', 'WGE', 'BRT', 'DKI', 'LZR', 'HLT', 'HCQ', 'FIZ', 'RVT', '\\\\N', 'PVU', 'SBS', 'DTA', '\\\\N', 'PUC', 'LAM', 'HII', 'INW', 'DGL', 'MZK', 'AEA', 'AAK', 'KUC', 'AIS', 'TMN', 'BEZ', 'NIG', 'BBG', 'MTK', 'MNK', 'NON', 'TSU', 'WTZ', 'KTF', 'AFT', 'RNA', 'CHY', 'NNB', 'XYA', 'BPF', 'BOW', '\\\\N', 'FTI', 'LVK', 'RMY', 'GFY', 'NDU', '\\\\N', 'TRM', 'SMO', 'UDD', 'SCF', 'OLM', '\\\\N', 'RIL', 'SAA', 'PDK', 'BMG', 'SUA', 'MMU', 'APC', 'SDM', '\\\\N', 'VNC', 'PHK', 'ECP', 'SBD', 'VAL', 'CAU', 'AWK', 'QNV', 'SQL', '\\\\N', '\\\\N', '\\\\N', 'RWI', '\\\\N', 'SXQ', 'SEE', '\\\\N', 'PHA', 'SQH', 'TKF', 'FRJ', 'GEX', '\\\\N', '\\\\N', '\\\\N', '\\\\N', '\\\\N', 'LVM', '\\\\N', '\\\\N', '\\\\N', '\\\\N', '\\\\N', '\\\\N', '\\\\N', 'GMV', '\\\\N', 'JRA', '\\\\N', '\\\\N', 'LAL', '\\\\N', 'SYH', '\\\\N', '\\\\N', 'RBK', 'FNU', '\\\\N', 'MYQ', '\\\\N', 'MGY', '\\\\N', 'FDY', '\\\\N', 'PEA', '\\\\N', 'EMP', '\\\\N', 'HYC', 'BBP', '\\\\N', 'SPF', '\\\\N', '\\\\N', 'QYD', '\\\\N', '\\\\N', '\\\\N', '\\\\N', 'OLV', 'KNA', '\\\\N', 'ONQ', 'BJC', 'SLE', 'UTM', '\\\\N', 'ZKB', 'LND', '\\\\N', '\\\\N', '\\\\N', '\\\\N', '\\\\N', 'MWC', 'JVL', '\\\\N', '\\\\N', 'LZU', 'BWG', 'RVS', 'NHD', 'KGO', '\\\\N', 'DBB', 'BCE', '\\\\N', 'CKL', 'TCZ', 'UKS', '\\\\N', 'OAZ', 'JCI', 'ESN', 'HMR', '\\\\N', 'MYV', '\\\\N', 'DUC', 'UVA', 'LOT', 'CCR', 'OCA', '\\\\N', '\\\\N', 'YUS', 'HIA', 'YOO', '\\\\N', '\\\\N', 'LHA', 'NYW', 'ATO', 'SGH', '\\\\N', '\\\\N', 'HEX', 'CDA', 'JAB', '\\\\N', 'HGS', 'TOP', '\\\\N', '\\\\N', 'MQY', 'UOS', 'NGQ', 'CSO', '\\\\N', 'PWK', 'KLS', '\\\\N', '\\\\N', 'ZTA', '\\\\N', '\\\\N', 'PUE', 'KHC', 'UKA', 'ILN', 'AVW', 'CGZ', '\\\\N', 'BXK', '\\\\N', 'MMI', 'STK', 'RWL', '\\\\N', 'CDW', 'AIZ', 'TVI', 'HSH', 'GML', 'TMA', '\\\\N', '\\\\N', 'RDO', 'DVT', '\\\\N', '\\\\N', 'YRV', 'FRG', '\\\\N', '\\\\N', '\\\\N', '\\\\N', 'ZHY', 'MCL', '\\\\N', 'PPC', 'KHW', '\\\\N', 'TXG', 'HLG', '\\\\N', 'XYE', '\\\\N', '\\\\N', 'DWC', 'RKP', 'MVV', 'MFX', 'AEB', 'OKF', 'OKU', '\\\\N', '\\\\N', '\\\\N', '\\\\N', '\\\\N', '\\\\N', '\\\\N', '\\\\N', '\\\\N', '\\\\N', '\\\\N', '\\\\N', '\\\\N', '\\\\N', '\\\\N', '\\\\N', '\\\\N', '\\\\N', '\\\\N', '\\\\N', '\\\\N', 'KOQ', '\\\\N', '\\\\N', '\\\\N', '\\\\N', '\\\\N', '\\\\N', 'PSH', '\\\\N', '\\\\N', '\\\\N', '\\\\N', '\\\\N', '\\\\N', '\\\\N', 'TTD', 'HIO', '\\\\N', '\\\\N', '\\\\N', 'KHT', 'NMT', '\\\\N', '\\\\N', 'BNO', 'PRZ', 'RBL', 'NOT', 'LKV', 'OTK', 'ONO', 'DLS', 'GAI', 'OAS', 'YTA', 'TSB', 'YSD', 'BNU', '\\\\N', '\\\\N', '\\\\N', 'YCC', '\\\\N', '\\\\N', 'IZA', '\\\\N', '\\\\N', 'MVL', 'RBD', '\\\\N', 'BXY', 'WST', 'BID', 'NME', 'OOK', 'OBY', 'VIN', 'BGE', 'ZGS', 'ZKG', 'YBI', '\\\\N', 'WHP', 'MAE', 'YZZ', '\\\\N', 'YAB', '\\\\N', 'GSI', 'MPY', 'LDX', 'KJI', 'CPB', 'HMB', 'RVY', 'POJ', 'JTC', 'OIA', 'RDC', 'SXX', 'BYO', 'SXO', 'CFC', 'CAF', '\\\\N', 'ERN', 'CCI', 'FBE', 'CFO', 'AAF', 'UMU', 'DTI', 'FBA', 'OLC', 'HUW', 'IRZ', 'ORX', 'UNA', 'TEF', 'GZP', 'OAA', '\\\\N', 'FPR', '\\\\N', 'PYM', 'NCO', 'OWD', 'BAF', '\\\\N', 'MGJ', 'HAR', '\\\\N', 'DXR', 'ASH', 'LWM', 'OXC', '\\\\N', '\\\\N', '\\\\N', '\\\\N', 'RMG', 'GAD', '\\\\N', 'WDR', '\\\\N', 'DNN', '\\\\N', 'LGC', '\\\\N', 'PIM', '\\\\N', 'GVL', 'PHD', '\\\\N', 'HHH', 'DNL', 'MRN', 'PVL', '\\\\N', 'TOC', '\\\\N', 'PLV', '\\\\N', 'WUU', 'HUE', 'OYL', 'OZG', 'WYE', 'GBK', 'THX', 'TGP', 'AFW', '\\\\N', '\\\\N', '\\\\N', 'RMK', 'LGH', '\\\\N', '\\\\N', 'RTS', 'FOS', '\\\\N', 'KEW', 'YSP', 'YHF', 'YHN', 'YKX', 'YMG', 'YXZ', 'YEM', '\\\\N', '\\\\N', '\\\\N', 'LWC', '\\\\N', 'PPM', 'XMC', 'ULH', '\\\\N', 'YUE', '\\\\N', 'LOP', '\\\\N', 'ZMH', '\\\\N', '\\\\N', 'HDG', '\\\\N', 'LOZ', 'FBG', 'WMI', 'JXA', 'JDG', 'YGM', '\\\\N', '\\\\N', 'EYK', 'RAC', 'RZP', '\\\\N', '\\\\N', '\\\\N', 'RKZ', '\\\\N', '\\\\N', 'TIW', '\\\\N', 'GUF', 'IBB', '\\\\N', '\\\\N', 'HMJ', 'HIW', 'KYI', 'HZL', 'CBE', '\\\\N', 'WYN', 'YBO', '\\\\N', 'KLF', 'LNR', '\\\\N', '\\\\N', 'JOT', 'VYS', 'JXN', '\\\\N', '\\\\N', '\\\\N', '\\\\N', 'BBX', 'OBE', 'SEF', 'AVO', 'GIF', 'ZPH', 'OCF', '\\\\N', '\\\\N', '\\\\N', '\\\\N', 'AIK', 'CDN', 'LBT', 'SOP', '\\\\N', '\\\\N', 'SVH', '\\\\N', 'LHV', '\\\\N', '\\\\N', 'BKL', 'DKK', 'LLY', 'LDJ', 'ANQ', '\\\\N', '\\\\N', '\\\\N', '\\\\N', 'CLW', '\\\\N', 'CGX', '\\\\N', '\\\\N', 'CRE', '\\\\N', '\\\\N', '\\\\N', '\\\\N', '\\\\N', '\\\\N', 'BXO', '\\\\N', '\\\\N', '\\\\N', '\\\\N', '\\\\N', '\\\\N', '\\\\N', '\\\\N', '\\\\N', '\\\\N', '\\\\N', 'WBW', 'LNN', '\\\\N', 'UMD', 'RLK', 'FFT', 'LEW', '\\\\N', '\\\\N', '\\\\N', 'MRK', 'DRE', 'GDW', '\\\\N', 'MFI', 'ISW', 'CWI', 'BVY', '\\\\N', 'OSF', 'YRQ', 'POF', '\\\\N', '\\\\N', 'EOK', 'PSL', '\\\\N', '\\\\N', 'STP', 'SOO', '\\\\N', 'VNA', '\\\\N', '\\\\N', '\\\\N', '\\\\N', '\\\\N', '\\\\N', 'DKS', '\\\\N', 'BYT', '\\\\N', '\\\\N', 'ADY', '\\\\N', 'HAO', '\\\\N', '\\\\N', '\\\\N', '\\\\N', '\\\\N', 'GAS', 'HOA', '\\\\N', '\\\\N', 'KEY', 'ILU', 'ATJ', 'OVA', 'UTS', 'RGK', 'FLD', '\\\\N', 'STE', '\\\\N', 'MQJ', '\\\\N', 'PEF', '\\\\N', 'CJN', 'GQQ', 'TPN', 'PTZ', 'CKV', 'LPC', 'CTH', 'BST', 'LLK', 'GBB', 'ZTU', 'LKP', 'KDY', 'GYG', 'JIQ', '\\\\N', 'AOH', 'DSO', 'SSI', 'BFP', 'GGE', 'HDI', 'RNT', 'POC', 'CTY', 'CEU', 'BEC', '\\\\N', '\\\\N', '\\\\N', '\\\\N', '\\\\N', 'QFO', 'SNY', '\\\\N', 'GKL', 'RPB', '\\\\N', 'IFL', 'JRF', 'BIN', 'NBS', 'RGO', 'MOO', 'LUZ', 'ECA', '\\\\N', '\\\\N', '\\\\N', '\\\\N', 'VAM', 'LLF', 'LSZ', 'ONS', 'TDR', '\\\\N', '\\\\N', 'WBU', '\\\\N', '\\\\N', '\\\\N', '\\\\N', 'BBJ', 'PAO', 'USR', '\\\\N', '\\\\N', 'MSC', '\\\\N', '\\\\N', '\\\\N', '\\\\N', '\\\\N', '\\\\N', 'YTY', 'PTK', 'KSI', 'EEN', 'THQ', 'VRO', 'GKK', '\\\\N', 'RCS', 'RHD', 'KMP', 'KGT', 'VUS', 'IOW', 'TLQ', '\\\\N', '\\\\N', '\\\\N', '\\\\N', '\\\\N', 'ANP', 'FXO', 'ODO', 'ZTR', '\\\\N', 'HRI', 'PEQ', 'HBG', 'QCJ', '\\\\N', 'QSC', 'YKN', 'XSB', 'ZBM', '\\\\N', 'KTI', '\\\\N', '\\\\N', '\\\\N', 'GYU', '\\\\N', 'CNI', 'KRH', 'JGD', 'CCL', 'HWD', 'MZP', 'JHQ', '\\\\N', 'ARB', 'SHT', 'TEM', 'GAH', 'WIO', '\\\\N', '\\\\N', '\\\\N', '\\\\N', '\\\\N', 'BFJ', 'ULK', 'KVR', 'IGD', 'GNY', 'KZR', 'VLU', '\\\\N', '\\\\N', '\\\\N', 'BEO', '\\\\N', 'BMP', 'NGZ', '\\\\N', '\\\\N', '\\\\N', 'YCN', 'BJP', 'BQB', 'SEK', '\\\\N', 'IVR', 'GLI', '\\\\N', 'IMM', 'TQQ', '\\\\N', 'YIC', 'PTB', '\\\\N', '\\\\N', '\\\\N', 'SBM', 'KFE', '\\\\N', 'BJU', '\\\\N', '\\\\N', '\\\\N', 'MZJ', '\\\\N', 'SAD', '\\\\N', 'SLJ', '\\\\N', 'KJP', '\\\\N', 'EKB', '\\\\N', '\\\\N', 'SIK', 'TTI', 'GFL', '\\\\N', '\\\\N', 'MTN', '\\\\N', '\\\\N', 'FRY', '\\\\N', 'NEW', 'COE', 'BMT', 'DNV', 'COJ', 'TIX', 'BZH', '\\\\N', 'UAR', 'NYE', 'AAP', 'FCM', 'LIX', 'OJC', 'GIU', 'EUM', 'TKT', 'YLK', '\\\\N', '\\\\N', '\\\\N', '\\\\N', 'YCM', '\\\\N', '\\\\N', '\\\\N', 'YPD', '\\\\N', '\\\\N', 'MNZ', 'LJN', '\\\\N', '\\\\N', 'BGG', 'KFS', '\\\\N', '\\\\N', '\\\\N', '\\\\N', 'LLV', 'DCY', 'GXH', '\\\\N', 'CIY', '\\\\N', 'KVM', '\\\\N', 'ZKP', '\\\\N', 'UMS', 'ADH', 'OLZ', '\\\\N', '\\\\N', 'NLT', 'PTA', 'BOR', '\\\\N', 'OBC', 'TDJ', 'AQB', 'NOR', 'BTZ', '\\\\N', 'WAR', 'EWK', '\\\\N', 'BSJ', 'TZR', 'FBR', '\\\\N', 'CLS', '\\\\N', 'EVW', '\\\\N', '\\\\N', '\\\\N', 'EUF', '\\\\N', 'MEO', 'AUO', '\\\\N', '\\\\N', '\\\\N', '\\\\N', '\\\\N', 'DBN', 'PUK', '\\\\N', '\\\\N', '\\\\N', 'CVO', '\\\\N', '\\\\N', '\\\\N', '\\\\N', '\\\\N', 'PXH', 'CWT', '\\\\N', 'OGD', '\\\\N', '\\\\N', 'AKO', 'SHN', 'WNA', 'PKA', '\\\\N', 'YBW', 'WSO', '\\\\N', '\\\\N', 'WKR', '\\\\N', 'GFO', 'DYL', '\\\\N', 'TGI', 'TJL', 'YZY', 'OAL', 'OCW', '\\\\N', 'MHC', 'SWO', 'OKM', 'CUH', 'CSM', 'WLD', 'PWA', 'DTN', 'SEP', '\\\\N', '\\\\N', 'ADT', '\\\\N', '\\\\N', '\\\\N', '\\\\N', '\\\\N', '\\\\N', 'IRB', '\\\\N', 'YEL', 'IKB', '\\\\N', 'DAN', '\\\\N', 'ERG', 'HCW', '\\\\N', '\\\\N', 'BEM', 'NKT', 'SUY', 'OUZ', 'ABB', 'QUO', 'KAA', '\\\\N', '\\\\N', 'SGX', '\\\\N', 'JUH', 'AOG', 'DQA', 'ZYI', '\\\\N', 'LDS', 'AVA', 'KSS', 'WTB', 'TNH', 'SZV', '\\\\N', '\\\\N', '\\\\N', '\\\\N', '\\\\N', '\\\\N', 'LII', 'NTI', 'WSR', 'DTB', '\\\\N', 'MEQ', 'BUW', 'KAZ', 'MNA', 'SGQ', 'BUU', '\\\\N', 'ILA', 'OKL', 'KOX', 'CMQ', 'WMB', 'RCM', 'DCN', 'KNO', 'AMN', '\\\\N', 'HMY', '\\\\N', '\\\\N', 'EMT', 'FAH', 'IXT', '\\\\N', 'KRQ', 'QKX', '\\\\N', '\\\\N', 'SSF', '\\\\N', 'JAS', '\\\\N', 'MRF', 'ALE', 'BQE', 'CZA', 'BUY', 'CCB', '\\\\N', 'EKI', '\\\\N', 'CUB', '\\\\N', '\\\\N', 'GDC', '\\\\N', 'HVS', '\\\\N', 'SZT', 'DU9', '\\\\N', '\\\\N', '\\\\N', '\\\\N', 'RIH', '\\\\N', 'LEE', '\\\\N', '\\\\N', '\\\\N', 'PPY', 'DIQ', 'EIK', 'ERD', 'BWX', 'ERL', '\\\\N', 'CNO', '\\\\N', '\\\\N', '\\\\N', 'HTR', '\\\\N', 'BWW', '\\\\N', '\\\\N', '\\\\N', 'PRB', '\\\\N', 'PKX', '\\\\N', 'HAF', 'HCJ', '\\\\N', 'WJF', 'CJF', 'GUZ', 'UBT', '\\\\N', '\\\\N', 'BOX', '\\\\N', '\\\\N', '\\\\N', '\\\\N', '\\\\N', '\\\\N', '\\\\N', 'QUG', '\\\\N', '\\\\N', '\\\\N', 'TNW', '\\\\N', 'FYJ', '\\\\N', '\\\\N', '\\\\N', '\\\\N', 'PZL', 'LPF', 'KJH', 'HPG', 'ZQZ', 'YIE', 'HNY', 'AHJ', 'WOS', '\\\\N', 'IGT', 'ASN', 'GMU', '\\\\N', 'NGD', 'TOI', '\\\\N', 'ETS', '\\\\N', 'EFG', 'KGW', 'NDN', 'BNM', 'ALX', 'PKT', 'GPN', '\\\\N', '\\\\N', '\\\\N', '\\\\N', '\\\\N', 'DOH', 'HZP', '\\\\N', '\\\\N', '\\\\N', '\\\\N', '\\\\N', 'HDE', 'PTT', '\\\\N', '\\\\N', 'LXN', '\\\\N', 'CBF', 'OKK', '\\\\N', '\\\\N', '\\\\N', '\\\\N', 'GBG', 'GUY', '\\\\N', '\\\\N', '\\\\N', '\\\\N', 'IDP', '\\\\N', '\\\\N', '\\\\N', 'BBC', 'PRX', 'CFV', '\\\\N', 'GXY', '\\\\N', 'OEL', 'FET', 'LGD', 'SZY', 'MPO', 'UKT', 'YBA', '\\\\N', 'BNG', '\\\\N', '\\\\N', 'OFK', '\\\\N', '\\\\N', '\\\\N', '\\\\N', '\\\\N', '\\\\N', 'TFL', '\\\\N', 'TPF', '\\\\N', '\\\\N', 'BZC', '\\\\N', 'ITP', '\\\\N', 'REZ', '\\\\N', '\\\\N', '\\\\N', 'KBN', 'IKL', 'AIR', 'JRN', 'JIA', 'VLP', 'JUA', 'CCX', '\\\\N', 'TGQ', 'CQA', 'MTG', 'BMB', '\\\\N', 'APQ', 'FLB', 'PCS', 'BNC', 'BNB', 'MTP', 'VPZ', 'DRV', 'SXK', 'MLZ', 'PDU', 'ATI', '\\\\N', 'HSM', 'SWH', 'TTL', 'KWB', 'KOO', 'AOU', '\\\\N', '\\\\N', 'SQX', 'LDM', 'RHV', 'OHS', 'KCF', 'RZS', '\\\\N', 'TMF', 'IFU', 'KZF', 'OGU', 'YKO', '\\\\N', 'BUT', 'TLI', '\\\\N', '\\\\N', '\\\\N', '\\\\N', 'TQL', '\\\\N', '\\\\N', 'JIC', '\\\\N', 'BPL', 'FYN', 'ACS', 'LFQ', 'YJP', 'WVI', 'GLU', 'HLI', '\\\\N', 'DLK', '\\\\N', '\\\\N', '\\\\N', '\\\\N', 'YBS', 'RIZ', 'SQJ', 'XTO', '\\\\N', '\\\\N', '\\\\N', '\\\\N', 'YSE', '\\\\N', '\\\\N', '\\\\N', '\\\\N', '\\\\N', '\\\\N', 'YAH', 'YAL', '\\\\N', '\\\\N', 'YCE', '\\\\N', 'YCQ', 'XRR', 'YDO', 'YEY', '\\\\N', 'YHE', 'YHT', 'YDG', 'YJF', 'YKJ', 'YLR', 'YME', 'YML', '\\\\N', 'YOS', 'YPS', 'YQS', 'YRO', '\\\\N', 'YSH', 'YSL', '\\\\N', 'YVE', 'YXQ', 'YSN', 'KES', 'XPK', 'ZGF', 'ZJG', 'YTD', 'PIW', 'XPP', 'WPC', 'ZST', 'ZUC', 'FNB', '\\\\N', '\\\\N', '\\\\N', 'FSS', 'BXP', '\\\\N', '\\\\N', '\\\\N', '\\\\N', '\\\\N', '\\\\N', '\\\\N', '\\\\N', 'DGP', '\\\\N', '\\\\N', '\\\\N', 'LMR', 'SXN', '\\\\N', 'NDD', 'MAI', 'ADI', '\\\\N', '\\\\N', '\\\\N', '\\\\N', 'MWE', 'ALN', 'AXN', 'CLU', 'BBD', 'BIH', 'BKE', 'BPI', 'WMH', 'BTL', 'BYI', 'CCY', 'CNU', 'CRG', 'CSV', 'DAA', 'DAG', 'DMN', 'DRA', 'EED', 'EGI', 'EKA', '\\\\N', 'HYR', 'JCT', '\\\\N', 'LOL', 'MBG', 'MCB', 'MDH', 'MMT', 'NHZ', 'NRB', 'OGB', '\\\\N', 'OTM', 'OZR', 'PWY', 'POU', '\\\\N', 'RSL', 'RWF', 'SNS', '\\\\N', '\\\\N', 'TPH', '\\\\N', 'UKI', 'UOX', 'HTV', 'VTN', 'WMC', 'WWR', '\\\\N', '\\\\N', 'ZZV', '\\\\N', '\\\\N', '\\\\N', '\\\\N', '\\\\N', '\\\\N', '\\\\N', '\\\\N', '\\\\N', 'ECV', 'CDT', 'TEV', '\\\\N', '\\\\N', '\\\\N', '\\\\N', '\\\\N', '\\\\N', '\\\\N', '\\\\N', 'QLP', '\\\\N', '\\\\N', '\\\\N', '\\\\N', 'BJY', 'RUV', 'XPL', 'UPL', 'QSN', 'SNJ', 'DWD', 'KMX', 'XXN', 'KNR', '\\\\N', 'PYK', 'XIJ', '\\\\N', '\\\\N', 'ATG', '\\\\N', '\\\\N', 'SGI', 'RQW', '\\\\N', '\\\\N', '\\\\N', '\\\\N', 'ENN', 'WWA', '\\\\N', '\\\\N', 'IWK', '\\\\N', '\\\\N', 'IEJ', 'AAV', 'BPH', 'MXI', '\\\\N', 'BAT', 'QHP', 'TOQ', '\\\\N', 'CNR', 'TLX', 'ZIC', 'TTC', 'API', 'CVE', 'PAL', 'PZA', '\\\\N', 'TQS', '\\\\N', 'RIJ', 'JAE', '\\\\N', 'IKU', '\\\\N', '\\\\N', '\\\\N', '\\\\N', 'VYI', 'BGN', '\\\\N', '\\\\N', 'GVN', '\\\\N', '\\\\N', '\\\\N', '\\\\N', 'NLI', '\\\\N', '\\\\N', '\\\\N', '\\\\N', '\\\\N', '\\\\N', '\\\\N', '\\\\N', '\\\\N', '\\\\N', '\\\\N', '\\\\N', '\\\\N', '\\\\N', '\\\\N', '\\\\N', '\\\\N', '\\\\N', '\\\\N', '\\\\N', '\\\\N', 'VLK', '\\\\N', '\\\\N', '\\\\N', '\\\\N', 'INA', '\\\\N', '\\\\N', 'ZIX', '\\\\N', '\\\\N', '\\\\N', 'RTC', 'HIM', 'RDP', '\\\\N', '\\\\N', '\\\\N', 'PUT', '\\\\N', '\\\\N', '\\\\N', '\\\\N', '\\\\N', '\\\\N', 'LNX', '\\\\N', 'ABH', 'ARY', 'BLN', 'BZD', 'BWQ', 'CVC', 'CWW', 'CYG', 'CMD', 'DRN', 'DNQ', 'DYA', 'ECH', 'FRB', 'GUH', 'HXX', 'HTU', 'KRA', 'KPS', 'KGY', 'TGN', 'MRG', 'RPM', 'QRM', 'PPI', 'SIO', 'SNB', 'SWC', 'TYB', 'TUM', 'WGT', 'WKB', 'QRR', 'SXE', 'WWY', 'NGA', 'LHK', 'WDS', '\\\\N', 'HTT', 'UUN', 'BFU', 'RUG', 'WHU', 'SXJ', 'YKH', '\\\\N', 'BQG', '\\\\N', '\\\\N', 'HYD', '\\\\N', '\\\\N', 'PKO', 'KDC', '\\\\N', '\\\\N', '\\\\N', '\\\\N', '\\\\N', 'HMG', '\\\\N', '\\\\N', '\\\\N', '\\\\N', '\\\\N', '\\\\N', '\\\\N', 'BIB', '\\\\N', 'KCS', '\\\\N', '\\\\N', '\\\\N', '\\\\N', '\\\\N', '\\\\N', 'BMR', 'MVW', 'GOO', '\\\\N', '\\\\N', 'APT', '\\\\N', 'DCU', 'GLW', '\\\\N', 'DKV', '\\\\N', 'RNZ', '\\\\N', 'SBT', 'AXF', '\\\\N', '\\\\N', 'NIS', 'BUL', '\\\\N', 'TBR', '\\\\N', '\\\\N', 'AMT', '\\\\N', 'EDD', '\\\\N', 'FIK', 'JJG', '\\\\N', '\\\\N', '\\\\N', '\\\\N', '\\\\N', '\\\\N', '\\\\N', 'WKI', '\\\\N', '\\\\N', '\\\\N', '\\\\N', 'KLJ', '\\\\N', 'ETB', 'GLR', 'AID', 'QND', 'GUU', 'PCD', '\\\\N', '\\\\N', '\\\\N', 'OTJ', '\\\\N', '\\\\N', '\\\\N', '\\\\N', '\\\\N', '\\\\N', '\\\\N', '\\\\N', '\\\\N', '\\\\N', '\\\\N', '\\\\N', 'TSM', 'RTN', '\\\\N', 'PPA', '\\\\N', 'FLP', 'BGD', '\\\\N', '\\\\N', 'HLE', 'BNJ', 'NGK', 'SQA', 'HXD', 'BAR', '\\\\N', '\\\\N', 'ZBO', 'UCB', 'KEO', 'GII', 'NZE', 'OCM', 'WGN', 'TXF', 'SPA', 'BJW', '\\\\N', 'NBN', '\\\\N', 'OLL', '\\\\N', 'PPF', 'PCQ', 'AYS', 'DSS', '\\\\N', 'PMH', '\\\\N', 'NAC', '\\\\N', '\\\\N', 'PGZ', 'PQM', 'CUD', 'CLP', '\\\\N', '\\\\N', 'JOJ', 'ECI', '\\\\N', '\\\\N', '\\\\N', 'QGQ', 'QPW', 'QJE', '\\\\N', 'XIQ', 'QQT', '\\\\N', '\\\\N', '\\\\N', '\\\\N', '\\\\N', '\\\\N', '\\\\N', '\\\\N', '\\\\N', '\\\\N', '\\\\N', '\\\\N', '\\\\N', 'QJI', '\\\\N', 'QFG', '\\\\N', '\\\\N', '\\\\N', '\\\\N', '\\\\N', 'QRY', '\\\\N', '\\\\N', '\\\\N', '\\\\N', '\\\\N', '\\\\N', '\\\\N', 'NPR', 'SMT', '\\\\N', 'ENO', '\\\\N', '\\\\N', '\\\\N', '\\\\N', '\\\\N', '\\\\N', 'UZR', '\\\\N', '\\\\N', '\\\\N', '\\\\N', '\\\\N', 'NYR', 'SUK', 'UKG', 'VHV', 'DEE', '\\\\N', 'EKS', 'TLK', '\\\\N', '\\\\N', '\\\\N', '\\\\N', '\\\\N', 'RDB', 'ION', 'EBH', 'ZIS', 'MYZ', '\\\\N', '\\\\N', 'BCU', 'GMO', '\\\\N', '\\\\N', 'KDA', 'SHO', 'KIY', '\\\\N', 'QSI', 'MNS', 'GZI', 'DBC', 'LNL', 'SQD', 'YSQ', 'JSJ', 'WMT', 'LLB', 'CDE', 'DTU', 'EJN', 'RHT', 'HUO', 'GMQ', 'QSZ', 'TEI', 'CWJ', 'JMJ', 'NLH', 'PBQ', '\\\\N', '\\\\N', 'WUT', 'NZL', '\\\\N', '\\\\N', '\\\\N', '\\\\N', 'AIP', 'VDY', 'SAG', 'PYB', 'SUP', '\\\\N', 'RKO', 'PPR', 'TJB', 'KRC', 'NRE', 'NAM', 'DOB', 'SQN', 'AYW', 'BYQ', 'UOL', 'RAQ', 'JSK', '\\\\N', '\\\\N', '\\\\N', '\\\\N', '\\\\N', '\\\\N', 'ZBY', 'BGL', 'RJB', 'DQM', '\\\\N', '\\\\N', '\\\\N', '\\\\N', '\\\\N', '\\\\N', '\\\\N', '\\\\N', 'CKI', '\\\\N', 'BYP', 'LUC', 'YAS', '\\\\N', '\\\\N', '\\\\N', 'WIK', '\\\\N', '\\\\N', 'DEX', 'NAU', 'FAC', 'NUK', 'VHZ', 'HHZ', 'RRR', 'KHZ', 'TKV', 'TDS', 'TMH', '\\\\N', '\\\\N', '\\\\N', '\\\\N', '\\\\N', '\\\\N', '\\\\N', '\\\\N', '\\\\N', 'NKB', 'AEI', '\\\\N', '\\\\N', '\\\\N', 'KSE', '\\\\N', 'NCJ', 'IST', 'SOV', 'YSG', '\\\\N', 'DWA', 'HGI', '\\\\N', '\\\\N', '\\\\N', '\\\\N', '\\\\N', '\\\\N', '\\\\N', '\\\\N', '\\\\N', 'KQH', 'CNN', '\\\\N', '\\\\N', '\\\\N', 'ZCO', 'ASS', 'VDI', '\\\\N', '\\\\N', 'ISB', '\\\\N', '\\\\N', '\\\\N', '\\\\N', '\\\\N', '\\\\N', '\\\\N', '\\\\N', '\\\\N', '\\\\N', 'MHE', '\\\\N', 'GIT', 'GID', 'RMU', '\\\\N', '\\\\N', 'CQS', '\\\\N', '\\\\N', 'ZXT', 'JAM', '\\\\N', 'YUA', '\\\\N', 'XEN', 'GEC', 'MBI', '\\\\N', 'UGU', '\\\\N', '\\\\N', 'ETM', 'MNH', 'CGY', '\\\\N', '\\\\N', '\\\\N', '\\\\N', '\\\\N', '\\\\N', 'CPO', '\\\\N']\n"
     ]
    }
   ],
   "source": [
    "# airports.dat= open source data containing airport data and its coordinates\n",
    "file_path = os.path.join(os.getcwd(), 'airports.dat')\n",
    "\n",
    "\n",
    "# Read the data into a list of dictionaries\n",
    "airports_data = []\n",
    "with open(file_path, 'r', encoding='utf-8', errors='ignore') as file:\n",
    "    reader = csv.DictReader(file, fieldnames=[\n",
    "        \"ID\", \"Name\", \"City\", \"Country\", \"IATA\", \"ICAO\", \"Latitude\", \"Longitude\", \"Altitude\", \"Timezone\", \"DST\", \"Tz\", \"Type\", \"Source\"\n",
    "    ])\n",
    "    for row in reader:\n",
    "        airports_data.append(row)\n",
    "\n",
    "# Print the first few rows to verify\n",
    "for row in airports_data[:5]:\n",
    "    print(row)\n",
    "\n",
    "# Print all IATA codes\n",
    "iata_codes = [airport['IATA'] for airport in airports_data]\n",
    "print(iata_codes)\n",
    "\n",
    "\n",
    "\n",
    "\n",
    "\n",
    "\n",
    "\n"
   ]
  },
  {
   "cell_type": "code",
   "execution_count": 23,
   "metadata": {},
   "outputs": [
    {
     "name": "stdout",
     "output_type": "stream",
     "text": [
      "Updated missing origins with coordinates have been saved to updated_missing_origins.csv\n"
     ]
    }
   ],
   "source": [
    "# Create a dictionary for quick lookup of coordinates by IATA code\n",
    "iata_to_coords = {airport['IATA']: (float(airport['Latitude']), float(airport['Longitude'])) for airport in airports_data if airport['IATA']}\n",
    "\n",
    "# Update the missing_origins_df with the coordinates\n",
    "for index, row in missing_origins_df.iterrows():\n",
    "    iata_code = row['Origin']\n",
    "    if iata_code in iata_to_coords:\n",
    "        lat, lon = iata_to_coords[iata_code]\n",
    "        missing_origins_df.at[index, 'latitude_deg'] = lat\n",
    "        missing_origins_df.at[index, 'longitude_deg'] = lon\n",
    "\n",
    "# Save the updated DataFrame to a new CSV file\n",
    "updated_missing_origins_csv_path = \"updated_missing_origins(2009-2023).csv\"\n",
    "missing_origins_df.to_csv(updated_missing_origins_csv_path, index=False)\n",
    "\n",
    "print(f\"Updated missing origins with coordinates have been saved to {updated_missing_origins_csv_path}\")"
   ]
  },
  {
   "cell_type": "code",
   "execution_count": 28,
   "metadata": {},
   "outputs": [
    {
     "name": "stdout",
     "output_type": "stream",
     "text": [
      "Airport codes with missing coordinates:\n",
      "['EAR', 'IFP', 'XWA', 'TKI']\n"
     ]
    }
   ],
   "source": [
    "# Read the updated_missing_origins.csv file\n",
    "updated_missing_origins_df = pd.read_csv('updated_missing_origins.csv')\n",
    "\n",
    "# Filter the DataFrame for rows with missing coordinates\n",
    "missing_coords_df = updated_missing_origins_df[updated_missing_origins_df['longitude_deg'].isna() | updated_missing_origins_df['latitude_deg'].isna()]\n",
    "\n",
    "# Get the airport codes with missing coordinates\n",
    "missing_coords_airport_codes = missing_coords_df['Origin'].tolist()\n",
    "\n",
    "print(\"Airport codes with missing coordinates:\")\n",
    "print(missing_coords_airport_codes)"
   ]
  },
  {
   "cell_type": "code",
   "execution_count": 29,
   "metadata": {},
   "outputs": [
    {
     "name": "stdout",
     "output_type": "stream",
     "text": [
      "Updated missing origins with coordinates have been saved to updated_missing_origins.csv\n"
     ]
    }
   ],
   "source": [
    "# Define the missing coordinates\n",
    "missing_coords = {\n",
    "    'EAR': (40.7270, -99.0068),\n",
    "    'IFP': (35.1574, -114.5593),\n",
    "    'XWA': (48.2598, -103.7506),\n",
    "    'TKI': (33.1771, -96.5888)\n",
    "}\n",
    "\n",
    "# Update the DataFrame with the missing coordinates\n",
    "for index, row in missing_coords_df.iterrows():\n",
    "    origin = row['Origin']\n",
    "    if origin in missing_coords:\n",
    "        lat, lon = missing_coords[origin]\n",
    "        updated_missing_origins_df.loc[updated_missing_origins_df['Origin'] == origin, 'latitude_deg'] = lat\n",
    "        updated_missing_origins_df.loc[updated_missing_origins_df['Origin'] == origin, 'longitude_deg'] = lon\n",
    "\n",
    "# Save the updated DataFrame to the same CSV file\n",
    "updated_missing_origins_df.to_csv(updated_missing_origins_csv_path, index=False)\n",
    "\n",
    "print(f\"Updated missing origins with coordinates have been saved to {updated_missing_origins_csv_path}\")"
   ]
  },
  {
   "cell_type": "code",
   "execution_count": null,
   "metadata": {},
   "outputs": [],
   "source": [
    "# Load the coordinates file\n",
    "coordinates_df = pd.read_csv(\"unique_airport_coordinates.csv\")\n",
    "new_coordinates_df = pd.read_csv(\"updated_missing_origins(2009-2023).csv\")\n",
    "\n",
    "# Initialize an empty DataFrame to store the updated missing origins\n",
    "combined_df = pd.DataFrame()\n",
    "\n",
    "# Concatenate the coordinates DataFrames\n",
    "combined_df = pd.concat([coordinates_df, new_coordinates_df])\n",
    "\n",
    "# Save the combined coordinates to a new CSV file\n",
    "combined_df.to_csv('combined_coordinates.csv', index=False)"
   ]
  }
 ],
 "metadata": {
  "kernelspec": {
   "display_name": "Python 3",
   "language": "python",
   "name": "python3"
  },
  "language_info": {
   "codemirror_mode": {
    "name": "ipython",
    "version": 3
   },
   "file_extension": ".py",
   "mimetype": "text/x-python",
   "name": "python",
   "nbconvert_exporter": "python",
   "pygments_lexer": "ipython3",
   "version": "3.10.11"
  }
 },
 "nbformat": 4,
 "nbformat_minor": 2
}
